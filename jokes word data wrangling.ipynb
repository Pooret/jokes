{
 "cells": [
  {
   "cell_type": "markdown",
   "id": "b1481d91",
   "metadata": {},
   "source": [
    "Dad Joke Filter\n",
    "Goal: Make a filter for my dad that can predict if a joke of his is funny\n",
    "This Notebook: Filter jokes based off of his type, remove mispellings, and create a binary classifcation datset containing funny and not funny jokes"
   ]
  },
  {
   "cell_type": "code",
   "execution_count": 1,
   "id": "27c1ebb4",
   "metadata": {
    "id": "27c1ebb4"
   },
   "outputs": [
    {
     "name": "stderr",
     "output_type": "stream",
     "text": [
      "[nltk_data] Downloading package stopwords to\n",
      "[nltk_data]     /Users/tylerpoore/nltk_data...\n",
      "[nltk_data]   Package stopwords is already up-to-date!\n",
      "[nltk_data] Downloading package wordnet to\n",
      "[nltk_data]     /Users/tylerpoore/nltk_data...\n",
      "[nltk_data]   Package wordnet is already up-to-date!\n",
      "[nltk_data] Downloading package omw-1.4 to\n",
      "[nltk_data]     /Users/tylerpoore/nltk_data...\n",
      "[nltk_data]   Package omw-1.4 is already up-to-date!\n"
     ]
    }
   ],
   "source": [
    "# imports\n",
    "import pandas as pd\n",
    "import numpy as np\n",
    "import matplotlib.pyplot as plt\n",
    "import seaborn as sns\n",
    "from tqdm import tqdm\n",
    "import regex as re\n",
    "import pickle\n",
    "\n",
    "import warnings\n",
    "warnings.filterwarnings('ignore')\n",
    "\n",
    "# custom functions\n",
    "from utils import *\n",
    "from jupyterthemes import jtplot\n",
    "jtplot.style()"
   ]
  },
  {
   "cell_type": "markdown",
   "id": "9e53f1e0",
   "metadata": {
    "id": "9e53f1e0"
   },
   "source": [
    "### Read-in and explore the dataset"
   ]
  },
  {
   "cell_type": "code",
   "execution_count": 2,
   "id": "4eaa6dc4",
   "metadata": {
    "id": "4eaa6dc4"
   },
   "outputs": [],
   "source": [
    "# extract the data\n",
    "df = pd.read_csv('https://query.data.world/s/htrdsouy327xqa4w457qx6k6sjtj6r')"
   ]
  },
  {
   "cell_type": "code",
   "execution_count": 3,
   "id": "b0c78473",
   "metadata": {
    "colab": {
     "base_uri": "https://localhost:8080/",
     "height": 206
    },
    "id": "b0c78473",
    "outputId": "b9803f32-6a06-46ae-8b9b-729235c75338"
   },
   "outputs": [
    {
     "data": {
      "text/html": [
       "<div>\n",
       "<style scoped>\n",
       "    .dataframe tbody tr th:only-of-type {\n",
       "        vertical-align: middle;\n",
       "    }\n",
       "\n",
       "    .dataframe tbody tr th {\n",
       "        vertical-align: top;\n",
       "    }\n",
       "\n",
       "    .dataframe thead th {\n",
       "        text-align: right;\n",
       "    }\n",
       "</style>\n",
       "<table border=\"1\" class=\"dataframe\">\n",
       "  <thead>\n",
       "    <tr style=\"text-align: right;\">\n",
       "      <th></th>\n",
       "      <th>type</th>\n",
       "      <th>id</th>\n",
       "      <th>subreddit.id</th>\n",
       "      <th>subreddit.name</th>\n",
       "      <th>subreddit.nsfw</th>\n",
       "      <th>created_utc</th>\n",
       "      <th>permalink</th>\n",
       "      <th>domain</th>\n",
       "      <th>url</th>\n",
       "      <th>selftext</th>\n",
       "      <th>title</th>\n",
       "      <th>score</th>\n",
       "    </tr>\n",
       "  </thead>\n",
       "  <tbody>\n",
       "    <tr>\n",
       "      <th>0</th>\n",
       "      <td>post</td>\n",
       "      <td>ftbp1i</td>\n",
       "      <td>2qh72</td>\n",
       "      <td>jokes</td>\n",
       "      <td>False</td>\n",
       "      <td>1585785543</td>\n",
       "      <td>https://old.reddit.com/r/Jokes/comments/ftbp1i...</td>\n",
       "      <td>self.jokes</td>\n",
       "      <td>NaN</td>\n",
       "      <td>My corona is covered with foreskin so it is no...</td>\n",
       "      <td>I am soooo glad I'm not circumcised!</td>\n",
       "      <td>2</td>\n",
       "    </tr>\n",
       "    <tr>\n",
       "      <th>1</th>\n",
       "      <td>post</td>\n",
       "      <td>ftboup</td>\n",
       "      <td>2qh72</td>\n",
       "      <td>jokes</td>\n",
       "      <td>False</td>\n",
       "      <td>1585785522</td>\n",
       "      <td>https://old.reddit.com/r/Jokes/comments/ftboup...</td>\n",
       "      <td>self.jokes</td>\n",
       "      <td>NaN</td>\n",
       "      <td>It's called Google Sheets.</td>\n",
       "      <td>Did you know Google now has a platform for rec...</td>\n",
       "      <td>9</td>\n",
       "    </tr>\n",
       "    <tr>\n",
       "      <th>2</th>\n",
       "      <td>post</td>\n",
       "      <td>ftbopj</td>\n",
       "      <td>2qh72</td>\n",
       "      <td>jokes</td>\n",
       "      <td>False</td>\n",
       "      <td>1585785508</td>\n",
       "      <td>https://old.reddit.com/r/Jokes/comments/ftbopj...</td>\n",
       "      <td>self.jokes</td>\n",
       "      <td>NaN</td>\n",
       "      <td>The vacuum doesn't snore after sex.\\n\\n&amp;amp;#x...</td>\n",
       "      <td>What is the difference between my wife and my ...</td>\n",
       "      <td>15</td>\n",
       "    </tr>\n",
       "    <tr>\n",
       "      <th>3</th>\n",
       "      <td>post</td>\n",
       "      <td>ftbnxh</td>\n",
       "      <td>2qh72</td>\n",
       "      <td>jokes</td>\n",
       "      <td>False</td>\n",
       "      <td>1585785428</td>\n",
       "      <td>https://old.reddit.com/r/Jokes/comments/ftbnxh...</td>\n",
       "      <td>self.jokes</td>\n",
       "      <td>NaN</td>\n",
       "      <td>[removed]</td>\n",
       "      <td>My last joke for now.</td>\n",
       "      <td>9</td>\n",
       "    </tr>\n",
       "    <tr>\n",
       "      <th>4</th>\n",
       "      <td>post</td>\n",
       "      <td>ftbjpg</td>\n",
       "      <td>2qh72</td>\n",
       "      <td>jokes</td>\n",
       "      <td>False</td>\n",
       "      <td>1585785009</td>\n",
       "      <td>https://old.reddit.com/r/Jokes/comments/ftbjpg...</td>\n",
       "      <td>self.jokes</td>\n",
       "      <td>NaN</td>\n",
       "      <td>[removed]</td>\n",
       "      <td>The Nintendo 64 turns 18 this week...</td>\n",
       "      <td>134</td>\n",
       "    </tr>\n",
       "  </tbody>\n",
       "</table>\n",
       "</div>"
      ],
      "text/plain": [
       "   type      id subreddit.id subreddit.name  subreddit.nsfw  created_utc  \\\n",
       "0  post  ftbp1i        2qh72          jokes           False   1585785543   \n",
       "1  post  ftboup        2qh72          jokes           False   1585785522   \n",
       "2  post  ftbopj        2qh72          jokes           False   1585785508   \n",
       "3  post  ftbnxh        2qh72          jokes           False   1585785428   \n",
       "4  post  ftbjpg        2qh72          jokes           False   1585785009   \n",
       "\n",
       "                                           permalink      domain  url  \\\n",
       "0  https://old.reddit.com/r/Jokes/comments/ftbp1i...  self.jokes  NaN   \n",
       "1  https://old.reddit.com/r/Jokes/comments/ftboup...  self.jokes  NaN   \n",
       "2  https://old.reddit.com/r/Jokes/comments/ftbopj...  self.jokes  NaN   \n",
       "3  https://old.reddit.com/r/Jokes/comments/ftbnxh...  self.jokes  NaN   \n",
       "4  https://old.reddit.com/r/Jokes/comments/ftbjpg...  self.jokes  NaN   \n",
       "\n",
       "                                            selftext  \\\n",
       "0  My corona is covered with foreskin so it is no...   \n",
       "1                         It's called Google Sheets.   \n",
       "2  The vacuum doesn't snore after sex.\\n\\n&amp;#x...   \n",
       "3                                          [removed]   \n",
       "4                                          [removed]   \n",
       "\n",
       "                                               title  score  \n",
       "0               I am soooo glad I'm not circumcised!      2  \n",
       "1  Did you know Google now has a platform for rec...      9  \n",
       "2  What is the difference between my wife and my ...     15  \n",
       "3                              My last joke for now.      9  \n",
       "4              The Nintendo 64 turns 18 this week...    134  "
      ]
     },
     "execution_count": 3,
     "metadata": {},
     "output_type": "execute_result"
    }
   ],
   "source": [
    "# examine the data\n",
    "df.head()"
   ]
  },
  {
   "cell_type": "code",
   "execution_count": 4,
   "id": "54da804b",
   "metadata": {
    "colab": {
     "base_uri": "https://localhost:8080/"
    },
    "id": "54da804b",
    "outputId": "4e45621b-f872-4292-cf28-6c174245ca18",
    "scrolled": false
   },
   "outputs": [
    {
     "data": {
      "text/plain": [
       "(1000000, 12)"
      ]
     },
     "execution_count": 4,
     "metadata": {},
     "output_type": "execute_result"
    }
   ],
   "source": [
    "df.shape"
   ]
  },
  {
   "cell_type": "code",
   "execution_count": 5,
   "id": "v_7e3Il9H9fy",
   "metadata": {
    "colab": {
     "base_uri": "https://localhost:8080/",
     "height": 990
    },
    "id": "v_7e3Il9H9fy",
    "outputId": "3d7d9ee1-c3f3-46ed-a9a9-c410d7612061"
   },
   "outputs": [
    {
     "data": {
      "text/html": [
       "<div>\n",
       "<style scoped>\n",
       "    .dataframe tbody tr th:only-of-type {\n",
       "        vertical-align: middle;\n",
       "    }\n",
       "\n",
       "    .dataframe tbody tr th {\n",
       "        vertical-align: top;\n",
       "    }\n",
       "\n",
       "    .dataframe thead th {\n",
       "        text-align: right;\n",
       "    }\n",
       "</style>\n",
       "<table border=\"1\" class=\"dataframe\">\n",
       "  <thead>\n",
       "    <tr style=\"text-align: right;\">\n",
       "      <th></th>\n",
       "      <th>title</th>\n",
       "      <th>selftext</th>\n",
       "      <th>score</th>\n",
       "    </tr>\n",
       "  </thead>\n",
       "  <tbody>\n",
       "    <tr>\n",
       "      <th>0</th>\n",
       "      <td>I am soooo glad I'm not circumcised!</td>\n",
       "      <td>My corona is covered with foreskin so it is not exposed to viruses.</td>\n",
       "      <td>2</td>\n",
       "    </tr>\n",
       "    <tr>\n",
       "      <th>1</th>\n",
       "      <td>Did you know Google now has a platform for recording your bowel movements?</td>\n",
       "      <td>It's called Google Sheets.</td>\n",
       "      <td>9</td>\n",
       "    </tr>\n",
       "    <tr>\n",
       "      <th>2</th>\n",
       "      <td>What is the difference between my wife and my vacuum?</td>\n",
       "      <td>The vacuum doesn't snore after sex.\\n\\n&amp;amp;#x200B;\\n\\nApril fools, I don't have a wife.</td>\n",
       "      <td>15</td>\n",
       "    </tr>\n",
       "    <tr>\n",
       "      <th>3</th>\n",
       "      <td>My last joke for now.</td>\n",
       "      <td>[removed]</td>\n",
       "      <td>9</td>\n",
       "    </tr>\n",
       "    <tr>\n",
       "      <th>4</th>\n",
       "      <td>The Nintendo 64 turns 18 this week...</td>\n",
       "      <td>[removed]</td>\n",
       "      <td>134</td>\n",
       "    </tr>\n",
       "    <tr>\n",
       "      <th>5</th>\n",
       "      <td>Sex with teacher.</td>\n",
       "      <td>[removed]</td>\n",
       "      <td>1</td>\n",
       "    </tr>\n",
       "    <tr>\n",
       "      <th>6</th>\n",
       "      <td>Another long one.</td>\n",
       "      <td>[removed]</td>\n",
       "      <td>8</td>\n",
       "    </tr>\n",
       "    <tr>\n",
       "      <th>7</th>\n",
       "      <td>What did the French man say to the attractive teletubby?</td>\n",
       "      <td>Oo..lala...</td>\n",
       "      <td>2</td>\n",
       "    </tr>\n",
       "    <tr>\n",
       "      <th>8</th>\n",
       "      <td>A Priest takes a walk down to the docks one day</td>\n",
       "      <td>[removed]</td>\n",
       "      <td>88</td>\n",
       "    </tr>\n",
       "    <tr>\n",
       "      <th>9</th>\n",
       "      <td>A long joke.</td>\n",
       "      <td>[removed]</td>\n",
       "      <td>4</td>\n",
       "    </tr>\n",
       "  </tbody>\n",
       "</table>\n",
       "</div>"
      ],
      "text/plain": [
       "                                                                        title  \\\n",
       "0                                        I am soooo glad I'm not circumcised!   \n",
       "1  Did you know Google now has a platform for recording your bowel movements?   \n",
       "2                       What is the difference between my wife and my vacuum?   \n",
       "3                                                       My last joke for now.   \n",
       "4                                       The Nintendo 64 turns 18 this week...   \n",
       "5                                                           Sex with teacher.   \n",
       "6                                                           Another long one.   \n",
       "7                    What did the French man say to the attractive teletubby?   \n",
       "8                             A Priest takes a walk down to the docks one day   \n",
       "9                                                                A long joke.   \n",
       "\n",
       "                                                                                   selftext  \\\n",
       "0                       My corona is covered with foreskin so it is not exposed to viruses.   \n",
       "1                                                                It's called Google Sheets.   \n",
       "2  The vacuum doesn't snore after sex.\\n\\n&amp;#x200B;\\n\\nApril fools, I don't have a wife.   \n",
       "3                                                                                 [removed]   \n",
       "4                                                                                 [removed]   \n",
       "5                                                                                 [removed]   \n",
       "6                                                                                 [removed]   \n",
       "7                                                                               Oo..lala...   \n",
       "8                                                                                 [removed]   \n",
       "9                                                                                 [removed]   \n",
       "\n",
       "   score  \n",
       "0      2  \n",
       "1      9  \n",
       "2     15  \n",
       "3      9  \n",
       "4    134  \n",
       "5      1  \n",
       "6      8  \n",
       "7      2  \n",
       "8     88  \n",
       "9      4  "
      ]
     },
     "execution_count": 5,
     "metadata": {},
     "output_type": "execute_result"
    }
   ],
   "source": [
    "pd.options.display.max_colwidth = None\n",
    "df[['title', 'selftext', 'score']].head(10)"
   ]
  },
  {
   "cell_type": "code",
   "execution_count": 6,
   "id": "5e176074",
   "metadata": {
    "colab": {
     "base_uri": "https://localhost:8080/"
    },
    "id": "5e176074",
    "outputId": "ca06c1f9-0fcc-4286-94a8-06711904b80a",
    "scrolled": true
   },
   "outputs": [
    {
     "data": {
      "text/plain": [
       "count    1000000.000000\n",
       "mean         139.691119\n",
       "std         1674.046005\n",
       "min            0.000000\n",
       "25%            0.000000\n",
       "50%            1.000000\n",
       "75%            7.000000\n",
       "max       142733.000000\n",
       "Name: score, dtype: float64"
      ]
     },
     "execution_count": 6,
     "metadata": {},
     "output_type": "execute_result"
    }
   ],
   "source": [
    "df['score'].describe()"
   ]
  },
  {
   "cell_type": "code",
   "execution_count": 7,
   "id": "I_ycv4TfIBzb",
   "metadata": {
    "colab": {
     "base_uri": "https://localhost:8080/",
     "height": 352
    },
    "id": "I_ycv4TfIBzb",
    "outputId": "e7bc1624-64f9-429f-ad6d-b373ff11535d"
   },
   "outputs": [
    {
     "name": "stdout",
     "output_type": "stream",
     "text": [
      "Saving figure scores distribution\n"
     ]
    },
    {
     "data": {
      "image/png": "[encoded data removed]",
      "text/plain": [
       "<Figure size 460.8x403.2 with 1 Axes>"
      ]
     },
     "metadata": {},
     "output_type": "display_data"
    }
   ],
   "source": [
    "plt.hist(df['score'], log=True)\n",
    "plt.title('histogram of log score')\n",
    "save_fig('scores distribution')"
   ]
  },
  {
   "cell_type": "code",
   "execution_count": 8,
   "id": "3b7e6a65",
   "metadata": {
    "id": "3b7e6a65"
   },
   "outputs": [],
   "source": [
    "# define some parameters \n",
    "CLASS_SIZE = 100000\n",
    "TRAIN_SIZE = 0.95\n",
    "MIN_UPVOTES = 50\n",
    "MAX_UPVOTES = df['score'].max()\n",
    "TITLE_MAX_LEN = 200\n",
    "SELFTEXT_MAX_LEN = 200"
   ]
  },
  {
   "cell_type": "code",
   "execution_count": 9,
   "id": "6634aba8",
   "metadata": {
    "id": "6634aba8"
   },
   "outputs": [],
   "source": [
    "# boolean masks\n",
    "\n",
    "# where selftext isnull (no punchline)\n",
    "is_null = df['selftext'].isnull()\n",
    "\n",
    "# where title or post were removed by reddit user/mod\n",
    "removed = (df['selftext'].str.lower() == '[removed]') | (df['title'].str.lower() == '[removed]')\n",
    "\n",
    "# where tile or post were deleted by the original poster\n",
    "deleted = (df['selftext'].str.lower() == '[deleted]') | (df['title'].str.lower() == '[deleted]')\n",
    "\n",
    "# reposts\n",
    "duplicated = df.duplicated(subset=['title', 'selftext'], keep='first')\n",
    "\n",
    "# where upvotes is 0 (reddit automatically provides user 1 upvote)\n",
    "neg_class = df['score'] == 0"
   ]
  },
  {
   "cell_type": "code",
   "execution_count": 10,
   "id": "ceea2142",
   "metadata": {
    "colab": {
     "base_uri": "https://localhost:8080/"
    },
    "id": "ceea2142",
    "outputId": "8d36c823-fd0f-42b3-e140-7f0427ed4a00",
    "scrolled": false
   },
   "outputs": [
    {
     "data": {
      "text/plain": [
       "(565688, 12)"
      ]
     },
     "execution_count": 10,
     "metadata": {},
     "output_type": "execute_result"
    }
   ],
   "source": [
    "# get entries that aren't removed or deleted\n",
    "df_cleaned = df[~removed][~deleted][~duplicated]\n",
    "df_cleaned.shape"
   ]
  },
  {
   "cell_type": "code",
   "execution_count": 11,
   "id": "fb817f3a",
   "metadata": {
    "colab": {
     "base_uri": "https://localhost:8080/",
     "height": 363
    },
    "id": "as28CaP0Icat",
    "outputId": "73cb2052-445d-4d68-c47f-5cf1bd06ea93",
    "scrolled": true
   },
   "outputs": [
    {
     "data": {
      "text/html": [
       "<div>\n",
       "<style scoped>\n",
       "    .dataframe tbody tr th:only-of-type {\n",
       "        vertical-align: middle;\n",
       "    }\n",
       "\n",
       "    .dataframe tbody tr th {\n",
       "        vertical-align: top;\n",
       "    }\n",
       "\n",
       "    .dataframe thead th {\n",
       "        text-align: right;\n",
       "    }\n",
       "</style>\n",
       "<table border=\"1\" class=\"dataframe\">\n",
       "  <thead>\n",
       "    <tr style=\"text-align: right;\">\n",
       "      <th></th>\n",
       "      <th>title</th>\n",
       "      <th>selftext</th>\n",
       "      <th>score</th>\n",
       "    </tr>\n",
       "  </thead>\n",
       "  <tbody>\n",
       "    <tr>\n",
       "      <th>308797</th>\n",
       "      <td>What happens when you cross a joke with a rhetorical question?</td>\n",
       "      <td>NaN</td>\n",
       "      <td>3938</td>\n",
       "    </tr>\n",
       "    <tr>\n",
       "      <th>625315</th>\n",
       "      <td>The funniest /r/jokes has ever been</td>\n",
       "      <td>NaN</td>\n",
       "      <td>67950</td>\n",
       "    </tr>\n",
       "    <tr>\n",
       "      <th>914649</th>\n",
       "      <td>Shout out to people who don't know the opposite of in</td>\n",
       "      <td>NaN</td>\n",
       "      <td>4580</td>\n",
       "    </tr>\n",
       "    <tr>\n",
       "      <th>915783</th>\n",
       "      <td>5 out of 6 scientists say Russian Roulette is safe.</td>\n",
       "      <td>NaN</td>\n",
       "      <td>10085</td>\n",
       "    </tr>\n",
       "    <tr>\n",
       "      <th>919422</th>\n",
       "      <td>Accordion to a recent survey, replacing words with the names of musical instruments in a sentence often goes undetected.</td>\n",
       "      <td>NaN</td>\n",
       "      <td>12580</td>\n",
       "    </tr>\n",
       "    <tr>\n",
       "      <th>927114</th>\n",
       "      <td>Never make fun of a fat girl with a lisp, she's probably thick and tired of it.</td>\n",
       "      <td>NaN</td>\n",
       "      <td>7848</td>\n",
       "    </tr>\n",
       "    <tr>\n",
       "      <th>931755</th>\n",
       "      <td>6:30 is the best time on a clock, hands down.</td>\n",
       "      <td>NaN</td>\n",
       "      <td>2173</td>\n",
       "    </tr>\n",
       "    <tr>\n",
       "      <th>933895</th>\n",
       "      <td>Bruce Jenner winning woman of the year just proves that men are better than women at everything, including being a woman</td>\n",
       "      <td>NaN</td>\n",
       "      <td>11999</td>\n",
       "    </tr>\n",
       "    <tr>\n",
       "      <th>935376</th>\n",
       "      <td>I often say to myself, \"I can't believe that cloning machine worked.\"</td>\n",
       "      <td>NaN</td>\n",
       "      <td>6524</td>\n",
       "    </tr>\n",
       "    <tr>\n",
       "      <th>937567</th>\n",
       "      <td>How Long is a Chinese name.</td>\n",
       "      <td>NaN</td>\n",
       "      <td>2404</td>\n",
       "    </tr>\n",
       "  </tbody>\n",
       "</table>\n",
       "</div>"
      ],
      "text/plain": [
       "                                                                                                                           title  \\\n",
       "308797                                                            What happens when you cross a joke with a rhetorical question?   \n",
       "625315                                                                                       The funniest /r/jokes has ever been   \n",
       "914649                                                                     Shout out to people who don't know the opposite of in   \n",
       "915783                                                                       5 out of 6 scientists say Russian Roulette is safe.   \n",
       "919422  Accordion to a recent survey, replacing words with the names of musical instruments in a sentence often goes undetected.   \n",
       "927114                                           Never make fun of a fat girl with a lisp, she's probably thick and tired of it.   \n",
       "931755                                                                             6:30 is the best time on a clock, hands down.   \n",
       "933895  Bruce Jenner winning woman of the year just proves that men are better than women at everything, including being a woman   \n",
       "935376                                                     I often say to myself, \"I can't believe that cloning machine worked.\"   \n",
       "937567                                                                                               How Long is a Chinese name.   \n",
       "\n",
       "       selftext  score  \n",
       "308797      NaN   3938  \n",
       "625315      NaN  67950  \n",
       "914649      NaN   4580  \n",
       "915783      NaN  10085  \n",
       "919422      NaN  12580  \n",
       "927114      NaN   7848  \n",
       "931755      NaN   2173  \n",
       "933895      NaN  11999  \n",
       "935376      NaN   6524  \n",
       "937567      NaN   2404  "
      ]
     },
     "execution_count": 11,
     "metadata": {},
     "output_type": "execute_result"
    }
   ],
   "source": [
    "# what are nans?\n",
    "df_cleaned[df_cleaned['score'] > 2000][is_null][['title', 'selftext', 'score']].head(10) "
   ]
  },
  {
   "cell_type": "code",
   "execution_count": 12,
   "id": "82f61637",
   "metadata": {},
   "outputs": [],
   "source": [
    "df_cleaned = df_cleaned[~is_null]"
   ]
  },
  {
   "cell_type": "code",
   "execution_count": 13,
   "id": "24fe0d6a",
   "metadata": {},
   "outputs": [],
   "source": [
    "# removing edits\n",
    "PATTERN = r\"(?<![a-z])(e|E)(d|D)(i|I)(t|T)\\W.+\"\n",
    "df_cleaned['title'] = df_cleaned['title'].apply(lambda x: re.sub(PATTERN, \"\", x))\n",
    "df_cleaned['selftext'] = df_cleaned['selftext'].apply(lambda x: re.sub(PATTERN, \"\", x))"
   ]
  },
  {
   "cell_type": "code",
   "execution_count": 14,
   "id": "c2a63530",
   "metadata": {},
   "outputs": [
    {
     "name": "stdout",
     "output_type": "stream",
     "text": [
      "359829 samples match\n"
     ]
    }
   ],
   "source": [
    "# Filter entries that are short, but meet other necessary criteria\n",
    "\n",
    "# remove unnecessary whitespace \n",
    "df_cleaned[['selftext', 'title']] = df_cleaned[['selftext', 'title']].applymap(lambda x:\" \".join(str(x).split()))\n",
    "\n",
    "# generate lengths of each string's instance\n",
    "df_cleaned['selftext_len'] = df_cleaned['selftext'].str.len()\n",
    "df_cleaned['title_len'] = df_cleaned['title'].str.len()\n",
    "\n",
    "# boolean masks to filter for length\n",
    "title_window = (df_cleaned['title_len'] > 0) & (df_cleaned['title_len'] < TITLE_MAX_LEN)\n",
    "selftext_window = (df_cleaned['selftext_len'] > 0) & (df_cleaned['selftext_len'] < SELFTEXT_MAX_LEN)\n",
    "\n",
    "# apply masks to filter\n",
    "df_cleaned = df_cleaned[selftext_window & title_window]\n",
    "print(f\"{len(df_cleaned[~neg_class])} samples match\")"
   ]
  },
  {
   "cell_type": "code",
   "execution_count": 15,
   "id": "b24f767a",
   "metadata": {
    "scrolled": false
   },
   "outputs": [
    {
     "data": {
      "text/html": [
       "<div>\n",
       "<style scoped>\n",
       "    .dataframe tbody tr th:only-of-type {\n",
       "        vertical-align: middle;\n",
       "    }\n",
       "\n",
       "    .dataframe tbody tr th {\n",
       "        vertical-align: top;\n",
       "    }\n",
       "\n",
       "    .dataframe thead th {\n",
       "        text-align: right;\n",
       "    }\n",
       "</style>\n",
       "<table border=\"1\" class=\"dataframe\">\n",
       "  <thead>\n",
       "    <tr style=\"text-align: right;\">\n",
       "      <th></th>\n",
       "      <th>title</th>\n",
       "      <th>selftext</th>\n",
       "      <th>score</th>\n",
       "    </tr>\n",
       "  </thead>\n",
       "  <tbody>\n",
       "    <tr>\n",
       "      <th>178965</th>\n",
       "      <td>Which is the oldest living animal in the world ???</td>\n",
       "      <td>A zebra,... Coz it's black and white 🦓. How many downvotes am I gonna get for this shit (\\_(\\ ( -.- ) o_(\")(\")</td>\n",
       "      <td>0</td>\n",
       "    </tr>\n",
       "    <tr>\n",
       "      <th>650244</th>\n",
       "      <td>A new subreddit for people who are only slightly into wrestling</td>\n",
       "      <td>mildyintowrestling</td>\n",
       "      <td>13</td>\n",
       "    </tr>\n",
       "    <tr>\n",
       "      <th>125501</th>\n",
       "      <td>[Politics] Joke Advice: Don’t make Hillary Clinton jokes in this subreddit.</td>\n",
       "      <td>They’re not funny. Rather, they’re hillary-ious.</td>\n",
       "      <td>10</td>\n",
       "    </tr>\n",
       "    <tr>\n",
       "      <th>18684</th>\n",
       "      <td>What do you get when you cross a redditor with</td>\n",
       "      <td>A society that abandons him and treats him like trash?</td>\n",
       "      <td>4</td>\n",
       "    </tr>\n",
       "    <tr>\n",
       "      <th>316123</th>\n",
       "      <td>What's a Redditor's favourite fencing technique?</td>\n",
       "      <td>The riposte.</td>\n",
       "      <td>26</td>\n",
       "    </tr>\n",
       "    <tr>\n",
       "      <th>865223</th>\n",
       "      <td>awesome jokes guys keep em coming</td>\n",
       "      <td>As a single father, I love browsing this subreddit so when I see my wifes kids once a month I have a lot of epic jokes to tell them. Keep em coming!</td>\n",
       "      <td>0</td>\n",
       "    </tr>\n",
       "    <tr>\n",
       "      <th>610477</th>\n",
       "      <td>A punchline walks into a bar...</td>\n",
       "      <td>The bartender looks at it and says \"This is /r/jokes we don't accept your kind here.\"</td>\n",
       "      <td>9</td>\n",
       "    </tr>\n",
       "    <tr>\n",
       "      <th>409511</th>\n",
       "      <td>What did Batman say to Robin before they got in the car?</td>\n",
       "      <td>STOP WITH YOUR DANG /R/ANTIJOKES! GOD FORBID, YOU'RE ON /R/JOKES. TELL SOMETHING FUNNY AT LEAST! MAKE IT A REPOST IF YOU GOTTA. YOU USLESS IDIOT. THIS IS WHY I BECAME THE RED HOOD...</td>\n",
       "      <td>4</td>\n",
       "    </tr>\n",
       "    <tr>\n",
       "      <th>818690</th>\n",
       "      <td>TIFU by subscribing to the wrong subreddit</td>\n",
       "      <td>Oops, wrong subreddit.</td>\n",
       "      <td>1</td>\n",
       "    </tr>\n",
       "    <tr>\n",
       "      <th>69520</th>\n",
       "      <td>I'm trying to guess Mick Jagger's reddit username, and I'm getting close.</td>\n",
       "      <td>It's just a stone's throwaway.</td>\n",
       "      <td>3</td>\n",
       "    </tr>\n",
       "    <tr>\n",
       "      <th>521842</th>\n",
       "      <td>What does a frog do when he's bored?</td>\n",
       "      <td>rrrrrrrrreddit</td>\n",
       "      <td>8</td>\n",
       "    </tr>\n",
       "    <tr>\n",
       "      <th>307943</th>\n",
       "      <td>If all the people were like redditors we would have a much better planet .</td>\n",
       "      <td>Because **Recycling** old shit is what Redditors do best . P.S.A - Do recycle ♻</td>\n",
       "      <td>19</td>\n",
       "    </tr>\n",
       "    <tr>\n",
       "      <th>951358</th>\n",
       "      <td>Your mom is temporarily in read-only mode due to heavy traffic.</td>\n",
       "      <td>The joke is Reddit's servers. Get it together!</td>\n",
       "      <td>3</td>\n",
       "    </tr>\n",
       "    <tr>\n",
       "      <th>143410</th>\n",
       "      <td>Why are all the jokes outdates for us?</td>\n",
       "      <td>Because we already Reddit. This one too...</td>\n",
       "      <td>7</td>\n",
       "    </tr>\n",
       "    <tr>\n",
       "      <th>116347</th>\n",
       "      <td>I am a single, good looking male and Reddit should not be used to find partners</td>\n",
       "      <td>Hot girls under 30 are welcome to come to my place tonight to discuss this topic. Bring wine</td>\n",
       "      <td>1</td>\n",
       "    </tr>\n",
       "    <tr>\n",
       "      <th>276679</th>\n",
       "      <td>Everyone on this subreddit is a blonde</td>\n",
       "      <td>I mean, think about it. Jokes are repeated almost twice a day!</td>\n",
       "      <td>4</td>\n",
       "    </tr>\n",
       "    <tr>\n",
       "      <th>26804</th>\n",
       "      <td>Mike Hughes flew a home-made rocket to prove the earth was flat and killed himself.</td>\n",
       "      <td>Wait what subreddit am I on?</td>\n",
       "      <td>37</td>\n",
       "    </tr>\n",
       "    <tr>\n",
       "      <th>916748</th>\n",
       "      <td>Han solo vs Redditor</td>\n",
       "      <td>Han: NEVER tell the odds! Redditor: I don't even.</td>\n",
       "      <td>1</td>\n",
       "    </tr>\n",
       "    <tr>\n",
       "      <th>103286</th>\n",
       "      <td>I want to share a Russian pun with you all</td>\n",
       "      <td>But it it gets downvoted to hell then so-v-iet</td>\n",
       "      <td>30</td>\n",
       "    </tr>\n",
       "    <tr>\n",
       "      <th>863653</th>\n",
       "      <td>What do you call a good joke on Reddit?</td>\n",
       "      <td>Unoriginal</td>\n",
       "      <td>2</td>\n",
       "    </tr>\n",
       "    <tr>\n",
       "      <th>678195</th>\n",
       "      <td>What's the difference between a Redditor and a calendar</td>\n",
       "      <td>A calendar has dates</td>\n",
       "      <td>497</td>\n",
       "    </tr>\n",
       "    <tr>\n",
       "      <th>64001</th>\n",
       "      <td>How do we know Allah exists?</td>\n",
       "      <td>Because it all started with a big bang (BTW this is a repost from r/darkjokes)</td>\n",
       "      <td>9</td>\n",
       "    </tr>\n",
       "    <tr>\n",
       "      <th>329119</th>\n",
       "      <td>Why are reposts always upvoted more than original jokes?</td>\n",
       "      <td>Because you need to tell it to a redditor multiple times for them to get it.</td>\n",
       "      <td>16</td>\n",
       "    </tr>\n",
       "    <tr>\n",
       "      <th>823587</th>\n",
       "      <td>How many ways can you ask the same question?</td>\n",
       "      <td>Ask reddit</td>\n",
       "      <td>7</td>\n",
       "    </tr>\n",
       "    <tr>\n",
       "      <th>741542</th>\n",
       "      <td>Really not liking this new Reddit app update.</td>\n",
       "      <td>I'm going to be sharing it all day.</td>\n",
       "      <td>10</td>\n",
       "    </tr>\n",
       "    <tr>\n",
       "      <th>320374</th>\n",
       "      <td>Found out Thom Yorke hacked my Reddit account and started posting as me...</td>\n",
       "      <td>Had to call the Karma Police to get it sorted.</td>\n",
       "      <td>2</td>\n",
       "    </tr>\n",
       "    <tr>\n",
       "      <th>668933</th>\n",
       "      <td>How does a redditor fix a fence?</td>\n",
       "      <td>They repost it.</td>\n",
       "      <td>10</td>\n",
       "    </tr>\n",
       "    <tr>\n",
       "      <th>174828</th>\n",
       "      <td>Why can't regular browsers of r/jokes change a lightbulb?</td>\n",
       "      <td>They are all looking for the punchline.</td>\n",
       "      <td>14</td>\n",
       "    </tr>\n",
       "    <tr>\n",
       "      <th>178155</th>\n",
       "      <td>What's a redditors favourite swordfighting move</td>\n",
       "      <td>A riposte</td>\n",
       "      <td>4</td>\n",
       "    </tr>\n",
       "    <tr>\n",
       "      <th>919797</th>\n",
       "      <td>Jokes site,help!</td>\n",
       "      <td>Time a go,i read about a site in which there are plenty of jokes in this subreddit..graphically,it was very minimal.Could someone help me?</td>\n",
       "      <td>0</td>\n",
       "    </tr>\n",
       "  </tbody>\n",
       "</table>\n",
       "</div>"
      ],
      "text/plain": [
       "                                                                                      title  \\\n",
       "178965                                   Which is the oldest living animal in the world ???   \n",
       "650244                      A new subreddit for people who are only slightly into wrestling   \n",
       "125501          [Politics] Joke Advice: Don’t make Hillary Clinton jokes in this subreddit.   \n",
       "18684                                        What do you get when you cross a redditor with   \n",
       "316123                                     What's a Redditor's favourite fencing technique?   \n",
       "865223                                                    awesome jokes guys keep em coming   \n",
       "610477                                                      A punchline walks into a bar...   \n",
       "409511                             What did Batman say to Robin before they got in the car?   \n",
       "818690                                           TIFU by subscribing to the wrong subreddit   \n",
       "69520             I'm trying to guess Mick Jagger's reddit username, and I'm getting close.   \n",
       "521842                                                 What does a frog do when he's bored?   \n",
       "307943           If all the people were like redditors we would have a much better planet .   \n",
       "951358                      Your mom is temporarily in read-only mode due to heavy traffic.   \n",
       "143410                                               Why are all the jokes outdates for us?   \n",
       "116347      I am a single, good looking male and Reddit should not be used to find partners   \n",
       "276679                                               Everyone on this subreddit is a blonde   \n",
       "26804   Mike Hughes flew a home-made rocket to prove the earth was flat and killed himself.   \n",
       "916748                                                                 Han solo vs Redditor   \n",
       "103286                                           I want to share a Russian pun with you all   \n",
       "863653                                              What do you call a good joke on Reddit?   \n",
       "678195                              What's the difference between a Redditor and a calendar   \n",
       "64001                                                          How do we know Allah exists?   \n",
       "329119                             Why are reposts always upvoted more than original jokes?   \n",
       "823587                                         How many ways can you ask the same question?   \n",
       "741542                                        Really not liking this new Reddit app update.   \n",
       "320374           Found out Thom Yorke hacked my Reddit account and started posting as me...   \n",
       "668933                                                     How does a redditor fix a fence?   \n",
       "174828                            Why can't regular browsers of r/jokes change a lightbulb?   \n",
       "178155                                      What's a redditors favourite swordfighting move   \n",
       "919797                                                                     Jokes site,help!   \n",
       "\n",
       "                                                                                                                                                                                      selftext  \\\n",
       "178965                                                                          A zebra,... Coz it's black and white 🦓. How many downvotes am I gonna get for this shit (\\_(\\ ( -.- ) o_(\")(\")   \n",
       "650244                                                                                                                                                                      mildyintowrestling   \n",
       "125501                                                                                                                                        They’re not funny. Rather, they’re hillary-ious.   \n",
       "18684                                                                                                                                   A society that abandons him and treats him like trash?   \n",
       "316123                                                                                                                                                                            The riposte.   \n",
       "865223                                    As a single father, I love browsing this subreddit so when I see my wifes kids once a month I have a lot of epic jokes to tell them. Keep em coming!   \n",
       "610477                                                                                                   The bartender looks at it and says \"This is /r/jokes we don't accept your kind here.\"   \n",
       "409511  STOP WITH YOUR DANG /R/ANTIJOKES! GOD FORBID, YOU'RE ON /R/JOKES. TELL SOMETHING FUNNY AT LEAST! MAKE IT A REPOST IF YOU GOTTA. YOU USLESS IDIOT. THIS IS WHY I BECAME THE RED HOOD...   \n",
       "818690                                                                                                                                                                  Oops, wrong subreddit.   \n",
       "69520                                                                                                                                                           It's just a stone's throwaway.   \n",
       "521842                                                                                                                                                                          rrrrrrrrreddit   \n",
       "307943                                                                                                         Because **Recycling** old shit is what Redditors do best . P.S.A - Do recycle ♻   \n",
       "951358                                                                                                                                          The joke is Reddit's servers. Get it together!   \n",
       "143410                                                                                                                                              Because we already Reddit. This one too...   \n",
       "116347                                                                                            Hot girls under 30 are welcome to come to my place tonight to discuss this topic. Bring wine   \n",
       "276679                                                                                                                          I mean, think about it. Jokes are repeated almost twice a day!   \n",
       "26804                                                                                                                                                             Wait what subreddit am I on?   \n",
       "916748                                                                                                                                       Han: NEVER tell the odds! Redditor: I don't even.   \n",
       "103286                                                                                                                                          But it it gets downvoted to hell then so-v-iet   \n",
       "863653                                                                                                                                                                              Unoriginal   \n",
       "678195                                                                                                                                                                    A calendar has dates   \n",
       "64001                                                                                                           Because it all started with a big bang (BTW this is a repost from r/darkjokes)   \n",
       "329119                                                                                                            Because you need to tell it to a redditor multiple times for them to get it.   \n",
       "823587                                                                                                                                                                              Ask reddit   \n",
       "741542                                                                                                                                                     I'm going to be sharing it all day.   \n",
       "320374                                                                                                                                          Had to call the Karma Police to get it sorted.   \n",
       "668933                                                                                                                                                                         They repost it.   \n",
       "174828                                                                                                                                                 They are all looking for the punchline.   \n",
       "178155                                                                                                                                                                               A riposte   \n",
       "919797                                              Time a go,i read about a site in which there are plenty of jokes in this subreddit..graphically,it was very minimal.Could someone help me?   \n",
       "\n",
       "        score  \n",
       "178965      0  \n",
       "650244     13  \n",
       "125501     10  \n",
       "18684       4  \n",
       "316123     26  \n",
       "865223      0  \n",
       "610477      9  \n",
       "409511      4  \n",
       "818690      1  \n",
       "69520       3  \n",
       "521842      8  \n",
       "307943     19  \n",
       "951358      3  \n",
       "143410      7  \n",
       "116347      1  \n",
       "276679      4  \n",
       "26804      37  \n",
       "916748      1  \n",
       "103286     30  \n",
       "863653      2  \n",
       "678195    497  \n",
       "64001       9  \n",
       "329119     16  \n",
       "823587      7  \n",
       "741542     10  \n",
       "320374      2  \n",
       "668933     10  \n",
       "174828     14  \n",
       "178155      4  \n",
       "919797      0  "
      ]
     },
     "execution_count": 15,
     "metadata": {},
     "output_type": "execute_result"
    }
   ],
   "source": [
    "# meta jokes\n",
    "# boolean mask that identifies strings with reddit posts\n",
    "PATTERN = r\"(\\s\\/?[ur]\\/\\D)|(sub)?(reddit)|\\S(vote)s?|(\\sop\\s)\"\n",
    "is_meta = df_cleaned['title'].str.lower().str.contains(PATTERN, regex=True) | df_cleaned['selftext'].str.lower().str.contains(PATTERN, regex=True)\n",
    "df_cleaned[is_meta].sample(30)[['title', 'selftext', 'score']]"
   ]
  },
  {
   "cell_type": "code",
   "execution_count": 16,
   "id": "2b3f4b64",
   "metadata": {},
   "outputs": [],
   "source": [
    "df_cleaned = df_cleaned[~is_meta]"
   ]
  },
  {
   "cell_type": "code",
   "execution_count": 17,
   "id": "785e9867",
   "metadata": {},
   "outputs": [
    {
     "data": {
      "text/html": [
       "<div>\n",
       "<style scoped>\n",
       "    .dataframe tbody tr th:only-of-type {\n",
       "        vertical-align: middle;\n",
       "    }\n",
       "\n",
       "    .dataframe tbody tr th {\n",
       "        vertical-align: top;\n",
       "    }\n",
       "\n",
       "    .dataframe thead th {\n",
       "        text-align: right;\n",
       "    }\n",
       "</style>\n",
       "<table border=\"1\" class=\"dataframe\">\n",
       "  <thead>\n",
       "    <tr style=\"text-align: right;\">\n",
       "      <th></th>\n",
       "      <th>title</th>\n",
       "      <th>selftext</th>\n",
       "      <th>score</th>\n",
       "    </tr>\n",
       "  </thead>\n",
       "  <tbody>\n",
       "    <tr>\n",
       "      <th>634510</th>\n",
       "      <td>What is ironic about black people working in police ammunition factories</td>\n",
       "      <td>They have a high chance of being killed with a bullet that they made</td>\n",
       "      <td>0</td>\n",
       "    </tr>\n",
       "    <tr>\n",
       "      <th>339313</th>\n",
       "      <td>Brussels Sprouts are like anal sex</td>\n",
       "      <td>If you’re forced to have it has a kid, you probably won’t enjoy it as an adult.</td>\n",
       "      <td>0</td>\n",
       "    </tr>\n",
       "    <tr>\n",
       "      <th>675758</th>\n",
       "      <td>If I had a dollar for every racist thing I'd said</td>\n",
       "      <td>A black man would rob me.</td>\n",
       "      <td>0</td>\n",
       "    </tr>\n",
       "    <tr>\n",
       "      <th>198739</th>\n",
       "      <td>Tucker Carlson really puts the Aryan into Libertarian. I'm not saying he's a Nazi...</td>\n",
       "      <td>But he definitely refers to anal sex as \"entering the gas chamber\"</td>\n",
       "      <td>0</td>\n",
       "    </tr>\n",
       "    <tr>\n",
       "      <th>649740</th>\n",
       "      <td>Where do gay guys get their taxes done?</td>\n",
       "      <td>H&amp;amp;R **Cock**</td>\n",
       "      <td>0</td>\n",
       "    </tr>\n",
       "    <tr>\n",
       "      <th>677007</th>\n",
       "      <td>Regular sex will make your day,</td>\n",
       "      <td>but anal sex will make your hole weak.</td>\n",
       "      <td>75</td>\n",
       "    </tr>\n",
       "    <tr>\n",
       "      <th>491946</th>\n",
       "      <td>How do you tell if there's a Russian at a cock fight?</td>\n",
       "      <td>He brings the orange How can you tell if there's Russian Mafia at the cockfight? He bets on the orange How can you tell if Putin is at the cockfight? The orange wins</td>\n",
       "      <td>18</td>\n",
       "    </tr>\n",
       "    <tr>\n",
       "      <th>795502</th>\n",
       "      <td>A black man walks into the \"No lights\" club.</td>\n",
       "      <td>Bartender shouts \"Hey! Who left the door open!?\"</td>\n",
       "      <td>0</td>\n",
       "    </tr>\n",
       "    <tr>\n",
       "      <th>170951</th>\n",
       "      <td>I would tell a gay joke but...</td>\n",
       "      <td>I faggot it</td>\n",
       "      <td>0</td>\n",
       "    </tr>\n",
       "    <tr>\n",
       "      <th>609728</th>\n",
       "      <td>Explicit: How do you get 4 gay guys on a chair</td>\n",
       "      <td>You put the chair upside down (I have nothing against gays, just a good joke)</td>\n",
       "      <td>0</td>\n",
       "    </tr>\n",
       "    <tr>\n",
       "      <th>996596</th>\n",
       "      <td>Did you hear about the gay midget?</td>\n",
       "      <td>He came out of the cupboard.</td>\n",
       "      <td>5</td>\n",
       "    </tr>\n",
       "    <tr>\n",
       "      <th>392681</th>\n",
       "      <td>Remarkably, it was a coroner who found the first scientific evidence for the existence of wormholes.</td>\n",
       "      <td>He was eating pussy during an autopsy.</td>\n",
       "      <td>0</td>\n",
       "    </tr>\n",
       "    <tr>\n",
       "      <th>944126</th>\n",
       "      <td>What does a gay man say to his husband when he wants a divorce?</td>\n",
       "      <td>\"I'm tired of your shit.\"</td>\n",
       "      <td>0</td>\n",
       "    </tr>\n",
       "    <tr>\n",
       "      <th>905249</th>\n",
       "      <td>Knock Knock</td>\n",
       "      <td>You open the door and get raped.</td>\n",
       "      <td>0</td>\n",
       "    </tr>\n",
       "    <tr>\n",
       "      <th>288648</th>\n",
       "      <td>Ever since coming out, my friend won't stop talking about how gay he is</td>\n",
       "      <td>Like, I get it. No need to keep ramming it down my throat.</td>\n",
       "      <td>3</td>\n",
       "    </tr>\n",
       "    <tr>\n",
       "      <th>643291</th>\n",
       "      <td>How many cops does it take to push a black man down the stairs?</td>\n",
       "      <td>None. He fell.</td>\n",
       "      <td>0</td>\n",
       "    </tr>\n",
       "    <tr>\n",
       "      <th>999693</th>\n",
       "      <td>Why is your cat at school?</td>\n",
       "      <td>The teacher asked Jimmy, \"Why is your cat at school today Jimmy?\" Jimmy replied crying, \"Because I heard my daddy tell my mommy, 'I am going to eat that pussy once Jimmy leaves for school today!'\"</td>\n",
       "      <td>0</td>\n",
       "    </tr>\n",
       "    <tr>\n",
       "      <th>999944</th>\n",
       "      <td>What's worse than being raped by your dad's penis?</td>\n",
       "      <td>Also being forced to fill his Viagra prescription.</td>\n",
       "      <td>0</td>\n",
       "    </tr>\n",
       "    <tr>\n",
       "      <th>991916</th>\n",
       "      <td>A cat falls into water, which makes the rooster laugh</td>\n",
       "      <td>Moral of the story: a wet pussy makes a happy cock</td>\n",
       "      <td>15</td>\n",
       "    </tr>\n",
       "    <tr>\n",
       "      <th>513994</th>\n",
       "      <td>Why are black people uncircumcised?</td>\n",
       "      <td>Because they cum from the hood</td>\n",
       "      <td>4</td>\n",
       "    </tr>\n",
       "    <tr>\n",
       "      <th>421864</th>\n",
       "      <td>If a lesbian cock blocks another lesbian</td>\n",
       "      <td>Is it considered a Beaver dam?</td>\n",
       "      <td>669</td>\n",
       "    </tr>\n",
       "    <tr>\n",
       "      <th>642887</th>\n",
       "      <td>I was going to tell a gay joke...</td>\n",
       "      <td>butt fuck it.</td>\n",
       "      <td>3</td>\n",
       "    </tr>\n",
       "    <tr>\n",
       "      <th>950834</th>\n",
       "      <td>Why did the gay chef love making dill crackers?</td>\n",
       "      <td>Because he got to handle the dill dough.</td>\n",
       "      <td>0</td>\n",
       "    </tr>\n",
       "    <tr>\n",
       "      <th>698390</th>\n",
       "      <td>What do you call a black man whos an astronaut?</td>\n",
       "      <td>An astronaut, you fucking racist...</td>\n",
       "      <td>3</td>\n",
       "    </tr>\n",
       "    <tr>\n",
       "      <th>147873</th>\n",
       "      <td>Haha joke</td>\n",
       "      <td>[NSFL] What does a black man and a Christmas ornament have in common? Both look better hanging from trees</td>\n",
       "      <td>0</td>\n",
       "    </tr>\n",
       "    <tr>\n",
       "      <th>159942</th>\n",
       "      <td>A black man walks into a bar with a parrot on his shoulder.</td>\n",
       "      <td>The bartender asks well where'd you get that. (parrot voice) Squawk Africa there's lots of them</td>\n",
       "      <td>5</td>\n",
       "    </tr>\n",
       "    <tr>\n",
       "      <th>776732</th>\n",
       "      <td>Whats the best thing about having sex with a pregnant woman?</td>\n",
       "      <td>You get pussy and head at the same time.</td>\n",
       "      <td>0</td>\n",
       "    </tr>\n",
       "    <tr>\n",
       "      <th>776013</th>\n",
       "      <td>Why don't black people dream?</td>\n",
       "      <td>The last black man to have a dream got shot.</td>\n",
       "      <td>15</td>\n",
       "    </tr>\n",
       "    <tr>\n",
       "      <th>254846</th>\n",
       "      <td>NSFW. If you had a donkey and I had a rooster and your donkey bit both of my rooster's feet off, what would you have?</td>\n",
       "      <td>2 feet of my cock in your ass</td>\n",
       "      <td>0</td>\n",
       "    </tr>\n",
       "    <tr>\n",
       "      <th>360780</th>\n",
       "      <td>If white people are white paper, and black people are black paper. Then what are Mexican people?</td>\n",
       "      <td>Construction paper</td>\n",
       "      <td>24</td>\n",
       "    </tr>\n",
       "  </tbody>\n",
       "</table>\n",
       "</div>"
      ],
      "text/plain": [
       "                                                                                                                        title  \\\n",
       "634510                                               What is ironic about black people working in police ammunition factories   \n",
       "339313                                                                                     Brussels Sprouts are like anal sex   \n",
       "675758                                                                      If I had a dollar for every racist thing I'd said   \n",
       "198739                                   Tucker Carlson really puts the Aryan into Libertarian. I'm not saying he's a Nazi...   \n",
       "649740                                                                                Where do gay guys get their taxes done?   \n",
       "677007                                                                                        Regular sex will make your day,   \n",
       "491946                                                                  How do you tell if there's a Russian at a cock fight?   \n",
       "795502                                                                           A black man walks into the \"No lights\" club.   \n",
       "170951                                                                                         I would tell a gay joke but...   \n",
       "609728                                                                         Explicit: How do you get 4 gay guys on a chair   \n",
       "996596                                                                                     Did you hear about the gay midget?   \n",
       "392681                   Remarkably, it was a coroner who found the first scientific evidence for the existence of wormholes.   \n",
       "944126                                                        What does a gay man say to his husband when he wants a divorce?   \n",
       "905249                                                                                                            Knock Knock   \n",
       "288648                                                Ever since coming out, my friend won't stop talking about how gay he is   \n",
       "643291                                                        How many cops does it take to push a black man down the stairs?   \n",
       "999693                                                                                             Why is your cat at school?   \n",
       "999944                                                                     What's worse than being raped by your dad's penis?   \n",
       "991916                                                                  A cat falls into water, which makes the rooster laugh   \n",
       "513994                                                                                    Why are black people uncircumcised?   \n",
       "421864                                                                               If a lesbian cock blocks another lesbian   \n",
       "642887                                                                                      I was going to tell a gay joke...   \n",
       "950834                                                                        Why did the gay chef love making dill crackers?   \n",
       "698390                                                                        What do you call a black man whos an astronaut?   \n",
       "147873                                                                                                              Haha joke   \n",
       "159942                                                            A black man walks into a bar with a parrot on his shoulder.   \n",
       "776732                                                           Whats the best thing about having sex with a pregnant woman?   \n",
       "776013                                                                                          Why don't black people dream?   \n",
       "254846  NSFW. If you had a donkey and I had a rooster and your donkey bit both of my rooster's feet off, what would you have?   \n",
       "360780                       If white people are white paper, and black people are black paper. Then what are Mexican people?   \n",
       "\n",
       "                                                                                                                                                                                                    selftext  \\\n",
       "634510                                                                                                                                  They have a high chance of being killed with a bullet that they made   \n",
       "339313                                                                                                                       If you’re forced to have it has a kid, you probably won’t enjoy it as an adult.   \n",
       "675758                                                                                                                                                                             A black man would rob me.   \n",
       "198739                                                                                                                                    But he definitely refers to anal sex as \"entering the gas chamber\"   \n",
       "649740                                                                                                                                                                                      H&amp;R **Cock**   \n",
       "677007                                                                                                                                                                but anal sex will make your hole weak.   \n",
       "491946                                 He brings the orange How can you tell if there's Russian Mafia at the cockfight? He bets on the orange How can you tell if Putin is at the cockfight? The orange wins   \n",
       "795502                                                                                                                                                      Bartender shouts \"Hey! Who left the door open!?\"   \n",
       "170951                                                                                                                                                                                           I faggot it   \n",
       "609728                                                                                                                         You put the chair upside down (I have nothing against gays, just a good joke)   \n",
       "996596                                                                                                                                                                          He came out of the cupboard.   \n",
       "392681                                                                                                                                                                He was eating pussy during an autopsy.   \n",
       "944126                                                                                                                                                                             \"I'm tired of your shit.\"   \n",
       "905249                                                                                                                                                                      You open the door and get raped.   \n",
       "288648                                                                                                                                            Like, I get it. No need to keep ramming it down my throat.   \n",
       "643291                                                                                                                                                                                        None. He fell.   \n",
       "999693  The teacher asked Jimmy, \"Why is your cat at school today Jimmy?\" Jimmy replied crying, \"Because I heard my daddy tell my mommy, 'I am going to eat that pussy once Jimmy leaves for school today!'\"   \n",
       "999944                                                                                                                                                    Also being forced to fill his Viagra prescription.   \n",
       "991916                                                                                                                                                    Moral of the story: a wet pussy makes a happy cock   \n",
       "513994                                                                                                                                                                        Because they cum from the hood   \n",
       "421864                                                                                                                                                                        Is it considered a Beaver dam?   \n",
       "642887                                                                                                                                                                                         butt fuck it.   \n",
       "950834                                                                                                                                                              Because he got to handle the dill dough.   \n",
       "698390                                                                                                                                                                   An astronaut, you fucking racist...   \n",
       "147873                                                                                             [NSFL] What does a black man and a Christmas ornament have in common? Both look better hanging from trees   \n",
       "159942                                                                                                       The bartender asks well where'd you get that. (parrot voice) Squawk Africa there's lots of them   \n",
       "776732                                                                                                                                                              You get pussy and head at the same time.   \n",
       "776013                                                                                                                                                          The last black man to have a dream got shot.   \n",
       "254846                                                                                                                                                                         2 feet of my cock in your ass   \n",
       "360780                                                                                                                                                                                    Construction paper   \n",
       "\n",
       "        score  \n",
       "634510      0  \n",
       "339313      0  \n",
       "675758      0  \n",
       "198739      0  \n",
       "649740      0  \n",
       "677007     75  \n",
       "491946     18  \n",
       "795502      0  \n",
       "170951      0  \n",
       "609728      0  \n",
       "996596      5  \n",
       "392681      0  \n",
       "944126      0  \n",
       "905249      0  \n",
       "288648      3  \n",
       "643291      0  \n",
       "999693      0  \n",
       "999944      0  \n",
       "991916     15  \n",
       "513994      4  \n",
       "421864    669  \n",
       "642887      3  \n",
       "950834      0  \n",
       "698390      3  \n",
       "147873      0  \n",
       "159942      5  \n",
       "776732      0  \n",
       "776013     15  \n",
       "254846      0  \n",
       "360780     24  "
      ]
     },
     "execution_count": 17,
     "metadata": {},
     "output_type": "execute_result"
    }
   ],
   "source": [
    "# offensive jokes\n",
    "# boolean mask that identifies strings with reddit posts\n",
    "PATTERN = r\"(\\srape\\w)|(\\sanal\\s)|(\\snigger\\s)|(\\sblack people\\s)|(\\sblack man\\s)|(cock\\s)|(\\spussy\\s)|(\\scunt\\s)|(\\sgay\\s)\"\n",
    "is_offensive = df_cleaned['title'].str.contains(PATTERN, regex=True) | df_cleaned['selftext'].str.contains(PATTERN, regex=True)\n",
    "df_cleaned[is_offensive].sample(30)[['title', 'selftext', 'score']]"
   ]
  },
  {
   "cell_type": "code",
   "execution_count": 18,
   "id": "63168470",
   "metadata": {},
   "outputs": [],
   "source": [
    "df_cleaned = df_cleaned[~is_offensive]"
   ]
  },
  {
   "cell_type": "code",
   "execution_count": 19,
   "id": "f7db294c",
   "metadata": {
    "colab": {
     "base_uri": "https://localhost:8080/"
    },
    "id": "f7db294c",
    "outputId": "66d8d53a-3384-485c-9a1f-54318e339706",
    "scrolled": true
   },
   "outputs": [
    {
     "name": "stdout",
     "output_type": "stream",
     "text": [
      "maximum sampling size is 96033\n",
      " proceeding with this value...\n",
      "***** calculating *****\n",
      "WARNING, CURRENT PARAMETERS RESULT IN CLASS SIZE REDUCTION\n",
      "desired size 100000\n",
      "current size 48472\n"
     ]
    }
   ],
   "source": [
    "# returns boolean mask and updated_class sizes for binary classification.\n",
    "# boolean mask is for instances in the positive class that meet arguments\n",
    "\n",
    "pos_class_mask, updated_class_size = populate_pos_class(df_cleaned, MIN_UPVOTES, MAX_UPVOTES, CLASS_SIZE)"
   ]
  },
  {
   "cell_type": "markdown",
   "id": "03a21055",
   "metadata": {
    "id": "03a21055"
   },
   "source": [
    "### Make the positive and negative class labels and concatenate the dataframe"
   ]
  },
  {
   "cell_type": "code",
   "execution_count": 20,
   "id": "6b07ee9e",
   "metadata": {
    "colab": {
     "base_uri": "https://localhost:8080/",
     "height": 455
    },
    "id": "6b07ee9e",
    "outputId": "aed48b0e-1458-46cd-ba8e-ddc3db940787",
    "scrolled": false
   },
   "outputs": [
    {
     "name": "stdout",
     "output_type": "stream",
     "text": [
      "          count         mean        std   min   25%    50%    75%       max\n",
      "target                                                                     \n",
      "False   48472.0     0.000000     0.0000   0.0   0.0    0.0    0.0       0.0\n",
      "True    48472.0  1340.361157  4881.4334  51.0  81.0  155.0  432.0  136359.0\n",
      "Saving figure class distribution after cleaning\n"
     ]
    },
    {
     "data": {
      "image/png": "[encoded data removed]",
      "text/plain": [
       "<Figure size 460.8x403.2 with 1 Axes>"
      ]
     },
     "metadata": {},
     "output_type": "display_data"
    }
   ],
   "source": [
    "# create target label\n",
    "df_cleaned['target'] = pos_class_mask\n",
    "\n",
    "# add positive and negative classes together\n",
    "df_concat = pd.concat([df_cleaned[neg_class].sample(updated_class_size), df_cleaned[pos_class_mask]], axis=0)\n",
    "print(df_concat.groupby('target').describe()['score'])\n",
    "\n",
    "# plot target distribution to validate\n",
    "df_concat['target'].value_counts().plot(kind='bar', color=['xkcd:orange', 'xkcd:azure'])\n",
    "plt.grid(False)\n",
    "save_fig('class distribution after cleaning')"
   ]
  },
  {
   "cell_type": "markdown",
   "id": "Cb4JyDlYsWgz",
   "metadata": {
    "id": "Cb4JyDlYsWgz"
   },
   "source": [
    "### Split into train / test data"
   ]
  },
  {
   "cell_type": "code",
   "execution_count": 21,
   "id": "Rn__FvtKsN7-",
   "metadata": {
    "colab": {
     "base_uri": "https://localhost:8080/"
    },
    "id": "Rn__FvtKsN7-",
    "outputId": "4faeb1aa-89ac-4f2f-c860-64d7f67353ae",
    "scrolled": true
   },
   "outputs": [
    {
     "name": "stdout",
     "output_type": "stream",
     "text": [
      "(92096, 15) (4848, 15)\n"
     ]
    }
   ],
   "source": [
    "# get training size from parameters\n",
    "training_size = int(len(df_concat)*TRAIN_SIZE)\n",
    "\n",
    "# shuffle \n",
    "df_concat_shuffled = df_concat.sample(len(df_concat)).reset_index(drop=True)\n",
    "\n",
    "# fill na values with a blank\n",
    "df_concat_shuffled['selftext'] = df_concat_shuffled['selftext'].fillna(value='')\n",
    "\n",
    "# generate train and test sets\n",
    "train = df_concat_shuffled[:training_size]\n",
    "test = df_concat_shuffled[training_size:]\n",
    "print(train.shape, test.shape)\n",
    "pd.to_pickle(train, \"./data/train.pkl\")\n",
    "pd.to_pickle(test, \"./data/test.pkl\")"
   ]
  },
  {
   "cell_type": "markdown",
   "id": "quLWMNEP5hdp",
   "metadata": {
    "id": "quLWMNEP5hdp"
   },
   "source": [
    "## Explore the Data"
   ]
  },
  {
   "cell_type": "code",
   "execution_count": 22,
   "id": "357b5d64",
   "metadata": {},
   "outputs": [],
   "source": [
    "# some useful boolean masks\n",
    "is_funny = train['target'] == True"
   ]
  },
  {
   "cell_type": "code",
   "execution_count": 23,
   "id": "81525c72",
   "metadata": {
    "scrolled": false
   },
   "outputs": [
    {
     "data": {
      "text/html": [
       "<div>\n",
       "<style scoped>\n",
       "    .dataframe tbody tr th:only-of-type {\n",
       "        vertical-align: middle;\n",
       "    }\n",
       "\n",
       "    .dataframe tbody tr th {\n",
       "        vertical-align: top;\n",
       "    }\n",
       "\n",
       "    .dataframe thead th {\n",
       "        text-align: right;\n",
       "    }\n",
       "</style>\n",
       "<table border=\"1\" class=\"dataframe\">\n",
       "  <thead>\n",
       "    <tr style=\"text-align: right;\">\n",
       "      <th></th>\n",
       "      <th>title</th>\n",
       "      <th>selftext</th>\n",
       "      <th>score</th>\n",
       "    </tr>\n",
       "  </thead>\n",
       "  <tbody>\n",
       "    <tr>\n",
       "      <th>6546</th>\n",
       "      <td>My first highschool football game was a lot like my first time having sex...</td>\n",
       "      <td>I was pretty roughed up, sore, and kinda bloody, but at least my dad came (:</td>\n",
       "      <td>1247</td>\n",
       "    </tr>\n",
       "    <tr>\n",
       "      <th>72047</th>\n",
       "      <td>All these people getting emails from the Prince of Nigeria, I got one from an Egyptian Pharaoh...</td>\n",
       "      <td>But it turned out to just be a pyramid scheme.</td>\n",
       "      <td>1637</td>\n",
       "    </tr>\n",
       "    <tr>\n",
       "      <th>92033</th>\n",
       "      <td>Met a beautiful girl down at the park today..</td>\n",
       "      <td>Met a beautiful girl down at the park today. Sparks flew, she fell at my feet and we ended up having sex right there and then. God, I love my new Taser...</td>\n",
       "      <td>4840</td>\n",
       "    </tr>\n",
       "    <tr>\n",
       "      <th>5022</th>\n",
       "      <td>Someone said my clothes were gay</td>\n",
       "      <td>I said \"Yeah, they came out of the closet this morning.\"</td>\n",
       "      <td>2730</td>\n",
       "    </tr>\n",
       "    <tr>\n",
       "      <th>44083</th>\n",
       "      <td>As an Aussie, Americans are always asking me where in Australia there \"isn't\" something trying to kill you....</td>\n",
       "      <td>\"School\" is my answer.</td>\n",
       "      <td>38015</td>\n",
       "    </tr>\n",
       "    <tr>\n",
       "      <th>80876</th>\n",
       "      <td>A local barber was arrested for selling drugs. I've been his customer for 5 years</td>\n",
       "      <td>I never knew he was a barber</td>\n",
       "      <td>3815</td>\n",
       "    </tr>\n",
       "    <tr>\n",
       "      <th>40468</th>\n",
       "      <td>Why was the Pepsi employee fired?</td>\n",
       "      <td>He tested positive for coke.</td>\n",
       "      <td>1611</td>\n",
       "    </tr>\n",
       "    <tr>\n",
       "      <th>70934</th>\n",
       "      <td>Well, you won't get called a racist for criticizing the President anymore...</td>\n",
       "      <td>...you'll just get called a racist for supporting him.</td>\n",
       "      <td>1096</td>\n",
       "    </tr>\n",
       "    <tr>\n",
       "      <th>53762</th>\n",
       "      <td>I got arrested the other day for holding a little girl's hand</td>\n",
       "      <td>They wanted to know where the rest of her body was</td>\n",
       "      <td>828</td>\n",
       "    </tr>\n",
       "    <tr>\n",
       "      <th>35820</th>\n",
       "      <td>What does Melania call it when Donald takes Viagra?</td>\n",
       "      <td>A rigged erection.</td>\n",
       "      <td>793</td>\n",
       "    </tr>\n",
       "  </tbody>\n",
       "</table>\n",
       "</div>"
      ],
      "text/plain": [
       "                                                                                                                title  \\\n",
       "6546                                     My first highschool football game was a lot like my first time having sex...   \n",
       "72047               All these people getting emails from the Prince of Nigeria, I got one from an Egyptian Pharaoh...   \n",
       "92033                                                                   Met a beautiful girl down at the park today..   \n",
       "5022                                                                                 Someone said my clothes were gay   \n",
       "44083  As an Aussie, Americans are always asking me where in Australia there \"isn't\" something trying to kill you....   \n",
       "80876                               A local barber was arrested for selling drugs. I've been his customer for 5 years   \n",
       "40468                                                                               Why was the Pepsi employee fired?   \n",
       "70934                                    Well, you won't get called a racist for criticizing the President anymore...   \n",
       "53762                                                   I got arrested the other day for holding a little girl's hand   \n",
       "35820                                                             What does Melania call it when Donald takes Viagra?   \n",
       "\n",
       "                                                                                                                                                         selftext  \\\n",
       "6546                                                                                 I was pretty roughed up, sore, and kinda bloody, but at least my dad came (:   \n",
       "72047                                                                                                              But it turned out to just be a pyramid scheme.   \n",
       "92033  Met a beautiful girl down at the park today. Sparks flew, she fell at my feet and we ended up having sex right there and then. God, I love my new Taser...   \n",
       "5022                                                                                                     I said \"Yeah, they came out of the closet this morning.\"   \n",
       "44083                                                                                                                                      \"School\" is my answer.   \n",
       "80876                                                                                                                                I never knew he was a barber   \n",
       "40468                                                                                                                                He tested positive for coke.   \n",
       "70934                                                                                                      ...you'll just get called a racist for supporting him.   \n",
       "53762                                                                                                          They wanted to know where the rest of her body was   \n",
       "35820                                                                                                                                          A rigged erection.   \n",
       "\n",
       "       score  \n",
       "6546    1247  \n",
       "72047   1637  \n",
       "92033   4840  \n",
       "5022    2730  \n",
       "44083  38015  \n",
       "80876   3815  \n",
       "40468   1611  \n",
       "70934   1096  \n",
       "53762    828  \n",
       "35820    793  "
      ]
     },
     "execution_count": 23,
     "metadata": {},
     "output_type": "execute_result"
    }
   ],
   "source": [
    "# examples of funny jokes\n",
    "train[train['score'] >= train['score'].mean()][['title', 'selftext', 'score']].sample(10)"
   ]
  },
  {
   "cell_type": "code",
   "execution_count": 24,
   "id": "4aacdb62",
   "metadata": {},
   "outputs": [
    {
     "data": {
      "text/html": [
       "<div>\n",
       "<style scoped>\n",
       "    .dataframe tbody tr th:only-of-type {\n",
       "        vertical-align: middle;\n",
       "    }\n",
       "\n",
       "    .dataframe tbody tr th {\n",
       "        vertical-align: top;\n",
       "    }\n",
       "\n",
       "    .dataframe thead th {\n",
       "        text-align: right;\n",
       "    }\n",
       "</style>\n",
       "<table border=\"1\" class=\"dataframe\">\n",
       "  <thead>\n",
       "    <tr style=\"text-align: right;\">\n",
       "      <th></th>\n",
       "      <th>title</th>\n",
       "      <th>selftext</th>\n",
       "    </tr>\n",
       "  </thead>\n",
       "  <tbody>\n",
       "    <tr>\n",
       "      <th>38536</th>\n",
       "      <td>...got rid of dwarf boyfriend!</td>\n",
       "      <td>...he was always poking his nose in!</td>\n",
       "    </tr>\n",
       "    <tr>\n",
       "      <th>27914</th>\n",
       "      <td>-Are you always this funny?</td>\n",
       "      <td>-Just long enough to get to fuck you</td>\n",
       "    </tr>\n",
       "    <tr>\n",
       "      <th>67192</th>\n",
       "      <td>Yo, can you pass me the Aux cord?</td>\n",
       "      <td>Nah man, I just have the cow cord.</td>\n",
       "    </tr>\n",
       "    <tr>\n",
       "      <th>55225</th>\n",
       "      <td>A guy walks into a bar</td>\n",
       "      <td>And says, 'Damn that hurt'</td>\n",
       "    </tr>\n",
       "    <tr>\n",
       "      <th>23904</th>\n",
       "      <td>Garb flarb bjarb...</td>\n",
       "      <td>HARB CAR!</td>\n",
       "    </tr>\n",
       "    <tr>\n",
       "      <th>26685</th>\n",
       "      <td>What do you call it when Donald Trump pretends to sleep?</td>\n",
       "      <td>Fake snooze</td>\n",
       "    </tr>\n",
       "    <tr>\n",
       "      <th>82601</th>\n",
       "      <td>I tried to join a club for people who can fell a tree with a single stroke...</td>\n",
       "      <td>But I didn't make the cut.</td>\n",
       "    </tr>\n",
       "    <tr>\n",
       "      <th>61668</th>\n",
       "      <td>It's really frustrating when you run out of pirate jokes.</td>\n",
       "      <td>Arr</td>\n",
       "    </tr>\n",
       "    <tr>\n",
       "      <th>52904</th>\n",
       "      <td>How did they know Christa McAuliffe had dandruff?</td>\n",
       "      <td>They found her head and shoulders on the beach</td>\n",
       "    </tr>\n",
       "    <tr>\n",
       "      <th>58621</th>\n",
       "      <td>My niece was the victim of demonic possession FOR THE SECOND TIME.</td>\n",
       "      <td>She was repossessed.</td>\n",
       "    </tr>\n",
       "  </tbody>\n",
       "</table>\n",
       "</div>"
      ],
      "text/plain": [
       "                                                                               title  \\\n",
       "38536                                                 ...got rid of dwarf boyfriend!   \n",
       "27914                                                    -Are you always this funny?   \n",
       "67192                                              Yo, can you pass me the Aux cord?   \n",
       "55225                                                         A guy walks into a bar   \n",
       "23904                                                            Garb flarb bjarb...   \n",
       "26685                       What do you call it when Donald Trump pretends to sleep?   \n",
       "82601  I tried to join a club for people who can fell a tree with a single stroke...   \n",
       "61668                      It's really frustrating when you run out of pirate jokes.   \n",
       "52904                              How did they know Christa McAuliffe had dandruff?   \n",
       "58621             My niece was the victim of demonic possession FOR THE SECOND TIME.   \n",
       "\n",
       "                                             selftext  \n",
       "38536            ...he was always poking his nose in!  \n",
       "27914            -Just long enough to get to fuck you  \n",
       "67192              Nah man, I just have the cow cord.  \n",
       "55225                      And says, 'Damn that hurt'  \n",
       "23904                                       HARB CAR!  \n",
       "26685                                     Fake snooze  \n",
       "82601                      But I didn't make the cut.  \n",
       "61668                                             Arr  \n",
       "52904  They found her head and shoulders on the beach  \n",
       "58621                            She was repossessed.  "
      ]
     },
     "execution_count": 24,
     "metadata": {},
     "output_type": "execute_result"
    }
   ],
   "source": [
    "# examples of not funny jokes\n",
    "train[train['score'] == 0][['title', 'selftext']].sample(10)"
   ]
  },
  {
   "cell_type": "code",
   "execution_count": 25,
   "id": "a3a4dc49",
   "metadata": {
    "colab": {
     "base_uri": "https://localhost:8080/",
     "height": 575
    },
    "id": "Dy6_M44RJ6NB",
    "outputId": "78efde2b-5c95-4e5e-b3b9-9744daea13d7",
    "scrolled": false
   },
   "outputs": [
    {
     "name": "stdout",
     "output_type": "stream",
     "text": [
      "Saving figure density plot of log title length\n"
     ]
    },
    {
     "data": {
      "image/png": "[encoded data removed]",
      "text/plain": [
       "<Figure size 460.8x403.2 with 1 Axes>"
      ]
     },
     "metadata": {},
     "output_type": "display_data"
    },
    {
     "name": "stdout",
     "output_type": "stream",
     "text": [
      "Saving figure density plot of log selftext length\n"
     ]
    },
    {
     "data": {
      "image/png": "[encoded data removed]",
      "text/plain": [
       "<Figure size 460.8x403.2 with 1 Axes>"
      ]
     },
     "metadata": {},
     "output_type": "display_data"
    }
   ],
   "source": [
    "# plots of length\n",
    "train['log_title_len'] = np.log(train['title_len'])\n",
    "train['log_selftext_len'] = np.log(train['selftext_len'])\n",
    "\n",
    "funny_df = train[train['target'] == True]\n",
    "not_funny_df = train[train['target'] == False]\n",
    "\n",
    "# plots lengths\n",
    "sns.kdeplot(x='log_title_len', data=train, hue='target')\n",
    "plt.title('density plot of log title length')\n",
    "save_fig('density plot of log title length')\n",
    "plt.show()\n",
    "train['log_selftext_len'] = np.log(train['selftext_len'])\n",
    "sns.kdeplot(x='log_selftext_len', data=train, hue='target')\n",
    "plt.title('density plot of log selftext length')\n",
    "save_fig('density plot of log selftext length')\n",
    "plt.show()\n"
   ]
  },
  {
   "cell_type": "code",
   "execution_count": 26,
   "id": "edfd1c90",
   "metadata": {
    "colab": {
     "base_uri": "https://localhost:8080/",
     "height": 545
    },
    "id": "KBeJAkR2KHgP",
    "outputId": "7fe98700-eece-430a-b26d-3456e99f20ff",
    "scrolled": false
   },
   "outputs": [
    {
     "data": {
      "image/png": "[encoded data removed]",
      "text/plain": [
       "<Figure size 460.8x403.2 with 1 Axes>"
      ]
     },
     "metadata": {},
     "output_type": "display_data"
    },
    {
     "data": {
      "image/png": "[encoded data removed]",
      "text/plain": [
       "<Figure size 460.8x403.2 with 1 Axes>"
      ]
     },
     "metadata": {},
     "output_type": "display_data"
    }
   ],
   "source": [
    "train.groupby(['title_len']).mean()['target'].hist(color='red')\n",
    "plt.title('variation of title length on scores')\n",
    "plt.show()\n",
    "train.groupby(['selftext_len']).mean()['target'].hist()\n",
    "plt.title('variation of selftext length on scores')\n",
    "plt.show()"
   ]
  },
  {
   "cell_type": "markdown",
   "id": "d3b686af",
   "metadata": {
    "id": "0eaacdd7"
   },
   "source": [
    "### Examine Time Series Data"
   ]
  },
  {
   "cell_type": "code",
   "execution_count": 27,
   "id": "26e33a0f",
   "metadata": {
    "id": "49472f14"
   },
   "outputs": [],
   "source": [
    "# making unix created_times into readable timestamps\n",
    "train['created_at'] = train['created_utc'].apply(lambda x: make_timestamp(x))\n",
    "#train[['created_at', 'title', 'selftext', 'target']].head()\n",
    "\n",
    "# create dataframes with with timestamp as index for examination\n",
    "df_funny = train[is_funny].set_index('created_at', drop=True).sort_index()\n",
    "df_not_funny = train[~is_funny].set_index('created_at', drop=True).sort_index()"
   ]
  },
  {
   "cell_type": "code",
   "execution_count": 28,
   "id": "1b1be391",
   "metadata": {
    "colab": {
     "base_uri": "https://localhost:8080/",
     "height": 350
    },
    "id": "1b5414d6",
    "outputId": "c10df1c5-89dc-416a-f892-784c179c8514",
    "scrolled": false
   },
   "outputs": [
    {
     "name": "stdout",
     "output_type": "stream",
     "text": [
      "Saving figure submissions over time\n"
     ]
    },
    {
     "data": {
      "image/png": "[encoded data removed]",
      "text/plain": [
       "<Figure size 1080x360 with 1 Axes>"
      ]
     },
     "metadata": {},
     "output_type": "display_data"
    }
   ],
   "source": [
    "# plot submissions over time\n",
    "plt.figure(figsize=(15, 5))\n",
    "\n",
    "sns.lineplot(x=df_funny.resample('W').count().index, y='type', data=df_funny.resample('W').count(), label='funny')\n",
    "sns.lineplot(x=df_not_funny.resample('W').count().index, y='type', data=df_not_funny.resample('W').count(), label='not funny')\n",
    "plt.title('Number of Submissions to r/jokes')\n",
    "plt.xlabel('date')\n",
    "plt.ylabel('number of submissions')\n",
    "plt.legend()\n",
    "save_fig('submissions over time')\n",
    "plt.show()"
   ]
  },
  {
   "cell_type": "code",
   "execution_count": 29,
   "id": "d9fa81dc",
   "metadata": {},
   "outputs": [
    {
     "name": "stdout",
     "output_type": "stream",
     "text": [
      "Saving figure average submission per hour\n"
     ]
    },
    {
     "data": {
      "image/png": "[encoded data removed]",
      "text/plain": [
       "<Figure size 936x432 with 1 Axes>"
      ]
     },
     "metadata": {},
     "output_type": "display_data"
    }
   ],
   "source": [
    "# average periods\n",
    "plt.figure(figsize=(13, 6))\n",
    "sns.lineplot(data = df_funny.groupby(df_funny.index.hour)['target'].count(), label='funny')\n",
    "sns.lineplot(data = df_not_funny.groupby(df_not_funny.index.hour)['target'].count(), label='not funny', )\n",
    "plt.title('average submissions per hour')\n",
    "plt.ylabel('submission counts')\n",
    "save_fig('average submission per hour')\n",
    "plt.show()"
   ]
  },
  {
   "cell_type": "code",
   "execution_count": 30,
   "id": "f115e23a",
   "metadata": {
    "colab": {
     "base_uri": "https://localhost:8080/",
     "height": 297
    },
    "id": "DcS-pSnWI7Pb",
    "outputId": "c25cafe3-1d53-4dff-c984-250339aa0587"
   },
   "outputs": [
    {
     "data": {
      "text/plain": [
       "<AxesSubplot:xlabel='created_at', ylabel='type'>"
      ]
     },
     "execution_count": 30,
     "metadata": {},
     "output_type": "execute_result"
    },
    {
     "data": {
      "image/png": "[encoded data removed]",
      "text/plain": [
       "<Figure size 460.8x403.2 with 1 Axes>"
      ]
     },
     "metadata": {},
     "output_type": "display_data"
    }
   ],
   "source": [
    "# taking another look at that odd event in 2019\n",
    "sns.lineplot(x=df_not_funny.loc['2019'].resample('W').count().index, y='type', data=df_not_funny.loc['2019'].resample('W').count(), label='not funny')"
   ]
  },
  {
   "cell_type": "code",
   "execution_count": 31,
   "id": "4fecc4c9",
   "metadata": {
    "colab": {
     "base_uri": "https://localhost:8080/"
    },
    "id": "4SKgp1UrCwLV",
    "outputId": "cef8f72c-0d17-42bc-89f7-25426bd33f9f"
   },
   "outputs": [
    {
     "name": "stdout",
     "output_type": "stream",
     "text": [
      "dates of anomaly: 2019-04-07 - 2019-09-01\n"
     ]
    }
   ],
   "source": [
    "not_funny_2019_counts = df_not_funny.loc['2019'].resample('W').count()\n",
    "start_date = not_funny_2019_counts['2019-04':'2019-05'][not_funny_2019_counts['id']['2019-04':'2019-05'] == not_funny_2019_counts['id']['2019-04':'2019-05'].min()].index[0]\n",
    "end_date = not_funny_2019_counts[start_date:\"2019-12-01\"][not_funny_2019_counts[start_date:\"2019-12-01\"]['id'] == not_funny_2019_counts[start_date:\"2019-12-01\"]['id'].min()].index[0]\n",
    "start_date_not_funny_event, end_date_not_funny_event = str(start_date.date()), str(end_date.date())\n",
    "print(f'dates of anomaly: {start_date_not_funny_event} - {end_date_not_funny_event}')"
   ]
  },
  {
   "cell_type": "code",
   "execution_count": null,
   "id": "34d46196",
   "metadata": {
    "id": "34d46196"
   },
   "outputs": [],
   "source": []
  }
 ],
 "metadata": {
  "colab": {
   "collapsed_sections": [],
   "name": "jokes.ipynb",
   "provenance": []
  },
  "kernelspec": {
   "display_name": "Python 3",
   "language": "python",
   "name": "python3"
  },
  "language_info": {
   "codemirror_mode": {
    "name": "ipython",
    "version": 3
   },
   "file_extension": ".py",
   "mimetype": "text/x-python",
   "name": "python",
   "nbconvert_exporter": "python",
   "pygments_lexer": "ipython3",
   "version": "3.9.4"
  }
 },
 "nbformat": 4,
 "nbformat_minor": 5
}
