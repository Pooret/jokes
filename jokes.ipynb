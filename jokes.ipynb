{
 "cells": [
  {
   "cell_type": "code",
   "execution_count": 2,
   "id": "27c1ebb4",
   "metadata": {},
   "outputs": [],
   "source": [
    "import pandas as pd\n",
    "import numpy as np\n",
    "import matplotlib.pyplot as plt\n",
    "from jupyterthemes import jtplot\n",
    "jtplot.style()"
   ]
  },
  {
   "cell_type": "code",
   "execution_count": 3,
   "id": "4eaa6dc4",
   "metadata": {},
   "outputs": [],
   "source": [
    "# extract the data\n",
    "df = pd.read_csv('https://query.data.world/s/htrdsouy327xqa4w457qx6k6sjtj6r')"
   ]
  },
  {
   "cell_type": "code",
   "execution_count": 4,
   "id": "b0c78473",
   "metadata": {},
   "outputs": [
    {
     "data": {
      "text/html": [
       "<div>\n",
       "<style scoped>\n",
       "    .dataframe tbody tr th:only-of-type {\n",
       "        vertical-align: middle;\n",
       "    }\n",
       "\n",
       "    .dataframe tbody tr th {\n",
       "        vertical-align: top;\n",
       "    }\n",
       "\n",
       "    .dataframe thead th {\n",
       "        text-align: right;\n",
       "    }\n",
       "</style>\n",
       "<table border=\"1\" class=\"dataframe\">\n",
       "  <thead>\n",
       "    <tr style=\"text-align: right;\">\n",
       "      <th></th>\n",
       "      <th>type</th>\n",
       "      <th>id</th>\n",
       "      <th>subreddit.id</th>\n",
       "      <th>subreddit.name</th>\n",
       "      <th>subreddit.nsfw</th>\n",
       "      <th>created_utc</th>\n",
       "      <th>permalink</th>\n",
       "      <th>domain</th>\n",
       "      <th>url</th>\n",
       "      <th>selftext</th>\n",
       "      <th>title</th>\n",
       "      <th>score</th>\n",
       "    </tr>\n",
       "  </thead>\n",
       "  <tbody>\n",
       "    <tr>\n",
       "      <th>0</th>\n",
       "      <td>post</td>\n",
       "      <td>ftbp1i</td>\n",
       "      <td>2qh72</td>\n",
       "      <td>jokes</td>\n",
       "      <td>False</td>\n",
       "      <td>1585785543</td>\n",
       "      <td>https://old.reddit.com/r/Jokes/comments/ftbp1i...</td>\n",
       "      <td>self.jokes</td>\n",
       "      <td>NaN</td>\n",
       "      <td>My corona is covered with foreskin so it is no...</td>\n",
       "      <td>I am soooo glad I'm not circumcised!</td>\n",
       "      <td>2</td>\n",
       "    </tr>\n",
       "    <tr>\n",
       "      <th>1</th>\n",
       "      <td>post</td>\n",
       "      <td>ftboup</td>\n",
       "      <td>2qh72</td>\n",
       "      <td>jokes</td>\n",
       "      <td>False</td>\n",
       "      <td>1585785522</td>\n",
       "      <td>https://old.reddit.com/r/Jokes/comments/ftboup...</td>\n",
       "      <td>self.jokes</td>\n",
       "      <td>NaN</td>\n",
       "      <td>It's called Google Sheets.</td>\n",
       "      <td>Did you know Google now has a platform for rec...</td>\n",
       "      <td>9</td>\n",
       "    </tr>\n",
       "    <tr>\n",
       "      <th>2</th>\n",
       "      <td>post</td>\n",
       "      <td>ftbopj</td>\n",
       "      <td>2qh72</td>\n",
       "      <td>jokes</td>\n",
       "      <td>False</td>\n",
       "      <td>1585785508</td>\n",
       "      <td>https://old.reddit.com/r/Jokes/comments/ftbopj...</td>\n",
       "      <td>self.jokes</td>\n",
       "      <td>NaN</td>\n",
       "      <td>The vacuum doesn't snore after sex.\\n\\n&amp;amp;#x...</td>\n",
       "      <td>What is the difference between my wife and my ...</td>\n",
       "      <td>15</td>\n",
       "    </tr>\n",
       "    <tr>\n",
       "      <th>3</th>\n",
       "      <td>post</td>\n",
       "      <td>ftbnxh</td>\n",
       "      <td>2qh72</td>\n",
       "      <td>jokes</td>\n",
       "      <td>False</td>\n",
       "      <td>1585785428</td>\n",
       "      <td>https://old.reddit.com/r/Jokes/comments/ftbnxh...</td>\n",
       "      <td>self.jokes</td>\n",
       "      <td>NaN</td>\n",
       "      <td>[removed]</td>\n",
       "      <td>My last joke for now.</td>\n",
       "      <td>9</td>\n",
       "    </tr>\n",
       "    <tr>\n",
       "      <th>4</th>\n",
       "      <td>post</td>\n",
       "      <td>ftbjpg</td>\n",
       "      <td>2qh72</td>\n",
       "      <td>jokes</td>\n",
       "      <td>False</td>\n",
       "      <td>1585785009</td>\n",
       "      <td>https://old.reddit.com/r/Jokes/comments/ftbjpg...</td>\n",
       "      <td>self.jokes</td>\n",
       "      <td>NaN</td>\n",
       "      <td>[removed]</td>\n",
       "      <td>The Nintendo 64 turns 18 this week...</td>\n",
       "      <td>134</td>\n",
       "    </tr>\n",
       "  </tbody>\n",
       "</table>\n",
       "</div>"
      ],
      "text/plain": [
       "   type      id subreddit.id subreddit.name  subreddit.nsfw  created_utc  \\\n",
       "0  post  ftbp1i        2qh72          jokes           False   1585785543   \n",
       "1  post  ftboup        2qh72          jokes           False   1585785522   \n",
       "2  post  ftbopj        2qh72          jokes           False   1585785508   \n",
       "3  post  ftbnxh        2qh72          jokes           False   1585785428   \n",
       "4  post  ftbjpg        2qh72          jokes           False   1585785009   \n",
       "\n",
       "                                           permalink      domain  url  \\\n",
       "0  https://old.reddit.com/r/Jokes/comments/ftbp1i...  self.jokes  NaN   \n",
       "1  https://old.reddit.com/r/Jokes/comments/ftboup...  self.jokes  NaN   \n",
       "2  https://old.reddit.com/r/Jokes/comments/ftbopj...  self.jokes  NaN   \n",
       "3  https://old.reddit.com/r/Jokes/comments/ftbnxh...  self.jokes  NaN   \n",
       "4  https://old.reddit.com/r/Jokes/comments/ftbjpg...  self.jokes  NaN   \n",
       "\n",
       "                                            selftext  \\\n",
       "0  My corona is covered with foreskin so it is no...   \n",
       "1                         It's called Google Sheets.   \n",
       "2  The vacuum doesn't snore after sex.\\n\\n&amp;#x...   \n",
       "3                                          [removed]   \n",
       "4                                          [removed]   \n",
       "\n",
       "                                               title  score  \n",
       "0               I am soooo glad I'm not circumcised!      2  \n",
       "1  Did you know Google now has a platform for rec...      9  \n",
       "2  What is the difference between my wife and my ...     15  \n",
       "3                              My last joke for now.      9  \n",
       "4              The Nintendo 64 turns 18 this week...    134  "
      ]
     },
     "execution_count": 4,
     "metadata": {},
     "output_type": "execute_result"
    }
   ],
   "source": [
    "# examine the data\n",
    "df.head()"
   ]
  },
  {
   "cell_type": "code",
   "execution_count": 5,
   "id": "54da804b",
   "metadata": {
    "scrolled": false
   },
   "outputs": [
    {
     "data": {
      "text/plain": [
       "(1000000, 12)"
      ]
     },
     "execution_count": 5,
     "metadata": {},
     "output_type": "execute_result"
    }
   ],
   "source": [
    "df.shape"
   ]
  },
  {
   "cell_type": "code",
   "execution_count": 6,
   "id": "5e176074",
   "metadata": {
    "scrolled": true
   },
   "outputs": [
    {
     "name": "stdout",
     "output_type": "stream",
     "text": [
      "<class 'pandas.core.frame.DataFrame'>\n",
      "RangeIndex: 1000000 entries, 0 to 999999\n",
      "Data columns (total 12 columns):\n",
      " #   Column          Non-Null Count    Dtype \n",
      "---  ------          --------------    ----- \n",
      " 0   type            1000000 non-null  object\n",
      " 1   id              1000000 non-null  object\n",
      " 2   subreddit.id    1000000 non-null  object\n",
      " 3   subreddit.name  1000000 non-null  object\n",
      " 4   subreddit.nsfw  1000000 non-null  bool  \n",
      " 5   created_utc     1000000 non-null  int64 \n",
      " 6   permalink       1000000 non-null  object\n",
      " 7   domain          1000000 non-null  object\n",
      " 8   url             4472 non-null     object\n",
      " 9   selftext        995525 non-null   object\n",
      " 10  title           1000000 non-null  object\n",
      " 11  score           1000000 non-null  int64 \n",
      "dtypes: bool(1), int64(2), object(9)\n",
      "memory usage: 84.9+ MB\n"
     ]
    }
   ],
   "source": [
    "df.info()"
   ]
  },
  {
   "cell_type": "code",
   "execution_count": 40,
   "id": "6634aba8",
   "metadata": {},
   "outputs": [],
   "source": [
    "# boolean masks\n",
    "\n",
    "# where selftext isnull\n",
    "no_punchline = df['selftext'].isnull()\n",
    "# where title or post were removed by reddit user/mod\n",
    "removed = (df['selftext'] == '[removed]') | (df['title'] == '[removed]')\n",
    "# where tile or post were deleted by the original poster\n",
    "deleted = (df['selftext'] == '[deleted]') | (df['title'] == '[deleted]')\n",
    "# where upvotes is 0 (reddit automatically provides user 1 upvote)\n",
    "at_0 = df['score'] == 0\n",
    "# where upvotes is 1\n",
    "at_1 = df['score'] == 1\n",
    "# where upvotes > 1 less than or equal to 10\n",
    "over_1_to_10 = (df['score'] > 1) & (df['score'] <= 10)\n",
    "# where upvotes >10 but less than or equal to 50\n",
    "over_10_to_50 = (df['score'] > 10) & (df['score'] <= 50)\n",
    "# where joke has at least fifty upvotes but less than or equal to 500\n",
    "over_50_to_500 = (df['score'] > 50) & (df['score'] <= 500)\n",
    "# where joke has at least 500 upvotes but less than or equal to 1000\n",
    "over_500_to_1000 = (df['score'] > 500) & (df['score'] <= 1000)\n",
    "# where joke has more than 1000 or but less than or equal to 9000\n",
    "over_1000_to_9000 = (df['score'] > 1000) & (df['score'] <= 9000)\n",
    "# joke is over 9000\n",
    "over_9000 = df['score'] > 9000"
   ]
  },
  {
   "cell_type": "code",
   "execution_count": 8,
   "id": "ceea2142",
   "metadata": {
    "scrolled": true
   },
   "outputs": [
    {
     "name": "stderr",
     "output_type": "stream",
     "text": [
      "<ipython-input-8-cf863a65bca4>:2: UserWarning: Boolean Series key will be reindexed to match DataFrame index.\n",
      "  df_cleaned = df[~removed][~deleted]\n"
     ]
    },
    {
     "data": {
      "text/plain": [
       "(578634, 12)"
      ]
     },
     "execution_count": 8,
     "metadata": {},
     "output_type": "execute_result"
    }
   ],
   "source": [
    "# get entries that aren't removed or deleted\n",
    "df_cleaned = df[~removed][~deleted]\n",
    "df_cleaned.shape"
   ]
  },
  {
   "cell_type": "code",
   "execution_count": 37,
   "id": "b3885a70",
   "metadata": {},
   "outputs": [],
   "source": [
    "# making unix created_times into readable timestamps\n",
    "def make_tz_timestamp(unix_ts, tz='US/Eastern'):\n",
    "    from datetime import datetime\n",
    "    import pytz\n",
    "    timezone = pytz.timezone(tz)\n",
    "    # convert unix utc to timestamp utc\n",
    "    ts = datetime.utcfromtimestamp(unix_ts)\n",
    "    # return is to that it is tz-aware\n",
    "    #return timezone.localize(ts)\n",
    "    return ts"
   ]
  },
  {
   "cell_type": "code",
   "execution_count": 38,
   "id": "17e6e06d",
   "metadata": {},
   "outputs": [],
   "source": [
    "df_cleaned['created_at'] = df_cleaned['created_utc'].apply(lambda x: make_tz_timestamp(x))"
   ]
  },
  {
   "cell_type": "code",
   "execution_count": 39,
   "id": "12c0266e",
   "metadata": {},
   "outputs": [
    {
     "name": "stdout",
     "output_type": "stream",
     "text": [
      "2015-03-26 19:05:21\n",
      "2020-04-01 23:59:03\n",
      "time elapsed: 1833 days 04:53:42\n"
     ]
    }
   ],
   "source": [
    "# check time span of jokes\n",
    "start_date, end_date = min(df_cleaned['created_at']), max(df_cleaned['created_at'])\n",
    "print(start_date)\n",
    "print(end_date)\n",
    "elapsed_time = end_date - start_date\n",
    "print('time elapsed: {}'.format(elapsed_time))"
   ]
  },
  {
   "cell_type": "code",
   "execution_count": 43,
   "id": "a6080dff",
   "metadata": {},
   "outputs": [
    {
     "name": "stderr",
     "output_type": "stream",
     "text": [
      "<ipython-input-43-b617e38cb02f>:2: UserWarning: Boolean Series key will be reindexed to match DataFrame index.\n",
      "  bad_jokes_df = df_cleaned[at_0]\n",
      "<ipython-input-43-b617e38cb02f>:4: UserWarning: Boolean Series key will be reindexed to match DataFrame index.\n",
      "  ignored_jokes_df = df_cleaned[at_1]\n",
      "<ipython-input-43-b617e38cb02f>:6: UserWarning: Boolean Series key will be reindexed to match DataFrame index.\n",
      "  poor_jokes_df = df_cleaned[over_1_to_10]\n"
     ]
    },
    {
     "name": "stdout",
     "output_type": "stream",
     "text": [
      "bad:  117358\n",
      "ignored:  57405\n",
      "poor:  219853\n"
     ]
    },
    {
     "name": "stderr",
     "output_type": "stream",
     "text": [
      "<ipython-input-43-b617e38cb02f>:8: UserWarning: Boolean Series key will be reindexed to match DataFrame index.\n",
      "  mediocre_jokes_df = df_cleaned[over_10_to_50]\n",
      "<ipython-input-43-b617e38cb02f>:10: UserWarning: Boolean Series key will be reindexed to match DataFrame index.\n",
      "  average_jokes_df = df_cleaned[over_50_to_500]\n",
      "<ipython-input-43-b617e38cb02f>:12: UserWarning: Boolean Series key will be reindexed to match DataFrame index.\n",
      "  good_jokes_df = df_cleaned[over_500_to_1000]\n"
     ]
    },
    {
     "name": "stdout",
     "output_type": "stream",
     "text": [
      "mediocre:  107003\n",
      "average:  57381\n",
      "good:  6786\n",
      "great:  9117\n",
      "best:  3731\n"
     ]
    },
    {
     "name": "stderr",
     "output_type": "stream",
     "text": [
      "<ipython-input-43-b617e38cb02f>:14: UserWarning: Boolean Series key will be reindexed to match DataFrame index.\n",
      "  great_jokes_df = df_cleaned[over_1000_to_9000]\n",
      "<ipython-input-43-b617e38cb02f>:16: UserWarning: Boolean Series key will be reindexed to match DataFrame index.\n",
      "  best_jokes_df = df_cleaned[over_9000]\n"
     ]
    }
   ],
   "source": [
    "# filter dfs and check their sizes\n",
    "bad_jokes_df = df_cleaned[at_0]\n",
    "print('bad: ', len(bad_jokes_df))\n",
    "ignored_jokes_df = df_cleaned[at_1]\n",
    "print('ignored: ', len(ignored_jokes_df))\n",
    "poor_jokes_df = df_cleaned[over_1_to_10]\n",
    "print('poor: ', len(poor_jokes_df))\n",
    "mediocre_jokes_df = df_cleaned[over_10_to_50]\n",
    "print('mediocre: ', len(mediocre_jokes_df))\n",
    "average_jokes_df = df_cleaned[over_50_to_500]\n",
    "print('average: ', len(average_jokes_df))\n",
    "good_jokes_df = df_cleaned[over_500_to_1000]\n",
    "print('good: ', len(good_jokes_df))\n",
    "great_jokes_df = df_cleaned[over_1000_to_9000]\n",
    "print('great: ', len(great_jokes_df))\n",
    "best_jokes_df = df_cleaned[over_9000]\n",
    "print('best: ', len(best_jokes_df))"
   ]
  },
  {
   "cell_type": "code",
   "execution_count": 42,
   "id": "e2e61001",
   "metadata": {},
   "outputs": [
    {
     "data": {
      "text/plain": [
       "117358"
      ]
     },
     "execution_count": 42,
     "metadata": {},
     "output_type": "execute_result"
    }
   ],
   "source": [
    "len(bad_jokes_df)"
   ]
  },
  {
   "cell_type": "code",
   "execution_count": null,
   "id": "9892c57e",
   "metadata": {},
   "outputs": [],
   "source": [
    "len()"
   ]
  }
 ],
 "metadata": {
  "kernelspec": {
   "display_name": "Python 3",
   "language": "python",
   "name": "python3"
  },
  "language_info": {
   "codemirror_mode": {
    "name": "ipython",
    "version": 3
   },
   "file_extension": ".py",
   "mimetype": "text/x-python",
   "name": "python",
   "nbconvert_exporter": "python",
   "pygments_lexer": "ipython3",
   "version": "3.9.4"
  }
 },
 "nbformat": 4,
 "nbformat_minor": 5
}
