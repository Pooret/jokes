{
  "cells": [
    {
      "cell_type": "markdown",
      "metadata": {
        "id": "view-in-github",
        "colab_type": "text"
      },
      "source": [
        "<a href=\"https://colab.research.google.com/github/Pooret/jokes/blob/main/jokes.ipynb\" target=\"_parent\"><img src=\"https://colab.research.google.com/assets/colab-badge.svg\" alt=\"Open In Colab\"/></a>"
      ]
    },
    {
      "cell_type": "code",
      "execution_count": 1,
      "id": "27c1ebb4",
      "metadata": {
        "id": "27c1ebb4"
      },
      "outputs": [],
      "source": [
        "# imports\n",
        "import pandas as pd\n",
        "import numpy as np\n",
        "import matplotlib.pyplot as plt\n",
        "import seaborn as sns\n",
        "from tqdm import tqdm\n",
        "\n",
        "import warnings\n",
        "warnings.filterwarnings('ignore')\n",
        "\n",
        "# custom functions\n",
        "from utils import evaluate_model, populate_pos_class"
      ]
    },
    {
      "cell_type": "markdown",
      "id": "9e53f1e0",
      "metadata": {
        "id": "9e53f1e0"
      },
      "source": [
        "### Read-in and explore the dataset"
      ]
    },
    {
      "cell_type": "code",
      "execution_count": 2,
      "id": "4eaa6dc4",
      "metadata": {
        "id": "4eaa6dc4"
      },
      "outputs": [],
      "source": [
        "# extract the data\n",
        "df = pd.read_csv('https://query.data.world/s/htrdsouy327xqa4w457qx6k6sjtj6r')"
      ]
    },
    {
      "cell_type": "code",
      "execution_count": 3,
      "id": "b0c78473",
      "metadata": {
        "colab": {
          "base_uri": "https://localhost:8080/",
          "height": 206
        },
        "id": "b0c78473",
        "outputId": "9501f16a-9dfb-4838-b624-8d43f125d4b3"
      },
      "outputs": [
        {
          "output_type": "execute_result",
          "data": {
            "text/plain": [
              "   type      id subreddit.id subreddit.name  subreddit.nsfw  created_utc  \\\n",
              "0  post  ftbp1i        2qh72          jokes           False   1585785543   \n",
              "1  post  ftboup        2qh72          jokes           False   1585785522   \n",
              "2  post  ftbopj        2qh72          jokes           False   1585785508   \n",
              "3  post  ftbnxh        2qh72          jokes           False   1585785428   \n",
              "4  post  ftbjpg        2qh72          jokes           False   1585785009   \n",
              "\n",
              "                                           permalink      domain  url  \\\n",
              "0  https://old.reddit.com/r/Jokes/comments/ftbp1i...  self.jokes  NaN   \n",
              "1  https://old.reddit.com/r/Jokes/comments/ftboup...  self.jokes  NaN   \n",
              "2  https://old.reddit.com/r/Jokes/comments/ftbopj...  self.jokes  NaN   \n",
              "3  https://old.reddit.com/r/Jokes/comments/ftbnxh...  self.jokes  NaN   \n",
              "4  https://old.reddit.com/r/Jokes/comments/ftbjpg...  self.jokes  NaN   \n",
              "\n",
              "                                            selftext  \\\n",
              "0  My corona is covered with foreskin so it is no...   \n",
              "1                         It's called Google Sheets.   \n",
              "2  The vacuum doesn't snore after sex.\\n\\n&amp;#x...   \n",
              "3                                          [removed]   \n",
              "4                                          [removed]   \n",
              "\n",
              "                                               title  score  \n",
              "0               I am soooo glad I'm not circumcised!      2  \n",
              "1  Did you know Google now has a platform for rec...      9  \n",
              "2  What is the difference between my wife and my ...     15  \n",
              "3                              My last joke for now.      9  \n",
              "4              The Nintendo 64 turns 18 this week...    134  "
            ],
            "text/html": [
              "\n",
              "  <div id=\"df-92b5e902-e314-4dd4-985e-6ce1db779a0a\">\n",
              "    <div class=\"colab-df-container\">\n",
              "      <div>\n",
              "<style scoped>\n",
              "    .dataframe tbody tr th:only-of-type {\n",
              "        vertical-align: middle;\n",
              "    }\n",
              "\n",
              "    .dataframe tbody tr th {\n",
              "        vertical-align: top;\n",
              "    }\n",
              "\n",
              "    .dataframe thead th {\n",
              "        text-align: right;\n",
              "    }\n",
              "</style>\n",
              "<table border=\"1\" class=\"dataframe\">\n",
              "  <thead>\n",
              "    <tr style=\"text-align: right;\">\n",
              "      <th></th>\n",
              "      <th>type</th>\n",
              "      <th>id</th>\n",
              "      <th>subreddit.id</th>\n",
              "      <th>subreddit.name</th>\n",
              "      <th>subreddit.nsfw</th>\n",
              "      <th>created_utc</th>\n",
              "      <th>permalink</th>\n",
              "      <th>domain</th>\n",
              "      <th>url</th>\n",
              "      <th>selftext</th>\n",
              "      <th>title</th>\n",
              "      <th>score</th>\n",
              "    </tr>\n",
              "  </thead>\n",
              "  <tbody>\n",
              "    <tr>\n",
              "      <th>0</th>\n",
              "      <td>post</td>\n",
              "      <td>ftbp1i</td>\n",
              "      <td>2qh72</td>\n",
              "      <td>jokes</td>\n",
              "      <td>False</td>\n",
              "      <td>1585785543</td>\n",
              "      <td>https://old.reddit.com/r/Jokes/comments/ftbp1i...</td>\n",
              "      <td>self.jokes</td>\n",
              "      <td>NaN</td>\n",
              "      <td>My corona is covered with foreskin so it is no...</td>\n",
              "      <td>I am soooo glad I'm not circumcised!</td>\n",
              "      <td>2</td>\n",
              "    </tr>\n",
              "    <tr>\n",
              "      <th>1</th>\n",
              "      <td>post</td>\n",
              "      <td>ftboup</td>\n",
              "      <td>2qh72</td>\n",
              "      <td>jokes</td>\n",
              "      <td>False</td>\n",
              "      <td>1585785522</td>\n",
              "      <td>https://old.reddit.com/r/Jokes/comments/ftboup...</td>\n",
              "      <td>self.jokes</td>\n",
              "      <td>NaN</td>\n",
              "      <td>It's called Google Sheets.</td>\n",
              "      <td>Did you know Google now has a platform for rec...</td>\n",
              "      <td>9</td>\n",
              "    </tr>\n",
              "    <tr>\n",
              "      <th>2</th>\n",
              "      <td>post</td>\n",
              "      <td>ftbopj</td>\n",
              "      <td>2qh72</td>\n",
              "      <td>jokes</td>\n",
              "      <td>False</td>\n",
              "      <td>1585785508</td>\n",
              "      <td>https://old.reddit.com/r/Jokes/comments/ftbopj...</td>\n",
              "      <td>self.jokes</td>\n",
              "      <td>NaN</td>\n",
              "      <td>The vacuum doesn't snore after sex.\\n\\n&amp;amp;#x...</td>\n",
              "      <td>What is the difference between my wife and my ...</td>\n",
              "      <td>15</td>\n",
              "    </tr>\n",
              "    <tr>\n",
              "      <th>3</th>\n",
              "      <td>post</td>\n",
              "      <td>ftbnxh</td>\n",
              "      <td>2qh72</td>\n",
              "      <td>jokes</td>\n",
              "      <td>False</td>\n",
              "      <td>1585785428</td>\n",
              "      <td>https://old.reddit.com/r/Jokes/comments/ftbnxh...</td>\n",
              "      <td>self.jokes</td>\n",
              "      <td>NaN</td>\n",
              "      <td>[removed]</td>\n",
              "      <td>My last joke for now.</td>\n",
              "      <td>9</td>\n",
              "    </tr>\n",
              "    <tr>\n",
              "      <th>4</th>\n",
              "      <td>post</td>\n",
              "      <td>ftbjpg</td>\n",
              "      <td>2qh72</td>\n",
              "      <td>jokes</td>\n",
              "      <td>False</td>\n",
              "      <td>1585785009</td>\n",
              "      <td>https://old.reddit.com/r/Jokes/comments/ftbjpg...</td>\n",
              "      <td>self.jokes</td>\n",
              "      <td>NaN</td>\n",
              "      <td>[removed]</td>\n",
              "      <td>The Nintendo 64 turns 18 this week...</td>\n",
              "      <td>134</td>\n",
              "    </tr>\n",
              "  </tbody>\n",
              "</table>\n",
              "</div>\n",
              "      <button class=\"colab-df-convert\" onclick=\"convertToInteractive('df-92b5e902-e314-4dd4-985e-6ce1db779a0a')\"\n",
              "              title=\"Convert this dataframe to an interactive table.\"\n",
              "              style=\"display:none;\">\n",
              "        \n",
              "  <svg xmlns=\"http://www.w3.org/2000/svg\" height=\"24px\"viewBox=\"0 0 24 24\"\n",
              "       width=\"24px\">\n",
              "    <path d=\"M0 0h24v24H0V0z\" fill=\"none\"/>\n",
              "    <path d=\"M18.56 5.44l.94 2.06.94-2.06 2.06-.94-2.06-.94-.94-2.06-.94 2.06-2.06.94zm-11 1L8.5 8.5l.94-2.06 2.06-.94-2.06-.94L8.5 2.5l-.94 2.06-2.06.94zm10 10l.94 2.06.94-2.06 2.06-.94-2.06-.94-.94-2.06-.94 2.06-2.06.94z\"/><path d=\"M17.41 7.96l-1.37-1.37c-.4-.4-.92-.59-1.43-.59-.52 0-1.04.2-1.43.59L10.3 9.45l-7.72 7.72c-.78.78-.78 2.05 0 2.83L4 21.41c.39.39.9.59 1.41.59.51 0 1.02-.2 1.41-.59l7.78-7.78 2.81-2.81c.8-.78.8-2.07 0-2.86zM5.41 20L4 18.59l7.72-7.72 1.47 1.35L5.41 20z\"/>\n",
              "  </svg>\n",
              "      </button>\n",
              "      \n",
              "  <style>\n",
              "    .colab-df-container {\n",
              "      display:flex;\n",
              "      flex-wrap:wrap;\n",
              "      gap: 12px;\n",
              "    }\n",
              "\n",
              "    .colab-df-convert {\n",
              "      background-color: #E8F0FE;\n",
              "      border: none;\n",
              "      border-radius: 50%;\n",
              "      cursor: pointer;\n",
              "      display: none;\n",
              "      fill: #1967D2;\n",
              "      height: 32px;\n",
              "      padding: 0 0 0 0;\n",
              "      width: 32px;\n",
              "    }\n",
              "\n",
              "    .colab-df-convert:hover {\n",
              "      background-color: #E2EBFA;\n",
              "      box-shadow: 0px 1px 2px rgba(60, 64, 67, 0.3), 0px 1px 3px 1px rgba(60, 64, 67, 0.15);\n",
              "      fill: #174EA6;\n",
              "    }\n",
              "\n",
              "    [theme=dark] .colab-df-convert {\n",
              "      background-color: #3B4455;\n",
              "      fill: #D2E3FC;\n",
              "    }\n",
              "\n",
              "    [theme=dark] .colab-df-convert:hover {\n",
              "      background-color: #434B5C;\n",
              "      box-shadow: 0px 1px 3px 1px rgba(0, 0, 0, 0.15);\n",
              "      filter: drop-shadow(0px 1px 2px rgba(0, 0, 0, 0.3));\n",
              "      fill: #FFFFFF;\n",
              "    }\n",
              "  </style>\n",
              "\n",
              "      <script>\n",
              "        const buttonEl =\n",
              "          document.querySelector('#df-92b5e902-e314-4dd4-985e-6ce1db779a0a button.colab-df-convert');\n",
              "        buttonEl.style.display =\n",
              "          google.colab.kernel.accessAllowed ? 'block' : 'none';\n",
              "\n",
              "        async function convertToInteractive(key) {\n",
              "          const element = document.querySelector('#df-92b5e902-e314-4dd4-985e-6ce1db779a0a');\n",
              "          const dataTable =\n",
              "            await google.colab.kernel.invokeFunction('convertToInteractive',\n",
              "                                                     [key], {});\n",
              "          if (!dataTable) return;\n",
              "\n",
              "          const docLinkHtml = 'Like what you see? Visit the ' +\n",
              "            '<a target=\"_blank\" href=https://colab.research.google.com/notebooks/data_table.ipynb>data table notebook</a>'\n",
              "            + ' to learn more about interactive tables.';\n",
              "          element.innerHTML = '';\n",
              "          dataTable['output_type'] = 'display_data';\n",
              "          await google.colab.output.renderOutput(dataTable, element);\n",
              "          const docLink = document.createElement('div');\n",
              "          docLink.innerHTML = docLinkHtml;\n",
              "          element.appendChild(docLink);\n",
              "        }\n",
              "      </script>\n",
              "    </div>\n",
              "  </div>\n",
              "  "
            ]
          },
          "metadata": {},
          "execution_count": 3
        }
      ],
      "source": [
        "# examine the data\n",
        "df.head()"
      ]
    },
    {
      "cell_type": "code",
      "execution_count": 4,
      "id": "54da804b",
      "metadata": {
        "scrolled": false,
        "colab": {
          "base_uri": "https://localhost:8080/"
        },
        "id": "54da804b",
        "outputId": "a2a70c1e-4cbc-4f52-e15c-d3d927b746dc"
      },
      "outputs": [
        {
          "output_type": "execute_result",
          "data": {
            "text/plain": [
              "(1000000, 12)"
            ]
          },
          "metadata": {},
          "execution_count": 4
        }
      ],
      "source": [
        "df.shape"
      ]
    },
    {
      "cell_type": "code",
      "execution_count": 5,
      "id": "5e176074",
      "metadata": {
        "scrolled": true,
        "colab": {
          "base_uri": "https://localhost:8080/"
        },
        "id": "5e176074",
        "outputId": "c833fe64-c4b2-4277-d2a9-66838da02140"
      },
      "outputs": [
        {
          "output_type": "execute_result",
          "data": {
            "text/plain": [
              "count    1000000.000000\n",
              "mean         139.691119\n",
              "std         1674.046005\n",
              "min            0.000000\n",
              "25%            0.000000\n",
              "50%            1.000000\n",
              "75%            7.000000\n",
              "max       142733.000000\n",
              "Name: score, dtype: float64"
            ]
          },
          "metadata": {},
          "execution_count": 5
        }
      ],
      "source": [
        "df['score'].describe()"
      ]
    },
    {
      "cell_type": "code",
      "execution_count": 6,
      "id": "3b7e6a65",
      "metadata": {
        "id": "3b7e6a65"
      },
      "outputs": [],
      "source": [
        "# define some parameters \n",
        "CLASS_SIZE = len(df[df['score'] == 0]) // 3\n",
        "TRAIN_SIZE = 0.95\n",
        "#MIN_UPVOTES = 1000"
      ]
    },
    {
      "cell_type": "code",
      "execution_count": 7,
      "id": "6634aba8",
      "metadata": {
        "id": "6634aba8"
      },
      "outputs": [],
      "source": [
        "# boolean masks\n",
        "\n",
        "# where selftext isnull (no punchline)\n",
        "is_null = df['selftext'].isnull()\n",
        "\n",
        "# where title or post were removed by reddit user/mod\n",
        "removed = (df['selftext'] == '[removed]') | (df['title'] == '[removed]')\n",
        "\n",
        "# where tile or post were deleted by the original poster\n",
        "deleted = (df['selftext'] == '[deleted]') | (df['title'] == '[deleted]')\n",
        "\n",
        "# where upvotes is 0 (reddit automatically provides user 1 upvote)\n",
        "neg_class = df['score'] == 0"
      ]
    },
    {
      "cell_type": "code",
      "execution_count": 8,
      "id": "ceea2142",
      "metadata": {
        "scrolled": true,
        "colab": {
          "base_uri": "https://localhost:8080/"
        },
        "id": "ceea2142",
        "outputId": "952777ee-5369-4389-bd72-4fdea61f8618"
      },
      "outputs": [
        {
          "output_type": "execute_result",
          "data": {
            "text/plain": [
              "(578634, 12)"
            ]
          },
          "metadata": {},
          "execution_count": 8
        }
      ],
      "source": [
        "# get entries that aren't removed or deleted\n",
        "df_cleaned = df[~removed][~deleted]\n",
        "df_cleaned.shape"
      ]
    },
    {
      "cell_type": "code",
      "execution_count": 9,
      "id": "4f129ae6",
      "metadata": {
        "colab": {
          "base_uri": "https://localhost:8080/"
        },
        "id": "4f129ae6",
        "outputId": "6445813d-53fe-489d-f675-e1606db2175c"
      },
      "outputs": [
        {
          "output_type": "stream",
          "name": "stdout",
          "text": [
            "409626 samples match\n"
          ]
        }
      ],
      "source": [
        "# Filter entries that are short, but meet other necessary criteria\n",
        "# # remove unnecessary whitespace \n",
        "df_cleaned[['selftext', 'title']] = df_cleaned[['selftext', 'title']].applymap(lambda x:\" \".join(str(x).split()))\n",
        "df_cleaned['selftext_len'] = df_cleaned['selftext'].str.len()\n",
        "df_cleaned['title_len'] = df_cleaned['title'].str.len()\n",
        "\n",
        "# boolean masks\n",
        "title_window = (df_cleaned['title_len'] > 0) & (df_cleaned['title_len'] < 500)\n",
        "selftext_window = (df_cleaned['selftext_len'] > 0) & (df_cleaned['selftext_len'] < 500)\n",
        "\n",
        "# apply masks to filter\n",
        "df_cleaned = df_cleaned[selftext_window & title_window]\n",
        "print(f\"{len(df_cleaned[~neg_class])} samples match\")"
      ]
    },
    {
      "cell_type": "code",
      "execution_count": 10,
      "id": "f7db294c",
      "metadata": {
        "colab": {
          "base_uri": "https://localhost:8080/"
        },
        "id": "f7db294c",
        "outputId": "1b923042-3058-4f29-8a04-0113d568f2e5"
      },
      "outputs": [
        {
          "output_type": "stream",
          "name": "stderr",
          "text": [
            "100%|██████████| 1495/1495 [00:36<00:00, 40.52it/s]"
          ]
        },
        {
          "output_type": "stream",
          "name": "stdout",
          "text": [
            "WARNING, CURRENT PARAMETERS RESULT IN CLASS SIZE REDUCTION\n",
            "desired size 87126\n",
            "current size 86259\n"
          ]
        },
        {
          "output_type": "stream",
          "name": "stderr",
          "text": [
            "\n"
          ]
        }
      ],
      "source": [
        "# returns boolean mask and updated_class sizes for binary classification.\n",
        "# boolean mask is for instances in the positive class that meet arguments\n",
        "\n",
        "pos_class_mask, updated_class_size = populate_pos_class(df_cleaned, 5, 1500, CLASS_SIZE)"
      ]
    },
    {
      "cell_type": "markdown",
      "id": "03a21055",
      "metadata": {
        "id": "03a21055"
      },
      "source": [
        "### Make the positive and negative class labels and concatenate the dataframe"
      ]
    },
    {
      "cell_type": "code",
      "execution_count": 11,
      "id": "6b07ee9e",
      "metadata": {
        "scrolled": true,
        "colab": {
          "base_uri": "https://localhost:8080/",
          "height": 143
        },
        "id": "6b07ee9e",
        "outputId": "b4442dd3-99f3-45ef-adaf-0ca769339b8e"
      },
      "outputs": [
        {
          "output_type": "execute_result",
          "data": {
            "text/plain": [
              "          count         mean          std   min   25%   50%    75%       max\n",
              "target                                                                      \n",
              "False   86259.0     0.000000     0.000000   0.0   0.0   0.0    0.0       0.0\n",
              "True    86259.0  1144.099781  4771.478846  28.0  46.0  92.0  283.0  142733.0"
            ],
            "text/html": [
              "\n",
              "  <div id=\"df-02c61523-0242-4e2e-a827-ef89ce153ae2\">\n",
              "    <div class=\"colab-df-container\">\n",
              "      <div>\n",
              "<style scoped>\n",
              "    .dataframe tbody tr th:only-of-type {\n",
              "        vertical-align: middle;\n",
              "    }\n",
              "\n",
              "    .dataframe tbody tr th {\n",
              "        vertical-align: top;\n",
              "    }\n",
              "\n",
              "    .dataframe thead th {\n",
              "        text-align: right;\n",
              "    }\n",
              "</style>\n",
              "<table border=\"1\" class=\"dataframe\">\n",
              "  <thead>\n",
              "    <tr style=\"text-align: right;\">\n",
              "      <th></th>\n",
              "      <th>count</th>\n",
              "      <th>mean</th>\n",
              "      <th>std</th>\n",
              "      <th>min</th>\n",
              "      <th>25%</th>\n",
              "      <th>50%</th>\n",
              "      <th>75%</th>\n",
              "      <th>max</th>\n",
              "    </tr>\n",
              "    <tr>\n",
              "      <th>target</th>\n",
              "      <th></th>\n",
              "      <th></th>\n",
              "      <th></th>\n",
              "      <th></th>\n",
              "      <th></th>\n",
              "      <th></th>\n",
              "      <th></th>\n",
              "      <th></th>\n",
              "    </tr>\n",
              "  </thead>\n",
              "  <tbody>\n",
              "    <tr>\n",
              "      <th>False</th>\n",
              "      <td>86259.0</td>\n",
              "      <td>0.000000</td>\n",
              "      <td>0.000000</td>\n",
              "      <td>0.0</td>\n",
              "      <td>0.0</td>\n",
              "      <td>0.0</td>\n",
              "      <td>0.0</td>\n",
              "      <td>0.0</td>\n",
              "    </tr>\n",
              "    <tr>\n",
              "      <th>True</th>\n",
              "      <td>86259.0</td>\n",
              "      <td>1144.099781</td>\n",
              "      <td>4771.478846</td>\n",
              "      <td>28.0</td>\n",
              "      <td>46.0</td>\n",
              "      <td>92.0</td>\n",
              "      <td>283.0</td>\n",
              "      <td>142733.0</td>\n",
              "    </tr>\n",
              "  </tbody>\n",
              "</table>\n",
              "</div>\n",
              "      <button class=\"colab-df-convert\" onclick=\"convertToInteractive('df-02c61523-0242-4e2e-a827-ef89ce153ae2')\"\n",
              "              title=\"Convert this dataframe to an interactive table.\"\n",
              "              style=\"display:none;\">\n",
              "        \n",
              "  <svg xmlns=\"http://www.w3.org/2000/svg\" height=\"24px\"viewBox=\"0 0 24 24\"\n",
              "       width=\"24px\">\n",
              "    <path d=\"M0 0h24v24H0V0z\" fill=\"none\"/>\n",
              "    <path d=\"M18.56 5.44l.94 2.06.94-2.06 2.06-.94-2.06-.94-.94-2.06-.94 2.06-2.06.94zm-11 1L8.5 8.5l.94-2.06 2.06-.94-2.06-.94L8.5 2.5l-.94 2.06-2.06.94zm10 10l.94 2.06.94-2.06 2.06-.94-2.06-.94-.94-2.06-.94 2.06-2.06.94z\"/><path d=\"M17.41 7.96l-1.37-1.37c-.4-.4-.92-.59-1.43-.59-.52 0-1.04.2-1.43.59L10.3 9.45l-7.72 7.72c-.78.78-.78 2.05 0 2.83L4 21.41c.39.39.9.59 1.41.59.51 0 1.02-.2 1.41-.59l7.78-7.78 2.81-2.81c.8-.78.8-2.07 0-2.86zM5.41 20L4 18.59l7.72-7.72 1.47 1.35L5.41 20z\"/>\n",
              "  </svg>\n",
              "      </button>\n",
              "      \n",
              "  <style>\n",
              "    .colab-df-container {\n",
              "      display:flex;\n",
              "      flex-wrap:wrap;\n",
              "      gap: 12px;\n",
              "    }\n",
              "\n",
              "    .colab-df-convert {\n",
              "      background-color: #E8F0FE;\n",
              "      border: none;\n",
              "      border-radius: 50%;\n",
              "      cursor: pointer;\n",
              "      display: none;\n",
              "      fill: #1967D2;\n",
              "      height: 32px;\n",
              "      padding: 0 0 0 0;\n",
              "      width: 32px;\n",
              "    }\n",
              "\n",
              "    .colab-df-convert:hover {\n",
              "      background-color: #E2EBFA;\n",
              "      box-shadow: 0px 1px 2px rgba(60, 64, 67, 0.3), 0px 1px 3px 1px rgba(60, 64, 67, 0.15);\n",
              "      fill: #174EA6;\n",
              "    }\n",
              "\n",
              "    [theme=dark] .colab-df-convert {\n",
              "      background-color: #3B4455;\n",
              "      fill: #D2E3FC;\n",
              "    }\n",
              "\n",
              "    [theme=dark] .colab-df-convert:hover {\n",
              "      background-color: #434B5C;\n",
              "      box-shadow: 0px 1px 3px 1px rgba(0, 0, 0, 0.15);\n",
              "      filter: drop-shadow(0px 1px 2px rgba(0, 0, 0, 0.3));\n",
              "      fill: #FFFFFF;\n",
              "    }\n",
              "  </style>\n",
              "\n",
              "      <script>\n",
              "        const buttonEl =\n",
              "          document.querySelector('#df-02c61523-0242-4e2e-a827-ef89ce153ae2 button.colab-df-convert');\n",
              "        buttonEl.style.display =\n",
              "          google.colab.kernel.accessAllowed ? 'block' : 'none';\n",
              "\n",
              "        async function convertToInteractive(key) {\n",
              "          const element = document.querySelector('#df-02c61523-0242-4e2e-a827-ef89ce153ae2');\n",
              "          const dataTable =\n",
              "            await google.colab.kernel.invokeFunction('convertToInteractive',\n",
              "                                                     [key], {});\n",
              "          if (!dataTable) return;\n",
              "\n",
              "          const docLinkHtml = 'Like what you see? Visit the ' +\n",
              "            '<a target=\"_blank\" href=https://colab.research.google.com/notebooks/data_table.ipynb>data table notebook</a>'\n",
              "            + ' to learn more about interactive tables.';\n",
              "          element.innerHTML = '';\n",
              "          dataTable['output_type'] = 'display_data';\n",
              "          await google.colab.output.renderOutput(dataTable, element);\n",
              "          const docLink = document.createElement('div');\n",
              "          docLink.innerHTML = docLinkHtml;\n",
              "          element.appendChild(docLink);\n",
              "        }\n",
              "      </script>\n",
              "    </div>\n",
              "  </div>\n",
              "  "
            ]
          },
          "metadata": {},
          "execution_count": 11
        }
      ],
      "source": [
        "# create target label\n",
        "df_cleaned['target'] = pos_class_mask\n",
        "df_concat = pd.concat([df_cleaned[neg_class].sample(updated_class_size), df_cleaned[pos_class_mask]], axis=0)\n",
        "df_concat.groupby('target').describe()['score']"
      ]
    },
    {
      "cell_type": "markdown",
      "id": "0eaacdd7",
      "metadata": {
        "id": "0eaacdd7"
      },
      "source": [
        "### Examine Timeseries Data"
      ]
    },
    {
      "cell_type": "code",
      "execution_count": 12,
      "id": "49472f14",
      "metadata": {
        "colab": {
          "base_uri": "https://localhost:8080/",
          "height": 206
        },
        "id": "49472f14",
        "outputId": "6a2f31cf-02df-4254-9cc2-037898ff8b24"
      },
      "outputs": [
        {
          "output_type": "execute_result",
          "data": {
            "text/plain": [
              "                created_at                                              title  \\\n",
              "890768 2016-02-26 18:52:44                                The coolest letter.   \n",
              "454692 2018-02-26 22:24:42  I’ve seen online that you can get 20 .223 Remi...   \n",
              "11730  2020-03-17 18:32:09                                        Coronavirus   \n",
              "121082 2019-09-13 17:50:51              2 penguins are canoeing in the desert   \n",
              "859780 2016-05-21 01:22:58  What goes up a chimney down, but won't go down...   \n",
              "\n",
              "                                                 selftext  target  \n",
              "890768    Why is N the coolest letter? Because it's N.Ice   False  \n",
              "454692  It means I can take my wife and her three kids...   False  \n",
              "11730                        New meaning of batshit crazy   False  \n",
              "121082  One says: \"where's the paddle\" Other says: \"It...   False  \n",
              "859780                                       An umbrella!   False  "
            ],
            "text/html": [
              "\n",
              "  <div id=\"df-1d05c3a5-3540-47e5-89ca-e1b62c9d1458\">\n",
              "    <div class=\"colab-df-container\">\n",
              "      <div>\n",
              "<style scoped>\n",
              "    .dataframe tbody tr th:only-of-type {\n",
              "        vertical-align: middle;\n",
              "    }\n",
              "\n",
              "    .dataframe tbody tr th {\n",
              "        vertical-align: top;\n",
              "    }\n",
              "\n",
              "    .dataframe thead th {\n",
              "        text-align: right;\n",
              "    }\n",
              "</style>\n",
              "<table border=\"1\" class=\"dataframe\">\n",
              "  <thead>\n",
              "    <tr style=\"text-align: right;\">\n",
              "      <th></th>\n",
              "      <th>created_at</th>\n",
              "      <th>title</th>\n",
              "      <th>selftext</th>\n",
              "      <th>target</th>\n",
              "    </tr>\n",
              "  </thead>\n",
              "  <tbody>\n",
              "    <tr>\n",
              "      <th>890768</th>\n",
              "      <td>2016-02-26 18:52:44</td>\n",
              "      <td>The coolest letter.</td>\n",
              "      <td>Why is N the coolest letter? Because it's N.Ice</td>\n",
              "      <td>False</td>\n",
              "    </tr>\n",
              "    <tr>\n",
              "      <th>454692</th>\n",
              "      <td>2018-02-26 22:24:42</td>\n",
              "      <td>I’ve seen online that you can get 20 .223 Remi...</td>\n",
              "      <td>It means I can take my wife and her three kids...</td>\n",
              "      <td>False</td>\n",
              "    </tr>\n",
              "    <tr>\n",
              "      <th>11730</th>\n",
              "      <td>2020-03-17 18:32:09</td>\n",
              "      <td>Coronavirus</td>\n",
              "      <td>New meaning of batshit crazy</td>\n",
              "      <td>False</td>\n",
              "    </tr>\n",
              "    <tr>\n",
              "      <th>121082</th>\n",
              "      <td>2019-09-13 17:50:51</td>\n",
              "      <td>2 penguins are canoeing in the desert</td>\n",
              "      <td>One says: \"where's the paddle\" Other says: \"It...</td>\n",
              "      <td>False</td>\n",
              "    </tr>\n",
              "    <tr>\n",
              "      <th>859780</th>\n",
              "      <td>2016-05-21 01:22:58</td>\n",
              "      <td>What goes up a chimney down, but won't go down...</td>\n",
              "      <td>An umbrella!</td>\n",
              "      <td>False</td>\n",
              "    </tr>\n",
              "  </tbody>\n",
              "</table>\n",
              "</div>\n",
              "      <button class=\"colab-df-convert\" onclick=\"convertToInteractive('df-1d05c3a5-3540-47e5-89ca-e1b62c9d1458')\"\n",
              "              title=\"Convert this dataframe to an interactive table.\"\n",
              "              style=\"display:none;\">\n",
              "        \n",
              "  <svg xmlns=\"http://www.w3.org/2000/svg\" height=\"24px\"viewBox=\"0 0 24 24\"\n",
              "       width=\"24px\">\n",
              "    <path d=\"M0 0h24v24H0V0z\" fill=\"none\"/>\n",
              "    <path d=\"M18.56 5.44l.94 2.06.94-2.06 2.06-.94-2.06-.94-.94-2.06-.94 2.06-2.06.94zm-11 1L8.5 8.5l.94-2.06 2.06-.94-2.06-.94L8.5 2.5l-.94 2.06-2.06.94zm10 10l.94 2.06.94-2.06 2.06-.94-2.06-.94-.94-2.06-.94 2.06-2.06.94z\"/><path d=\"M17.41 7.96l-1.37-1.37c-.4-.4-.92-.59-1.43-.59-.52 0-1.04.2-1.43.59L10.3 9.45l-7.72 7.72c-.78.78-.78 2.05 0 2.83L4 21.41c.39.39.9.59 1.41.59.51 0 1.02-.2 1.41-.59l7.78-7.78 2.81-2.81c.8-.78.8-2.07 0-2.86zM5.41 20L4 18.59l7.72-7.72 1.47 1.35L5.41 20z\"/>\n",
              "  </svg>\n",
              "      </button>\n",
              "      \n",
              "  <style>\n",
              "    .colab-df-container {\n",
              "      display:flex;\n",
              "      flex-wrap:wrap;\n",
              "      gap: 12px;\n",
              "    }\n",
              "\n",
              "    .colab-df-convert {\n",
              "      background-color: #E8F0FE;\n",
              "      border: none;\n",
              "      border-radius: 50%;\n",
              "      cursor: pointer;\n",
              "      display: none;\n",
              "      fill: #1967D2;\n",
              "      height: 32px;\n",
              "      padding: 0 0 0 0;\n",
              "      width: 32px;\n",
              "    }\n",
              "\n",
              "    .colab-df-convert:hover {\n",
              "      background-color: #E2EBFA;\n",
              "      box-shadow: 0px 1px 2px rgba(60, 64, 67, 0.3), 0px 1px 3px 1px rgba(60, 64, 67, 0.15);\n",
              "      fill: #174EA6;\n",
              "    }\n",
              "\n",
              "    [theme=dark] .colab-df-convert {\n",
              "      background-color: #3B4455;\n",
              "      fill: #D2E3FC;\n",
              "    }\n",
              "\n",
              "    [theme=dark] .colab-df-convert:hover {\n",
              "      background-color: #434B5C;\n",
              "      box-shadow: 0px 1px 3px 1px rgba(0, 0, 0, 0.15);\n",
              "      filter: drop-shadow(0px 1px 2px rgba(0, 0, 0, 0.3));\n",
              "      fill: #FFFFFF;\n",
              "    }\n",
              "  </style>\n",
              "\n",
              "      <script>\n",
              "        const buttonEl =\n",
              "          document.querySelector('#df-1d05c3a5-3540-47e5-89ca-e1b62c9d1458 button.colab-df-convert');\n",
              "        buttonEl.style.display =\n",
              "          google.colab.kernel.accessAllowed ? 'block' : 'none';\n",
              "\n",
              "        async function convertToInteractive(key) {\n",
              "          const element = document.querySelector('#df-1d05c3a5-3540-47e5-89ca-e1b62c9d1458');\n",
              "          const dataTable =\n",
              "            await google.colab.kernel.invokeFunction('convertToInteractive',\n",
              "                                                     [key], {});\n",
              "          if (!dataTable) return;\n",
              "\n",
              "          const docLinkHtml = 'Like what you see? Visit the ' +\n",
              "            '<a target=\"_blank\" href=https://colab.research.google.com/notebooks/data_table.ipynb>data table notebook</a>'\n",
              "            + ' to learn more about interactive tables.';\n",
              "          element.innerHTML = '';\n",
              "          dataTable['output_type'] = 'display_data';\n",
              "          await google.colab.output.renderOutput(dataTable, element);\n",
              "          const docLink = document.createElement('div');\n",
              "          docLink.innerHTML = docLinkHtml;\n",
              "          element.appendChild(docLink);\n",
              "        }\n",
              "      </script>\n",
              "    </div>\n",
              "  </div>\n",
              "  "
            ]
          },
          "metadata": {},
          "execution_count": 12
        }
      ],
      "source": [
        "# making unix created_times into readable timestamps\n",
        "def make_tz_timestamp(unix_ts, tz='US/Eastern'):\n",
        "    from datetime import datetime\n",
        "    import pytz\n",
        "    timezone = pytz.timezone(tz)\n",
        "    # convert unix utc to timestamp utc\n",
        "    ts = datetime.utcfromtimestamp(unix_ts)\n",
        "    # return is to that it is tz-aware\n",
        "    #return timezone.localize(ts)\n",
        "    return ts\n",
        "\n",
        "df_concat['created_at'] = df_concat['created_utc'].apply(lambda x: make_tz_timestamp(x))\n",
        "df_concat[['created_at', 'title', 'selftext', 'target']].head()"
      ]
    },
    {
      "cell_type": "code",
      "execution_count": 13,
      "id": "1b5414d6",
      "metadata": {
        "scrolled": true,
        "colab": {
          "base_uri": "https://localhost:8080/",
          "height": 350
        },
        "id": "1b5414d6",
        "outputId": "178a2123-3791-4047-f6b7-8985b3cd592d"
      },
      "outputs": [
        {
          "output_type": "display_data",
          "data": {
            "text/plain": [
              "<Figure size 1080x360 with 1 Axes>"
            ],
            "image/png": "[encoded data removed]"
          },
          "metadata": {
            "needs_background": "light"
          }
        }
      ],
      "source": [
        "# plot submissions\n",
        "plt.figure(figsize=(15, 5))\n",
        "data_good = df_concat[df_concat['target']==True].set_index('created_at', drop=True).resample('W').count()\n",
        "data_bad = df_concat[df_concat['target']==False].set_index('created_at', drop=True).resample('W').count()\n",
        "sns.lineplot(x=data_good.index, y='type', data=data_good, label='funny')\n",
        "sns.lineplot(x=data_bad.index, y='type', data=data_bad, label='not funny')\n",
        "plt.title('Number of Submissions to r/jokes')\n",
        "plt.xlabel('date')\n",
        "plt.ylabel('number of submissions')\n",
        "plt.legend()\n",
        "plt.show()"
      ]
    },
    {
      "cell_type": "markdown",
      "id": "95c04b4e",
      "metadata": {
        "id": "95c04b4e"
      },
      "source": [
        "### Split into train/test"
      ]
    },
    {
      "cell_type": "code",
      "execution_count": 14,
      "id": "4bfc360d",
      "metadata": {
        "scrolled": false,
        "colab": {
          "base_uri": "https://localhost:8080/"
        },
        "id": "4bfc360d",
        "outputId": "73f74dd9-0263-4185-8f43-03f350700bcd"
      },
      "outputs": [
        {
          "output_type": "stream",
          "name": "stdout",
          "text": [
            "(163892, 16) (8626, 16)\n"
          ]
        }
      ],
      "source": [
        "# prepare the dataframe\n",
        "training_size = int(len(df_concat)*TRAIN_SIZE)\n",
        "df_concat_shuffled = df_concat.sample(len(df_concat)).reset_index(drop=True)\n",
        "df_concat_shuffled['selftext'] = df_concat_shuffled['selftext'].fillna(value='emptypunchline')\n",
        "train = df_concat_shuffled[:training_size]\n",
        "test = df_concat_shuffled[training_size:]\n",
        "print(train.shape, test.shape)"
      ]
    },
    {
      "cell_type": "markdown",
      "id": "2c9f4045",
      "metadata": {
        "id": "2c9f4045"
      },
      "source": [
        "### Text Preprocessing"
      ]
    },
    {
      "cell_type": "code",
      "execution_count": 15,
      "id": "9b860238",
      "metadata": {
        "scrolled": true,
        "colab": {
          "base_uri": "https://localhost:8080/"
        },
        "id": "9b860238",
        "outputId": "86995fb2-33c1-4795-c908-e4d71e0435a2"
      },
      "outputs": [
        {
          "output_type": "stream",
          "name": "stderr",
          "text": [
            "[nltk_data] Downloading package stopwords to /root/nltk_data...\n",
            "[nltk_data]   Package stopwords is already up-to-date!\n",
            "[nltk_data] Downloading package wordnet to /root/nltk_data...\n",
            "[nltk_data]   Package wordnet is already up-to-date!\n",
            "[nltk_data] Downloading package omw-1.4 to /root/nltk_data...\n",
            "[nltk_data]   Package omw-1.4 is already up-to-date!\n",
            "/usr/local/lib/python3.7/dist-packages/past/types/oldstr.py:5: DeprecationWarning: Using or importing the ABCs from 'collections' instead of from 'collections.abc' is deprecated since Python 3.3,and in 3.9 it will stop working\n",
            "  from collections import Iterable\n",
            "/usr/local/lib/python3.7/dist-packages/past/builtins/misc.py:4: DeprecationWarning: Using or importing the ABCs from 'collections' instead of from 'collections.abc' is deprecated since Python 3.3,and in 3.9 it will stop working\n",
            "  from collections import Mapping\n",
            "/usr/local/lib/python3.7/dist-packages/scipy/sparse/sparsetools.py:21: DeprecationWarning: `scipy.sparse.sparsetools` is deprecated!\n",
            "scipy.sparse.sparsetools is a private module for scipy.sparse, and should not be used.\n",
            "  _deprecated()\n"
          ]
        }
      ],
      "source": [
        "import re\n",
        "import spacy\n",
        "import nltk\n",
        "from nltk.stem import WordNetLemmatizer, SnowballStemmer\n",
        "from nltk.stem.porter import *\n",
        "\n",
        "nltk.download('stopwords')\n",
        "nltk.download('wordnet')\n",
        "nltk.download('omw-1.4')\n",
        "\n",
        "from nltk.corpus import stopwords\n",
        "stop_words = stopwords.words('english')\n",
        "\n",
        "from pprint import pprint\n",
        "\n",
        "import pyLDAvis\n",
        "import pyLDAvis.gensim_models as gensimvis\n",
        "\n",
        "import gensim\n",
        "from gensim.utils import simple_preprocess\n",
        "from gensim.models import CoherenceModel"
      ]
    },
    {
      "cell_type": "code",
      "source": [
        "# def clean_text(text):\n",
        "\n",
        "#   import re\n",
        "#   links = r\"(https?)\\S+\"\n",
        "#   html_encodings = r\"(\\&amp;|#x200B;)\"\n",
        "#   possessive_contractions = r\"(\\'|'|')\"\n",
        "\n",
        "#   text = re.sub(links, 'urllink', text)\n",
        "#   text = re.sub(html_encodings, ' ', text)\n",
        "#   text = re.sub(possessive_contractions, '', text)\n",
        "#   return text\n",
        "\n",
        "def preprocess(text):\n",
        "  result = []\n",
        "  for token in gensim.utils.simple_preprocess(text, deacc=True):\n",
        "      result.append(token)\n",
        "  return result"
      ],
      "metadata": {
        "id": "cLKZ4WG2f9G7"
      },
      "id": "cLKZ4WG2f9G7",
      "execution_count": 16,
      "outputs": []
    },
    {
      "cell_type": "code",
      "execution_count": 17,
      "id": "cf652f12",
      "metadata": {
        "id": "cf652f12"
      },
      "outputs": [],
      "source": [
        "train['all_text'] = train['title'] + \" \" + train['selftext']\n",
        "#train['processed'] = train['all_text'].apply(lambda x: clean_text(x))\n",
        "train['processed'] = train['all_text'].apply(lambda x: preprocess(x))"
      ]
    },
    {
      "cell_type": "markdown",
      "id": "f1aa5e47",
      "metadata": {
        "id": "f1aa5e47"
      },
      "source": [
        "### Topic Modeling"
      ]
    },
    {
      "cell_type": "code",
      "execution_count": 18,
      "id": "fbd0b08b",
      "metadata": {
        "scrolled": true,
        "id": "fbd0b08b"
      },
      "outputs": [],
      "source": [
        "funny_df = train[train['target'] == True]\n",
        "not_funny_df = train[train['target'] == False]\n",
        "\n",
        "processed_funny = funny_df['processed'].tolist()\n",
        "processed_not_funny = not_funny_df['processed'].tolist()\n",
        "\n",
        "funny_dictionary = gensim.corpora.Dictionary(processed_funny)\n",
        "not_funny_dictionary = gensim.corpora.Dictionary(processed_not_funny)"
      ]
    },
    {
      "cell_type": "code",
      "source": [
        "# bigram and trigram models\n",
        "bigram_funny = gensim.models.Phrases(processed_funny, min_count=5, threshold=100)\n",
        "bigram_not_funny = gensim.models.Phrases(processed_not_funny, min_count=5, threshold=100)\n",
        "\n",
        "trigram_funny = gensim.models.Phrases(bigram_funny[processed_funny], threshold=100)\n",
        "trigram_not_funny = gensim.models.Phrases(bigram_not_funny[processed_not_funny], threshold=100)"
      ],
      "metadata": {
        "id": "rOBIj6nwq-CC"
      },
      "id": "rOBIj6nwq-CC",
      "execution_count": 19,
      "outputs": []
    },
    {
      "cell_type": "code",
      "source": [
        "!python3 -m spacy download en_core_web_lg"
      ],
      "metadata": {
        "colab": {
          "base_uri": "https://localhost:8080/"
        },
        "id": "dJ6mleIGxVQJ",
        "outputId": "73ed78f2-2390-48dd-b3a8-b96cbebc18a0"
      },
      "id": "dJ6mleIGxVQJ",
      "execution_count": 20,
      "outputs": [
        {
          "output_type": "stream",
          "name": "stdout",
          "text": [
            "2022-08-15 19:03:17.194297: E tensorflow/stream_executor/cuda/cuda_driver.cc:271] failed call to cuInit: CUDA_ERROR_NO_DEVICE: no CUDA-capable device is detected\n",
            "Looking in indexes: https://pypi.org/simple, https://us-python.pkg.dev/colab-wheels/public/simple/\n",
            "Collecting en-core-web-lg==3.4.0\n",
            "  Downloading https://github.com/explosion/spacy-models/releases/download/en_core_web_lg-3.4.0/en_core_web_lg-3.4.0-py3-none-any.whl (587.7 MB)\n",
            "\u001b[K     |████████████████████████████████| 587.7 MB 7.6 kB/s \n",
            "\u001b[?25hRequirement already satisfied: spacy<3.5.0,>=3.4.0 in /usr/local/lib/python3.7/dist-packages (from en-core-web-lg==3.4.0) (3.4.1)\n",
            "Requirement already satisfied: numpy>=1.15.0 in /usr/local/lib/python3.7/dist-packages (from spacy<3.5.0,>=3.4.0->en-core-web-lg==3.4.0) (1.21.6)\n",
            "Requirement already satisfied: preshed<3.1.0,>=3.0.2 in /usr/local/lib/python3.7/dist-packages (from spacy<3.5.0,>=3.4.0->en-core-web-lg==3.4.0) (3.0.6)\n",
            "Requirement already satisfied: packaging>=20.0 in /usr/local/lib/python3.7/dist-packages (from spacy<3.5.0,>=3.4.0->en-core-web-lg==3.4.0) (21.3)\n",
            "Requirement already satisfied: jinja2 in /usr/local/lib/python3.7/dist-packages (from spacy<3.5.0,>=3.4.0->en-core-web-lg==3.4.0) (2.11.3)\n",
            "Requirement already satisfied: catalogue<2.1.0,>=2.0.6 in /usr/local/lib/python3.7/dist-packages (from spacy<3.5.0,>=3.4.0->en-core-web-lg==3.4.0) (2.0.8)\n",
            "Requirement already satisfied: tqdm<5.0.0,>=4.38.0 in /usr/local/lib/python3.7/dist-packages (from spacy<3.5.0,>=3.4.0->en-core-web-lg==3.4.0) (4.64.0)\n",
            "Requirement already satisfied: requests<3.0.0,>=2.13.0 in /usr/local/lib/python3.7/dist-packages (from spacy<3.5.0,>=3.4.0->en-core-web-lg==3.4.0) (2.23.0)\n",
            "Requirement already satisfied: pydantic!=1.8,!=1.8.1,<1.10.0,>=1.7.4 in /usr/local/lib/python3.7/dist-packages (from spacy<3.5.0,>=3.4.0->en-core-web-lg==3.4.0) (1.9.1)\n",
            "Requirement already satisfied: setuptools in /usr/local/lib/python3.7/dist-packages (from spacy<3.5.0,>=3.4.0->en-core-web-lg==3.4.0) (57.4.0)\n",
            "Requirement already satisfied: pathy>=0.3.5 in /usr/local/lib/python3.7/dist-packages (from spacy<3.5.0,>=3.4.0->en-core-web-lg==3.4.0) (0.6.2)\n",
            "Requirement already satisfied: spacy-loggers<2.0.0,>=1.0.0 in /usr/local/lib/python3.7/dist-packages (from spacy<3.5.0,>=3.4.0->en-core-web-lg==3.4.0) (1.0.3)\n",
            "Requirement already satisfied: thinc<8.2.0,>=8.1.0 in /usr/local/lib/python3.7/dist-packages (from spacy<3.5.0,>=3.4.0->en-core-web-lg==3.4.0) (8.1.0)\n",
            "Requirement already satisfied: typer<0.5.0,>=0.3.0 in /usr/local/lib/python3.7/dist-packages (from spacy<3.5.0,>=3.4.0->en-core-web-lg==3.4.0) (0.4.2)\n",
            "Requirement already satisfied: srsly<3.0.0,>=2.4.3 in /usr/local/lib/python3.7/dist-packages (from spacy<3.5.0,>=3.4.0->en-core-web-lg==3.4.0) (2.4.4)\n",
            "Requirement already satisfied: langcodes<4.0.0,>=3.2.0 in /usr/local/lib/python3.7/dist-packages (from spacy<3.5.0,>=3.4.0->en-core-web-lg==3.4.0) (3.3.0)\n",
            "Requirement already satisfied: murmurhash<1.1.0,>=0.28.0 in /usr/local/lib/python3.7/dist-packages (from spacy<3.5.0,>=3.4.0->en-core-web-lg==3.4.0) (1.0.7)\n",
            "Requirement already satisfied: cymem<2.1.0,>=2.0.2 in /usr/local/lib/python3.7/dist-packages (from spacy<3.5.0,>=3.4.0->en-core-web-lg==3.4.0) (2.0.6)\n",
            "Requirement already satisfied: typing-extensions<4.2.0,>=3.7.4 in /usr/local/lib/python3.7/dist-packages (from spacy<3.5.0,>=3.4.0->en-core-web-lg==3.4.0) (4.1.1)\n",
            "Requirement already satisfied: wasabi<1.1.0,>=0.9.1 in /usr/local/lib/python3.7/dist-packages (from spacy<3.5.0,>=3.4.0->en-core-web-lg==3.4.0) (0.10.1)\n",
            "Requirement already satisfied: spacy-legacy<3.1.0,>=3.0.9 in /usr/local/lib/python3.7/dist-packages (from spacy<3.5.0,>=3.4.0->en-core-web-lg==3.4.0) (3.0.9)\n",
            "Requirement already satisfied: zipp>=0.5 in /usr/local/lib/python3.7/dist-packages (from catalogue<2.1.0,>=2.0.6->spacy<3.5.0,>=3.4.0->en-core-web-lg==3.4.0) (3.8.1)\n",
            "Requirement already satisfied: pyparsing!=3.0.5,>=2.0.2 in /usr/local/lib/python3.7/dist-packages (from packaging>=20.0->spacy<3.5.0,>=3.4.0->en-core-web-lg==3.4.0) (3.0.9)\n",
            "Requirement already satisfied: smart-open<6.0.0,>=5.2.1 in /usr/local/lib/python3.7/dist-packages (from pathy>=0.3.5->spacy<3.5.0,>=3.4.0->en-core-web-lg==3.4.0) (5.2.1)\n",
            "Requirement already satisfied: idna<3,>=2.5 in /usr/local/lib/python3.7/dist-packages (from requests<3.0.0,>=2.13.0->spacy<3.5.0,>=3.4.0->en-core-web-lg==3.4.0) (2.10)\n",
            "Requirement already satisfied: certifi>=2017.4.17 in /usr/local/lib/python3.7/dist-packages (from requests<3.0.0,>=2.13.0->spacy<3.5.0,>=3.4.0->en-core-web-lg==3.4.0) (2022.6.15)\n",
            "Requirement already satisfied: urllib3!=1.25.0,!=1.25.1,<1.26,>=1.21.1 in /usr/local/lib/python3.7/dist-packages (from requests<3.0.0,>=2.13.0->spacy<3.5.0,>=3.4.0->en-core-web-lg==3.4.0) (1.24.3)\n",
            "Requirement already satisfied: chardet<4,>=3.0.2 in /usr/local/lib/python3.7/dist-packages (from requests<3.0.0,>=2.13.0->spacy<3.5.0,>=3.4.0->en-core-web-lg==3.4.0) (3.0.4)\n",
            "Requirement already satisfied: blis<0.8.0,>=0.7.8 in /usr/local/lib/python3.7/dist-packages (from thinc<8.2.0,>=8.1.0->spacy<3.5.0,>=3.4.0->en-core-web-lg==3.4.0) (0.7.8)\n",
            "Requirement already satisfied: click<9.0.0,>=7.1.1 in /usr/local/lib/python3.7/dist-packages (from typer<0.5.0,>=0.3.0->spacy<3.5.0,>=3.4.0->en-core-web-lg==3.4.0) (7.1.2)\n",
            "Requirement already satisfied: MarkupSafe>=0.23 in /usr/local/lib/python3.7/dist-packages (from jinja2->spacy<3.5.0,>=3.4.0->en-core-web-lg==3.4.0) (2.0.1)\n",
            "\u001b[38;5;2m✔ Download and installation successful\u001b[0m\n",
            "You can now load the package via spacy.load('en_core_web_lg')\n"
          ]
        }
      ]
    },
    {
      "cell_type": "code",
      "source": [
        "bigram_mod_funny = gensim.models.phrases.Phraser(bigram_funny)\n",
        "bigram_mod_not_funny = gensim.models.phrases.Phraser(bigram_not_funny)\n",
        "\n",
        "trigram_mod_funny = gensim.models.phrases.Phraser(trigram_funny)\n",
        "trigam_mod_not_funny = gensim.models.phrases.Phraser(trigram_not_funny)\n",
        "\n",
        "\n",
        "nlp = spacy.load('en_core_web_lg')\n",
        "\n",
        "def remove_stopwords(texts):\n",
        "  return [[word for word in simple_preprocess(str(doc)) if word not in stop_words] for doc in texts]\n",
        "\n",
        "def make_bigrams(texts, bigram_mod):\n",
        "  return [bigram_mod[doc] for doc in texts]\n",
        "\n",
        "def make_trigrams(texts, trigram_mod, bigram_mod):\n",
        "  return [trigram_mod[bigram_mod[doc]] for doc in texts]\n",
        "\n",
        "def lemmatization(texts, allowed_postags = ['NOUN', 'ADJ', 'VERB', 'ADV', 'PROPN', 'SYM', 'NUM', 'AUX', 'ADP']):\n",
        "  texts_out = []\n",
        "  for sent in tqdm(texts):\n",
        "    doc = nlp(\" \".join(sent))\n",
        "    texts_out.append([token.lemma_ for token in doc if token.pos_ in allowed_postags])\n",
        "  return texts_out\n",
        "\n"
      ],
      "metadata": {
        "id": "ffAlUhxRrgyX"
      },
      "id": "ffAlUhxRrgyX",
      "execution_count": 24,
      "outputs": []
    },
    {
      "cell_type": "code",
      "execution_count": 25,
      "id": "5a870122",
      "metadata": {
        "colab": {
          "base_uri": "https://localhost:8080/"
        },
        "id": "5a870122",
        "outputId": "8344abec-7c01-4f6a-c28b-0404368feb60"
      },
      "outputs": [
        {
          "output_type": "stream",
          "name": "stderr",
          "text": [
            "100%|██████████| 81950/81950 [13:15<00:00, 103.02it/s]\n"
          ]
        }
      ],
      "source": [
        "processed_funny_nostops = remove_stopwords(processed_funny)\n",
        "processed_funny_bigrams = make_bigrams(processed_funny_nostops, bigram_mod_funny)\n",
        "processed_funny_lemmatized = lemmatization(processed_funny_bigrams)\n",
        "id2word_funny = gensim.corpora.Dictionary(processed_funny_lemmatized)\n",
        "\n",
        "funny_texts = processed_funny_lemmatized\n",
        "funny_corpus = [id2word_funny.doc2bow(text) for text in funny_texts]"
      ]
    },
    {
      "cell_type": "code",
      "source": [
        "processed_not_funny_nostops = remove_stopwords(processed_not_funny)\n",
        "processed_not_funny_bigrams = make_bigrams(processed_not_funny_nostops, bigram_mod_not_funny)\n",
        "processed_not_funny_lemmatized = lemmatization(processed_not_funny_bigrams)\n",
        "id2word_not_funny = gensim.corpora.Dictionary(processed_not_funny_lemmatized)\n",
        "\n",
        "not_funny_texts = processed_not_funny_lemmatized\n",
        "not_funny_corpus = [id2word_not_funny.doc2bow(text) for text in not_funny_texts]"
      ],
      "metadata": {
        "colab": {
          "base_uri": "https://localhost:8080/"
        },
        "id": "6M_ki09k3xuO",
        "outputId": "0c8de3bd-8629-4e08-c0df-bec27ebc1238"
      },
      "id": "6M_ki09k3xuO",
      "execution_count": 26,
      "outputs": [
        {
          "output_type": "stream",
          "name": "stderr",
          "text": [
            "100%|██████████| 81942/81942 [12:42<00:00, 107.44it/s]\n"
          ]
        }
      ]
    },
    {
      "cell_type": "code",
      "execution_count": null,
      "id": "d0970a56",
      "metadata": {
        "id": "d0970a56"
      },
      "outputs": [],
      "source": [
        "# Bag of Words\n",
        "funny_dictionary.filter_extremes(no_below=5, no_above=0.5)\n",
        "funny_bow_corpus = [funny_dictionary.doc2bow(doc) for doc in processed_funny]"
      ]
    },
    {
      "cell_type": "code",
      "execution_count": null,
      "id": "e47939e8",
      "metadata": {
        "id": "e47939e8"
      },
      "outputs": [],
      "source": [
        "not_funny_dictionary.filter_extremes(no_below=5, no_above=0.5)\n",
        "not_funny_bow_corpus = [not_funny_dictionary.doc2bow(doc) for doc in processed_not_funny]"
      ]
    },
    {
      "cell_type": "code",
      "execution_count": null,
      "id": "f34a6a96",
      "metadata": {
        "id": "f34a6a96",
        "outputId": "035ed90d-e9e9-4bc4-ad0e-98008fa36ffe"
      },
      "outputs": [
        {
          "data": {
            "text/plain": [
              "8224"
            ]
          },
          "execution_count": 48,
          "metadata": {},
          "output_type": "execute_result"
        }
      ],
      "source": [
        "len(funny_dictionary)"
      ]
    },
    {
      "cell_type": "code",
      "execution_count": null,
      "id": "3f12b43a",
      "metadata": {
        "id": "3f12b43a",
        "outputId": "60feb4dd-7bf4-4b14-dcf2-6ccbbe6edb89"
      },
      "outputs": [
        {
          "data": {
            "text/plain": [
              "9112"
            ]
          },
          "execution_count": 50,
          "metadata": {},
          "output_type": "execute_result"
        }
      ],
      "source": [
        "len(not_funny_dictionary)"
      ]
    },
    {
      "cell_type": "code",
      "execution_count": null,
      "id": "38b1b270",
      "metadata": {
        "id": "38b1b270"
      },
      "outputs": [],
      "source": [
        "from gensim import corpora, models\n",
        "funny_vect = models.TfidfModel(funny_bow_corpus)\n",
        "funny_tfidf = funny_vect[funny_bow_corpus]\n",
        "funny_lda_model = gensim.models.LdaMulticore(funny_bow_corpus, num_topics=20, id2word=funny_dictionary, passes=2, workers=2)"
      ]
    },
    {
      "cell_type": "code",
      "execution_count": null,
      "id": "878a053a",
      "metadata": {
        "scrolled": true,
        "id": "878a053a",
        "outputId": "1a54e8bc-5dab-4f1e-ddef-503ac649cfd0"
      },
      "outputs": [
        {
          "name": "stdout",
          "output_type": "stream",
          "text": [
            "Topic: 0 \n",
            "Words: 0.027*\"job\" + 0.021*\"get\" + 0.014*\"differ\" + 0.012*\"fire\" + 0.012*\"letter\" + 0.011*\"lose\" + 0.009*\"fart\" + 0.009*\"happi\" + 0.008*\"know\" + 0.008*\"condom\"\n",
            "Topic: 1 \n",
            "Words: 0.061*\"bar\" + 0.058*\"say\" + 0.057*\"walk\" + 0.039*\"drink\" + 0.032*\"bartend\" + 0.032*\"guy\" + 0.020*\"priest\" + 0.019*\"beer\" + 0.018*\"ask\" + 0.016*\"order\"\n",
            "Topic: 2 \n",
            "Words: 0.062*\"like\" + 0.018*\"cow\" + 0.018*\"red\" + 0.015*\"say\" + 0.015*\"eat\" + 0.013*\"look\" + 0.013*\"women\" + 0.012*\"eye\" + 0.010*\"john\" + 0.008*\"blue\"\n",
            "Topic: 3 \n",
            "Words: 0.038*\"joke\" + 0.022*\"good\" + 0.021*\"like\" + 0.014*\"funni\" + 0.014*\"hear\" + 0.012*\"men\" + 0.012*\"guy\" + 0.011*\"gay\" + 0.011*\"engin\" + 0.011*\"work\"\n",
            "Topic: 4 \n",
            "Words: 0.036*\"boy\" + 0.026*\"say\" + 0.025*\"mom\" + 0.023*\"ask\" + 0.020*\"mother\" + 0.019*\"kid\" + 0.018*\"girl\" + 0.015*\"bear\" + 0.015*\"littl\" + 0.013*\"day\"\n",
            "Topic: 5 \n",
            "Words: 0.028*\"car\" + 0.022*\"play\" + 0.019*\"cop\" + 0.017*\"say\" + 0.014*\"drive\" + 0.013*\"go\" + 0.013*\"hors\" + 0.013*\"park\" + 0.011*\"pull\" + 0.011*\"know\"\n",
            "Topic: 6 \n",
            "Words: 0.072*\"doctor\" + 0.017*\"ve\" + 0.017*\"go\" + 0.016*\"say\" + 0.013*\"buy\" + 0.013*\"problem\" + 0.011*\"patient\" + 0.010*\"day\" + 0.010*\"tell\" + 0.010*\"farmer\"\n",
            "Topic: 7 \n",
            "Words: 0.029*\"book\" + 0.021*\"dog\" + 0.021*\"jesus\" + 0.017*\"get\" + 0.014*\"say\" + 0.013*\"ask\" + 0.013*\"read\" + 0.010*\"cannib\" + 0.010*\"ear\" + 0.009*\"librari\"\n",
            "Topic: 8 \n",
            "Words: 0.028*\"peopl\" + 0.020*\"mean\" + 0.016*\"hate\" + 0.013*\"mexican\" + 0.011*\"like\" + 0.011*\"pirat\" + 0.010*\"wall\" + 0.010*\"funer\" + 0.008*\"joke\" + 0.008*\"pant\"\n",
            "Topic: 9 \n",
            "Words: 0.043*\"sex\" + 0.033*\"wife\" + 0.025*\"girl\" + 0.021*\"say\" + 0.020*\"want\" + 0.020*\"tell\" + 0.018*\"friend\" + 0.017*\"ask\" + 0.016*\"girlfriend\" + 0.014*\"time\"\n",
            "Topic: 10 \n",
            "Words: 0.022*\"get\" + 0.020*\"bad\" + 0.017*\"news\" + 0.014*\"go\" + 0.011*\"know\" + 0.011*\"trump\" + 0.010*\"good\" + 0.010*\"new\" + 0.009*\"say\" + 0.009*\"presid\"\n",
            "Topic: 11 \n",
            "Words: 0.030*\"laugh\" + 0.028*\"light\" + 0.021*\"chang\" + 0.016*\"german\" + 0.015*\"tell\" + 0.014*\"bulb\" + 0.010*\"know\" + 0.010*\"say\" + 0.009*\"time\" + 0.009*\"joke\"\n",
            "Topic: 12 \n",
            "Words: 0.025*\"trump\" + 0.018*\"eat\" + 0.016*\"chang\" + 0.014*\"donald\" + 0.014*\"differ\" + 0.014*\"lightbulb\" + 0.013*\"common\" + 0.012*\"dig\" + 0.012*\"joke\" + 0.011*\"step\"\n",
            "Topic: 13 \n",
            "Words: 0.013*\"think\" + 0.013*\"plane\" + 0.012*\"wear\" + 0.011*\"nut\" + 0.011*\"line\" + 0.010*\"friend\" + 0.010*\"say\" + 0.010*\"get\" + 0.010*\"ask\" + 0.009*\"guy\"\n",
            "Topic: 14 \n",
            "Words: 0.040*\"say\" + 0.032*\"blond\" + 0.030*\"teacher\" + 0.022*\"ask\" + 0.016*\"babi\" + 0.014*\"littl\" + 0.013*\"student\" + 0.013*\"watch\" + 0.013*\"hand\" + 0.013*\"johnni\"\n",
            "Topic: 15 \n",
            "Words: 0.034*\"peopl\" + 0.017*\"black\" + 0.014*\"white\" + 0.014*\"like\" + 0.012*\"differ\" + 0.012*\"joke\" + 0.011*\"know\" + 0.010*\"long\" + 0.010*\"die\" + 0.009*\"shit\"\n",
            "Topic: 16 \n",
            "Words: 0.087*\"man\" + 0.072*\"say\" + 0.028*\"ask\" + 0.027*\"woman\" + 0.024*\"repli\" + 0.016*\"walk\" + 0.014*\"look\" + 0.013*\"wife\" + 0.013*\"go\" + 0.009*\"old\"\n",
            "Topic: 17 \n",
            "Words: 0.052*\"wife\" + 0.042*\"year\" + 0.025*\"husband\" + 0.025*\"old\" + 0.014*\"work\" + 0.012*\"girlfriend\" + 0.012*\"like\" + 0.011*\"get\" + 0.011*\"leav\" + 0.010*\"go\"\n",
            "Topic: 18 \n",
            "Words: 0.083*\"dad\" + 0.052*\"son\" + 0.024*\"joke\" + 0.015*\"tell\" + 0.014*\"father\" + 0.011*\"kid\" + 0.011*\"say\" + 0.011*\"come\" + 0.009*\"rememb\" + 0.009*\"know\"\n",
            "Topic: 19 \n",
            "Words: 0.030*\"knock\" + 0.018*\"dollar\" + 0.014*\"fish\" + 0.013*\"go\" + 0.012*\"hitler\" + 0.012*\"god\" + 0.012*\"million\" + 0.011*\"jew\" + 0.011*\"tell\" + 0.010*\"ask\"\n"
          ]
        }
      ],
      "source": [
        "for idx, topic in funny_lda_model.print_topics(-1):\n",
        "    print('Topic: {} \\nWords: {}'.format(idx, topic))"
      ]
    },
    {
      "cell_type": "code",
      "execution_count": null,
      "id": "22c41ac4",
      "metadata": {
        "scrolled": true,
        "id": "22c41ac4",
        "outputId": "0a95ef82-24c0-47f4-aa64-126c26d30e0f"
      },
      "outputs": [
        {
          "data": {
            "text/plain": [
              "-7.910358956372687"
            ]
          },
          "execution_count": 62,
          "metadata": {},
          "output_type": "execute_result"
        }
      ],
      "source": [
        "funny_lda_model.log_perplexity(funny_bow_corpus)"
      ]
    },
    {
      "cell_type": "code",
      "execution_count": null,
      "id": "f73881b0",
      "metadata": {
        "id": "f73881b0"
      },
      "outputs": [],
      "source": [
        "funny_coherence_model = CohereModel(model=funny_lda_model, texts = )"
      ]
    },
    {
      "cell_type": "code",
      "execution_count": null,
      "id": "30546487",
      "metadata": {
        "id": "30546487"
      },
      "outputs": [],
      "source": [
        "not_funny_vect = models.TfidfModel(not_funny_bow_corpus)\n",
        "not_funny_tfidf = not_funny_vect[not_funny_bow_corpus]\n",
        "not_funny_lda_model = gensim.models.LdaMulticore(not_funny_bow_corpus, num_topics=20, id2word=not_funny_dictionary, passes=2, workers=2)"
      ]
    },
    {
      "cell_type": "code",
      "execution_count": null,
      "id": "b74066a2",
      "metadata": {
        "id": "b74066a2",
        "outputId": "71319ccb-31fb-4394-dac4-5bc565da7081"
      },
      "outputs": [
        {
          "name": "stdout",
          "output_type": "stream",
          "text": [
            "Topic: 0 \n",
            "Words: 0.032*\"eat\" + 0.016*\"dick\" + 0.015*\"differ\" + 0.015*\"god\" + 0.012*\"pay\" + 0.011*\"win\" + 0.010*\"million\" + 0.009*\"obama\" + 0.009*\"go\" + 0.008*\"jam\"\n",
            "Topic: 1 \n",
            "Words: 0.031*\"year\" + 0.029*\"chicken\" + 0.029*\"cross\" + 0.027*\"wife\" + 0.026*\"sex\" + 0.025*\"road\" + 0.021*\"friend\" + 0.019*\"old\" + 0.018*\"teacher\" + 0.014*\"say\"\n",
            "Topic: 2 \n",
            "Words: 0.078*\"trump\" + 0.058*\"knock\" + 0.041*\"donald\" + 0.024*\"nan\" + 0.015*\"joke\" + 0.013*\"nazi\" + 0.012*\"number\" + 0.012*\"afraid\" + 0.011*\"polic\" + 0.010*\"orang\"\n",
            "Topic: 3 \n",
            "Words: 0.020*\"blond\" + 0.013*\"hair\" + 0.012*\"state\" + 0.012*\"eleph\" + 0.012*\"peopl\" + 0.011*\"laugh\" + 0.011*\"fact\" + 0.010*\"go\" + 0.010*\"cut\" + 0.008*\"hand\"\n",
            "Topic: 4 \n",
            "Words: 0.025*\"game\" + 0.015*\"line\" + 0.013*\"play\" + 0.012*\"fli\" + 0.012*\"hear\" + 0.009*\"high\" + 0.009*\"food\" + 0.009*\"video\" + 0.009*\"smoke\" + 0.008*\"pick\"\n",
            "Topic: 5 \n",
            "Words: 0.023*\"job\" + 0.016*\"news\" + 0.014*\"work\" + 0.012*\"bird\" + 0.012*\"glass\" + 0.011*\"joke\" + 0.010*\"new\" + 0.010*\"eat\" + 0.010*\"get\" + 0.009*\"poop\"\n",
            "Topic: 6 \n",
            "Words: 0.032*\"fuck\" + 0.018*\"get\" + 0.013*\"day\" + 0.011*\"want\" + 0.011*\"hit\" + 0.009*\"arm\" + 0.009*\"run\" + 0.009*\"car\" + 0.009*\"perfect\" + 0.008*\"anal\"\n",
            "Topic: 7 \n",
            "Words: 0.023*\"jesus\" + 0.021*\"reddit\" + 0.013*\"hillari\" + 0.012*\"time\" + 0.011*\"peopl\" + 0.011*\"hear\" + 0.011*\"post\" + 0.011*\"joke\" + 0.011*\"clinton\" + 0.010*\"prostitut\"\n",
            "Topic: 8 \n",
            "Words: 0.040*\"amp\" + 0.016*\"littl\" + 0.013*\"johnni\" + 0.013*\"type\" + 0.012*\"favorit\" + 0.010*\"sandwich\" + 0.008*\"cold\" + 0.008*\"like\" + 0.007*\"new\" + 0.007*\"iphon\"\n",
            "Topic: 9 \n",
            "Words: 0.026*\"person\" + 0.019*\"hors\" + 0.019*\"bear\" + 0.015*\"wrong\" + 0.014*\"phone\" + 0.013*\"toilet\" + 0.013*\"peopl\" + 0.011*\"get\" + 0.011*\"paper\" + 0.011*\"shoot\"\n",
            "Topic: 10 \n",
            "Words: 0.021*\"fish\" + 0.015*\"presid\" + 0.011*\"know\" + 0.010*\"virgin\" + 0.009*\"report\" + 0.008*\"like\" + 0.007*\"rid\" + 0.007*\"bush\" + 0.007*\"republican\" + 0.007*\"group\"\n",
            "Topic: 11 \n",
            "Words: 0.130*\"like\" + 0.043*\"women\" + 0.023*\"babi\" + 0.022*\"dead\" + 0.015*\"wish\" + 0.012*\"coffe\" + 0.011*\"men\" + 0.011*\"smell\" + 0.011*\"letter\" + 0.010*\"muslim\"\n",
            "Topic: 12 \n",
            "Words: 0.030*\"jew\" + 0.030*\"chang\" + 0.027*\"light\" + 0.018*\"car\" + 0.016*\"christma\" + 0.016*\"hitler\" + 0.015*\"eat\" + 0.015*\"war\" + 0.013*\"screw\" + 0.012*\"lightbulb\"\n",
            "Topic: 13 \n",
            "Words: 0.076*\"joke\" + 0.018*\"hear\" + 0.018*\"funni\" + 0.018*\"know\" + 0.017*\"cat\" + 0.017*\"good\" + 0.011*\"tree\" + 0.011*\"like\" + 0.009*\"think\" + 0.008*\"appl\"\n",
            "Topic: 14 \n",
            "Words: 0.085*\"walk\" + 0.071*\"bar\" + 0.045*\"man\" + 0.032*\"say\" + 0.024*\"bartend\" + 0.021*\"leg\" + 0.015*\"drink\" + 0.014*\"guy\" + 0.011*\"blind\" + 0.009*\"fall\"\n",
            "Topic: 15 \n",
            "Words: 0.038*\"dad\" + 0.030*\"son\" + 0.026*\"boy\" + 0.022*\"say\" + 0.022*\"mom\" + 0.020*\"tell\" + 0.019*\"ask\" + 0.019*\"kid\" + 0.018*\"father\" + 0.015*\"mother\"\n",
            "Topic: 16 \n",
            "Words: 0.065*\"say\" + 0.041*\"man\" + 0.029*\"ask\" + 0.023*\"guy\" + 0.022*\"go\" + 0.022*\"doctor\" + 0.014*\"repli\" + 0.013*\"woman\" + 0.013*\"look\" + 0.012*\"come\"\n",
            "Topic: 17 \n",
            "Words: 0.078*\"girl\" + 0.022*\"fat\" + 0.017*\"get\" + 0.016*\"tell\" + 0.015*\"friend\" + 0.015*\"yo\" + 0.012*\"say\" + 0.011*\"damn\" + 0.011*\"date\" + 0.010*\"know\"\n",
            "Topic: 18 \n",
            "Words: 0.049*\"dog\" + 0.021*\"cow\" + 0.018*\"movi\" + 0.016*\"big\" + 0.016*\"peni\" + 0.014*\"anim\" + 0.011*\"pizza\" + 0.010*\"milk\" + 0.009*\"man\" + 0.009*\"cancer\"\n",
            "Topic: 19 \n",
            "Words: 0.075*\"black\" + 0.041*\"white\" + 0.026*\"peopl\" + 0.021*\"guy\" + 0.014*\"racist\" + 0.011*\"man\" + 0.010*\"hole\" + 0.010*\"hous\" + 0.010*\"feminist\" + 0.009*\"suicid\"\n"
          ]
        }
      ],
      "source": [
        "for idx, topic in not_funny_lda_model.print_topics(-1):\n",
        "    print('Topic: {} \\nWords: {}'.format(idx, topic))"
      ]
    },
    {
      "cell_type": "code",
      "execution_count": null,
      "id": "55360b89",
      "metadata": {
        "id": "55360b89",
        "outputId": "c7400b34-cf60-440e-8a31-8ca8861b7815"
      },
      "outputs": [
        {
          "ename": "NameError",
          "evalue": "name 'cv' is not defined",
          "output_type": "error",
          "traceback": [
            "\u001b[0;31m---------------------------------------------------------------------------\u001b[0m",
            "\u001b[0;31mNameError\u001b[0m                                 Traceback (most recent call last)",
            "\u001b[0;32m<ipython-input-24-a6420bfaf819>\u001b[0m in \u001b[0;36m<module>\u001b[0;34m\u001b[0m\n\u001b[1;32m      2\u001b[0m \u001b[0;34m\u001b[0m\u001b[0m\n\u001b[1;32m      3\u001b[0m \u001b[0my\u001b[0m \u001b[0;34m=\u001b[0m \u001b[0mtrain\u001b[0m\u001b[0;34m[\u001b[0m\u001b[0;34m'target'\u001b[0m\u001b[0;34m]\u001b[0m\u001b[0;34m\u001b[0m\u001b[0;34m\u001b[0m\u001b[0m\n\u001b[0;32m----> 4\u001b[0;31m \u001b[0mX_names\u001b[0m \u001b[0;34m=\u001b[0m \u001b[0mcv\u001b[0m\u001b[0;34m.\u001b[0m\u001b[0mget_feature_names\u001b[0m\u001b[0;34m(\u001b[0m\u001b[0;34m)\u001b[0m\u001b[0;34m\u001b[0m\u001b[0;34m\u001b[0m\u001b[0m\n\u001b[0m\u001b[1;32m      5\u001b[0m \u001b[0mp_value_limit\u001b[0m \u001b[0;34m=\u001b[0m \u001b[0;36m0.95\u001b[0m\u001b[0;34m\u001b[0m\u001b[0;34m\u001b[0m\u001b[0m\n\u001b[1;32m      6\u001b[0m \u001b[0mdtf_features\u001b[0m \u001b[0;34m=\u001b[0m \u001b[0mpd\u001b[0m\u001b[0;34m.\u001b[0m\u001b[0mDataFrame\u001b[0m\u001b[0;34m(\u001b[0m\u001b[0;34m)\u001b[0m\u001b[0;34m\u001b[0m\u001b[0;34m\u001b[0m\u001b[0m\n",
            "\u001b[0;31mNameError\u001b[0m: name 'cv' is not defined"
          ]
        }
      ],
      "source": [
        "from sklearn.feature_selection import chi2 as x2\n",
        "\n",
        "y = train['target']\n",
        "X_names = cv.get_feature_names()\n",
        "p_value_limit = 0.95\n",
        "dtf_features = pd.DataFrame()\n",
        "for cat in np.unique(y):\n",
        "    chi2, p = x2(X_train, y==cat)\n",
        "    dtf_features = dtf_features.append(pd.DataFrame(\n",
        "                   {\"feature\":X_names, \"score\":1-p, \"y\":cat}))\n",
        "    dtf_features = dtf_features.sort_values([\"y\",\"score\"], \n",
        "                    ascending=[True,False])\n",
        "    dtf_features = dtf_features[dtf_features[\"score\"]>p_value_limit]\n",
        "X_names = dtf_features[\"feature\"].unique().tolist()"
      ]
    },
    {
      "cell_type": "code",
      "execution_count": null,
      "id": "272fd957",
      "metadata": {
        "id": "272fd957",
        "outputId": "1fbc28dd-c147-4939-bec5-6c53ec446ed4"
      },
      "outputs": [
        {
          "name": "stdout",
          "output_type": "stream",
          "text": [
            "# False:\n",
            "  . selected features: 3595\n",
            "  . top features: and,apparently,asked,asked me,but,call,dad,did,did the,do\n",
            " \n",
            "# True:\n",
            "  . selected features: 3595\n",
            "  . top features: and,apparently,asked,asked me,but,call,dad,did,did the,do\n",
            " \n"
          ]
        }
      ],
      "source": [
        "for cat in np.unique(y):\n",
        "   print(\"# {}:\".format(cat))\n",
        "   print(\"  . selected features:\",\n",
        "         len(dtf_features[dtf_features[\"y\"]==cat]))\n",
        "   print(\"  . top features:\", \",\".join(\n",
        "dtf_features[dtf_features[\"y\"]==cat][\"feature\"].values[:10]))\n",
        "   print(\" \")"
      ]
    },
    {
      "cell_type": "markdown",
      "id": "e3d583e3",
      "metadata": {
        "id": "e3d583e3"
      },
      "source": [
        "### Examine Text Metadata "
      ]
    },
    {
      "cell_type": "code",
      "execution_count": null,
      "id": "1446a050",
      "metadata": {
        "scrolled": true,
        "id": "1446a050",
        "outputId": "6ae774e7-0bd0-4158-e1f7-5cd3098ebe7e"
      },
      "outputs": [
        {
          "data": {
            "text/plain": [
              "Index(['type', 'id', 'subreddit.id', 'subreddit.name', 'subreddit.nsfw',\n",
              "       'created_utc', 'permalink', 'domain', 'url', 'selftext', 'title',\n",
              "       'score', 'selftext_len', 'title_len', 'target', 'created_at'],\n",
              "      dtype='object')"
            ]
          },
          "execution_count": 41,
          "metadata": {},
          "output_type": "execute_result"
        }
      ],
      "source": [
        "train.columns"
      ]
    },
    {
      "cell_type": "code",
      "execution_count": null,
      "id": "7f8acfea",
      "metadata": {
        "scrolled": true,
        "id": "7f8acfea"
      },
      "outputs": [],
      "source": [
        "# train['selftext_len'] = train['selftext'].str.len()\n",
        "# train['title_len'] = train['title'].str.len()"
      ]
    },
    {
      "cell_type": "code",
      "execution_count": null,
      "id": "cfc24913",
      "metadata": {
        "id": "cfc24913",
        "outputId": "706cea60-47e7-4daa-b383-c1318c16553a"
      },
      "outputs": [
        {
          "name": "stderr",
          "output_type": "stream",
          "text": [
            "<ipython-input-43-9a0f1ece748d>:1: SettingWithCopyWarning: \n",
            "A value is trying to be set on a copy of a slice from a DataFrame.\n",
            "Try using .loc[row_indexer,col_indexer] = value instead\n",
            "\n",
            "See the caveats in the documentation: https://pandas.pydata.org/pandas-docs/stable/user_guide/indexing.html#returning-a-view-versus-a-copy\n",
            "  train['log_title_len'] = np.log(train['title_len'])\n"
          ]
        },
        {
          "data": {
            "image/png": "[encoded data removed]",
            "text/plain": [
              "<Figure size 460.8x403.2 with 1 Axes>"
            ]
          },
          "metadata": {},
          "output_type": "display_data"
        },
        {
          "name": "stderr",
          "output_type": "stream",
          "text": [
            "<ipython-input-43-9a0f1ece748d>:5: SettingWithCopyWarning: \n",
            "A value is trying to be set on a copy of a slice from a DataFrame.\n",
            "Try using .loc[row_indexer,col_indexer] = value instead\n",
            "\n",
            "See the caveats in the documentation: https://pandas.pydata.org/pandas-docs/stable/user_guide/indexing.html#returning-a-view-versus-a-copy\n",
            "  train['log_selftext_len'] = np.log(train['selftext_len'])\n"
          ]
        },
        {
          "data": {
            "image/png": "[encoded data removed]",
            "text/plain": [
              "<Figure size 460.8x403.2 with 1 Axes>"
            ]
          },
          "metadata": {},
          "output_type": "display_data"
        }
      ],
      "source": [
        "train['log_title_len'] = np.log(train['title_len'])\n",
        "sns.kdeplot(x='log_title_len', data=train, hue='target')\n",
        "plt.title('density plot of log title length')\n",
        "plt.show()\n",
        "train['log_selftext_len'] = np.log(train['selftext_len'])\n",
        "sns.kdeplot(x='log_selftext_len', data=train, hue='target')\n",
        "plt.title('density plot of log selftext length')\n",
        "plt.show()"
      ]
    },
    {
      "cell_type": "code",
      "execution_count": null,
      "id": "2435c927",
      "metadata": {
        "scrolled": false,
        "id": "2435c927",
        "outputId": "e4a2eff1-3f39-411c-98cc-a5e1ad6b8d3b"
      },
      "outputs": [
        {
          "data": {
            "image/png": "[encoded data removed]",
            "text/plain": [
              "<Figure size 460.8x403.2 with 1 Axes>"
            ]
          },
          "metadata": {},
          "output_type": "display_data"
        }
      ],
      "source": [
        "# title length\n",
        "\n",
        "\n",
        "\n",
        "sns.lineplot(x='log_title_len', y='log_selftext_len', data = funny_df.groupby('log_title_len', as_index=False).mean(), label='funny')\n",
        "sns.lineplot(x='log_title_len', y='log_selftext_len', data = not_funny_df.groupby('log_title_len', as_index=False).mean(), label='not funny')\n",
        "plt.legend()\n",
        "plt.title('Average Log Punchline Length per Title Length')\n",
        "plt.show()\n",
        "\n",
        "# sns.histplot(x='target', data=train.groupby('title_len').mean(), color='red')\n",
        "# plt.title('Average Target Boolean per Title Length')"
      ]
    },
    {
      "cell_type": "code",
      "execution_count": null,
      "id": "a429f314",
      "metadata": {
        "scrolled": false,
        "id": "a429f314",
        "outputId": "821a513d-28ec-42d8-896b-f8988cf2766f"
      },
      "outputs": [
        {
          "data": {
            "text/plain": [
              "Text(0.5, 1.0, 'variation of length')"
            ]
          },
          "execution_count": 45,
          "metadata": {},
          "output_type": "execute_result"
        },
        {
          "data": {
            "image/png": "[encoded data removed]",
            "text/plain": [
              "<Figure size 460.8x403.2 with 1 Axes>"
            ]
          },
          "metadata": {},
          "output_type": "display_data"
        }
      ],
      "source": [
        "train.groupby(['title_len']).mean()['target'].hist()\n",
        "plt.title('variation of length')"
      ]
    },
    {
      "cell_type": "code",
      "execution_count": null,
      "id": "f5b475c9",
      "metadata": {
        "id": "f5b475c9"
      },
      "outputs": [],
      "source": [
        "from sklearn.feature_extraction.text import TfidfVectorizer\n",
        "from sklearn.naive_bayes import GaussianNB\n",
        "from sklearn.pipeline import Pipeline\n",
        "\n",
        "classifier = MultinomialNB()\n",
        "vectorizer = TfidfVectorizer(max_features=10000, ngram_range=(1,2))\n",
        "\n",
        "corpus = list(train['all_text'])\n",
        "X_train = vectorizer.fit_transform(corpus)\n",
        "y_train = train['target']\n",
        "X_val = vectorizer.transform(list(val['all_text']))\n",
        "y_val = val['target']"
      ]
    },
    {
      "cell_type": "code",
      "execution_count": null,
      "id": "0d2708b0",
      "metadata": {
        "id": "0d2708b0"
      },
      "outputs": [],
      "source": [
        "model = Pipeline([('vectorizer', vectorizer),\n",
        "                  ('classifier', classifier)])\n",
        "\n",
        "model.fit(train['all_text'], train['target'])\n",
        "\n",
        "predict = model.predict(val['all_text'])\n",
        "predicted_prob = model.predict_proba(val['all_text'])"
      ]
    },
    {
      "cell_type": "code",
      "execution_count": null,
      "id": "ce29817c",
      "metadata": {
        "scrolled": false,
        "id": "ce29817c",
        "outputId": "6075b82e-f886-4512-ddb4-a5f9d1113711"
      },
      "outputs": [
        {
          "name": "stdout",
          "output_type": "stream",
          "text": [
            "Accuracy: 0.68\n",
            "Auc: 0.68\n",
            "Detail:\n",
            "              precision    recall  f1-score   support\n",
            "\n",
            "       False       0.67      0.71      0.69      1995\n",
            "        True       0.69      0.66      0.67      2001\n",
            "\n",
            "    accuracy                           0.68      3996\n",
            "   macro avg       0.68      0.68      0.68      3996\n",
            "weighted avg       0.68      0.68      0.68      3996\n",
            "\n"
          ]
        },
        {
          "data": {
            "image/png": "[encoded data removed]",
            "text/plain": [
              "<Figure size 460.8x403.2 with 1 Axes>"
            ]
          },
          "metadata": {},
          "output_type": "display_data"
        },
        {
          "data": {
            "image/png": "[encoded data removed]",
            "text/plain": [
              "<Figure size 1080x360 with 2 Axes>"
            ]
          },
          "metadata": {},
          "output_type": "display_data"
        }
      ],
      "source": [
        "evaluate_model(val['target'], predict, predicted_prob)"
      ]
    },
    {
      "cell_type": "code",
      "execution_count": null,
      "id": "9583f2fe",
      "metadata": {
        "scrolled": true,
        "id": "9583f2fe",
        "outputId": "d9c80feb-83ef-4372-fd2d-9abd4911a4e2"
      },
      "outputs": [
        {
          "data": {
            "text/plain": [
              "(5016757, 6955300)"
            ]
          },
          "execution_count": 45,
          "metadata": {},
          "output_type": "execute_result"
        }
      ],
      "source": [
        "tokenized_title = train['title'].apply(lambda x:x.split())\n",
        "\n",
        "import gensim\n",
        "\n",
        "model_w2v = gensim.models.Word2Vec(\n",
        "    tokenized_title,\n",
        "    # dimension (feature numbers)\n",
        "    vector_size=300,\n",
        "    # size of context window\n",
        "    window = 10,\n",
        "    min_count=2,\n",
        "    sg = 1,\n",
        "    hs = 0,\n",
        "    negative = 10,\n",
        "    workers = 2,\n",
        ")\n",
        "model_w2v.train(tokenized_title, total_examples=len(train['title']), epochs=20)"
      ]
    },
    {
      "cell_type": "code",
      "execution_count": null,
      "id": "bebfd89a",
      "metadata": {
        "scrolled": false,
        "id": "bebfd89a",
        "outputId": "cd8e62ca-c60c-491d-ab93-198becf0ea94"
      },
      "outputs": [
        {
          "ename": "NameError",
          "evalue": "name 'top_funny_words' is not defined",
          "output_type": "error",
          "traceback": [
            "\u001b[0;31m---------------------------------------------------------------------------\u001b[0m",
            "\u001b[0;31mNameError\u001b[0m                                 Traceback (most recent call last)",
            "\u001b[0;32m<ipython-input-146-6635046ac975>\u001b[0m in \u001b[0;36m<module>\u001b[0;34m\u001b[0m\n\u001b[0;32m----> 1\u001b[0;31m \u001b[0;32mfor\u001b[0m \u001b[0mword\u001b[0m \u001b[0;32min\u001b[0m \u001b[0mtop_funny_words\u001b[0m\u001b[0;34m:\u001b[0m\u001b[0;34m\u001b[0m\u001b[0;34m\u001b[0m\u001b[0m\n\u001b[0m\u001b[1;32m      2\u001b[0m     \u001b[0mprint\u001b[0m\u001b[0;34m(\u001b[0m\u001b[0mword\u001b[0m\u001b[0;34m,\u001b[0m \u001b[0;34m'\\n'\u001b[0m\u001b[0;34m)\u001b[0m\u001b[0;34m\u001b[0m\u001b[0;34m\u001b[0m\u001b[0m\n\u001b[1;32m      3\u001b[0m     \u001b[0mmost_similar_words\u001b[0m \u001b[0;34m=\u001b[0m \u001b[0mmodel_w2v\u001b[0m\u001b[0;34m.\u001b[0m\u001b[0mwv\u001b[0m\u001b[0;34m.\u001b[0m\u001b[0mmost_similar\u001b[0m\u001b[0;34m(\u001b[0m\u001b[0mpositive\u001b[0m\u001b[0;34m=\u001b[0m\u001b[0;34mf'{word}'\u001b[0m\u001b[0;34m)\u001b[0m\u001b[0;34m\u001b[0m\u001b[0;34m\u001b[0m\u001b[0m\n\u001b[1;32m      4\u001b[0m     \u001b[0;32mfor\u001b[0m \u001b[0msim_word\u001b[0m\u001b[0;34m,\u001b[0m \u001b[0mscore\u001b[0m \u001b[0;32min\u001b[0m \u001b[0mmost_similar_words\u001b[0m\u001b[0;34m:\u001b[0m\u001b[0;34m\u001b[0m\u001b[0;34m\u001b[0m\u001b[0m\n\u001b[1;32m      5\u001b[0m         \u001b[0mprint\u001b[0m\u001b[0;34m(\u001b[0m\u001b[0;34mf\"     {sim_word}: {score}\"\u001b[0m\u001b[0;34m)\u001b[0m\u001b[0;34m\u001b[0m\u001b[0;34m\u001b[0m\u001b[0m\n",
            "\u001b[0;31mNameError\u001b[0m: name 'top_funny_words' is not defined"
          ]
        }
      ],
      "source": [
        "for word in top_funny_words:\n",
        "    print(word, '\\n')\n",
        "    most_similar_words = model_w2v.wv.most_similar(positive=f'{word}')\n",
        "    for sim_word, score in most_similar_words:\n",
        "        print(f\"     {sim_word}: {score}\")\n",
        "    print('.....')"
      ]
    },
    {
      "cell_type": "code",
      "execution_count": null,
      "id": "b9d24abf",
      "metadata": {
        "scrolled": false,
        "id": "b9d24abf",
        "outputId": "4a373bd9-1b1f-4fbd-de1a-d98400461a9a"
      },
      "outputs": [
        {
          "ename": "NameError",
          "evalue": "name 'top_notfunny_words' is not defined",
          "output_type": "error",
          "traceback": [
            "\u001b[0;31m---------------------------------------------------------------------------\u001b[0m",
            "\u001b[0;31mNameError\u001b[0m                                 Traceback (most recent call last)",
            "\u001b[0;32m<ipython-input-147-9d4b4a86295a>\u001b[0m in \u001b[0;36m<module>\u001b[0;34m\u001b[0m\n\u001b[0;32m----> 1\u001b[0;31m \u001b[0;32mfor\u001b[0m \u001b[0mword\u001b[0m \u001b[0;32min\u001b[0m \u001b[0mtop_notfunny_words\u001b[0m\u001b[0;34m:\u001b[0m\u001b[0;34m\u001b[0m\u001b[0;34m\u001b[0m\u001b[0m\n\u001b[0m\u001b[1;32m      2\u001b[0m     \u001b[0mprint\u001b[0m\u001b[0;34m(\u001b[0m\u001b[0mword\u001b[0m\u001b[0;34m,\u001b[0m \u001b[0;34m'\\n'\u001b[0m\u001b[0;34m)\u001b[0m\u001b[0;34m\u001b[0m\u001b[0;34m\u001b[0m\u001b[0m\n\u001b[1;32m      3\u001b[0m     \u001b[0mmost_similar_words\u001b[0m \u001b[0;34m=\u001b[0m \u001b[0mmodel_w2v\u001b[0m\u001b[0;34m.\u001b[0m\u001b[0mwv\u001b[0m\u001b[0;34m.\u001b[0m\u001b[0mmost_similar\u001b[0m\u001b[0;34m(\u001b[0m\u001b[0mpositive\u001b[0m\u001b[0;34m=\u001b[0m\u001b[0;34mf'{word}'\u001b[0m\u001b[0;34m)\u001b[0m\u001b[0;34m\u001b[0m\u001b[0;34m\u001b[0m\u001b[0m\n\u001b[1;32m      4\u001b[0m     \u001b[0;32mfor\u001b[0m \u001b[0msim_word\u001b[0m\u001b[0;34m,\u001b[0m \u001b[0mscore\u001b[0m \u001b[0;32min\u001b[0m \u001b[0mmost_similar_words\u001b[0m\u001b[0;34m:\u001b[0m\u001b[0;34m\u001b[0m\u001b[0;34m\u001b[0m\u001b[0m\n\u001b[1;32m      5\u001b[0m         \u001b[0mprint\u001b[0m\u001b[0;34m(\u001b[0m\u001b[0;34mf\"     {sim_word}: {score}\"\u001b[0m\u001b[0;34m)\u001b[0m\u001b[0;34m\u001b[0m\u001b[0;34m\u001b[0m\u001b[0m\n",
            "\u001b[0;31mNameError\u001b[0m: name 'top_notfunny_words' is not defined"
          ]
        }
      ],
      "source": [
        "for word in top_notfunny_words:\n",
        "    print(word, '\\n')\n",
        "    most_similar_words = model_w2v.wv.most_similar(positive=f'{word}')\n",
        "    for sim_word, score in most_similar_words:\n",
        "        print(f\"     {sim_word}: {score}\")\n",
        "    print('.....')"
      ]
    },
    {
      "cell_type": "code",
      "execution_count": null,
      "id": "a529b12d",
      "metadata": {
        "scrolled": false,
        "id": "a529b12d"
      },
      "outputs": [],
      "source": [
        "# selftext length\n",
        "sns.lineplot(x='selftext_len', y='title_len', data = funny_df.groupby('selftext_len', as_index=False).mean(), label='funny')\n",
        "sns.lineplot(x='selftext_len', y='title_len', data = notfunny_df.groupby('selftext_len', as_index=False).mean(), label='not funny')\n",
        "plt.legend()\n",
        "plt.title('Average Title Length per Punchline Length')\n",
        "plt.show()\n",
        "\n",
        "# sns.histplot(x='target', data=train.groupby('title_len').mean(), color='red')\n",
        "# plt.title('Average Target Boolean per Title Length')"
      ]
    },
    {
      "cell_type": "code",
      "execution_count": null,
      "id": "48795e75",
      "metadata": {
        "id": "48795e75"
      },
      "outputs": [],
      "source": [
        "train.groupby(['selftext_len']).mean()['target'].hist()\n",
        "plt.title('variation of length')"
      ]
    },
    {
      "cell_type": "code",
      "execution_count": null,
      "id": "66dbc1db",
      "metadata": {
        "id": "66dbc1db"
      },
      "outputs": [],
      "source": [
        "cv = CountVectorizer(stop_words='english')\n",
        "words = cv.fit_transform(train['selftext'].astype(str))\n",
        "\n",
        "sum_words = words.sum(axis=0)\n",
        "\n",
        "words_freq = [(word, sum_words[0, i]) for word, i in cv.vocabulary_.items()]\n",
        "words_freq = sorted(words_freq, key = lambda x: x[1], reverse=True)\n",
        "\n",
        "frequency = pd.DataFrame(words_freq, columns = ['word', 'freq'])\n",
        "\n",
        "frequency.head(30).sort_values(by='freq').plot(x='word', y='freq', kind='barh',color='orange')\n",
        "plt.title('all words')"
      ]
    },
    {
      "cell_type": "code",
      "execution_count": null,
      "id": "3213cbae",
      "metadata": {
        "id": "3213cbae"
      },
      "outputs": [],
      "source": [
        "cv_funny = CountVectorizer(stop_words='english')\n",
        "words = cv_funny.fit_transform(funny_df['selftext'].astype(str))\n",
        "sum_words = words.sum(axis=0)\n",
        "\n",
        "words_freq = [(word, sum_words[0, i]) for word, i in cv_funny.vocabulary_.items()]\n",
        "words_freq = sorted(words_freq, key = lambda x: x[1], reverse=True)\n",
        "\n",
        "funny_frequency = pd.DataFrame(words_freq, columns = ['word', 'freq'])\n",
        "\n",
        "funny_frequency.head(30).sort_values(by='freq').plot(x='word', y='freq', kind='barh')\n",
        "plt.title('funny')"
      ]
    },
    {
      "cell_type": "code",
      "execution_count": null,
      "id": "1a55a47b",
      "metadata": {
        "id": "1a55a47b"
      },
      "outputs": [],
      "source": [
        "cv_notfunny = CountVectorizer(stop_words='english')\n",
        "words = cv_notfunny.fit_transform(notfunny_df['selftext'].astype(str))\n",
        "sum_words = words.sum(axis=0)\n",
        "\n",
        "words_freq = [(word, sum_words[0, i]) for word, i in cv_notfunny.vocabulary_.items()]\n",
        "words_freq = sorted(words_freq, key = lambda x: x[1], reverse=True)\n",
        "\n",
        "notfunny_frequency = pd.DataFrame(words_freq, columns = ['word', 'freq'])\n",
        "\n",
        "notfunny_frequency.head(30).sort_values(by='freq').plot(x='word', y='freq', kind='barh', color='green')\n",
        "plt.title('not funny')"
      ]
    },
    {
      "cell_type": "code",
      "execution_count": null,
      "id": "312f116d",
      "metadata": {
        "id": "312f116d"
      },
      "outputs": [],
      "source": [
        "# funny words\n",
        "top_funny_words = list(set(funny_frequency['word'].head(10)).difference(set(notfunny_frequency['word'].head(10))))\n",
        "top_notfunny_words = list(set(notfunny_frequency['word'].head(10)).difference(set(funny_frequency['word'].head(10))))"
      ]
    },
    {
      "cell_type": "code",
      "execution_count": null,
      "id": "81e43485",
      "metadata": {
        "id": "81e43485"
      },
      "outputs": [],
      "source": [
        "top_funny_words"
      ]
    },
    {
      "cell_type": "code",
      "execution_count": null,
      "id": "1d7cbb09",
      "metadata": {
        "id": "1d7cbb09"
      },
      "outputs": [],
      "source": [
        "top_notfunny_words"
      ]
    },
    {
      "cell_type": "code",
      "execution_count": null,
      "id": "f97d15a3",
      "metadata": {
        "scrolled": true,
        "id": "f97d15a3"
      },
      "outputs": [],
      "source": [
        "tokenized_selftext = train['selftext'].apply(lambda x:str(x).lower().split())\n",
        "\n",
        "import gensim\n",
        "\n",
        "model_w2v_punchline = gensim.models.Word2Vec(\n",
        "    tokenized_selftext,\n",
        "    # dimension (feature numbers)\n",
        "    vector_size=200,\n",
        "    # size of context window\n",
        "    window = 10,\n",
        "    min_count=2,\n",
        "    sg = 1,\n",
        "    hs = 0,\n",
        "    negative = 10,\n",
        "    workers = 2,\n",
        ")\n",
        "model_w2v_punchline.train(tokenized_title, total_examples=len(train['selftext']), epochs=20)"
      ]
    },
    {
      "cell_type": "code",
      "execution_count": null,
      "id": "906d0b77",
      "metadata": {
        "scrolled": false,
        "id": "906d0b77"
      },
      "outputs": [],
      "source": [
        "for word in top_funny_words:\n",
        "    print(word, '\\n')\n",
        "    most_similar_words = model_w2v.wv.most_similar(positive=f'{word}')\n",
        "    for sim_word, score in most_similar_words:\n",
        "        print(f\"     {sim_word}: {score}\")\n",
        "    print('.....')"
      ]
    },
    {
      "cell_type": "code",
      "execution_count": null,
      "id": "922ecf64",
      "metadata": {
        "scrolled": true,
        "id": "922ecf64"
      },
      "outputs": [],
      "source": [
        "for word in top_notfunny_words:\n",
        "    print(word, '\\n')\n",
        "    most_similar_words = model_w2v.wv.most_similar(positive=f'{word}')\n",
        "    for sim_word, score in most_similar_words:\n",
        "        print(f\"     {sim_word}: {score}\")\n",
        "    print('.....')"
      ]
    },
    {
      "cell_type": "code",
      "execution_count": null,
      "id": "96106efd",
      "metadata": {
        "id": "96106efd"
      },
      "outputs": [],
      "source": [
        "# def sample_jokes(dataframe, num_jokes=10, tokenize=False):\n",
        "#     if tokenize:\n",
        "#         for i in range(num_jokes):\n",
        "#             joke = train[['title', 'selftext', 'target']].sample(1)\n",
        "#             print(f'Joke #{i+1}')\n",
        "#             print(joke['title'].iloc[0].split(' '))\n",
        "#             print('.....................')\n",
        "#             print(joke['selftext'].iloc[0].split(' '))\n",
        "#             print('Is It Funny? ----> ', joke['target'].iloc[0])\n",
        "#             print('\\n')\n",
        "        \n",
        "#     for i in range(num_jokes):\n",
        "#         joke = train[['title', 'selftext', 'target']].sample(1)\n",
        "#         print(f'Joke #{i+1}')\n",
        "#         print(joke['title'].iloc[0])\n",
        "#         print('.....................')\n",
        "#         print(joke['selftext'].iloc[0])\n",
        "#         print('Is It Funny? ----> ', joke['target'].iloc[0])\n",
        "#         print('\\n')\n",
        "# sample_jokes(train, 10, tokenize=True)"
      ]
    },
    {
      "cell_type": "code",
      "execution_count": null,
      "id": "e9410c8b",
      "metadata": {
        "id": "e9410c8b",
        "outputId": "b58bb5ca-941e-446e-a705-56c0bdb7fd00"
      },
      "outputs": [
        {
          "ename": "TypeError",
          "evalue": "unhashable type: 'list'",
          "output_type": "error",
          "traceback": [
            "\u001b[0;31m---------------------------------------------------------------------------\u001b[0m",
            "\u001b[0;31mTypeError\u001b[0m                                 Traceback (most recent call last)",
            "\u001b[0;32m<ipython-input-61-7a893ab89ce7>\u001b[0m in \u001b[0;36m<module>\u001b[0;34m\u001b[0m\n\u001b[1;32m      6\u001b[0m     \u001b[0mfunny_words\u001b[0m\u001b[0;34m.\u001b[0m\u001b[0mappend\u001b[0m\u001b[0;34m(\u001b[0m\u001b[0mfunny_words_selftext\u001b[0m\u001b[0;34m)\u001b[0m\u001b[0;34m\u001b[0m\u001b[0;34m\u001b[0m\u001b[0m\n\u001b[1;32m      7\u001b[0m \u001b[0;34m\u001b[0m\u001b[0m\n\u001b[0;32m----> 8\u001b[0;31m \u001b[0mfunny_words_vocab\u001b[0m \u001b[0;34m=\u001b[0m \u001b[0mset\u001b[0m\u001b[0;34m(\u001b[0m\u001b[0mfunny_words\u001b[0m\u001b[0;34m)\u001b[0m\u001b[0;34m\u001b[0m\u001b[0;34m\u001b[0m\u001b[0m\n\u001b[0m\u001b[1;32m      9\u001b[0m \u001b[0;34m\u001b[0m\u001b[0m\n\u001b[1;32m     10\u001b[0m \u001b[0mnot_funny_words\u001b[0m \u001b[0;34m=\u001b[0m \u001b[0;34m[\u001b[0m\u001b[0;34m]\u001b[0m\u001b[0;34m\u001b[0m\u001b[0;34m\u001b[0m\u001b[0m\n",
            "\u001b[0;31mTypeError\u001b[0m: unhashable type: 'list'"
          ]
        }
      ],
      "source": [
        "# funny_words = []\n",
        "# for i, row in funny_df[['title', 'selftext']].iterrows():\n",
        "#     funny_words_title = [word for word in row['title'].split()]\n",
        "#     funny_words.append(funny_words_title)\n",
        "#     funny_words_selftext = [word for word in row['selftext'].split()]\n",
        "#     funny_words.append(funny_words_selftext)\n",
        "    \n",
        "# funny_words_vocab = set(funny_words)\n",
        "\n",
        "# not_funny_words = []\n",
        "# for i, row in not_funny_df[['title', 'selftext']].iterrows():\n",
        "#     not_funny_words_title = [word for word in row['title'].split()]\n",
        "#     not_funny_words.append(not_funny_words_title)\n",
        "#     not_funny_words_selftext = [word for word in row['selftext'].split()]\n",
        "#     not_funny_words.append(not_funny_words_selftext)\n",
        "    \n",
        "# not_funny_words_vocab = set(not_funny_words)"
      ]
    },
    {
      "cell_type": "code",
      "execution_count": null,
      "id": "87a38531",
      "metadata": {
        "id": "87a38531"
      },
      "outputs": [],
      "source": [
        "# # unique words \n",
        "# from sklearn.feature_extraction.text import CountVectorizer\n",
        "\n",
        "# cv_funny = CountVectorizer(stop_words=None)\n",
        "# cv_not_funny = CountVectorizer(stop_words=None)\n",
        "\n",
        "# cv_funny.fit_transform(funny_df['title'])\n",
        "# cv_not_funny.fit_transform(not_funny_df['title'])\n",
        "# funny_words = set(cv_funny.vocabulary_.keys())\n",
        "# not_funny_words = set(cv_not_funny.vocabulary_.keys())\n",
        "# # get unique words that are only in funny/not funny entries\n",
        "# funny_words_title = list((funny_words).difference(not_funny_words))\n",
        "# not_funny_words_title = list((not_funny_words).difference(funny_words))\n",
        "# # funny_words_selftext = list(set(funny_frequency['selftext']).difference(set(notfunny_frequency['selftext'])))\n",
        "# # not_funny_words_selftext = list(set(notfunny_frequency['selftext']).difference(set(funny_frequency['selftext'])))\n",
        "# cv_funny.fit_transform(funny_df['selftext'])\n",
        "# cv_not_funny.fit_transform(not_funny_df['selftext'])\n",
        "# funny_words = set(cv_funny.vocabulary_.keys())\n",
        "# not_funny_words = set(cv_not_funny.vocabulary_.keys())\n",
        "# # get unique words that are only in funny/not funny entries\n",
        "# funny_words_selftext = list((funny_words).difference(not_funny_words))\n",
        "# not_funny_words_selftext = list((not_funny_words).difference(funny_words))"
      ]
    },
    {
      "cell_type": "code",
      "execution_count": null,
      "id": "c2b70022",
      "metadata": {
        "id": "c2b70022"
      },
      "outputs": [],
      "source": [
        "# cv_funny_title = CountVectorizer(stop_words=None, vocabulary = funny_words_title)\n",
        "# cv_funny_selftext = CountVectorizer(stop_words=None, vocabulary = funny_words_selftext)\n",
        "# words_title = cv_funny_title.fit_transform(funny_df['title'])\n",
        "# words_selftext = cv_funny_selftext.fit_transform(funny_df['selftext'])\n",
        "# sum_words_title = words_title.sum(axis=0)\n",
        "# sum_words_selftext = words_selftext.sum(axis=0)\n",
        "\n",
        "# words_freq_title = [(word, sum_words[0, i]) for word, i in cv_funny_titles.vocabulary_.items()]\n",
        "# words_freq_title = sorted(words_freq_title, key = lambda x: x[1], reverse=True)\n",
        "# words_freq_selftext = [(word, sum_words[0, i]) for word, i in cv_funny_selftext.vocabulary_.items()]\n",
        "# words_freq_selftext = sorted(words_freq_selftext, key = lambda x: x[1], reverse=True)\n",
        "\n",
        "# funny_frequency_title = pd.DataFrame(words_freq_title, columns = ['word', 'freq'])\n",
        "# funny_frequency_selftext = pd.DataFrame(words_freq_selftext, columns = ['word', 'freq'])\n",
        "\n",
        "# funny_frequency_title.head(30).sort_values(by='freq').plot(x='word', y='freq', kind='barh')\n",
        "# funny_frequency_selftext.head(30).sort_values(by='freq').plot(x='word', y='freq', kind='barh')\n",
        "# plt.title('Most Common Words that are only in funny titles')\n",
        "# plt.show()"
      ]
    },
    {
      "cell_type": "code",
      "execution_count": null,
      "id": "af267fc4",
      "metadata": {
        "scrolled": false,
        "id": "af267fc4"
      },
      "outputs": [],
      "source": [
        "# cv_not_funny_title = CountVectorizer(stop_words=None, vocabulary = not_funny_words_title)\n",
        "# cv_not_funny_selftext = CountVectorizer(stop_words=None, vocabulary = not_funny_words_selftext)\n",
        "# words_title = cv_not_funny_title.fit_transform(funny_df['title'])\n",
        "# words_selftext = cv_not_funny_selftext.fit_transform(funny_df['selftext'])\n",
        "# sum_words_title = words_title.sum(axis=0)\n",
        "# sum_words_selftext = words_selftext.sum(axis=0)\n",
        "\n",
        "# words_freq_title = [(word, sum_words[0, i]) for word, i in cv_not_funny_title.vocabulary_.items()]\n",
        "# words_freq_title = sorted(words_freq_title, key = lambda x: x[1], reverse=True)\n",
        "# words_freq_selftext = [(word, sum_words[0, i]) for word, i in cv_not_funny_selftext.vocabulary_.items()]\n",
        "# words_freq_selftext = sorted(words_freq_selftext, key = lambda x: x[1], reverse=True)\n",
        "\n",
        "# funny_frequency_title = pd.DataFrame(words_freq_title, columns = ['word', 'freq'])\n",
        "# funny_frequency_selftext = pd.DataFrame(words_freq_selftext, columns = ['word', 'freq'])\n",
        "\n",
        "# funny_frequency_title.head(30).sort_values(by='freq').plot(x='word', y='freq', kind='barh')\n",
        "# funny_frequency_selftext.head(30).sort_values(by='freq').plot(x='word', y='freq', kind='barh')\n",
        "# plt.title('Most Common Words that are only in funny titles')\n",
        "# plt.show()"
      ]
    },
    {
      "cell_type": "code",
      "execution_count": null,
      "id": "335659b8",
      "metadata": {
        "id": "335659b8"
      },
      "outputs": [],
      "source": [
        "# def plot_window_size_by_output(freq_table_a, freq_table_b, min_window_size=1, max_window_size=10000):\n",
        "#     from tqdm import tqdm\n",
        "#     num_elements_freq_a = []\n",
        "#     window_sizes = []\n",
        "    \n",
        "#     for window_size in tqdm(range(min_window_size, max_window_size + 1)):\n",
        "#         elements_only_in_a = list(set(freq_table_a['word'].head(window_size)).difference(set(freq_table_b['word'].head(window_size))))\n",
        "#         elements_only_in_b = list(set(freq_table_b['word'].head(window_size)).difference(set(freq_table_a['word'].head(window_size))))\n",
        "        \n",
        "#         num_elements_freq_a.append(len(elements_only_in_a))\n",
        "#         window_sizes.append(window_size)\n",
        "        \n",
        "#     sns.lineplot(x = window_sizes, y=num_elements_freq_a, color='blue')\n",
        "#     plt.xlabel('window sizes')\n",
        "#     plt.ylabel('number of unique words')\n",
        "#     plt.show()\n"
      ]
    },
    {
      "cell_type": "code",
      "execution_count": null,
      "id": "8e5b5ea2",
      "metadata": {
        "id": "8e5b5ea2"
      },
      "outputs": [],
      "source": [
        "# df_dt = df_concat.set_index('created_at', drop=True).sort_index()\n",
        "# # get difference in time and find relative frequency from the lag\n",
        "# res = (pd.Series(df_dt.index[1:]) - pd.Series(df_dt.index[:-1])).value_counts()\n",
        "# full_rng = pd.date_range(df_dt.index[0], df_dt.index[-1], freq=res.index[0])"
      ]
    },
    {
      "cell_type": "markdown",
      "id": "c26e139a",
      "metadata": {
        "id": "c26e139a"
      },
      "source": [
        "#TODO look at reading level\n",
        "- vocab\n",
        "- statistical correlations\n",
        "- probability tests\n",
        "- Topic Modeling for filtering\n",
        "- Stopwords include/not include\n",
        "- Check stopwords, add stop words\n",
        "- humor types: dark, dry, crass humor, NSFW (audience type)\n",
        "- joke similarity (clustering)"
      ]
    },
    {
      "cell_type": "code",
      "execution_count": null,
      "id": "34d46196",
      "metadata": {
        "id": "34d46196"
      },
      "outputs": [],
      "source": [
        ""
      ]
    }
  ],
  "metadata": {
    "kernelspec": {
      "display_name": "Python 3",
      "language": "python",
      "name": "python3"
    },
    "language_info": {
      "codemirror_mode": {
        "name": "ipython",
        "version": 3
      },
      "file_extension": ".py",
      "mimetype": "text/x-python",
      "name": "python",
      "nbconvert_exporter": "python",
      "pygments_lexer": "ipython3",
      "version": "3.9.4"
    },
    "colab": {
      "name": "jokes.ipynb",
      "provenance": [],
      "include_colab_link": true
    }
  },
  "nbformat": 4,
  "nbformat_minor": 5
}