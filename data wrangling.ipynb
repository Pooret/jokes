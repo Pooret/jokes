{
 "cells": [
  {
   "cell_type": "markdown",
   "id": "4573c1f8",
   "metadata": {},
   "source": [
    "### Import packages and establish notebook settings"
   ]
  },
  {
   "cell_type": "code",
   "execution_count": 1,
   "id": "27c1ebb4",
   "metadata": {
    "id": "27c1ebb4",
    "scrolled": true
   },
   "outputs": [
    {
     "name": "stderr",
     "output_type": "stream",
     "text": [
      "[nltk_data] Downloading package stopwords to\n",
      "[nltk_data]     /Users/tylerpoore/nltk_data...\n",
      "[nltk_data]   Package stopwords is already up-to-date!\n",
      "[nltk_data] Downloading package wordnet to\n",
      "[nltk_data]     /Users/tylerpoore/nltk_data...\n",
      "[nltk_data]   Package wordnet is already up-to-date!\n",
      "[nltk_data] Downloading package omw-1.4 to\n",
      "[nltk_data]     /Users/tylerpoore/nltk_data...\n",
      "[nltk_data]   Package omw-1.4 is already up-to-date!\n"
     ]
    }
   ],
   "source": [
    "# imports\n",
    "import pandas as pd\n",
    "import numpy as np\n",
    "import matplotlib.pyplot as plt\n",
    "import seaborn as sns\n",
    "from tqdm import tqdm\n",
    "import regex as re\n",
    "import pickle\n",
    "import emoji\n",
    "import unidecode\n",
    "\n",
    "import warnings\n",
    "warnings.filterwarnings('ignore')\n",
    "pd.set_option('display.html.use_mathjax', False) # normalize fonts for pandas display\n",
    "pd.options.display.max_colwidth = None\n",
    "\n",
    "# custom functions\n",
    "from utils import *"
   ]
  },
  {
   "cell_type": "markdown",
   "id": "070ca1de",
   "metadata": {},
   "source": [
    "### My Fathers Jokes"
   ]
  },
  {
   "cell_type": "code",
   "execution_count": 2,
   "id": "ae338b87",
   "metadata": {},
   "outputs": [
    {
     "name": "stdout",
     "output_type": "stream",
     "text": [
      "--------\n",
      "Police car loses wheels to thief!\n",
      "Cops are working tirelessly to nab suspect\n",
      "--------\n",
      "My friend David had his id stolen\n",
      "now he is just Dav.\n",
      "--------\n",
      "I have a few jokes about unemployed people\n",
      "but none of them ever work\n",
      "--------\n",
      "I know a gut that talked and talked and talked...\n",
      "...It was clear that there needed to be an organization similar to Q-Anon for compulive talkers called Onandon-andon\n",
      "--------\n",
      "My ex-wife still misses me.\n",
      "But her aim is starting to improve.\n",
      "--------\n",
      "An invisible man married an invisible woman.\n",
      "Their kids were nothing to look at.\n",
      "--------\n",
      "Did you know that a raven has 17 rigid feathers called pinions, while a crow only has 16?\n",
      "Apparently, the only difference between a raven and a crow is a matter of a pinion.\n",
      "--------\n",
      "A painter was the only painter in town...\n",
      "...And he tended to take advantage of this by diluting his paint a bit with turpentine. One day he was asked to paint the church steeple. He was about half done, standing high on a ladder, when a cloud suddenly came in. It started to rain washing away his paint. Then a bolt of lightning knocked him to the courtyard below the church. A booming voice from above and said, \"repaint! and thin no more\".\n",
      "--------\n",
      "I tried to remarry my ex-wife\n",
      "but she figured out that I was only after my money.\n"
     ]
    }
   ],
   "source": [
    "# Take a look at my fathers jokes\n",
    "for joke in DADS_JOKES:\n",
    "    print('--------')\n",
    "    print(f'{joke[0]}\\n{joke[1]}')"
   ]
  },
  {
   "cell_type": "markdown",
   "id": "9e53f1e0",
   "metadata": {
    "id": "9e53f1e0"
   },
   "source": [
    "### Read-in and explore the dataset\n",
    "The dataset is downloaded and read into a pandas data frame. A quick examination of the data shows that the dataset contains one million instances with 12 features, most of which aren't relevent to"
   ]
  },
  {
   "cell_type": "code",
   "execution_count": 3,
   "id": "4eaa6dc4",
   "metadata": {
    "id": "4eaa6dc4"
   },
   "outputs": [],
   "source": [
    "# extract the data\n",
    "df = pd.read_csv('https://query.data.world/s/htrdsouy327xqa4w457qx6k6sjtj6r')"
   ]
  },
  {
   "cell_type": "code",
   "execution_count": 4,
   "id": "b0c78473",
   "metadata": {
    "colab": {
     "base_uri": "https://localhost:8080/",
     "height": 206
    },
    "id": "b0c78473",
    "outputId": "b9803f32-6a06-46ae-8b9b-729235c75338"
   },
   "outputs": [
    {
     "data": {
      "text/html": [
       "<div>\n",
       "<style scoped>\n",
       "    .dataframe tbody tr th:only-of-type {\n",
       "        vertical-align: middle;\n",
       "    }\n",
       "\n",
       "    .dataframe tbody tr th {\n",
       "        vertical-align: top;\n",
       "    }\n",
       "\n",
       "    .dataframe thead th {\n",
       "        text-align: right;\n",
       "    }\n",
       "</style>\n",
       "<table border=\"1\" class=\"dataframe tex2jax_ignore\">\n",
       "  <thead>\n",
       "    <tr style=\"text-align: right;\">\n",
       "      <th></th>\n",
       "      <th>type</th>\n",
       "      <th>id</th>\n",
       "      <th>subreddit.id</th>\n",
       "      <th>subreddit.name</th>\n",
       "      <th>subreddit.nsfw</th>\n",
       "      <th>created_utc</th>\n",
       "      <th>permalink</th>\n",
       "      <th>domain</th>\n",
       "      <th>url</th>\n",
       "      <th>selftext</th>\n",
       "      <th>title</th>\n",
       "      <th>score</th>\n",
       "    </tr>\n",
       "  </thead>\n",
       "  <tbody>\n",
       "    <tr>\n",
       "      <th>0</th>\n",
       "      <td>post</td>\n",
       "      <td>ftbp1i</td>\n",
       "      <td>2qh72</td>\n",
       "      <td>jokes</td>\n",
       "      <td>False</td>\n",
       "      <td>1585785543</td>\n",
       "      <td>https://old.reddit.com/r/Jokes/comments/ftbp1i/i_am_soooo_glad_im_not_circumcised/</td>\n",
       "      <td>self.jokes</td>\n",
       "      <td>NaN</td>\n",
       "      <td>My corona is covered with foreskin so it is not exposed to viruses.</td>\n",
       "      <td>I am soooo glad I'm not circumcised!</td>\n",
       "      <td>2</td>\n",
       "    </tr>\n",
       "    <tr>\n",
       "      <th>1</th>\n",
       "      <td>post</td>\n",
       "      <td>ftboup</td>\n",
       "      <td>2qh72</td>\n",
       "      <td>jokes</td>\n",
       "      <td>False</td>\n",
       "      <td>1585785522</td>\n",
       "      <td>https://old.reddit.com/r/Jokes/comments/ftboup/did_you_know_google_now_has_a_platform_for/</td>\n",
       "      <td>self.jokes</td>\n",
       "      <td>NaN</td>\n",
       "      <td>It's called Google Sheets.</td>\n",
       "      <td>Did you know Google now has a platform for recording your bowel movements?</td>\n",
       "      <td>9</td>\n",
       "    </tr>\n",
       "    <tr>\n",
       "      <th>2</th>\n",
       "      <td>post</td>\n",
       "      <td>ftbopj</td>\n",
       "      <td>2qh72</td>\n",
       "      <td>jokes</td>\n",
       "      <td>False</td>\n",
       "      <td>1585785508</td>\n",
       "      <td>https://old.reddit.com/r/Jokes/comments/ftbopj/what_is_the_difference_between_my_wife_and_my/</td>\n",
       "      <td>self.jokes</td>\n",
       "      <td>NaN</td>\n",
       "      <td>The vacuum doesn't snore after sex.\\n\\n&amp;amp;#x200B;\\n\\nApril fools, I don't have a wife.</td>\n",
       "      <td>What is the difference between my wife and my vacuum?</td>\n",
       "      <td>15</td>\n",
       "    </tr>\n",
       "    <tr>\n",
       "      <th>3</th>\n",
       "      <td>post</td>\n",
       "      <td>ftbnxh</td>\n",
       "      <td>2qh72</td>\n",
       "      <td>jokes</td>\n",
       "      <td>False</td>\n",
       "      <td>1585785428</td>\n",
       "      <td>https://old.reddit.com/r/Jokes/comments/ftbnxh/my_last_joke_for_now/</td>\n",
       "      <td>self.jokes</td>\n",
       "      <td>NaN</td>\n",
       "      <td>[removed]</td>\n",
       "      <td>My last joke for now.</td>\n",
       "      <td>9</td>\n",
       "    </tr>\n",
       "    <tr>\n",
       "      <th>4</th>\n",
       "      <td>post</td>\n",
       "      <td>ftbjpg</td>\n",
       "      <td>2qh72</td>\n",
       "      <td>jokes</td>\n",
       "      <td>False</td>\n",
       "      <td>1585785009</td>\n",
       "      <td>https://old.reddit.com/r/Jokes/comments/ftbjpg/the_nintendo_64_turns_18_this_week/</td>\n",
       "      <td>self.jokes</td>\n",
       "      <td>NaN</td>\n",
       "      <td>[removed]</td>\n",
       "      <td>The Nintendo 64 turns 18 this week...</td>\n",
       "      <td>134</td>\n",
       "    </tr>\n",
       "  </tbody>\n",
       "</table>\n",
       "</div>"
      ],
      "text/plain": [
       "   type      id subreddit.id subreddit.name  subreddit.nsfw  created_utc  \\\n",
       "0  post  ftbp1i        2qh72          jokes           False   1585785543   \n",
       "1  post  ftboup        2qh72          jokes           False   1585785522   \n",
       "2  post  ftbopj        2qh72          jokes           False   1585785508   \n",
       "3  post  ftbnxh        2qh72          jokes           False   1585785428   \n",
       "4  post  ftbjpg        2qh72          jokes           False   1585785009   \n",
       "\n",
       "                                                                                       permalink  \\\n",
       "0             https://old.reddit.com/r/Jokes/comments/ftbp1i/i_am_soooo_glad_im_not_circumcised/   \n",
       "1     https://old.reddit.com/r/Jokes/comments/ftboup/did_you_know_google_now_has_a_platform_for/   \n",
       "2  https://old.reddit.com/r/Jokes/comments/ftbopj/what_is_the_difference_between_my_wife_and_my/   \n",
       "3                           https://old.reddit.com/r/Jokes/comments/ftbnxh/my_last_joke_for_now/   \n",
       "4             https://old.reddit.com/r/Jokes/comments/ftbjpg/the_nintendo_64_turns_18_this_week/   \n",
       "\n",
       "       domain  url  \\\n",
       "0  self.jokes  NaN   \n",
       "1  self.jokes  NaN   \n",
       "2  self.jokes  NaN   \n",
       "3  self.jokes  NaN   \n",
       "4  self.jokes  NaN   \n",
       "\n",
       "                                                                                   selftext  \\\n",
       "0                       My corona is covered with foreskin so it is not exposed to viruses.   \n",
       "1                                                                It's called Google Sheets.   \n",
       "2  The vacuum doesn't snore after sex.\\n\\n&amp;#x200B;\\n\\nApril fools, I don't have a wife.   \n",
       "3                                                                                 [removed]   \n",
       "4                                                                                 [removed]   \n",
       "\n",
       "                                                                        title  \\\n",
       "0                                        I am soooo glad I'm not circumcised!   \n",
       "1  Did you know Google now has a platform for recording your bowel movements?   \n",
       "2                       What is the difference between my wife and my vacuum?   \n",
       "3                                                       My last joke for now.   \n",
       "4                                       The Nintendo 64 turns 18 this week...   \n",
       "\n",
       "   score  \n",
       "0      2  \n",
       "1      9  \n",
       "2     15  \n",
       "3      9  \n",
       "4    134  "
      ]
     },
     "execution_count": 4,
     "metadata": {},
     "output_type": "execute_result"
    }
   ],
   "source": [
    "# examine the data\n",
    "df.head()"
   ]
  },
  {
   "cell_type": "code",
   "execution_count": 5,
   "id": "54da804b",
   "metadata": {
    "colab": {
     "base_uri": "https://localhost:8080/"
    },
    "id": "54da804b",
    "outputId": "4e45621b-f872-4292-cf28-6c174245ca18",
    "scrolled": false
   },
   "outputs": [
    {
     "data": {
      "text/plain": [
       "(1000000, 12)"
      ]
     },
     "execution_count": 5,
     "metadata": {},
     "output_type": "execute_result"
    }
   ],
   "source": [
    "df.shape"
   ]
  },
  {
   "cell_type": "code",
   "execution_count": 6,
   "id": "v_7e3Il9H9fy",
   "metadata": {
    "colab": {
     "base_uri": "https://localhost:8080/",
     "height": 990
    },
    "id": "v_7e3Il9H9fy",
    "outputId": "3d7d9ee1-c3f3-46ed-a9a9-c410d7612061"
   },
   "outputs": [
    {
     "data": {
      "text/html": [
       "<div>\n",
       "<style scoped>\n",
       "    .dataframe tbody tr th:only-of-type {\n",
       "        vertical-align: middle;\n",
       "    }\n",
       "\n",
       "    .dataframe tbody tr th {\n",
       "        vertical-align: top;\n",
       "    }\n",
       "\n",
       "    .dataframe thead th {\n",
       "        text-align: right;\n",
       "    }\n",
       "</style>\n",
       "<table border=\"1\" class=\"dataframe tex2jax_ignore\">\n",
       "  <thead>\n",
       "    <tr style=\"text-align: right;\">\n",
       "      <th></th>\n",
       "      <th>title</th>\n",
       "      <th>selftext</th>\n",
       "      <th>score</th>\n",
       "    </tr>\n",
       "  </thead>\n",
       "  <tbody>\n",
       "    <tr>\n",
       "      <th>0</th>\n",
       "      <td>I am soooo glad I'm not circumcised!</td>\n",
       "      <td>My corona is covered with foreskin so it is not exposed to viruses.</td>\n",
       "      <td>2</td>\n",
       "    </tr>\n",
       "    <tr>\n",
       "      <th>1</th>\n",
       "      <td>Did you know Google now has a platform for recording your bowel movements?</td>\n",
       "      <td>It's called Google Sheets.</td>\n",
       "      <td>9</td>\n",
       "    </tr>\n",
       "    <tr>\n",
       "      <th>2</th>\n",
       "      <td>What is the difference between my wife and my vacuum?</td>\n",
       "      <td>The vacuum doesn't snore after sex.\\n\\n&amp;amp;#x200B;\\n\\nApril fools, I don't have a wife.</td>\n",
       "      <td>15</td>\n",
       "    </tr>\n",
       "    <tr>\n",
       "      <th>3</th>\n",
       "      <td>My last joke for now.</td>\n",
       "      <td>[removed]</td>\n",
       "      <td>9</td>\n",
       "    </tr>\n",
       "    <tr>\n",
       "      <th>4</th>\n",
       "      <td>The Nintendo 64 turns 18 this week...</td>\n",
       "      <td>[removed]</td>\n",
       "      <td>134</td>\n",
       "    </tr>\n",
       "    <tr>\n",
       "      <th>5</th>\n",
       "      <td>Sex with teacher.</td>\n",
       "      <td>[removed]</td>\n",
       "      <td>1</td>\n",
       "    </tr>\n",
       "    <tr>\n",
       "      <th>6</th>\n",
       "      <td>Another long one.</td>\n",
       "      <td>[removed]</td>\n",
       "      <td>8</td>\n",
       "    </tr>\n",
       "    <tr>\n",
       "      <th>7</th>\n",
       "      <td>What did the French man say to the attractive teletubby?</td>\n",
       "      <td>Oo..lala...</td>\n",
       "      <td>2</td>\n",
       "    </tr>\n",
       "    <tr>\n",
       "      <th>8</th>\n",
       "      <td>A Priest takes a walk down to the docks one day</td>\n",
       "      <td>[removed]</td>\n",
       "      <td>88</td>\n",
       "    </tr>\n",
       "    <tr>\n",
       "      <th>9</th>\n",
       "      <td>A long joke.</td>\n",
       "      <td>[removed]</td>\n",
       "      <td>4</td>\n",
       "    </tr>\n",
       "  </tbody>\n",
       "</table>\n",
       "</div>"
      ],
      "text/plain": [
       "                                                                        title  \\\n",
       "0                                        I am soooo glad I'm not circumcised!   \n",
       "1  Did you know Google now has a platform for recording your bowel movements?   \n",
       "2                       What is the difference between my wife and my vacuum?   \n",
       "3                                                       My last joke for now.   \n",
       "4                                       The Nintendo 64 turns 18 this week...   \n",
       "5                                                           Sex with teacher.   \n",
       "6                                                           Another long one.   \n",
       "7                    What did the French man say to the attractive teletubby?   \n",
       "8                             A Priest takes a walk down to the docks one day   \n",
       "9                                                                A long joke.   \n",
       "\n",
       "                                                                                   selftext  \\\n",
       "0                       My corona is covered with foreskin so it is not exposed to viruses.   \n",
       "1                                                                It's called Google Sheets.   \n",
       "2  The vacuum doesn't snore after sex.\\n\\n&amp;#x200B;\\n\\nApril fools, I don't have a wife.   \n",
       "3                                                                                 [removed]   \n",
       "4                                                                                 [removed]   \n",
       "5                                                                                 [removed]   \n",
       "6                                                                                 [removed]   \n",
       "7                                                                               Oo..lala...   \n",
       "8                                                                                 [removed]   \n",
       "9                                                                                 [removed]   \n",
       "\n",
       "   score  \n",
       "0      2  \n",
       "1      9  \n",
       "2     15  \n",
       "3      9  \n",
       "4    134  \n",
       "5      1  \n",
       "6      8  \n",
       "7      2  \n",
       "8     88  \n",
       "9      4  "
      ]
     },
     "execution_count": 6,
     "metadata": {},
     "output_type": "execute_result"
    }
   ],
   "source": [
    "df[['title', 'selftext', 'score']].head(10)"
   ]
  },
  {
   "cell_type": "code",
   "execution_count": 7,
   "id": "5e176074",
   "metadata": {
    "colab": {
     "base_uri": "https://localhost:8080/"
    },
    "id": "5e176074",
    "outputId": "ca06c1f9-0fcc-4286-94a8-06711904b80a",
    "scrolled": true
   },
   "outputs": [
    {
     "data": {
      "text/plain": [
       "count    1000000.000000\n",
       "mean         139.691119\n",
       "std         1674.046005\n",
       "min            0.000000\n",
       "25%            0.000000\n",
       "50%            1.000000\n",
       "75%            7.000000\n",
       "max       142733.000000\n",
       "Name: score, dtype: float64"
      ]
     },
     "execution_count": 7,
     "metadata": {},
     "output_type": "execute_result"
    }
   ],
   "source": [
    "df['score'].describe()"
   ]
  },
  {
   "cell_type": "code",
   "execution_count": 8,
   "id": "I_ycv4TfIBzb",
   "metadata": {
    "colab": {
     "base_uri": "https://localhost:8080/",
     "height": 352
    },
    "id": "I_ycv4TfIBzb",
    "outputId": "e7bc1624-64f9-429f-ad6d-b373ff11535d",
    "scrolled": false
   },
   "outputs": [
    {
     "name": "stdout",
     "output_type": "stream",
     "text": [
      "Saving figure scores distribution\n"
     ]
    },
    {
     "data": {
      "image/png": "[encoded data removed]",
      "text/plain": [
       "<Figure size 432x288 with 1 Axes>"
      ]
     },
     "metadata": {},
     "output_type": "display_data"
    }
   ],
   "source": [
    "plt.hist(df['score'], log=True)\n",
    "plt.title('histogram of log score')\n",
    "save_fig('scores distribution')"
   ]
  },
  {
   "cell_type": "code",
   "execution_count": 9,
   "id": "3b7e6a65",
   "metadata": {
    "id": "3b7e6a65"
   },
   "outputs": [],
   "source": [
    "# define some parameters \n",
    "CLASS_SIZE = 50000\n",
    "TRAIN_SIZE = 0.95\n",
    "MIN_UPVOTES = 100\n",
    "MAX_UPVOTES = df['score'].max()\n",
    "TITLE_MAX_LEN = 150\n",
    "SELFTEXT_MAX_LEN = 500"
   ]
  },
  {
   "cell_type": "markdown",
   "id": "c0c6c660",
   "metadata": {},
   "source": [
    "## Data Cleaning\n",
    "\n",
    "Our raw data is truly unruly, being sourced from the [r/Jokes subreddit](https://www.reddit.com/r/Jokes/), and so will require a fair bit of wrangling to get into a useable form. Part of the challenge is that the relevent information we are looking to isolate (the joke and punchline) are within a sea of noisy data; raw internet data tends to be replete with odd characters, emojis, hmtl character references, links, mispellings, null values, and user edits that mask the useful data, making the data more unruly and harder to work with. I will thus be proceeding carefully by closely examing the data during cleaning and making judicious use of test cases to ensure that I am getting the results I expect."
   ]
  },
  {
   "cell_type": "code",
   "execution_count": 10,
   "id": "6634aba8",
   "metadata": {
    "id": "6634aba8"
   },
   "outputs": [],
   "source": [
    "# boolean masks\n",
    "# where selftext isnull (no punchline)\n",
    "is_null = df['selftext'].isnull()\n",
    "\n",
    "# where title or post were removed by reddit user/mod\n",
    "removed = (df['selftext'].str.contains(r\"(?i)[^a-z\\s]removed[^a-z\\s]\", regex=True)) | (df['title'].str.contains(r\"(?i)[^a-z\\s]removed[^a-z\\s]\", regex=True)) \n",
    "\n",
    "# where tile or post were deleted by the original poster\n",
    "deleted = (df['selftext'].str.contains(r\"(?i)[^a-z\\s]deleted[^a-z\\s]\", regex=True)) | (df['title'].str.contains(r\"(?i)[^a-z\\s]deleted[^a-z\\s]\", regex=True)) \n",
    "\n",
    "# reposts\n",
    "duplicated = df.duplicated(subset=['title', 'selftext'], keep='first')\n",
    "\n",
    "# where upvotes is 0 (reddit automatically provides user 1 upvote)\n",
    "neg_class = df['score'] == 0"
   ]
  },
  {
   "cell_type": "code",
   "execution_count": 11,
   "id": "ceea2142",
   "metadata": {
    "colab": {
     "base_uri": "https://localhost:8080/"
    },
    "id": "ceea2142",
    "outputId": "8d36c823-fd0f-42b3-e140-7f0427ed4a00",
    "scrolled": true
   },
   "outputs": [
    {
     "data": {
      "text/plain": [
       "(565332, 12)"
      ]
     },
     "execution_count": 11,
     "metadata": {},
     "output_type": "execute_result"
    }
   ],
   "source": [
    "# get entries that aren't removed or deleted\n",
    "df_cleaned = df[~removed][~deleted][~duplicated].copy()\n",
    "df_cleaned.shape"
   ]
  },
  {
   "cell_type": "code",
   "execution_count": 12,
   "id": "a311fd0b",
   "metadata": {
    "colab": {
     "base_uri": "https://localhost:8080/",
     "height": 363
    },
    "id": "as28CaP0Icat",
    "outputId": "73cb2052-445d-4d68-c47f-5cf1bd06ea93",
    "scrolled": false
   },
   "outputs": [
    {
     "name": "stdout",
     "output_type": "stream",
     "text": [
      "what are NaNs?\n"
     ]
    },
    {
     "data": {
      "text/html": [
       "<div>\n",
       "<style scoped>\n",
       "    .dataframe tbody tr th:only-of-type {\n",
       "        vertical-align: middle;\n",
       "    }\n",
       "\n",
       "    .dataframe tbody tr th {\n",
       "        vertical-align: top;\n",
       "    }\n",
       "\n",
       "    .dataframe thead th {\n",
       "        text-align: right;\n",
       "    }\n",
       "</style>\n",
       "<table border=\"1\" class=\"dataframe tex2jax_ignore\">\n",
       "  <thead>\n",
       "    <tr style=\"text-align: right;\">\n",
       "      <th></th>\n",
       "      <th>title</th>\n",
       "      <th>selftext</th>\n",
       "      <th>score</th>\n",
       "    </tr>\n",
       "  </thead>\n",
       "  <tbody>\n",
       "    <tr>\n",
       "      <th>308797</th>\n",
       "      <td>What happens when you cross a joke with a rhetorical question?</td>\n",
       "      <td>NaN</td>\n",
       "      <td>3938</td>\n",
       "    </tr>\n",
       "    <tr>\n",
       "      <th>625315</th>\n",
       "      <td>The funniest /r/jokes has ever been</td>\n",
       "      <td>NaN</td>\n",
       "      <td>67950</td>\n",
       "    </tr>\n",
       "    <tr>\n",
       "      <th>914649</th>\n",
       "      <td>Shout out to people who don't know the opposite of in</td>\n",
       "      <td>NaN</td>\n",
       "      <td>4580</td>\n",
       "    </tr>\n",
       "    <tr>\n",
       "      <th>915783</th>\n",
       "      <td>5 out of 6 scientists say Russian Roulette is safe.</td>\n",
       "      <td>NaN</td>\n",
       "      <td>10085</td>\n",
       "    </tr>\n",
       "    <tr>\n",
       "      <th>919422</th>\n",
       "      <td>Accordion to a recent survey, replacing words with the names of musical instruments in a sentence often goes undetected.</td>\n",
       "      <td>NaN</td>\n",
       "      <td>12580</td>\n",
       "    </tr>\n",
       "    <tr>\n",
       "      <th>927114</th>\n",
       "      <td>Never make fun of a fat girl with a lisp, she's probably thick and tired of it.</td>\n",
       "      <td>NaN</td>\n",
       "      <td>7848</td>\n",
       "    </tr>\n",
       "    <tr>\n",
       "      <th>931755</th>\n",
       "      <td>6:30 is the best time on a clock, hands down.</td>\n",
       "      <td>NaN</td>\n",
       "      <td>2173</td>\n",
       "    </tr>\n",
       "    <tr>\n",
       "      <th>933895</th>\n",
       "      <td>Bruce Jenner winning woman of the year just proves that men are better than women at everything, including being a woman</td>\n",
       "      <td>NaN</td>\n",
       "      <td>11999</td>\n",
       "    </tr>\n",
       "    <tr>\n",
       "      <th>935376</th>\n",
       "      <td>I often say to myself, \"I can't believe that cloning machine worked.\"</td>\n",
       "      <td>NaN</td>\n",
       "      <td>6524</td>\n",
       "    </tr>\n",
       "    <tr>\n",
       "      <th>937567</th>\n",
       "      <td>How Long is a Chinese name.</td>\n",
       "      <td>NaN</td>\n",
       "      <td>2404</td>\n",
       "    </tr>\n",
       "  </tbody>\n",
       "</table>\n",
       "</div>"
      ],
      "text/plain": [
       "                                                                                                                           title  \\\n",
       "308797                                                            What happens when you cross a joke with a rhetorical question?   \n",
       "625315                                                                                       The funniest /r/jokes has ever been   \n",
       "914649                                                                     Shout out to people who don't know the opposite of in   \n",
       "915783                                                                       5 out of 6 scientists say Russian Roulette is safe.   \n",
       "919422  Accordion to a recent survey, replacing words with the names of musical instruments in a sentence often goes undetected.   \n",
       "927114                                           Never make fun of a fat girl with a lisp, she's probably thick and tired of it.   \n",
       "931755                                                                             6:30 is the best time on a clock, hands down.   \n",
       "933895  Bruce Jenner winning woman of the year just proves that men are better than women at everything, including being a woman   \n",
       "935376                                                     I often say to myself, \"I can't believe that cloning machine worked.\"   \n",
       "937567                                                                                               How Long is a Chinese name.   \n",
       "\n",
       "       selftext  score  \n",
       "308797      NaN   3938  \n",
       "625315      NaN  67950  \n",
       "914649      NaN   4580  \n",
       "915783      NaN  10085  \n",
       "919422      NaN  12580  \n",
       "927114      NaN   7848  \n",
       "931755      NaN   2173  \n",
       "933895      NaN  11999  \n",
       "935376      NaN   6524  \n",
       "937567      NaN   2404  "
      ]
     },
     "metadata": {},
     "output_type": "display_data"
    }
   ],
   "source": [
    "print(\"what are NaNs?\")\n",
    "display(df_cleaned[df_cleaned['score'] > 2000][is_null][['title', 'selftext', 'score']].head(10))\n",
    "df_cleaned = df_cleaned[~is_null]"
   ]
  },
  {
   "cell_type": "code",
   "execution_count": 13,
   "id": "98bd5af8",
   "metadata": {
    "scrolled": false
   },
   "outputs": [
    {
     "name": "stdout",
     "output_type": "stream",
     "text": [
      "samples instances containing pattern :\n"
     ]
    },
    {
     "data": {
      "text/html": [
       "<div>\n",
       "<style scoped>\n",
       "    .dataframe tbody tr th:only-of-type {\n",
       "        vertical-align: middle;\n",
       "    }\n",
       "\n",
       "    .dataframe tbody tr th {\n",
       "        vertical-align: top;\n",
       "    }\n",
       "\n",
       "    .dataframe thead th {\n",
       "        text-align: right;\n",
       "    }\n",
       "</style>\n",
       "<table border=\"1\" class=\"dataframe tex2jax_ignore\">\n",
       "  <thead>\n",
       "    <tr style=\"text-align: right;\">\n",
       "      <th></th>\n",
       "      <th>title</th>\n",
       "      <th>selftext</th>\n",
       "    </tr>\n",
       "  </thead>\n",
       "  <tbody>\n",
       "    <tr>\n",
       "      <th>2</th>\n",
       "      <td>What is the difference between my wife and my vacuum?</td>\n",
       "      <td>The vacuum doesn't snore after sex.\\n\\n&amp;amp;#x200B;\\n\\nApril fools, I don't have a wife.</td>\n",
       "    </tr>\n",
       "    <tr>\n",
       "      <th>216</th>\n",
       "      <td>Chief Walking Horse has a terrible case of constipation</td>\n",
       "      <td>So he travels to the local outpost, where he sits down to talk with the Army doctor.\\n\\n&amp;amp;#x200B;\\n\\n\"Many moons pass, and chief Walking Horse no go number two.\" He complains.\\n\\n&amp;amp;#x200B;\\n\\nThe doctor reaches into his cabinet and fishes out a mild laxative.\\n\\n&amp;amp;#x200B;\\n\\n\"Here, Chief, take 1 teaspoon of this every 3 hours, and  come back and see me in two days.\"\\n\\n&amp;amp;#x200B;\\n\\nThe chief took the little bottle, and left back to his village.\\n\\n&amp;amp;#x200B;\\n\\nTwo days later, ask the Doctor requested, he's back.\\n\\n&amp;amp;#x200B;\\n\\n\"Chief Walking Horse, have you moved yet?\"\\n\\n&amp;amp;#x200B;\\n\\nThe chief slowly shakes his head no.\\n\\n&amp;amp;#x200B;\\n\\n\"OK, Chief, I'm going to have you double that dosage.  I want you to take 2 teaspoons every 3 hours.\"\\n\\n&amp;amp;#x200B;\\n\\nThe chief nods his head yes, and leaves to return to his village.\\n\\n&amp;amp;#x200B;\\n\\nThis repeats itself a couple more times, and the Doctor is growing very concerned.  Finally, out of frustration, he grabs another bottle of laxative, and tells the chief to drink the whole thing.\\n\\n&amp;amp;#x200B;\\n\\nA few days later, while visiting a close by settlement, the Doctor sees the Chief.\\n\\n&amp;amp;#x200B;\\n\\n\"Chief Walking Horse!  It is good to see you.  Tell me, have you moved yet?\"\\n\\n&amp;amp;#x200B;\\n\\nThe chief looks at him with a grimace and says. \"Chief Moved yesterday. Teepee full of shit!\"</td>\n",
       "    </tr>\n",
       "    <tr>\n",
       "      <th>464</th>\n",
       "      <td>How do you waste people's time?</td>\n",
       "      <td>&amp;gt;!not like this !&amp;lt;/ &amp;gt;! not like this  not like this    !&amp;lt;/&amp;gt;! /  not like this!&amp;lt;\\n\\n&amp;amp;#x200B;\\n\\n&amp;gt;!not like this tooo!&amp;lt;   .&amp;gt;!not like this also   !&amp;lt;&amp;gt;!look somewhere else!&amp;lt;\\n\\n&amp;amp;#x200B;\\n\\n&amp;gt;!Not like this either  !&amp;lt; .   &amp;gt;!   not like this  !&amp;lt;.&amp;gt;! not like this!&amp;lt;</td>\n",
       "    </tr>\n",
       "    <tr>\n",
       "      <th>532</th>\n",
       "      <td>I touched my girlfriends ass and she farted.</td>\n",
       "      <td>&amp;amp;#x200B;\\n\\n&amp;amp;#x200B;\\n\\nIt was a booty trap.</td>\n",
       "    </tr>\n",
       "    <tr>\n",
       "      <th>700</th>\n",
       "      <td>Lost (Limerick and Joke)</td>\n",
       "      <td>There once was a man who was always lost.\\n\\nHe would buy a map at any cost.\\n\\nOne day on a trip,\\n\\nhe heard his map rip,\\n\\nso into a trashcan, he tossed.\\n\\n&amp;amp;#x200B;\\n\\nHe wandered and wandered with no aim.\\n\\nHe started to think it was a game.\\n\\nBut with no end in sight\\n\\nand quickly losing light,\\n\\nhe started back the way he came.\\n\\n&amp;amp;#x200B;\\n\\nHe cried and threw his hands in the air;\\n\\nhe screamed and shouted with despair.\\n\\n\"Could anyone help?\"\\n\\nThen he started with a yelp.\\n\\nThere was another man, but trust him, he dare?\\n\\n&amp;amp;#x200B;\\n\\n\"I gotchu,\" the man said with a grin.\\n\\n\"Come on, I'll help you, hop in.\"\\n\\nHe got in his car,\\n\\nthey drove pretty far:\\n\\nfor the traveler, it seemed a big win.\\n\\n&amp;amp;#x200B;\\n\\nThe driver took the man to a club:\\n\\nhe assumed there'd be a phone at a pub.\\n\\nSo, in the men went,\\n\\nand a message to his wife, the traveler sent.\\n\\nThen at a deli next door, they ordered a sub.\\n\\n&amp;amp;#x200B;\\n\\nSuddenly thirsty, the traveler got,\\n\\nso back to the club for drinks, he sought.\\n\\nHe was bad at navigating,\\n\\nthe driver was hating,\\n\\nbut he pressed on, getting lost quite a lot.\\n\\n&amp;amp;#x200B;\\n\\nAt last, he found the club just fine,\\n\\nbut he didn't want a beer or wine.\\n\\nHe pushed through the crowd,\\n\\n and yelled out quite loud, \\n\\n\"Hey man, where's the punchline?\"</td>\n",
       "    </tr>\n",
       "  </tbody>\n",
       "</table>\n",
       "</div>"
      ],
      "text/plain": [
       "                                                       title  \\\n",
       "2      What is the difference between my wife and my vacuum?   \n",
       "216  Chief Walking Horse has a terrible case of constipation   \n",
       "464                          How do you waste people's time?   \n",
       "532             I touched my girlfriends ass and she farted.   \n",
       "700                                 Lost (Limerick and Joke)   \n",
       "\n",
       "                                                                                                                                                                                                                                                                                                                                                                                                                                                                                                                                                                                                                                                                                                                                                                                                                                                                                                                                                                                                                                                                                                                                                                                                                                                                                                                                                                                                                                   selftext  \n",
       "2                                                                                                                                                                                                                                                                                                                                                                                                                                                                                                                                                                                                                                                                                                                                                                                                                                                                                                                                                                                                                                                                                                                                                                                                                                                                                                                                                  The vacuum doesn't snore after sex.\\n\\n&amp;#x200B;\\n\\nApril fools, I don't have a wife.  \n",
       "216  So he travels to the local outpost, where he sits down to talk with the Army doctor.\\n\\n&amp;#x200B;\\n\\n\"Many moons pass, and chief Walking Horse no go number two.\" He complains.\\n\\n&amp;#x200B;\\n\\nThe doctor reaches into his cabinet and fishes out a mild laxative.\\n\\n&amp;#x200B;\\n\\n\"Here, Chief, take 1 teaspoon of this every 3 hours, and  come back and see me in two days.\"\\n\\n&amp;#x200B;\\n\\nThe chief took the little bottle, and left back to his village.\\n\\n&amp;#x200B;\\n\\nTwo days later, ask the Doctor requested, he's back.\\n\\n&amp;#x200B;\\n\\n\"Chief Walking Horse, have you moved yet?\"\\n\\n&amp;#x200B;\\n\\nThe chief slowly shakes his head no.\\n\\n&amp;#x200B;\\n\\n\"OK, Chief, I'm going to have you double that dosage.  I want you to take 2 teaspoons every 3 hours.\"\\n\\n&amp;#x200B;\\n\\nThe chief nods his head yes, and leaves to return to his village.\\n\\n&amp;#x200B;\\n\\nThis repeats itself a couple more times, and the Doctor is growing very concerned.  Finally, out of frustration, he grabs another bottle of laxative, and tells the chief to drink the whole thing.\\n\\n&amp;#x200B;\\n\\nA few days later, while visiting a close by settlement, the Doctor sees the Chief.\\n\\n&amp;#x200B;\\n\\n\"Chief Walking Horse!  It is good to see you.  Tell me, have you moved yet?\"\\n\\n&amp;#x200B;\\n\\nThe chief looks at him with a grimace and says. \"Chief Moved yesterday. Teepee full of shit!\"  \n",
       "464                                                                                                                                                                                                                                                                                                                                                                                                                                                                                                                                                                                                                                                                                                                                                                                                                                                                                                                                                                                                                                                                                                         &gt;!not like this !&lt;/ &gt;! not like this  not like this    !&lt;/&gt;! /  not like this!&lt;\\n\\n&amp;#x200B;\\n\\n&gt;!not like this tooo!&lt;   .&gt;!not like this also   !&lt;&gt;!look somewhere else!&lt;\\n\\n&amp;#x200B;\\n\\n&gt;!Not like this either  !&lt; .   &gt;!   not like this  !&lt;.&gt;! not like this!&lt;  \n",
       "532                                                                                                                                                                                                                                                                                                                                                                                                                                                                                                                                                                                                                                                                                                                                                                                                                                                                                                                                                                                                                                                                                                                                                                                                                                                                                                                                                                                    &amp;#x200B;\\n\\n&amp;#x200B;\\n\\nIt was a booty trap.  \n",
       "700                             There once was a man who was always lost.\\n\\nHe would buy a map at any cost.\\n\\nOne day on a trip,\\n\\nhe heard his map rip,\\n\\nso into a trashcan, he tossed.\\n\\n&amp;#x200B;\\n\\nHe wandered and wandered with no aim.\\n\\nHe started to think it was a game.\\n\\nBut with no end in sight\\n\\nand quickly losing light,\\n\\nhe started back the way he came.\\n\\n&amp;#x200B;\\n\\nHe cried and threw his hands in the air;\\n\\nhe screamed and shouted with despair.\\n\\n\"Could anyone help?\"\\n\\nThen he started with a yelp.\\n\\nThere was another man, but trust him, he dare?\\n\\n&amp;#x200B;\\n\\n\"I gotchu,\" the man said with a grin.\\n\\n\"Come on, I'll help you, hop in.\"\\n\\nHe got in his car,\\n\\nthey drove pretty far:\\n\\nfor the traveler, it seemed a big win.\\n\\n&amp;#x200B;\\n\\nThe driver took the man to a club:\\n\\nhe assumed there'd be a phone at a pub.\\n\\nSo, in the men went,\\n\\nand a message to his wife, the traveler sent.\\n\\nThen at a deli next door, they ordered a sub.\\n\\n&amp;#x200B;\\n\\nSuddenly thirsty, the traveler got,\\n\\nso back to the club for drinks, he sought.\\n\\nHe was bad at navigating,\\n\\nthe driver was hating,\\n\\nbut he pressed on, getting lost quite a lot.\\n\\n&amp;#x200B;\\n\\nAt last, he found the club just fine,\\n\\nbut he didn't want a beer or wine.\\n\\nHe pushed through the crowd,\\n\\n and yelled out quite loud, \\n\\n\"Hey man, where's the punchline?\"  "
      ]
     },
     "metadata": {},
     "output_type": "display_data"
    },
    {
     "name": "stdout",
     "output_type": "stream",
     "text": [
      "transformed instances :\n"
     ]
    },
    {
     "data": {
      "text/html": [
       "<div>\n",
       "<style scoped>\n",
       "    .dataframe tbody tr th:only-of-type {\n",
       "        vertical-align: middle;\n",
       "    }\n",
       "\n",
       "    .dataframe tbody tr th {\n",
       "        vertical-align: top;\n",
       "    }\n",
       "\n",
       "    .dataframe thead th {\n",
       "        text-align: right;\n",
       "    }\n",
       "</style>\n",
       "<table border=\"1\" class=\"dataframe tex2jax_ignore\">\n",
       "  <thead>\n",
       "    <tr style=\"text-align: right;\">\n",
       "      <th></th>\n",
       "      <th>title</th>\n",
       "      <th>selftext</th>\n",
       "    </tr>\n",
       "  </thead>\n",
       "  <tbody>\n",
       "    <tr>\n",
       "      <th>2</th>\n",
       "      <td>What is the difference between my wife and my vacuum?</td>\n",
       "      <td>The vacuum doesn't snore after sex.     April fools, I don't have a wife.</td>\n",
       "    </tr>\n",
       "    <tr>\n",
       "      <th>216</th>\n",
       "      <td>Chief Walking Horse has a terrible case of constipation</td>\n",
       "      <td>So he travels to the local outpost, where he sits down to talk with the Army doctor.     \"Many moons pass, and chief Walking Horse no go number two.\" He complains.     The doctor reaches into his cabinet and fishes out a mild laxative.     \"Here, Chief, take 1 teaspoon of this every 3 hours, and  come back and see me in two days.\"     The chief took the little bottle, and left back to his village.     Two days later, ask the Doctor requested, he's back.     \"Chief Walking Horse, have you moved yet?\"     The chief slowly shakes his head no.     \"OK, Chief, I'm going to have you double that dosage.  I want you to take 2 teaspoons every 3 hours.\"     The chief nods his head yes, and leaves to return to his village.     This repeats itself a couple more times, and the Doctor is growing very concerned.  Finally, out of frustration, he grabs another bottle of laxative, and tells the chief to drink the whole thing.     A few days later, while visiting a close by settlement, the Doctor sees the Chief.     \"Chief Walking Horse!  It is good to see you.  Tell me, have you moved yet?\"     The chief looks at him with a grimace and says. \"Chief Moved yesterday. Teepee full of shit!\"</td>\n",
       "    </tr>\n",
       "    <tr>\n",
       "      <th>464</th>\n",
       "      <td>How do you waste people's time?</td>\n",
       "      <td>not like this     not like this  not like this      /  not like this       not like this tooo     not like this also    look somewhere else       Not like this either    .       not like this    not like this</td>\n",
       "    </tr>\n",
       "    <tr>\n",
       "      <th>532</th>\n",
       "      <td>I touched my girlfriends ass and she farted.</td>\n",
       "      <td>It was a booty trap.</td>\n",
       "    </tr>\n",
       "    <tr>\n",
       "      <th>700</th>\n",
       "      <td>Lost (Limerick and Joke)</td>\n",
       "      <td>There once was a man who was always lost.  He would buy a map at any cost.  One day on a trip,  he heard his map rip,  so into a trashcan, he tossed.     He wandered and wandered with no aim.  He started to think it was a game.  But with no end in sight  and quickly losing light,  he started back the way he came.     He cried and threw his hands in the air;  he screamed and shouted with despair.  \"Could anyone help?\"  Then he started with a yelp.  There was another man, but trust him, he dare?     \"I gotchu,\" the man said with a grin.  \"Come on, I'll help you, hop in.\"  He got in his car,  they drove pretty far:  for the traveler, it seemed a big win.     The driver took the man to a club:  he assumed there'd be a phone at a pub.  So, in the men went,  and a message to his wife, the traveler sent.  Then at a deli next door, they ordered a sub.     Suddenly thirsty, the traveler got,  so back to the club for drinks, he sought.  He was bad at navigating,  the driver was hating,  but he pressed on, getting lost quite a lot.     At last, he found the club just fine,  but he didn't want a beer or wine.  He pushed through the crowd,   and yelled out quite loud,   \"Hey man, where's the punchline?\"</td>\n",
       "    </tr>\n",
       "  </tbody>\n",
       "</table>\n",
       "</div>"
      ],
      "text/plain": [
       "                                                       title  \\\n",
       "2      What is the difference between my wife and my vacuum?   \n",
       "216  Chief Walking Horse has a terrible case of constipation   \n",
       "464                          How do you waste people's time?   \n",
       "532             I touched my girlfriends ass and she farted.   \n",
       "700                                 Lost (Limerick and Joke)   \n",
       "\n",
       "                                                                                                                                                                                                                                                                                                                                                                                                                                                                                                                                                                                                                                                                                                                                                                                                                                                                                                                                                                                                                                                                                                                                                                                                                                                      selftext  \n",
       "2                                                                                                                                                                                                                                                                                                                                                                                                                                                                                                                                                                                                                                                                                                                                                                                                                                                                                                                                                                                                                                                                                                                                                                                    The vacuum doesn't snore after sex.     April fools, I don't have a wife.  \n",
       "216                        So he travels to the local outpost, where he sits down to talk with the Army doctor.     \"Many moons pass, and chief Walking Horse no go number two.\" He complains.     The doctor reaches into his cabinet and fishes out a mild laxative.     \"Here, Chief, take 1 teaspoon of this every 3 hours, and  come back and see me in two days.\"     The chief took the little bottle, and left back to his village.     Two days later, ask the Doctor requested, he's back.     \"Chief Walking Horse, have you moved yet?\"     The chief slowly shakes his head no.     \"OK, Chief, I'm going to have you double that dosage.  I want you to take 2 teaspoons every 3 hours.\"     The chief nods his head yes, and leaves to return to his village.     This repeats itself a couple more times, and the Doctor is growing very concerned.  Finally, out of frustration, he grabs another bottle of laxative, and tells the chief to drink the whole thing.     A few days later, while visiting a close by settlement, the Doctor sees the Chief.     \"Chief Walking Horse!  It is good to see you.  Tell me, have you moved yet?\"     The chief looks at him with a grimace and says. \"Chief Moved yesterday. Teepee full of shit!\"  \n",
       "464                                                                                                                                                                                                                                                                                                                                                                                                                                                                                                                                                                                                                                                                                                                                                                                                                                                                                                                                                                                                                                          not like this     not like this  not like this      /  not like this       not like this tooo     not like this also    look somewhere else       Not like this either    .       not like this    not like this   \n",
       "532                                                                                                                                                                                                                                                                                                                                                                                                                                                                                                                                                                                                                                                                                                                                                                                                                                                                                                                                                                                                                                                                                                                                                                                                                                       It was a booty trap.  \n",
       "700  There once was a man who was always lost.  He would buy a map at any cost.  One day on a trip,  he heard his map rip,  so into a trashcan, he tossed.     He wandered and wandered with no aim.  He started to think it was a game.  But with no end in sight  and quickly losing light,  he started back the way he came.     He cried and threw his hands in the air;  he screamed and shouted with despair.  \"Could anyone help?\"  Then he started with a yelp.  There was another man, but trust him, he dare?     \"I gotchu,\" the man said with a grin.  \"Come on, I'll help you, hop in.\"  He got in his car,  they drove pretty far:  for the traveler, it seemed a big win.     The driver took the man to a club:  he assumed there'd be a phone at a pub.  So, in the men went,  and a message to his wife, the traveler sent.  Then at a deli next door, they ordered a sub.     Suddenly thirsty, the traveler got,  so back to the club for drinks, he sought.  He was bad at navigating,  the driver was hating,  but he pressed on, getting lost quite a lot.     At last, he found the club just fine,  but he didn't want a beer or wine.  He pushed through the crowd,   and yelled out quite loud,   \"Hey man, where's the punchline?\"  "
      ]
     },
     "metadata": {},
     "output_type": "display_data"
    }
   ],
   "source": [
    "# removing html character references and escape characters and newline characters\n",
    "PATTERN = r\"[^a-z\\s]?(&\\S+;)[^a-z\\s]?\"\n",
    "\n",
    "# get examples of instances containing pattern\n",
    "print(\"samples instances containing pattern :\")\n",
    "html_idx = df_cleaned[df_cleaned['selftext'].str.contains(PATTERN, regex=True)].index\n",
    "display(df_cleaned.loc[html_idx][['title', 'selftext']].head())\n",
    "\n",
    "# see changes\n",
    "print(\"transformed instances :\")\n",
    "df_cleaned[['title', 'selftext']] = df_cleaned[['title', 'selftext']].applymap(lambda x: re.sub(PATTERN, \" \", x.replace(\"\\n\", \" \")))\n",
    "display(df_cleaned.loc[html_idx][['title', 'selftext']].head())"
   ]
  },
  {
   "cell_type": "code",
   "execution_count": 14,
   "id": "45a018ee",
   "metadata": {
    "scrolled": false
   },
   "outputs": [
    {
     "name": "stdout",
     "output_type": "stream",
     "text": [
      "samples instances containing pattern :\n"
     ]
    },
    {
     "data": {
      "text/html": [
       "<div>\n",
       "<style scoped>\n",
       "    .dataframe tbody tr th:only-of-type {\n",
       "        vertical-align: middle;\n",
       "    }\n",
       "\n",
       "    .dataframe tbody tr th {\n",
       "        vertical-align: top;\n",
       "    }\n",
       "\n",
       "    .dataframe thead th {\n",
       "        text-align: right;\n",
       "    }\n",
       "</style>\n",
       "<table border=\"1\" class=\"dataframe tex2jax_ignore\">\n",
       "  <thead>\n",
       "    <tr style=\"text-align: right;\">\n",
       "      <th></th>\n",
       "      <th>title</th>\n",
       "      <th>selftext</th>\n",
       "    </tr>\n",
       "  </thead>\n",
       "  <tbody>\n",
       "    <tr>\n",
       "      <th>803</th>\n",
       "      <td>I used to know an English professor who was pretty smart with books....</td>\n",
       "      <td>But she was dumb when it came to regular shit.  She didn't even know that rain was something you need to come in to from out of.     EDIT: IOW she didn't like sentences that ended in five prepositions.</td>\n",
       "    </tr>\n",
       "    <tr>\n",
       "      <th>825</th>\n",
       "      <td>Two Parrots.</td>\n",
       "      <td>Two parrots sat on a perch. One parrot looked at the other and said \"Do you smell fish?\"       The other parrot replied \"Oh my, a talking bird.\"     *edit: spelling*</td>\n",
       "    </tr>\n",
       "    <tr>\n",
       "      <th>916</th>\n",
       "      <td>Italians are always adding -a to words. (It's-a me, Mario!)</td>\n",
       "      <td>I find it to be a horrible corruption of the English language.   I say pizz and past, like a _real_ American.    Edit: wording</td>\n",
       "    </tr>\n",
       "    <tr>\n",
       "      <th>1096</th>\n",
       "      <td>A man with a COVID-19 walks into the bar</td>\n",
       "      <td>...and is told to leave.   [edit]: I'm gonna go offline for 14 days for hating myself.</td>\n",
       "    </tr>\n",
       "    <tr>\n",
       "      <th>1124</th>\n",
       "      <td>People that celebrate April fools are...</td>\n",
       "      <td>April ~~dumb people~~ idiot heads.  Owned.  Edit: punch line</td>\n",
       "    </tr>\n",
       "  </tbody>\n",
       "</table>\n",
       "</div>"
      ],
      "text/plain": [
       "                                                                        title  \\\n",
       "803   I used to know an English professor who was pretty smart with books....   \n",
       "825                                                              Two Parrots.   \n",
       "916               Italians are always adding -a to words. (It's-a me, Mario!)   \n",
       "1096                                 A man with a COVID-19 walks into the bar   \n",
       "1124                                 People that celebrate April fools are...   \n",
       "\n",
       "                                                                                                                                                                                                       selftext  \n",
       "803   But she was dumb when it came to regular shit.  She didn't even know that rain was something you need to come in to from out of.     EDIT: IOW she didn't like sentences that ended in five prepositions.  \n",
       "825                                       Two parrots sat on a perch. One parrot looked at the other and said \"Do you smell fish?\"       The other parrot replied \"Oh my, a talking bird.\"     *edit: spelling*  \n",
       "916                                                                              I find it to be a horrible corruption of the English language.   I say pizz and past, like a _real_ American.    Edit: wording  \n",
       "1096                                                                                                                     ...and is told to leave.   [edit]: I'm gonna go offline for 14 days for hating myself.  \n",
       "1124                                                                                                                                               April ~~dumb people~~ idiot heads.  Owned.  Edit: punch line  "
      ]
     },
     "metadata": {},
     "output_type": "display_data"
    },
    {
     "name": "stdout",
     "output_type": "stream",
     "text": [
      "transformed instances :\n"
     ]
    },
    {
     "data": {
      "text/html": [
       "<div>\n",
       "<style scoped>\n",
       "    .dataframe tbody tr th:only-of-type {\n",
       "        vertical-align: middle;\n",
       "    }\n",
       "\n",
       "    .dataframe tbody tr th {\n",
       "        vertical-align: top;\n",
       "    }\n",
       "\n",
       "    .dataframe thead th {\n",
       "        text-align: right;\n",
       "    }\n",
       "</style>\n",
       "<table border=\"1\" class=\"dataframe tex2jax_ignore\">\n",
       "  <thead>\n",
       "    <tr style=\"text-align: right;\">\n",
       "      <th></th>\n",
       "      <th>title</th>\n",
       "      <th>selftext</th>\n",
       "    </tr>\n",
       "  </thead>\n",
       "  <tbody>\n",
       "    <tr>\n",
       "      <th>803</th>\n",
       "      <td>I used to know an English professor who was pretty smart with books....</td>\n",
       "      <td>But she was dumb when it came to regular shit.  She didn't even know that rain was something you need to come in to from out of.</td>\n",
       "    </tr>\n",
       "    <tr>\n",
       "      <th>825</th>\n",
       "      <td>Two Parrots.</td>\n",
       "      <td>Two parrots sat on a perch. One parrot looked at the other and said \"Do you smell fish?\"       The other parrot replied \"Oh my, a talking bird.\"</td>\n",
       "    </tr>\n",
       "    <tr>\n",
       "      <th>916</th>\n",
       "      <td>Italians are always adding -a to words. (It's-a me, Mario!)</td>\n",
       "      <td>I find it to be a horrible corruption of the English language.   I say pizz and past, like a _real_ American.</td>\n",
       "    </tr>\n",
       "    <tr>\n",
       "      <th>1096</th>\n",
       "      <td>A man with a COVID-19 walks into the bar</td>\n",
       "      <td>...and is told to leave.</td>\n",
       "    </tr>\n",
       "    <tr>\n",
       "      <th>1124</th>\n",
       "      <td>People that celebrate April fools are...</td>\n",
       "      <td>April ~~dumb people~~ idiot heads.  Owned.</td>\n",
       "    </tr>\n",
       "  </tbody>\n",
       "</table>\n",
       "</div>"
      ],
      "text/plain": [
       "                                                                        title  \\\n",
       "803   I used to know an English professor who was pretty smart with books....   \n",
       "825                                                              Two Parrots.   \n",
       "916               Italians are always adding -a to words. (It's-a me, Mario!)   \n",
       "1096                                 A man with a COVID-19 walks into the bar   \n",
       "1124                                 People that celebrate April fools are...   \n",
       "\n",
       "                                                                                                                                                    selftext  \n",
       "803                    But she was dumb when it came to regular shit.  She didn't even know that rain was something you need to come in to from out of.       \n",
       "825   Two parrots sat on a perch. One parrot looked at the other and said \"Do you smell fish?\"       The other parrot replied \"Oh my, a talking bird.\"        \n",
       "916                                        I find it to be a horrible corruption of the English language.   I say pizz and past, like a _real_ American.      \n",
       "1096                                                                                                                            ...and is told to leave.      \n",
       "1124                                                                                                            April ~~dumb people~~ idiot heads.  Owned.    "
      ]
     },
     "metadata": {},
     "output_type": "display_data"
    }
   ],
   "source": [
    "# find edits:\n",
    "PATTERN = \"(?i)[^a-z](edit)\\W.+\"\n",
    "\n",
    "# clean posts to change this ... \n",
    "print(\"samples instances containing pattern :\")\n",
    "edits_idx = df_cleaned[df_cleaned['selftext'].str.contains(PATTERN, regex=True)].index\n",
    "display(df_cleaned.loc[edits_idx][['title', 'selftext']].head())\n",
    "\n",
    "# remove user edits added after user posted content\n",
    "df_cleaned[['title', 'selftext']] = df_cleaned[['title', 'selftext']].applymap(lambda x:re.sub(PATTERN, \" \", x))\n",
    "\n",
    "# into this ...\n",
    "print(\"transformed instances :\")\n",
    "display(df_cleaned[['title', 'selftext']].loc[edits_idx].head())"
   ]
  },
  {
   "cell_type": "code",
   "execution_count": 15,
   "id": "c15085d2",
   "metadata": {
    "scrolled": false
   },
   "outputs": [
    {
     "name": "stdout",
     "output_type": "stream",
     "text": [
      "samples instances containing pattern :\n"
     ]
    },
    {
     "data": {
      "text/html": [
       "<div>\n",
       "<style scoped>\n",
       "    .dataframe tbody tr th:only-of-type {\n",
       "        vertical-align: middle;\n",
       "    }\n",
       "\n",
       "    .dataframe tbody tr th {\n",
       "        vertical-align: top;\n",
       "    }\n",
       "\n",
       "    .dataframe thead th {\n",
       "        text-align: right;\n",
       "    }\n",
       "</style>\n",
       "<table border=\"1\" class=\"dataframe tex2jax_ignore\">\n",
       "  <thead>\n",
       "    <tr style=\"text-align: right;\">\n",
       "      <th></th>\n",
       "      <th>title</th>\n",
       "      <th>selftext</th>\n",
       "    </tr>\n",
       "  </thead>\n",
       "  <tbody>\n",
       "    <tr>\n",
       "      <th>289</th>\n",
       "      <td>Before VS After Marriage</td>\n",
       "      <td>Before Marriage:   Boy: Ah at last. I can hardly wait.   Girl: Do you want me to leave?   Boy: No don't even think about it.   Girl: Do you love me?   Boy: Of Course. Always have and always will.   Girl: Have you ever cheated on me?   Boy: Never. Why are you even asking?   Girl: Will you kiss me?   Boy: Every chance I get.   Girl: Will you hit me?   Boy: Hell no. Are you crazy?   Girl: Can I trust you?   Boy: Yes.   Girl: Darling!   After Marriage:  (Read from bottom to top)</td>\n",
       "    </tr>\n",
       "    <tr>\n",
       "      <th>410</th>\n",
       "      <td>Three American colonels are in the US about to retire and they are offered an economic compensation...</td>\n",
       "      <td>..which consists of multiplying 100,000 dollars by the distance in inches they have between two parts of their body that they choose.   Colonel McDowell chooses this distance to be from his toe to the edge of his longest hair on his head and the result is 72 inches, so that means he gets $7,200,000.  Colonel Smith chooses the reach of his arms, that is from the tip of his right index finger to the tip of his left index finger, which results in a distance of 75 inches (so he gets $7.5M).  Finally Colonel McConaughey chooses the distance from the tip of his penis to his balls  -\"*Colonel, choose two parts that are more separated, you'll win more money that way!*\" - says the soldier in charge of the measurement.  -\"*No, i'm sure these are the parts i want measured, please proceed!*\" - answers the colonel. The soldier then proceeds to take the measuring tape from the tip of colonel's dick and stretches the tape to reach the balls when suddenly he stops and asks \"*Wait...where are your balls*?!\"  -\"*I lost them in Vietnam*\"</td>\n",
       "    </tr>\n",
       "    <tr>\n",
       "      <th>428</th>\n",
       "      <td>Doctor: \"i'm sorry to say you've got lung cancer.\"</td>\n",
       "      <td>Patient: [tearing up] \"oh god, no!\"  Doctor: \"Sorry to say it because it's not true, lol April Fools!\"  Patient: [angry] \"What the hell?\"  Doctor: \"Yeah, pranked you, the cancer's in your pancreas.\"</td>\n",
       "    </tr>\n",
       "    <tr>\n",
       "      <th>553</th>\n",
       "      <td>A man's wife goes missing...</td>\n",
       "      <td>Husband: My wife is missing. She went out yesterday and has not come home...  Sergeant at Police Station: What is her height?  Husband: Gee, I'm not sure. A little over five-feet tall.  Sergeant: Weight?  Husband: Don't know. Not slim, not really fat.  Sergeant: Colour of eyes?  Husband: Sort of brown I think. Never really noticed.  Sergeant: Colour of hair?  Husband: Changes a couple times a year. Maybe dark brown now. I can’t remember.  Sergeant: What was she wearing?  Husband: Could have been pants, or maybe a skirt or shorts. I don't know exactly.  Sergeant: What kind of car did she go in?  Husband: She went in my Audi  Sergeant: What kind of Audi was it?  Husband: (sobbing) Audi A6 Avant Black Edition,  Ambient Lighting pack - A6, Front and outer rear heated seats, Valcona leather - Lunar silver + super sport seats, 3 spoke heated sports leather multifunction steering wheel with paddle shift, LED Matrix headlights with high beam assist, Pearlescent paint, Audi drive select, Audi parking system plus with front and rear sensors, Audible and visual fasten seat belt warning - front and rear, Cruise control, Driver's information system, MMI SD card Navigation, Mobile telephone preparation, PAS, Service interval indicator, 3 point seatbelts on all seats, ABS-EBD, ASR traction control, Curtain airbags, Driver and passenger airbags, Driver-front passenger side airbags, Electromechanical parking brake, Electronic stability control, Front passenger airbag deactivation, Hill hold assist, Tyre pressure monitoring system, Warning triangle and first aid kit, Anti theft alarm, Anti-theft wheel bolts, Immobiliser, Keyless Start, Remote central locking, Audi music interface, Auxiliary input socket, DAB digital radio module, MMI Radio plus with CD player and bluetooth interface, SD card slot, USB connection, 12V power in rear centre console, 4 way electric lumbar support, 4 zone climate control, Aluminium door sill trims, Black cloth headlining, Double cargo floor, Electric front seats + driver memory, Front centre armrest, Front head restraints, Front-rear floor mats, Height adjustable front seats, Isofix front passenger and rear seat preparation, Jack and tool kit, Load lashing points, Luggage compartment cover, Luggage rails, Perforated leather gearknob, Rear headrests, Split folding rear seat, Auto dimming rear view mirror, Automatic headlights + automatic windscreen wipers, Body coloured bumpers, Body coloured door mirrors and handles, Body coloured roof spoiler, Door sill trims with S line logo, Electric front-rear windows, Headlight washers, High gloss black door mirrors, High gloss black finish B pillar, High gloss black triangular aperture at rear door, LED daytime running lights, LED rear lights, Light sensor, Platinum grey front lip spoiler, Privacy glass (to rear of B post), Rain sensor, Rear wiper, Alcantara door trim, Piano black finish inlay, Space saver spare wheel, Black Styling pack - A6 Avant, Non smoking pack - A6, Diesel particulate filter  (At this point, the sobbing has turned into a full cry.)  Sergeant: Don't worry buddy. We'll find your Audi</td>\n",
       "    </tr>\n",
       "    <tr>\n",
       "      <th>633</th>\n",
       "      <td>I’ve been off my OCD pills for more than a year now!</td>\n",
       "      <td>(Or 374 days, 7 hours and 3 minutes to be exact)</td>\n",
       "    </tr>\n",
       "  </tbody>\n",
       "</table>\n",
       "</div>"
      ],
      "text/plain": [
       "                                                                                                      title  \\\n",
       "289                                                                                Before VS After Marriage   \n",
       "410  Three American colonels are in the US about to retire and they are offered an economic compensation...   \n",
       "428                                                      Doctor: \"i'm sorry to say you've got lung cancer.\"   \n",
       "553                                                                            A man's wife goes missing...   \n",
       "633                                                    I’ve been off my OCD pills for more than a year now!   \n",
       "\n",
       "                                                                                                                                                                                                                                                                                                                                                                                                                                                                                                                                                                                                                                                                                                                                                                                                                                                                                                                                                                                                                                                                                                                                                                                                                                                                                                                                                                                                                                                                                                                                                                                                                                                                                                                                                                                                                                                                                                                                                                                                                                                                                                                                                                                                                                                                                                                                                                                                                                                                                                                                                                                                                                                                                                                                                                                                                                                                                                                                                                                                                                                                                                                                                                                                                                   selftext  \n",
       "289                                                                                                                                                                                                                                                                                                                                                                                                                                                                                                                                                                                                                                                                                                                                                                                                                                                                                                                                                                                                                                                                                                                                                                                                                                                                                                                                                                                                                                                                                                                                                                                                                                                                                                                                                                                                                                                                                                                                                                                                                                                                                                                                                                                                                                                                                                                                                                                                                                                                                                                                                                                                                                                                                                                                         Before Marriage:   Boy: Ah at last. I can hardly wait.   Girl: Do you want me to leave?   Boy: No don't even think about it.   Girl: Do you love me?   Boy: Of Course. Always have and always will.   Girl: Have you ever cheated on me?   Boy: Never. Why are you even asking?   Girl: Will you kiss me?   Boy: Every chance I get.   Girl: Will you hit me?   Boy: Hell no. Are you crazy?   Girl: Can I trust you?   Boy: Yes.   Girl: Darling!   After Marriage:  (Read from bottom to top)  \n",
       "410                                                                                                                                                                                                                                                                                                                                                                                                                                                                                                                                                                                                                                                                                                                                                                                                                                                                                                                                                                                                                                                                                                                                                                                                                                                                                                                                                                                                                                                                                                                                                                                                                                                                                                                                                                                                                                                                                                                                                                                                                                                                                                                                                              ..which consists of multiplying 100,000 dollars by the distance in inches they have between two parts of their body that they choose.   Colonel McDowell chooses this distance to be from his toe to the edge of his longest hair on his head and the result is 72 inches, so that means he gets $7,200,000.  Colonel Smith chooses the reach of his arms, that is from the tip of his right index finger to the tip of his left index finger, which results in a distance of 75 inches (so he gets $7.5M).  Finally Colonel McConaughey chooses the distance from the tip of his penis to his balls  -\"*Colonel, choose two parts that are more separated, you'll win more money that way!*\" - says the soldier in charge of the measurement.  -\"*No, i'm sure these are the parts i want measured, please proceed!*\" - answers the colonel. The soldier then proceeds to take the measuring tape from the tip of colonel's dick and stretches the tape to reach the balls when suddenly he stops and asks \"*Wait...where are your balls*?!\"  -\"*I lost them in Vietnam*\"  \n",
       "428                                                                                                                                                                                                                                                                                                                                                                                                                                                                                                                                                                                                                                                                                                                                                                                                                                                                                                                                                                                                                                                                                                                                                                                                                                                                                                                                                                                                                                                                                                                                                                                                                                                                                                                                                                                                                                                                                                                                                                                                                                                                                                                                                                                                                                                                                                                                                                                                                                                                                                                                                                                                                                                                                                                                                                                                                                                                                                                                                                                                                                  Patient: [tearing up] \"oh god, no!\"  Doctor: \"Sorry to say it because it's not true, lol April Fools!\"  Patient: [angry] \"What the hell?\"  Doctor: \"Yeah, pranked you, the cancer's in your pancreas.\"  \n",
       "553  Husband: My wife is missing. She went out yesterday and has not come home...  Sergeant at Police Station: What is her height?  Husband: Gee, I'm not sure. A little over five-feet tall.  Sergeant: Weight?  Husband: Don't know. Not slim, not really fat.  Sergeant: Colour of eyes?  Husband: Sort of brown I think. Never really noticed.  Sergeant: Colour of hair?  Husband: Changes a couple times a year. Maybe dark brown now. I can’t remember.  Sergeant: What was she wearing?  Husband: Could have been pants, or maybe a skirt or shorts. I don't know exactly.  Sergeant: What kind of car did she go in?  Husband: She went in my Audi  Sergeant: What kind of Audi was it?  Husband: (sobbing) Audi A6 Avant Black Edition,  Ambient Lighting pack - A6, Front and outer rear heated seats, Valcona leather - Lunar silver + super sport seats, 3 spoke heated sports leather multifunction steering wheel with paddle shift, LED Matrix headlights with high beam assist, Pearlescent paint, Audi drive select, Audi parking system plus with front and rear sensors, Audible and visual fasten seat belt warning - front and rear, Cruise control, Driver's information system, MMI SD card Navigation, Mobile telephone preparation, PAS, Service interval indicator, 3 point seatbelts on all seats, ABS-EBD, ASR traction control, Curtain airbags, Driver and passenger airbags, Driver-front passenger side airbags, Electromechanical parking brake, Electronic stability control, Front passenger airbag deactivation, Hill hold assist, Tyre pressure monitoring system, Warning triangle and first aid kit, Anti theft alarm, Anti-theft wheel bolts, Immobiliser, Keyless Start, Remote central locking, Audi music interface, Auxiliary input socket, DAB digital radio module, MMI Radio plus with CD player and bluetooth interface, SD card slot, USB connection, 12V power in rear centre console, 4 way electric lumbar support, 4 zone climate control, Aluminium door sill trims, Black cloth headlining, Double cargo floor, Electric front seats + driver memory, Front centre armrest, Front head restraints, Front-rear floor mats, Height adjustable front seats, Isofix front passenger and rear seat preparation, Jack and tool kit, Load lashing points, Luggage compartment cover, Luggage rails, Perforated leather gearknob, Rear headrests, Split folding rear seat, Auto dimming rear view mirror, Automatic headlights + automatic windscreen wipers, Body coloured bumpers, Body coloured door mirrors and handles, Body coloured roof spoiler, Door sill trims with S line logo, Electric front-rear windows, Headlight washers, High gloss black door mirrors, High gloss black finish B pillar, High gloss black triangular aperture at rear door, LED daytime running lights, LED rear lights, Light sensor, Platinum grey front lip spoiler, Privacy glass (to rear of B post), Rain sensor, Rear wiper, Alcantara door trim, Piano black finish inlay, Space saver spare wheel, Black Styling pack - A6 Avant, Non smoking pack - A6, Diesel particulate filter  (At this point, the sobbing has turned into a full cry.)  Sergeant: Don't worry buddy. We'll find your Audi  \n",
       "633                                                                                                                                                                                                                                                                                                                                                                                                                                                                                                                                                                                                                                                                                                                                                                                                                                                                                                                                                                                                                                                                                                                                                                                                                                                                                                                                                                                                                                                                                                                                                                                                                                                                                                                                                                                                                                                                                                                                                                                                                                                                                                                                                                                                                                                                                                                                                                                                                                                                                                                                                                                                                                                                                                                                                                                                                                                                                                                                                                                                                                                                                                                                                                                        (Or 374 days, 7 hours and 3 minutes to be exact)  "
      ]
     },
     "metadata": {},
     "output_type": "display_data"
    },
    {
     "name": "stdout",
     "output_type": "stream",
     "text": [
      "transformed instances :\n"
     ]
    },
    {
     "data": {
      "text/html": [
       "<div>\n",
       "<style scoped>\n",
       "    .dataframe tbody tr th:only-of-type {\n",
       "        vertical-align: middle;\n",
       "    }\n",
       "\n",
       "    .dataframe tbody tr th {\n",
       "        vertical-align: top;\n",
       "    }\n",
       "\n",
       "    .dataframe thead th {\n",
       "        text-align: right;\n",
       "    }\n",
       "</style>\n",
       "<table border=\"1\" class=\"dataframe tex2jax_ignore\">\n",
       "  <thead>\n",
       "    <tr style=\"text-align: right;\">\n",
       "      <th></th>\n",
       "      <th>title</th>\n",
       "      <th>selftext</th>\n",
       "    </tr>\n",
       "  </thead>\n",
       "  <tbody>\n",
       "    <tr>\n",
       "      <th>289</th>\n",
       "      <td>Before VS After Marriage</td>\n",
       "      <td>Before Marriage:   Boy: Ah at last. I can hardly wait.   Girl: Do you want me to leave?   Boy: No don't even think about it.   Girl: Do you love me?   Boy: Of Course. Always have and always will.   Girl: Have you ever cheated on me?   Boy: Never. Why are you even asking?   Girl: Will you kiss me?   Boy: Every chance I get.   Girl: Will you hit me?   Boy: Hell no. Are you crazy?   Girl: Can I trust you?   Boy: Yes.   Girl: Darling!   After Marriage:</td>\n",
       "    </tr>\n",
       "    <tr>\n",
       "      <th>410</th>\n",
       "      <td>Three American colonels are in the US about to retire and they are offered an economic compensation...</td>\n",
       "      <td>..which consists of multiplying 100,000 dollars by the distance in inches they have between two parts of their body that they choose.   Colonel McDowell chooses this distance to be from his toe to the edge of his longest hair on his head and the result is 72 inches, so that means he gets $7,200,000.  Colonel Smith chooses the reach of his arms, that is from the tip of his right index finger to the tip of his left index finger, which results in a distance of 75 inches .  Finally Colonel McConaughey chooses the distance from the tip of his penis to his balls  -\"*Colonel, choose two parts that are more separated, you'll win more money that way!*\" - says the soldier in charge of the measurement.  -\"*No, i'm sure these are the parts i want measured, please proceed!*\" - answers the colonel. The soldier then proceeds to take the measuring tape from the tip of colonel's dick and stretches the tape to reach the balls when suddenly he stops and asks \"*Wait...where are your balls*?!\"  -\"*I lost them in Vietnam*\"</td>\n",
       "    </tr>\n",
       "    <tr>\n",
       "      <th>428</th>\n",
       "      <td>Doctor: \"i'm sorry to say you've got lung cancer.\"</td>\n",
       "      <td>Patient:  \"oh god, no!\"  Doctor: \"Sorry to say it because it's not true, lol April Fools!\"  Patient:  \"What the hell?\"  Doctor: \"Yeah, pranked you, the cancer's in your pancreas.\"</td>\n",
       "    </tr>\n",
       "    <tr>\n",
       "      <th>553</th>\n",
       "      <td>A man's wife goes missing...</td>\n",
       "      <td>Husband: My wife is missing. She went out yesterday and has not come home...  Sergeant at Police Station: What is her height?  Husband: Gee, I'm not sure. A little over five-feet tall.  Sergeant: Weight?  Husband: Don't know. Not slim, not really fat.  Sergeant: Colour of eyes?  Husband: Sort of brown I think. Never really noticed.  Sergeant: Colour of hair?  Husband: Changes a couple times a year. Maybe dark brown now. I can’t remember.  Sergeant: What was she wearing?  Husband: Could have been pants, or maybe a skirt or shorts. I don't know exactly.  Sergeant: What kind of car did she go in?  Husband: She went in my Audi  Sergeant: What kind of Audi was it?  Husband:  Audi A6 Avant Black Edition,  Ambient Lighting pack - A6, Front and outer rear heated seats, Valcona leather - Lunar silver + super sport seats, 3 spoke heated sports leather multifunction steering wheel with paddle shift, LED Matrix headlights with high beam assist, Pearlescent paint, Audi drive select, Audi parking system plus with front and rear sensors, Audible and visual fasten seat belt warning - front and rear, Cruise control, Driver's information system, MMI SD card Navigation, Mobile telephone preparation, PAS, Service interval indicator, 3 point seatbelts on all seats, ABS-EBD, ASR traction control, Curtain airbags, Driver and passenger airbags, Driver-front passenger side airbags, Electromechanical parking brake, Electronic stability control, Front passenger airbag deactivation, Hill hold assist, Tyre pressure monitoring system, Warning triangle and first aid kit, Anti theft alarm, Anti-theft wheel bolts, Immobiliser, Keyless Start, Remote central locking, Audi music interface, Auxiliary input socket, DAB digital radio module, MMI Radio plus with CD player and bluetooth interface, SD card slot, USB connection, 12V power in rear centre console, 4 way electric lumbar support, 4 zone climate control, Aluminium door sill trims, Black cloth headlining, Double cargo floor, Electric front seats + driver memory, Front centre armrest, Front head restraints, Front-rear floor mats, Height adjustable front seats, Isofix front passenger and rear seat preparation, Jack and tool kit, Load lashing points, Luggage compartment cover, Luggage rails, Perforated leather gearknob, Rear headrests, Split folding rear seat, Auto dimming rear view mirror, Automatic headlights + automatic windscreen wipers, Body coloured bumpers, Body coloured door mirrors and handles, Body coloured roof spoiler, Door sill trims with S line logo, Electric front-rear windows, Headlight washers, High gloss black door mirrors, High gloss black finish B pillar, High gloss black triangular aperture at rear door, LED daytime running lights, LED rear lights, Light sensor, Platinum grey front lip spoiler, Privacy glass , Rain sensor, Rear wiper, Alcantara door trim, Piano black finish inlay, Space saver spare wheel, Black Styling pack - A6 Avant, Non smoking pack - A6, Diesel particulate filter    Sergeant: Don't worry buddy. We'll find your Audi</td>\n",
       "    </tr>\n",
       "    <tr>\n",
       "      <th>633</th>\n",
       "      <td>I’ve been off my OCD pills for more than a year now!</td>\n",
       "      <td></td>\n",
       "    </tr>\n",
       "  </tbody>\n",
       "</table>\n",
       "</div>"
      ],
      "text/plain": [
       "                                                                                                      title  \\\n",
       "289                                                                                Before VS After Marriage   \n",
       "410  Three American colonels are in the US about to retire and they are offered an economic compensation...   \n",
       "428                                                      Doctor: \"i'm sorry to say you've got lung cancer.\"   \n",
       "553                                                                            A man's wife goes missing...   \n",
       "633                                                    I’ve been off my OCD pills for more than a year now!   \n",
       "\n",
       "                                                                                                                                                                                                                                                                                                                                                                                                                                                                                                                                                                                                                                                                                                                                                                                                                                                                                                                                                                                                                                                                                                                                                                                                                                                                                                                                                                                                                                                                                                                                                                                                                                                                                                                                                                                                                                                                                                                                                                                                                                                                                                                                                                                                                                                                                                                                                                                                                                                                                                                                                                                                                                                                                                                                                                                                                                                                                                                                                                                                                                                                                                                                               selftext  \n",
       "289                                                                                                                                                                                                                                                                                                                                                                                                                                                                                                                                                                                                                                                                                                                                                                                                                                                                                                                                                                                                                                                                                                                                                                                                                                                                                                                                                                                                                                                                                                                                                                                                                                                                                                                                                                                                                                                                                                                                                                                                                                                                                                                                                                                                                                                                                                                                                                                                                                                                                                                                                                                                                                                                              Before Marriage:   Boy: Ah at last. I can hardly wait.   Girl: Do you want me to leave?   Boy: No don't even think about it.   Girl: Do you love me?   Boy: Of Course. Always have and always will.   Girl: Have you ever cheated on me?   Boy: Never. Why are you even asking?   Girl: Will you kiss me?   Boy: Every chance I get.   Girl: Will you hit me?   Boy: Hell no. Are you crazy?   Girl: Can I trust you?   Boy: Yes.   Girl: Darling!   After Marriage:    \n",
       "410                                                                                                                                                                                                                                                                                                                                                                                                                                                                                                                                                                                                                                                                                                                                                                                                                                                                                                                                                                                                                                                                                                                                                                                                                                                                                                                                                                                                                                                                                                                                                                                                                                                                                                                                                                                                                                                                                                                                                                                                                                                                                            ..which consists of multiplying 100,000 dollars by the distance in inches they have between two parts of their body that they choose.   Colonel McDowell chooses this distance to be from his toe to the edge of his longest hair on his head and the result is 72 inches, so that means he gets $7,200,000.  Colonel Smith chooses the reach of his arms, that is from the tip of his right index finger to the tip of his left index finger, which results in a distance of 75 inches .  Finally Colonel McConaughey chooses the distance from the tip of his penis to his balls  -\"*Colonel, choose two parts that are more separated, you'll win more money that way!*\" - says the soldier in charge of the measurement.  -\"*No, i'm sure these are the parts i want measured, please proceed!*\" - answers the colonel. The soldier then proceeds to take the measuring tape from the tip of colonel's dick and stretches the tape to reach the balls when suddenly he stops and asks \"*Wait...where are your balls*?!\"  -\"*I lost them in Vietnam*\"  \n",
       "428                                                                                                                                                                                                                                                                                                                                                                                                                                                                                                                                                                                                                                                                                                                                                                                                                                                                                                                                                                                                                                                                                                                                                                                                                                                                                                                                                                                                                                                                                                                                                                                                                                                                                                                                                                                                                                                                                                                                                                                                                                                                                                                                                                                                                                                                                                                                                                                                                                                                                                                                                                                                                                                                                                                                                                                                                                                                                                                                                                 Patient:  \"oh god, no!\"  Doctor: \"Sorry to say it because it's not true, lol April Fools!\"  Patient:  \"What the hell?\"  Doctor: \"Yeah, pranked you, the cancer's in your pancreas.\"  \n",
       "553  Husband: My wife is missing. She went out yesterday and has not come home...  Sergeant at Police Station: What is her height?  Husband: Gee, I'm not sure. A little over five-feet tall.  Sergeant: Weight?  Husband: Don't know. Not slim, not really fat.  Sergeant: Colour of eyes?  Husband: Sort of brown I think. Never really noticed.  Sergeant: Colour of hair?  Husband: Changes a couple times a year. Maybe dark brown now. I can’t remember.  Sergeant: What was she wearing?  Husband: Could have been pants, or maybe a skirt or shorts. I don't know exactly.  Sergeant: What kind of car did she go in?  Husband: She went in my Audi  Sergeant: What kind of Audi was it?  Husband:  Audi A6 Avant Black Edition,  Ambient Lighting pack - A6, Front and outer rear heated seats, Valcona leather - Lunar silver + super sport seats, 3 spoke heated sports leather multifunction steering wheel with paddle shift, LED Matrix headlights with high beam assist, Pearlescent paint, Audi drive select, Audi parking system plus with front and rear sensors, Audible and visual fasten seat belt warning - front and rear, Cruise control, Driver's information system, MMI SD card Navigation, Mobile telephone preparation, PAS, Service interval indicator, 3 point seatbelts on all seats, ABS-EBD, ASR traction control, Curtain airbags, Driver and passenger airbags, Driver-front passenger side airbags, Electromechanical parking brake, Electronic stability control, Front passenger airbag deactivation, Hill hold assist, Tyre pressure monitoring system, Warning triangle and first aid kit, Anti theft alarm, Anti-theft wheel bolts, Immobiliser, Keyless Start, Remote central locking, Audi music interface, Auxiliary input socket, DAB digital radio module, MMI Radio plus with CD player and bluetooth interface, SD card slot, USB connection, 12V power in rear centre console, 4 way electric lumbar support, 4 zone climate control, Aluminium door sill trims, Black cloth headlining, Double cargo floor, Electric front seats + driver memory, Front centre armrest, Front head restraints, Front-rear floor mats, Height adjustable front seats, Isofix front passenger and rear seat preparation, Jack and tool kit, Load lashing points, Luggage compartment cover, Luggage rails, Perforated leather gearknob, Rear headrests, Split folding rear seat, Auto dimming rear view mirror, Automatic headlights + automatic windscreen wipers, Body coloured bumpers, Body coloured door mirrors and handles, Body coloured roof spoiler, Door sill trims with S line logo, Electric front-rear windows, Headlight washers, High gloss black door mirrors, High gloss black finish B pillar, High gloss black triangular aperture at rear door, LED daytime running lights, LED rear lights, Light sensor, Platinum grey front lip spoiler, Privacy glass , Rain sensor, Rear wiper, Alcantara door trim, Piano black finish inlay, Space saver spare wheel, Black Styling pack - A6 Avant, Non smoking pack - A6, Diesel particulate filter    Sergeant: Don't worry buddy. We'll find your Audi  \n",
       "633                                                                                                                                                                                                                                                                                                                                                                                                                                                                                                                                                                                                                                                                                                                                                                                                                                                                                                                                                                                                                                                                                                                                                                                                                                                                                                                                                                                                                                                                                                                                                                                                                                                                                                                                                                                                                                                                                                                                                                                                                                                                                                                                                                                                                                                                                                                                                                                                                                                                                                                                                                                                                                                                                                                                                                                                                                                                                                                                                                                                                                                                                                                                                      "
      ]
     },
     "metadata": {},
     "output_type": "display_data"
    }
   ],
   "source": [
    "# user added brackets\n",
    "PATTERN = r\"(\\(.*?\\))|(\\[.*?\\])|(\\{.*?\\})\"\n",
    "\n",
    "print(\"samples instances containing pattern :\")\n",
    "brackets_idx = df_cleaned[df_cleaned['selftext'].str.contains(PATTERN, regex=True)].index\n",
    "display(df_cleaned.loc[brackets_idx][['title', 'selftext']].head())\n",
    "\n",
    "print(\"transformed instances :\")\n",
    "df_cleaned[['title', 'selftext']] = df_cleaned[['title', 'selftext']].applymap(lambda x: re.sub(PATTERN, \"\", x))\n",
    "display(df_cleaned.loc[brackets_idx][['title', 'selftext']].head())"
   ]
  },
  {
   "cell_type": "code",
   "execution_count": 16,
   "id": "3d9b6c0b",
   "metadata": {},
   "outputs": [],
   "source": [
    "# ### try finding non-ascii chars for sample instances\n",
    "\n",
    "# # user emojis\n",
    "# PATTERN = r\"[\\U0001F600-\\U0001F64F]\"\n",
    "\n",
    "# print(\"samples instances containing pattern :\")\n",
    "# brackets_idx = df_cleaned[df_cleaned['selftext'].str.contains(PATTERN, regex=True)].index\n",
    "# display(df_cleaned.loc[brackets_idx][['title', 'selftext']].head())\n",
    "\n",
    "# print(\"transformed instances :\")\n",
    "# df_cleaned[['title', 'selftext']] = df_cleaned[['title', 'selftext']].applymap(lambda x: x.encode('ascii','ignore').decode('ascii'))\n",
    "# display(df_cleaned.loc[brackets_idx][['title', 'selftext']].head())"
   ]
  },
  {
   "cell_type": "code",
   "execution_count": 17,
   "id": "69299c9a",
   "metadata": {
    "scrolled": false
   },
   "outputs": [
    {
     "name": "stdout",
     "output_type": "stream",
     "text": [
      "392528 samples match\n"
     ]
    }
   ],
   "source": [
    "# Filter entries that are short, but meet other necessary criteria\n",
    "# remove unnecessary whitespace \n",
    "df_cleaned[['selftext', 'title']] = df_cleaned[['selftext', 'title']].applymap(lambda x:\" \".join(str(x).split()))\n",
    "\n",
    "# get length\n",
    "df_cleaned['selftext_len'] = df_cleaned['selftext'].str.len()\n",
    "df_cleaned['title_len'] = df_cleaned['title'].str.len()\n",
    "\n",
    "# boolean masks to filter for length\n",
    "title_window = (df_cleaned['title_len'] > 0) & (df_cleaned['title_len'] < TITLE_MAX_LEN)\n",
    "selftext_window = (df_cleaned['selftext_len'] > 0) & (df_cleaned['selftext_len'] < SELFTEXT_MAX_LEN)\n",
    "\n",
    "# apply masks to filter\n",
    "df_cleaned = df_cleaned[selftext_window & title_window]\n",
    "print(f\"{len(df_cleaned[~neg_class])} samples match\")"
   ]
  },
  {
   "cell_type": "markdown",
   "id": "ca33bd13",
   "metadata": {},
   "source": [
    "### Filtering for relevent content"
   ]
  },
  {
   "cell_type": "code",
   "execution_count": 18,
   "id": "b24f767a",
   "metadata": {
    "scrolled": false
   },
   "outputs": [
    {
     "data": {
      "text/html": [
       "<div>\n",
       "<style scoped>\n",
       "    .dataframe tbody tr th:only-of-type {\n",
       "        vertical-align: middle;\n",
       "    }\n",
       "\n",
       "    .dataframe tbody tr th {\n",
       "        vertical-align: top;\n",
       "    }\n",
       "\n",
       "    .dataframe thead th {\n",
       "        text-align: right;\n",
       "    }\n",
       "</style>\n",
       "<table border=\"1\" class=\"dataframe tex2jax_ignore\">\n",
       "  <thead>\n",
       "    <tr style=\"text-align: right;\">\n",
       "      <th></th>\n",
       "      <th>title</th>\n",
       "      <th>selftext</th>\n",
       "      <th>score</th>\n",
       "    </tr>\n",
       "  </thead>\n",
       "  <tbody>\n",
       "    <tr>\n",
       "      <th>226984</th>\n",
       "      <td>Here's another godawful joke. Downvote away.</td>\n",
       "      <td>Why was the man banned from the jazz club? Because he was a registered sax offender.</td>\n",
       "      <td>20</td>\n",
       "    </tr>\n",
       "    <tr>\n",
       "      <th>581389</th>\n",
       "      <td>Reddit jokes are like a CB Radio ...</td>\n",
       "      <td>*Copy that*</td>\n",
       "      <td>16</td>\n",
       "    </tr>\n",
       "    <tr>\n",
       "      <th>209875</th>\n",
       "      <td>Please don’t make puns and dad jokes.</td>\n",
       "      <td>Hope this is allowed. I think jokes that are puns and not actual jokes shouldn’t be allowed. There is r/puns, r/3amjokes and r/dad jokes for that.</td>\n",
       "      <td>0</td>\n",
       "    </tr>\n",
       "    <tr>\n",
       "      <th>35656</th>\n",
       "      <td>A woman walks into a post office to buy stamps for her Christmas cards</td>\n",
       "      <td>She says to the cashier \"May I have 50 Christmas stamps?\" \"What denomination?\" asks the cashier She thinks for a while and replies \"Give me 6 orthodox, 12 Catholic and 32 Protestant\"</td>\n",
       "      <td>1</td>\n",
       "    </tr>\n",
       "    <tr>\n",
       "      <th>792308</th>\n",
       "      <td>I like to steal pictures of people's breakfast and post them again</td>\n",
       "      <td>I guess you could say I'm a cereal reposter</td>\n",
       "      <td>11</td>\n",
       "    </tr>\n",
       "    <tr>\n",
       "      <th>211947</th>\n",
       "      <td>One of the best jokes ever conceived by the hands of man.</td>\n",
       "      <td>Jokes on you Kevin I lurk this subreddit too!</td>\n",
       "      <td>2</td>\n",
       "    </tr>\n",
       "    <tr>\n",
       "      <th>494575</th>\n",
       "      <td>Did you hear that they changed the theme song when they found out the Pink Panther was a Redditor?</td>\n",
       "      <td>Now it goes pedant pedant....</td>\n",
       "      <td>11</td>\n",
       "    </tr>\n",
       "    <tr>\n",
       "      <th>774252</th>\n",
       "      <td>What's the worst part about breaking up with a Japanese girl?</td>\n",
       "      <td>You have to repost the joke twice before she realizes that it isn't funny anymore</td>\n",
       "      <td>1</td>\n",
       "    </tr>\n",
       "    <tr>\n",
       "      <th>209377</th>\n",
       "      <td>I used to think r/jokes users have no cameras</td>\n",
       "      <td>...until I realized no button in the app had \"upload\" written on it.</td>\n",
       "      <td>0</td>\n",
       "    </tr>\n",
       "    <tr>\n",
       "      <th>219690</th>\n",
       "      <td>I’m gonna get downvoted for this one as it’s really inappropriate: Why can’t you gamble in Africa?</td>\n",
       "      <td>. . . . Too many Cheetahs.</td>\n",
       "      <td>59</td>\n",
       "    </tr>\n",
       "  </tbody>\n",
       "</table>\n",
       "</div>"
      ],
      "text/plain": [
       "                                                                                                     title  \\\n",
       "226984                                                        Here's another godawful joke. Downvote away.   \n",
       "581389                                                                Reddit jokes are like a CB Radio ...   \n",
       "209875                                                               Please don’t make puns and dad jokes.   \n",
       "35656                               A woman walks into a post office to buy stamps for her Christmas cards   \n",
       "792308                                  I like to steal pictures of people's breakfast and post them again   \n",
       "211947                                           One of the best jokes ever conceived by the hands of man.   \n",
       "494575  Did you hear that they changed the theme song when they found out the Pink Panther was a Redditor?   \n",
       "774252                                       What's the worst part about breaking up with a Japanese girl?   \n",
       "209377                                                       I used to think r/jokes users have no cameras   \n",
       "219690  I’m gonna get downvoted for this one as it’s really inappropriate: Why can’t you gamble in Africa?   \n",
       "\n",
       "                                                                                                                                                                                      selftext  \\\n",
       "226984                                                                                                    Why was the man banned from the jazz club? Because he was a registered sax offender.   \n",
       "581389                                                                                                                                                                             *Copy that*   \n",
       "209875                                      Hope this is allowed. I think jokes that are puns and not actual jokes shouldn’t be allowed. There is r/puns, r/3amjokes and r/dad jokes for that.   \n",
       "35656   She says to the cashier \"May I have 50 Christmas stamps?\" \"What denomination?\" asks the cashier She thinks for a while and replies \"Give me 6 orthodox, 12 Catholic and 32 Protestant\"   \n",
       "792308                                                                                                                                             I guess you could say I'm a cereal reposter   \n",
       "211947                                                                                                                                           Jokes on you Kevin I lurk this subreddit too!   \n",
       "494575                                                                                                                                                           Now it goes pedant pedant....   \n",
       "774252                                                                                                       You have to repost the joke twice before she realizes that it isn't funny anymore   \n",
       "209377                                                                                                                    ...until I realized no button in the app had \"upload\" written on it.   \n",
       "219690                                                                                                                                                              . . . . Too many Cheetahs.   \n",
       "\n",
       "        score  \n",
       "226984     20  \n",
       "581389     16  \n",
       "209875      0  \n",
       "35656       1  \n",
       "792308     11  \n",
       "211947      2  \n",
       "494575     11  \n",
       "774252      1  \n",
       "209377      0  \n",
       "219690     59  "
      ]
     },
     "metadata": {},
     "output_type": "display_data"
    }
   ],
   "source": [
    "# meta jokes\n",
    "# boolean mask that identifies strings with reddit posts\n",
    "PATTERN = r\"(\\s\\/?[ur]\\/\\D)|(\\sclick\\s)|(\\ssubs?\\s)|(sub)?(reddit)|\\S(vote)s?|(\\sop\\s)|https?\\S+|([a-z]?(re)?post(?=(ed)|[^a-z]|$))|_\"\n",
    "is_meta = df_cleaned['title'].str.lower().str.contains(PATTERN, regex=True) | df_cleaned['selftext'].str.lower().str.contains(PATTERN, regex=True)\n",
    "display(df_cleaned[is_meta].sample(10)[['title', 'selftext', 'score']])\n",
    "df_cleaned = df_cleaned[~is_meta]"
   ]
  },
  {
   "cell_type": "code",
   "execution_count": 19,
   "id": "785e9867",
   "metadata": {},
   "outputs": [],
   "source": [
    "# offensive jokes\n",
    "# boolean mask that identifies strings with offensive content\n",
    "is_offensive = df_cleaned['title'].str.lower().str.contains(PATTERN_NSFW, regex=True) | df_cleaned['selftext'].str.lower().str.contains(PATTERN_NSFW, regex=True)\n",
    "\n",
    "# # uncomment below to check this NSFW\n",
    "# display(df_cleaned[is_offensive & is_short].sample(30)[['title', 'selftext', 'score']])\n",
    "df_cleaned = df_cleaned[~is_offensive]"
   ]
  },
  {
   "cell_type": "code",
   "execution_count": 20,
   "id": "0dcab6e5",
   "metadata": {
    "scrolled": false
   },
   "outputs": [
    {
     "name": "stdout",
     "output_type": "stream",
     "text": [
      "352336 samples match\n"
     ]
    }
   ],
   "source": [
    "# Filter entries for necessary criteria again\n",
    "# boolean masks to filter for length\n",
    "title_window = (df_cleaned['title_len'] > 2) & (df_cleaned['title_len'] < TITLE_MAX_LEN)\n",
    "selftext_window = (df_cleaned['selftext_len'] > 2) & (df_cleaned['selftext_len'] < SELFTEXT_MAX_LEN)\n",
    "\n",
    "# apply masks to filter\n",
    "df_cleaned = df_cleaned[selftext_window & title_window]\n",
    "print(f\"{len(df_cleaned[~neg_class])} samples match\")"
   ]
  },
  {
   "cell_type": "code",
   "execution_count": 21,
   "id": "f7db294c",
   "metadata": {
    "colab": {
     "base_uri": "https://localhost:8080/"
    },
    "id": "f7db294c",
    "outputId": "66d8d53a-3384-485c-9a1f-54318e339706",
    "scrolled": true
   },
   "outputs": [
    {
     "name": "stdout",
     "output_type": "stream",
     "text": [
      "***** calculating *****\n",
      "50000\n",
      "WARNING, CURRENT PARAMETERS RESULT IN CLASS SIZE REDUCTION\n",
      "desired size 50000\n",
      "current size 32374\n"
     ]
    }
   ],
   "source": [
    "# returns boolean mask and updated_class sizes for binary classification.\n",
    "# boolean mask is for instances in the positive class that meet arguments\n",
    "\n",
    "pos_class_mask, updated_class_size = populate_pos_class(df_cleaned, MIN_UPVOTES, MAX_UPVOTES, CLASS_SIZE)"
   ]
  },
  {
   "cell_type": "markdown",
   "id": "03a21055",
   "metadata": {
    "id": "03a21055"
   },
   "source": [
    "### Make the positive and negative class labels and concatenate the dataframe"
   ]
  },
  {
   "cell_type": "code",
   "execution_count": 22,
   "id": "6b07ee9e",
   "metadata": {
    "colab": {
     "base_uri": "https://localhost:8080/",
     "height": 455
    },
    "id": "6b07ee9e",
    "outputId": "aed48b0e-1458-46cd-ba8e-ddc3db940787",
    "scrolled": false
   },
   "outputs": [
    {
     "name": "stdout",
     "output_type": "stream",
     "text": [
      "          count         mean          std    min    25%    50%    75%  \\\n",
      "target                                                                  \n",
      "False   32374.0     0.000000     0.000000    0.0    0.0    0.0    0.0   \n",
      "True    32374.0  1964.668808  5768.912807  101.0  160.0  291.0  796.0   \n",
      "\n",
      "             max  \n",
      "target            \n",
      "False        0.0  \n",
      "True    136359.0  \n",
      "Saving figure class distribution after cleaning\n"
     ]
    },
    {
     "data": {
      "image/png": "[encoded data removed]",
      "text/plain": [
       "<Figure size 432x288 with 1 Axes>"
      ]
     },
     "metadata": {},
     "output_type": "display_data"
    }
   ],
   "source": [
    "# create target label\n",
    "df_cleaned['target'] = pos_class_mask\n",
    "\n",
    "# add positive and negative classes together\n",
    "df_concat = pd.concat([df_cleaned[neg_class].sample(updated_class_size), df_cleaned[pos_class_mask]], axis=0)\n",
    "print(df_concat.groupby('target').describe()['score'])\n",
    "\n",
    "# plot target distribution to validate\n",
    "df_concat['target'].value_counts().plot(kind='bar', color=['xkcd:orange', 'xkcd:azure'])\n",
    "plt.grid(False)\n",
    "save_fig('class distribution after cleaning')"
   ]
  },
  {
   "cell_type": "markdown",
   "id": "Cb4JyDlYsWgz",
   "metadata": {
    "id": "Cb4JyDlYsWgz"
   },
   "source": [
    "### Split into train / test data"
   ]
  },
  {
   "cell_type": "code",
   "execution_count": 23,
   "id": "Rn__FvtKsN7-",
   "metadata": {
    "colab": {
     "base_uri": "https://localhost:8080/"
    },
    "id": "Rn__FvtKsN7-",
    "outputId": "4faeb1aa-89ac-4f2f-c860-64d7f67353ae",
    "scrolled": false
   },
   "outputs": [
    {
     "name": "stdout",
     "output_type": "stream",
     "text": [
      "(61510, 15) (3238, 15)\n"
     ]
    }
   ],
   "source": [
    "# get training size from parameters\n",
    "training_size = int(len(df_concat)*TRAIN_SIZE)\n",
    "\n",
    "# shuffle \n",
    "df_concat_shuffled = df_concat.sample(len(df_concat))\n",
    "\n",
    "# fill na values with a blank\n",
    "df_concat_shuffled['selftext'] = df_concat_shuffled['selftext'].fillna(value='')\n",
    "\n",
    "# generate train and test sets\n",
    "train = df_concat_shuffled[:training_size]\n",
    "test = df_concat_shuffled[training_size:]\n",
    "print(train.shape, test.shape)"
   ]
  },
  {
   "cell_type": "code",
   "execution_count": 24,
   "id": "183c43ae",
   "metadata": {},
   "outputs": [],
   "source": [
    "# save to pickle\n",
    "pd.to_pickle(train, \"./data/train.pkl\")\n",
    "pd.to_pickle(test, \"./data/test.pkl\")"
   ]
  },
  {
   "cell_type": "code",
   "execution_count": null,
   "id": "4e2e3dbc",
   "metadata": {},
   "outputs": [],
   "source": []
  }
 ],
 "metadata": {
  "colab": {
   "collapsed_sections": [],
   "name": "jokes.ipynb",
   "provenance": []
  },
  "kernelspec": {
   "display_name": "Python 3",
   "language": "python",
   "name": "python3"
  },
  "language_info": {
   "codemirror_mode": {
    "name": "ipython",
    "version": 3
   },
   "file_extension": ".py",
   "mimetype": "text/x-python",
   "name": "python",
   "nbconvert_exporter": "python",
   "pygments_lexer": "ipython3",
   "version": "3.9.4"
  }
 },
 "nbformat": 4,
 "nbformat_minor": 5
}
