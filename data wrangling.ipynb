{
 "cells": [
  {
   "cell_type": "markdown",
   "id": "b1481d91",
   "metadata": {},
   "source": [
    "Dad Joke Filter\n",
    "Goal: Make a filter for my dad that can predict if a joke of his is funny\n",
    "This Notebook: Filter jokes based off of his type, remove mispellings, and create a binary classifcation datset containing funny and not funny jokes"
   ]
  },
  {
   "cell_type": "code",
   "execution_count": 1,
   "id": "27c1ebb4",
   "metadata": {
    "id": "27c1ebb4"
   },
   "outputs": [
    {
     "name": "stderr",
     "output_type": "stream",
     "text": [
      "[nltk_data] Downloading package stopwords to\n",
      "[nltk_data]     /Users/tylerpoore/nltk_data...\n",
      "[nltk_data]   Package stopwords is already up-to-date!\n",
      "[nltk_data] Downloading package wordnet to\n",
      "[nltk_data]     /Users/tylerpoore/nltk_data...\n",
      "[nltk_data]   Package wordnet is already up-to-date!\n",
      "[nltk_data] Downloading package omw-1.4 to\n",
      "[nltk_data]     /Users/tylerpoore/nltk_data...\n",
      "[nltk_data]   Package omw-1.4 is already up-to-date!\n"
     ]
    }
   ],
   "source": [
    "# imports\n",
    "import pandas as pd\n",
    "import numpy as np\n",
    "import matplotlib.pyplot as plt\n",
    "import seaborn as sns\n",
    "from tqdm import tqdm\n",
    "import regex as re\n",
    "import pickle\n",
    "import emoji\n",
    "\n",
    "import warnings\n",
    "warnings.filterwarnings('ignore')\n",
    "\n",
    "# custom functions\n",
    "from utils import *\n",
    "from jupyterthemes import jtplot\n",
    "jtplot.style()"
   ]
  },
  {
   "cell_type": "markdown",
   "id": "9e53f1e0",
   "metadata": {
    "id": "9e53f1e0"
   },
   "source": [
    "### Read-in and explore the dataset"
   ]
  },
  {
   "cell_type": "code",
   "execution_count": 2,
   "id": "4eaa6dc4",
   "metadata": {
    "id": "4eaa6dc4"
   },
   "outputs": [],
   "source": [
    "# extract the data\n",
    "df = pd.read_csv('https://query.data.world/s/htrdsouy327xqa4w457qx6k6sjtj6r')"
   ]
  },
  {
   "cell_type": "code",
   "execution_count": 3,
   "id": "b0c78473",
   "metadata": {
    "colab": {
     "base_uri": "https://localhost:8080/",
     "height": 206
    },
    "id": "b0c78473",
    "outputId": "b9803f32-6a06-46ae-8b9b-729235c75338"
   },
   "outputs": [
    {
     "data": {
      "text/html": [
       "<div>\n",
       "<style scoped>\n",
       "    .dataframe tbody tr th:only-of-type {\n",
       "        vertical-align: middle;\n",
       "    }\n",
       "\n",
       "    .dataframe tbody tr th {\n",
       "        vertical-align: top;\n",
       "    }\n",
       "\n",
       "    .dataframe thead th {\n",
       "        text-align: right;\n",
       "    }\n",
       "</style>\n",
       "<table border=\"1\" class=\"dataframe\">\n",
       "  <thead>\n",
       "    <tr style=\"text-align: right;\">\n",
       "      <th></th>\n",
       "      <th>type</th>\n",
       "      <th>id</th>\n",
       "      <th>subreddit.id</th>\n",
       "      <th>subreddit.name</th>\n",
       "      <th>subreddit.nsfw</th>\n",
       "      <th>created_utc</th>\n",
       "      <th>permalink</th>\n",
       "      <th>domain</th>\n",
       "      <th>url</th>\n",
       "      <th>selftext</th>\n",
       "      <th>title</th>\n",
       "      <th>score</th>\n",
       "    </tr>\n",
       "  </thead>\n",
       "  <tbody>\n",
       "    <tr>\n",
       "      <th>0</th>\n",
       "      <td>post</td>\n",
       "      <td>ftbp1i</td>\n",
       "      <td>2qh72</td>\n",
       "      <td>jokes</td>\n",
       "      <td>False</td>\n",
       "      <td>1585785543</td>\n",
       "      <td>https://old.reddit.com/r/Jokes/comments/ftbp1i...</td>\n",
       "      <td>self.jokes</td>\n",
       "      <td>NaN</td>\n",
       "      <td>My corona is covered with foreskin so it is no...</td>\n",
       "      <td>I am soooo glad I'm not circumcised!</td>\n",
       "      <td>2</td>\n",
       "    </tr>\n",
       "    <tr>\n",
       "      <th>1</th>\n",
       "      <td>post</td>\n",
       "      <td>ftboup</td>\n",
       "      <td>2qh72</td>\n",
       "      <td>jokes</td>\n",
       "      <td>False</td>\n",
       "      <td>1585785522</td>\n",
       "      <td>https://old.reddit.com/r/Jokes/comments/ftboup...</td>\n",
       "      <td>self.jokes</td>\n",
       "      <td>NaN</td>\n",
       "      <td>It's called Google Sheets.</td>\n",
       "      <td>Did you know Google now has a platform for rec...</td>\n",
       "      <td>9</td>\n",
       "    </tr>\n",
       "    <tr>\n",
       "      <th>2</th>\n",
       "      <td>post</td>\n",
       "      <td>ftbopj</td>\n",
       "      <td>2qh72</td>\n",
       "      <td>jokes</td>\n",
       "      <td>False</td>\n",
       "      <td>1585785508</td>\n",
       "      <td>https://old.reddit.com/r/Jokes/comments/ftbopj...</td>\n",
       "      <td>self.jokes</td>\n",
       "      <td>NaN</td>\n",
       "      <td>The vacuum doesn't snore after sex.\\n\\n&amp;amp;#x...</td>\n",
       "      <td>What is the difference between my wife and my ...</td>\n",
       "      <td>15</td>\n",
       "    </tr>\n",
       "    <tr>\n",
       "      <th>3</th>\n",
       "      <td>post</td>\n",
       "      <td>ftbnxh</td>\n",
       "      <td>2qh72</td>\n",
       "      <td>jokes</td>\n",
       "      <td>False</td>\n",
       "      <td>1585785428</td>\n",
       "      <td>https://old.reddit.com/r/Jokes/comments/ftbnxh...</td>\n",
       "      <td>self.jokes</td>\n",
       "      <td>NaN</td>\n",
       "      <td>[removed]</td>\n",
       "      <td>My last joke for now.</td>\n",
       "      <td>9</td>\n",
       "    </tr>\n",
       "    <tr>\n",
       "      <th>4</th>\n",
       "      <td>post</td>\n",
       "      <td>ftbjpg</td>\n",
       "      <td>2qh72</td>\n",
       "      <td>jokes</td>\n",
       "      <td>False</td>\n",
       "      <td>1585785009</td>\n",
       "      <td>https://old.reddit.com/r/Jokes/comments/ftbjpg...</td>\n",
       "      <td>self.jokes</td>\n",
       "      <td>NaN</td>\n",
       "      <td>[removed]</td>\n",
       "      <td>The Nintendo 64 turns 18 this week...</td>\n",
       "      <td>134</td>\n",
       "    </tr>\n",
       "  </tbody>\n",
       "</table>\n",
       "</div>"
      ],
      "text/plain": [
       "   type      id subreddit.id subreddit.name  subreddit.nsfw  created_utc  \\\n",
       "0  post  ftbp1i        2qh72          jokes           False   1585785543   \n",
       "1  post  ftboup        2qh72          jokes           False   1585785522   \n",
       "2  post  ftbopj        2qh72          jokes           False   1585785508   \n",
       "3  post  ftbnxh        2qh72          jokes           False   1585785428   \n",
       "4  post  ftbjpg        2qh72          jokes           False   1585785009   \n",
       "\n",
       "                                           permalink      domain  url  \\\n",
       "0  https://old.reddit.com/r/Jokes/comments/ftbp1i...  self.jokes  NaN   \n",
       "1  https://old.reddit.com/r/Jokes/comments/ftboup...  self.jokes  NaN   \n",
       "2  https://old.reddit.com/r/Jokes/comments/ftbopj...  self.jokes  NaN   \n",
       "3  https://old.reddit.com/r/Jokes/comments/ftbnxh...  self.jokes  NaN   \n",
       "4  https://old.reddit.com/r/Jokes/comments/ftbjpg...  self.jokes  NaN   \n",
       "\n",
       "                                            selftext  \\\n",
       "0  My corona is covered with foreskin so it is no...   \n",
       "1                         It's called Google Sheets.   \n",
       "2  The vacuum doesn't snore after sex.\\n\\n&amp;#x...   \n",
       "3                                          [removed]   \n",
       "4                                          [removed]   \n",
       "\n",
       "                                               title  score  \n",
       "0               I am soooo glad I'm not circumcised!      2  \n",
       "1  Did you know Google now has a platform for rec...      9  \n",
       "2  What is the difference between my wife and my ...     15  \n",
       "3                              My last joke for now.      9  \n",
       "4              The Nintendo 64 turns 18 this week...    134  "
      ]
     },
     "execution_count": 3,
     "metadata": {},
     "output_type": "execute_result"
    }
   ],
   "source": [
    "# examine the data\n",
    "df.head()"
   ]
  },
  {
   "cell_type": "code",
   "execution_count": 4,
   "id": "54da804b",
   "metadata": {
    "colab": {
     "base_uri": "https://localhost:8080/"
    },
    "id": "54da804b",
    "outputId": "4e45621b-f872-4292-cf28-6c174245ca18",
    "scrolled": false
   },
   "outputs": [
    {
     "data": {
      "text/plain": [
       "(1000000, 12)"
      ]
     },
     "execution_count": 4,
     "metadata": {},
     "output_type": "execute_result"
    }
   ],
   "source": [
    "df.shape"
   ]
  },
  {
   "cell_type": "code",
   "execution_count": 5,
   "id": "v_7e3Il9H9fy",
   "metadata": {
    "colab": {
     "base_uri": "https://localhost:8080/",
     "height": 990
    },
    "id": "v_7e3Il9H9fy",
    "outputId": "3d7d9ee1-c3f3-46ed-a9a9-c410d7612061"
   },
   "outputs": [
    {
     "data": {
      "text/html": [
       "<div>\n",
       "<style scoped>\n",
       "    .dataframe tbody tr th:only-of-type {\n",
       "        vertical-align: middle;\n",
       "    }\n",
       "\n",
       "    .dataframe tbody tr th {\n",
       "        vertical-align: top;\n",
       "    }\n",
       "\n",
       "    .dataframe thead th {\n",
       "        text-align: right;\n",
       "    }\n",
       "</style>\n",
       "<table border=\"1\" class=\"dataframe\">\n",
       "  <thead>\n",
       "    <tr style=\"text-align: right;\">\n",
       "      <th></th>\n",
       "      <th>title</th>\n",
       "      <th>selftext</th>\n",
       "      <th>score</th>\n",
       "    </tr>\n",
       "  </thead>\n",
       "  <tbody>\n",
       "    <tr>\n",
       "      <th>0</th>\n",
       "      <td>I am soooo glad I'm not circumcised!</td>\n",
       "      <td>My corona is covered with foreskin so it is not exposed to viruses.</td>\n",
       "      <td>2</td>\n",
       "    </tr>\n",
       "    <tr>\n",
       "      <th>1</th>\n",
       "      <td>Did you know Google now has a platform for recording your bowel movements?</td>\n",
       "      <td>It's called Google Sheets.</td>\n",
       "      <td>9</td>\n",
       "    </tr>\n",
       "    <tr>\n",
       "      <th>2</th>\n",
       "      <td>What is the difference between my wife and my vacuum?</td>\n",
       "      <td>The vacuum doesn't snore after sex.\\n\\n&amp;amp;#x200B;\\n\\nApril fools, I don't have a wife.</td>\n",
       "      <td>15</td>\n",
       "    </tr>\n",
       "    <tr>\n",
       "      <th>3</th>\n",
       "      <td>My last joke for now.</td>\n",
       "      <td>[removed]</td>\n",
       "      <td>9</td>\n",
       "    </tr>\n",
       "    <tr>\n",
       "      <th>4</th>\n",
       "      <td>The Nintendo 64 turns 18 this week...</td>\n",
       "      <td>[removed]</td>\n",
       "      <td>134</td>\n",
       "    </tr>\n",
       "    <tr>\n",
       "      <th>5</th>\n",
       "      <td>Sex with teacher.</td>\n",
       "      <td>[removed]</td>\n",
       "      <td>1</td>\n",
       "    </tr>\n",
       "    <tr>\n",
       "      <th>6</th>\n",
       "      <td>Another long one.</td>\n",
       "      <td>[removed]</td>\n",
       "      <td>8</td>\n",
       "    </tr>\n",
       "    <tr>\n",
       "      <th>7</th>\n",
       "      <td>What did the French man say to the attractive teletubby?</td>\n",
       "      <td>Oo..lala...</td>\n",
       "      <td>2</td>\n",
       "    </tr>\n",
       "    <tr>\n",
       "      <th>8</th>\n",
       "      <td>A Priest takes a walk down to the docks one day</td>\n",
       "      <td>[removed]</td>\n",
       "      <td>88</td>\n",
       "    </tr>\n",
       "    <tr>\n",
       "      <th>9</th>\n",
       "      <td>A long joke.</td>\n",
       "      <td>[removed]</td>\n",
       "      <td>4</td>\n",
       "    </tr>\n",
       "  </tbody>\n",
       "</table>\n",
       "</div>"
      ],
      "text/plain": [
       "                                                                        title  \\\n",
       "0                                        I am soooo glad I'm not circumcised!   \n",
       "1  Did you know Google now has a platform for recording your bowel movements?   \n",
       "2                       What is the difference between my wife and my vacuum?   \n",
       "3                                                       My last joke for now.   \n",
       "4                                       The Nintendo 64 turns 18 this week...   \n",
       "5                                                           Sex with teacher.   \n",
       "6                                                           Another long one.   \n",
       "7                    What did the French man say to the attractive teletubby?   \n",
       "8                             A Priest takes a walk down to the docks one day   \n",
       "9                                                                A long joke.   \n",
       "\n",
       "                                                                                   selftext  \\\n",
       "0                       My corona is covered with foreskin so it is not exposed to viruses.   \n",
       "1                                                                It's called Google Sheets.   \n",
       "2  The vacuum doesn't snore after sex.\\n\\n&amp;#x200B;\\n\\nApril fools, I don't have a wife.   \n",
       "3                                                                                 [removed]   \n",
       "4                                                                                 [removed]   \n",
       "5                                                                                 [removed]   \n",
       "6                                                                                 [removed]   \n",
       "7                                                                               Oo..lala...   \n",
       "8                                                                                 [removed]   \n",
       "9                                                                                 [removed]   \n",
       "\n",
       "   score  \n",
       "0      2  \n",
       "1      9  \n",
       "2     15  \n",
       "3      9  \n",
       "4    134  \n",
       "5      1  \n",
       "6      8  \n",
       "7      2  \n",
       "8     88  \n",
       "9      4  "
      ]
     },
     "execution_count": 5,
     "metadata": {},
     "output_type": "execute_result"
    }
   ],
   "source": [
    "pd.options.display.max_colwidth = None\n",
    "df[['title', 'selftext', 'score']].head(10)"
   ]
  },
  {
   "cell_type": "code",
   "execution_count": 6,
   "id": "5e176074",
   "metadata": {
    "colab": {
     "base_uri": "https://localhost:8080/"
    },
    "id": "5e176074",
    "outputId": "ca06c1f9-0fcc-4286-94a8-06711904b80a",
    "scrolled": true
   },
   "outputs": [
    {
     "data": {
      "text/plain": [
       "count    1000000.000000\n",
       "mean         139.691119\n",
       "std         1674.046005\n",
       "min            0.000000\n",
       "25%            0.000000\n",
       "50%            1.000000\n",
       "75%            7.000000\n",
       "max       142733.000000\n",
       "Name: score, dtype: float64"
      ]
     },
     "execution_count": 6,
     "metadata": {},
     "output_type": "execute_result"
    }
   ],
   "source": [
    "df['score'].describe()"
   ]
  },
  {
   "cell_type": "code",
   "execution_count": 7,
   "id": "I_ycv4TfIBzb",
   "metadata": {
    "colab": {
     "base_uri": "https://localhost:8080/",
     "height": 352
    },
    "id": "I_ycv4TfIBzb",
    "outputId": "e7bc1624-64f9-429f-ad6d-b373ff11535d"
   },
   "outputs": [
    {
     "name": "stdout",
     "output_type": "stream",
     "text": [
      "Saving figure scores distribution\n"
     ]
    },
    {
     "data": {
      "image/png": "[encoded data removed]",
      "text/plain": [
       "<Figure size 460.8x403.2 with 1 Axes>"
      ]
     },
     "metadata": {},
     "output_type": "display_data"
    }
   ],
   "source": [
    "plt.hist(df['score'], log=True)\n",
    "plt.title('histogram of log score')\n",
    "save_fig('scores distribution')"
   ]
  },
  {
   "cell_type": "code",
   "execution_count": 8,
   "id": "3b7e6a65",
   "metadata": {
    "id": "3b7e6a65"
   },
   "outputs": [],
   "source": [
    "# define some parameters \n",
    "CLASS_SIZE = 100000\n",
    "TRAIN_SIZE = 0.95\n",
    "MIN_UPVOTES = 50\n",
    "MAX_UPVOTES = df['score'].max()\n",
    "TITLE_MAX_LEN = 200\n",
    "SELFTEXT_MAX_LEN = 200"
   ]
  },
  {
   "cell_type": "code",
   "execution_count": 9,
   "id": "6634aba8",
   "metadata": {
    "id": "6634aba8"
   },
   "outputs": [],
   "source": [
    "# boolean masks\n",
    "\n",
    "# where selftext isnull (no punchline)\n",
    "is_null = df['selftext'].isnull()\n",
    "\n",
    "# where title or post were removed by reddit user/mod\n",
    "removed = (df['selftext'].str.lower() == '[removed]') | (df['title'].str.lower() == '[removed]')\n",
    "\n",
    "# where tile or post were deleted by the original poster\n",
    "deleted = (df['selftext'].str.lower() == '[deleted]') | (df['title'].str.lower() == '[deleted]')\n",
    "\n",
    "# reposts\n",
    "duplicated = df.duplicated(subset=['title', 'selftext'], keep='first')\n",
    "\n",
    "# where upvotes is 0 (reddit automatically provides user 1 upvote)\n",
    "neg_class = df['score'] == 0"
   ]
  },
  {
   "cell_type": "code",
   "execution_count": 10,
   "id": "ceea2142",
   "metadata": {
    "colab": {
     "base_uri": "https://localhost:8080/"
    },
    "id": "ceea2142",
    "outputId": "8d36c823-fd0f-42b3-e140-7f0427ed4a00",
    "scrolled": true
   },
   "outputs": [
    {
     "data": {
      "text/plain": [
       "(565688, 12)"
      ]
     },
     "execution_count": 10,
     "metadata": {},
     "output_type": "execute_result"
    }
   ],
   "source": [
    "# get entries that aren't removed or deleted\n",
    "df_cleaned = df[~removed][~deleted][~duplicated].copy()\n",
    "df_cleaned.shape"
   ]
  },
  {
   "cell_type": "code",
   "execution_count": 11,
   "id": "29952c2b",
   "metadata": {
    "colab": {
     "base_uri": "https://localhost:8080/",
     "height": 363
    },
    "id": "as28CaP0Icat",
    "outputId": "73cb2052-445d-4d68-c47f-5cf1bd06ea93",
    "scrolled": true
   },
   "outputs": [
    {
     "data": {
      "text/html": [
       "<div>\n",
       "<style scoped>\n",
       "    .dataframe tbody tr th:only-of-type {\n",
       "        vertical-align: middle;\n",
       "    }\n",
       "\n",
       "    .dataframe tbody tr th {\n",
       "        vertical-align: top;\n",
       "    }\n",
       "\n",
       "    .dataframe thead th {\n",
       "        text-align: right;\n",
       "    }\n",
       "</style>\n",
       "<table border=\"1\" class=\"dataframe\">\n",
       "  <thead>\n",
       "    <tr style=\"text-align: right;\">\n",
       "      <th></th>\n",
       "      <th>title</th>\n",
       "      <th>selftext</th>\n",
       "      <th>score</th>\n",
       "    </tr>\n",
       "  </thead>\n",
       "  <tbody>\n",
       "    <tr>\n",
       "      <th>308797</th>\n",
       "      <td>What happens when you cross a joke with a rhetorical question?</td>\n",
       "      <td>NaN</td>\n",
       "      <td>3938</td>\n",
       "    </tr>\n",
       "    <tr>\n",
       "      <th>625315</th>\n",
       "      <td>The funniest /r/jokes has ever been</td>\n",
       "      <td>NaN</td>\n",
       "      <td>67950</td>\n",
       "    </tr>\n",
       "    <tr>\n",
       "      <th>914649</th>\n",
       "      <td>Shout out to people who don't know the opposite of in</td>\n",
       "      <td>NaN</td>\n",
       "      <td>4580</td>\n",
       "    </tr>\n",
       "    <tr>\n",
       "      <th>915783</th>\n",
       "      <td>5 out of 6 scientists say Russian Roulette is safe.</td>\n",
       "      <td>NaN</td>\n",
       "      <td>10085</td>\n",
       "    </tr>\n",
       "    <tr>\n",
       "      <th>919422</th>\n",
       "      <td>Accordion to a recent survey, replacing words with the names of musical instruments in a sentence often goes undetected.</td>\n",
       "      <td>NaN</td>\n",
       "      <td>12580</td>\n",
       "    </tr>\n",
       "    <tr>\n",
       "      <th>927114</th>\n",
       "      <td>Never make fun of a fat girl with a lisp, she's probably thick and tired of it.</td>\n",
       "      <td>NaN</td>\n",
       "      <td>7848</td>\n",
       "    </tr>\n",
       "    <tr>\n",
       "      <th>931755</th>\n",
       "      <td>6:30 is the best time on a clock, hands down.</td>\n",
       "      <td>NaN</td>\n",
       "      <td>2173</td>\n",
       "    </tr>\n",
       "    <tr>\n",
       "      <th>933895</th>\n",
       "      <td>Bruce Jenner winning woman of the year just proves that men are better than women at everything, including being a woman</td>\n",
       "      <td>NaN</td>\n",
       "      <td>11999</td>\n",
       "    </tr>\n",
       "    <tr>\n",
       "      <th>935376</th>\n",
       "      <td>I often say to myself, \"I can't believe that cloning machine worked.\"</td>\n",
       "      <td>NaN</td>\n",
       "      <td>6524</td>\n",
       "    </tr>\n",
       "    <tr>\n",
       "      <th>937567</th>\n",
       "      <td>How Long is a Chinese name.</td>\n",
       "      <td>NaN</td>\n",
       "      <td>2404</td>\n",
       "    </tr>\n",
       "  </tbody>\n",
       "</table>\n",
       "</div>"
      ],
      "text/plain": [
       "                                                                                                                           title  \\\n",
       "308797                                                            What happens when you cross a joke with a rhetorical question?   \n",
       "625315                                                                                       The funniest /r/jokes has ever been   \n",
       "914649                                                                     Shout out to people who don't know the opposite of in   \n",
       "915783                                                                       5 out of 6 scientists say Russian Roulette is safe.   \n",
       "919422  Accordion to a recent survey, replacing words with the names of musical instruments in a sentence often goes undetected.   \n",
       "927114                                           Never make fun of a fat girl with a lisp, she's probably thick and tired of it.   \n",
       "931755                                                                             6:30 is the best time on a clock, hands down.   \n",
       "933895  Bruce Jenner winning woman of the year just proves that men are better than women at everything, including being a woman   \n",
       "935376                                                     I often say to myself, \"I can't believe that cloning machine worked.\"   \n",
       "937567                                                                                               How Long is a Chinese name.   \n",
       "\n",
       "       selftext  score  \n",
       "308797      NaN   3938  \n",
       "625315      NaN  67950  \n",
       "914649      NaN   4580  \n",
       "915783      NaN  10085  \n",
       "919422      NaN  12580  \n",
       "927114      NaN   7848  \n",
       "931755      NaN   2173  \n",
       "933895      NaN  11999  \n",
       "935376      NaN   6524  \n",
       "937567      NaN   2404  "
      ]
     },
     "execution_count": 11,
     "metadata": {},
     "output_type": "execute_result"
    }
   ],
   "source": [
    "# what are nans?\n",
    "df_cleaned[df_cleaned['score'] > 2000][is_null][['title', 'selftext', 'score']].head(10) "
   ]
  },
  {
   "cell_type": "code",
   "execution_count": 12,
   "id": "8434a4ef",
   "metadata": {},
   "outputs": [],
   "source": [
    "df_cleaned = df_cleaned[~is_null]"
   ]
  },
  {
   "cell_type": "code",
   "execution_count": 13,
   "id": "3dbf1ad1",
   "metadata": {},
   "outputs": [],
   "source": [
    "PATTERN = r\"(?<![a-z])(e|E)(d|D)(i|I)(t|T)\\W.+\"\n",
    "\n",
    "# remove user edits added after user posted content\n",
    "df_cleaned['title'] = df_cleaned['title'].apply(lambda x:re.sub(PATTERN, \" \", x))\n",
    "df_cleaned['selftext'] = df_cleaned['selftext'].apply(lambda x:re.sub(PATTERN, \" \", x))"
   ]
  },
  {
   "cell_type": "code",
   "execution_count": 14,
   "id": "6f936047",
   "metadata": {},
   "outputs": [
    {
     "name": "stdout",
     "output_type": "stream",
     "text": [
      "360692 samples match\n"
     ]
    }
   ],
   "source": [
    "# Filter entries that are short, but meet other necessary criteria\n",
    "# remove unnecessary whitespace \n",
    "df_cleaned[['selftext', 'title']] = df_cleaned[['selftext', 'title']].applymap(lambda x:\" \".join(str(x).split()))\n",
    "\n",
    "# get length\n",
    "df_cleaned['selftext_len'] = df_cleaned['selftext'].str.len()\n",
    "df_cleaned['title_len'] = df_cleaned['selftext'].str.len()\n",
    "\n",
    "# boolean masks to filter for length\n",
    "title_window = (df_cleaned['title_len'] > 0) & (df_cleaned['title_len'] < TITLE_MAX_LEN)\n",
    "selftext_window = (df_cleaned['selftext_len'] > 0) & (df_cleaned['selftext_len'] < SELFTEXT_MAX_LEN)\n",
    "\n",
    "# apply masks to filter\n",
    "df_cleaned = df_cleaned[selftext_window & title_window]\n",
    "print(f\"{len(df_cleaned[~neg_class])} samples match\")"
   ]
  },
  {
   "cell_type": "code",
   "execution_count": 15,
   "id": "b24f767a",
   "metadata": {
    "scrolled": false
   },
   "outputs": [
    {
     "data": {
      "text/html": [
       "<div>\n",
       "<style scoped>\n",
       "    .dataframe tbody tr th:only-of-type {\n",
       "        vertical-align: middle;\n",
       "    }\n",
       "\n",
       "    .dataframe tbody tr th {\n",
       "        vertical-align: top;\n",
       "    }\n",
       "\n",
       "    .dataframe thead th {\n",
       "        text-align: right;\n",
       "    }\n",
       "</style>\n",
       "<table border=\"1\" class=\"dataframe\">\n",
       "  <thead>\n",
       "    <tr style=\"text-align: right;\">\n",
       "      <th></th>\n",
       "      <th>title</th>\n",
       "      <th>selftext</th>\n",
       "      <th>score</th>\n",
       "    </tr>\n",
       "  </thead>\n",
       "  <tbody>\n",
       "    <tr>\n",
       "      <th>132046</th>\n",
       "      <td>How do you know when a Redditor has left a hotel?</td>\n",
       "      <td>Username checks out</td>\n",
       "      <td>928</td>\n",
       "    </tr>\n",
       "    <tr>\n",
       "      <th>774810</th>\n",
       "      <td>Why is the homeless /r/anime mod still homeless?</td>\n",
       "      <td>Every time someone tries to give him Shelter, he rejects it.</td>\n",
       "      <td>2</td>\n",
       "    </tr>\n",
       "    <tr>\n",
       "      <th>840386</th>\n",
       "      <td>Im looking for something funny to say on Reddit</td>\n",
       "      <td>On reddit</td>\n",
       "      <td>0</td>\n",
       "    </tr>\n",
       "    <tr>\n",
       "      <th>210359</th>\n",
       "      <td>What's a Reddit user's favorite place to get credit scores?</td>\n",
       "      <td>Credit Karma</td>\n",
       "      <td>1</td>\n",
       "    </tr>\n",
       "    <tr>\n",
       "      <th>191770</th>\n",
       "      <td>Redditers have forgotten how great Game of Thrones seasons 1-7 were</td>\n",
       "      <td>But to be fair, so have Benioff and Weiss</td>\n",
       "      <td>3</td>\n",
       "    </tr>\n",
       "    <tr>\n",
       "      <th>186068</th>\n",
       "      <td>Redditors who were children of anti-vaxxers, how difficult was it growing up?</td>\n",
       "      <td>My bad, that's probably my dumbest ask-reddit question yet.</td>\n",
       "      <td>5</td>\n",
       "    </tr>\n",
       "    <tr>\n",
       "      <th>565727</th>\n",
       "      <td>I got a girlfriend today!</td>\n",
       "      <td>I wish I could post this on any other thread.</td>\n",
       "      <td>1639</td>\n",
       "    </tr>\n",
       "    <tr>\n",
       "      <th>522906</th>\n",
       "      <td>\"Have you seen the new reddit app update?\"</td>\n",
       "      <td>\"Yeah. They really blueit this time.\"</td>\n",
       "      <td>2</td>\n",
       "    </tr>\n",
       "    <tr>\n",
       "      <th>342743</th>\n",
       "      <td>Q Walks Into A Bar</td>\n",
       "      <td>\\-Q walks into a bar. \\-Fascist Reddit Bartender, says: Get out.</td>\n",
       "      <td>0</td>\n",
       "    </tr>\n",
       "    <tr>\n",
       "      <th>74979</th>\n",
       "      <td>What do you call lizard picture posted on Reddit?</td>\n",
       "      <td>A karma chameleon</td>\n",
       "      <td>7</td>\n",
       "    </tr>\n",
       "  </tbody>\n",
       "</table>\n",
       "</div>"
      ],
      "text/plain": [
       "                                                                                title  \\\n",
       "132046                              How do you know when a Redditor has left a hotel?   \n",
       "774810                               Why is the homeless /r/anime mod still homeless?   \n",
       "840386                                Im looking for something funny to say on Reddit   \n",
       "210359                    What's a Reddit user's favorite place to get credit scores?   \n",
       "191770            Redditers have forgotten how great Game of Thrones seasons 1-7 were   \n",
       "186068  Redditors who were children of anti-vaxxers, how difficult was it growing up?   \n",
       "565727                                                      I got a girlfriend today!   \n",
       "522906                                     \"Have you seen the new reddit app update?\"   \n",
       "342743                                                             Q Walks Into A Bar   \n",
       "74979                               What do you call lizard picture posted on Reddit?   \n",
       "\n",
       "                                                                selftext  \\\n",
       "132046                                               Username checks out   \n",
       "774810      Every time someone tries to give him Shelter, he rejects it.   \n",
       "840386                                                         On reddit   \n",
       "210359                                                      Credit Karma   \n",
       "191770                         But to be fair, so have Benioff and Weiss   \n",
       "186068       My bad, that's probably my dumbest ask-reddit question yet.   \n",
       "565727                     I wish I could post this on any other thread.   \n",
       "522906                             \"Yeah. They really blueit this time.\"   \n",
       "342743  \\-Q walks into a bar. \\-Fascist Reddit Bartender, says: Get out.   \n",
       "74979                                                  A karma chameleon   \n",
       "\n",
       "        score  \n",
       "132046    928  \n",
       "774810      2  \n",
       "840386      0  \n",
       "210359      1  \n",
       "191770      3  \n",
       "186068      5  \n",
       "565727   1639  \n",
       "522906      2  \n",
       "342743      0  \n",
       "74979       7  "
      ]
     },
     "execution_count": 15,
     "metadata": {},
     "output_type": "execute_result"
    }
   ],
   "source": [
    "# meta jokes\n",
    "# boolean mask that identifies strings with reddit posts\n",
    "PATTERN = r\"(\\s\\/?[ur]\\/\\D)|(\\sclick\\s)|(sub)?(reddit)|\\S(vote)s?|(\\sop\\s)|https?\\S+|([a-z]?(re)?post(?=(ed)|[^a-z]|$))|_\"\n",
    "is_meta = df_cleaned['title'].str.lower().str.contains(PATTERN, regex=True) | df_cleaned['selftext'].str.lower().str.contains(PATTERN, regex=True)\n",
    "df_cleaned[is_meta].sample(10)[['title', 'selftext', 'score']]"
   ]
  },
  {
   "cell_type": "code",
   "execution_count": 16,
   "id": "2b3f4b64",
   "metadata": {},
   "outputs": [],
   "source": [
    "df_cleaned = df_cleaned[~is_meta]"
   ]
  },
  {
   "cell_type": "code",
   "execution_count": 17,
   "id": "785e9867",
   "metadata": {},
   "outputs": [],
   "source": [
    "# offensive jokes\n",
    "# boolean mask that identifies strings with offensive content\n",
    "PATTERN = r\"(?<![a-z])(nsfw).?|(\\swhore\\w?)|(\\shookers?\\s)|(\\sorgasm\\w?)|(\\ssex\\s)|(\\sdicks?\\s)|(\\sboobs?\\s)|(\\spenis\\s)|(\\svaginas?\\s)|(\\snipples?\\s)|(\\srape\\w?)|(\\sanal\\s)|(\\sniggers?\\s)|(\\stits?\\s)|(\\sblack people\\s)|(\\sblack m(a|e)n\\s)|(cocks?\\s)|(\\spussy\\s)|(\\scunt\\s)|(\\sgay\\s)\"\n",
    "is_offensive = df_cleaned['title'].str.lower().str.contains(PATTERN, regex=True) | df_cleaned['selftext'].str.lower().str.contains(PATTERN, regex=True)\n",
    "\n",
    "# uncomment below to check this NSFW\n",
    "#df_cleaned[is_offensive & is_short].sample(30)[['title', 'selftext', 'score']]"
   ]
  },
  {
   "cell_type": "code",
   "execution_count": 18,
   "id": "63168470",
   "metadata": {},
   "outputs": [],
   "source": [
    "df_cleaned = df_cleaned[~is_offensive]"
   ]
  },
  {
   "cell_type": "code",
   "execution_count": 19,
   "id": "43443c65",
   "metadata": {},
   "outputs": [
    {
     "data": {
      "text/html": [
       "<div>\n",
       "<style scoped>\n",
       "    .dataframe tbody tr th:only-of-type {\n",
       "        vertical-align: middle;\n",
       "    }\n",
       "\n",
       "    .dataframe tbody tr th {\n",
       "        vertical-align: top;\n",
       "    }\n",
       "\n",
       "    .dataframe thead th {\n",
       "        text-align: right;\n",
       "    }\n",
       "</style>\n",
       "<table border=\"1\" class=\"dataframe\">\n",
       "  <thead>\n",
       "    <tr style=\"text-align: right;\">\n",
       "      <th></th>\n",
       "      <th>title</th>\n",
       "      <th>selftext</th>\n",
       "    </tr>\n",
       "  </thead>\n",
       "  <tbody>\n",
       "    <tr>\n",
       "      <th>712422</th>\n",
       "      <td>I like my women like I like my whiskey....</td>\n",
       "      <td>Over 18, single &amp;amp; either Irish or Scottish</td>\n",
       "    </tr>\n",
       "    <tr>\n",
       "      <th>44965</th>\n",
       "      <td>When someone asks me what kind of berry you want for your breakfast cereals</td>\n",
       "      <td>I say I prefer Ale for breakfast Ale Berry &amp;amp;#x200B; \\--- Just invented it after a photo of Halle Berry on the landing page x)</td>\n",
       "    </tr>\n",
       "    <tr>\n",
       "      <th>856299</th>\n",
       "      <td>Why did God make all the planets first?</td>\n",
       "      <td>Because he had to “plan it” first. (Courtesy of a family member - Benjamin)</td>\n",
       "    </tr>\n",
       "    <tr>\n",
       "      <th>3164</th>\n",
       "      <td>Why don’t the Chinese play cricket?</td>\n",
       "      <td>&amp;gt;!Because they would eat the bat!&amp;lt;</td>\n",
       "    </tr>\n",
       "    <tr>\n",
       "      <th>50606</th>\n",
       "      <td>What’s the coolest animal?</td>\n",
       "      <td>The Dino(cool)saurs</td>\n",
       "    </tr>\n",
       "    <tr>\n",
       "      <th>238195</th>\n",
       "      <td>A conference was called between some breakables...</td>\n",
       "      <td>Beer Bottle: You break me, you get 1 year of bad luck! Mirror: You kiddin' me? You break me, then y'all get 7 years bad luck! Condom: Hahaha... (Condom walks off laughing)</td>\n",
       "    </tr>\n",
       "    <tr>\n",
       "      <th>129945</th>\n",
       "      <td>A man has died and went to heaven.</td>\n",
       "      <td>Lord: How did you die, child? Man: I was hacked. Lord: (*scratching own head*) But how did you die from that? Man: Hacked into pieces.</td>\n",
       "    </tr>\n",
       "    <tr>\n",
       "      <th>752502</th>\n",
       "      <td>It's only offensive if you can't put your mouth on it.</td>\n",
       "      <td>Smelling it makes me want it even more. (BBQ at work for starters).</td>\n",
       "    </tr>\n",
       "    <tr>\n",
       "      <th>596741</th>\n",
       "      <td>I like my women how I like my burritos.</td>\n",
       "      <td>Wet &amp;amp; Spicy</td>\n",
       "    </tr>\n",
       "    <tr>\n",
       "      <th>199516</th>\n",
       "      <td>How did they get the name Canada?</td>\n",
       "      <td>They drew letters out of a hat. \"C\", eh? \"N\", eh?. \"D\", eh? &amp;amp;#x200B; Its an oldie but a goodie, don't know the original credit.</td>\n",
       "    </tr>\n",
       "  </tbody>\n",
       "</table>\n",
       "</div>"
      ],
      "text/plain": [
       "                                                                              title  \\\n",
       "712422                                   I like my women like I like my whiskey....   \n",
       "44965   When someone asks me what kind of berry you want for your breakfast cereals   \n",
       "856299                                      Why did God make all the planets first?   \n",
       "3164                                            Why don’t the Chinese play cricket?   \n",
       "50606                                                    What’s the coolest animal?   \n",
       "238195                           A conference was called between some breakables...   \n",
       "129945                                           A man has died and went to heaven.   \n",
       "752502                       It's only offensive if you can't put your mouth on it.   \n",
       "596741                                      I like my women how I like my burritos.   \n",
       "199516                                            How did they get the name Canada?   \n",
       "\n",
       "                                                                                                                                                                           selftext  \n",
       "712422                                                                                                                               Over 18, single &amp; either Irish or Scottish  \n",
       "44965                                             I say I prefer Ale for breakfast Ale Berry &amp;#x200B; \\--- Just invented it after a photo of Halle Berry on the landing page x)  \n",
       "856299                                                                                                  Because he had to “plan it” first. (Courtesy of a family member - Benjamin)  \n",
       "3164                                                                                                                                       &gt;!Because they would eat the bat!&lt;  \n",
       "50606                                                                                                                                                           The Dino(cool)saurs  \n",
       "238195  Beer Bottle: You break me, you get 1 year of bad luck! Mirror: You kiddin' me? You break me, then y'all get 7 years bad luck! Condom: Hahaha... (Condom walks off laughing)  \n",
       "129945                                       Lord: How did you die, child? Man: I was hacked. Lord: (*scratching own head*) But how did you die from that? Man: Hacked into pieces.  \n",
       "752502                                                                                                          Smelling it makes me want it even more. (BBQ at work for starters).  \n",
       "596741                                                                                                                                                              Wet &amp; Spicy  \n",
       "199516                                          They drew letters out of a hat. \"C\", eh? \"N\", eh?. \"D\", eh? &amp;#x200B; Its an oldie but a goodie, don't know the original credit.  "
      ]
     },
     "execution_count": 19,
     "metadata": {},
     "output_type": "execute_result"
    }
   ],
   "source": [
    "# removing html character references and tags\n",
    "PATTERN_empty_string = r\"&.+;|\\(.+\\)|\\[.+\\]\"\n",
    "\n",
    "# removing punctuation, unnecessary characters\n",
    "PATTERN_single_space = r\"[\\\\\\-\\\"*.?!,“”:£$#/~;\\^=]\"\n",
    "\n",
    "df_cleaned[df_cleaned['selftext'].str.contains(PATTERN_empty_string, regex=True)][['title', 'selftext']].sample(10)"
   ]
  },
  {
   "cell_type": "code",
   "execution_count": 20,
   "id": "03ceb452",
   "metadata": {},
   "outputs": [],
   "source": [
    "df_cleaned['title'] = df_cleaned['title'].apply(lambda x: re.sub(PATTERN_empty_string, \"\", x))\n",
    "df_cleaned['selftext'] = df_cleaned['selftext'].apply(lambda x: re.sub(PATTERN_empty_string, \"\", x))\n",
    "df_cleaned['title'] = df_cleaned['title'].apply(lambda x: re.sub(PATTERN_single_space, \" \", x))\n",
    "df_cleaned['selftext'] = df_cleaned['selftext'].apply(lambda x: re.sub(PATTERN_single_space, \" \", x))"
   ]
  },
  {
   "cell_type": "code",
   "execution_count": 21,
   "id": "973fc386",
   "metadata": {},
   "outputs": [
    {
     "data": {
      "text/html": [
       "<div>\n",
       "<style scoped>\n",
       "    .dataframe tbody tr th:only-of-type {\n",
       "        vertical-align: middle;\n",
       "    }\n",
       "\n",
       "    .dataframe tbody tr th {\n",
       "        vertical-align: top;\n",
       "    }\n",
       "\n",
       "    .dataframe thead th {\n",
       "        text-align: right;\n",
       "    }\n",
       "</style>\n",
       "<table border=\"1\" class=\"dataframe\">\n",
       "  <thead>\n",
       "    <tr style=\"text-align: right;\">\n",
       "      <th></th>\n",
       "      <th>title</th>\n",
       "      <th>selftext</th>\n",
       "    </tr>\n",
       "  </thead>\n",
       "  <tbody>\n",
       "    <tr>\n",
       "      <th>76617</th>\n",
       "      <td>An Ethiopian fell into an alligator pen at San Diego zoo</td>\n",
       "      <td>He ate 5 before they could get him out</td>\n",
       "    </tr>\n",
       "    <tr>\n",
       "      <th>251784</th>\n",
       "      <td>Brains</td>\n",
       "      <td>A 3 year old boy is looking at his testicles in the bathtub and asks his mom   are these my brains   To which his mother reply’s  not yet sweetie</td>\n",
       "    </tr>\n",
       "    <tr>\n",
       "      <th>178025</th>\n",
       "      <td>How are good year tires made</td>\n",
       "      <td>They take 365 used condoms and melt them together</td>\n",
       "    </tr>\n",
       "    <tr>\n",
       "      <th>123129</th>\n",
       "      <td>Remembering 9 11</td>\n",
       "      <td>It is a little known fact that Al Qaida members still celebrate 9 11 every year  Why does the organization do this  Because it was such a towering success</td>\n",
       "    </tr>\n",
       "    <tr>\n",
       "      <th>960043</th>\n",
       "      <td>The Greatest Trick the Devil ever played</td>\n",
       "      <td>The greatest trick the Devil ever played was convincing Columbia House that he intended to purchase more CDs from them once he got his 8 CDs for a penny</td>\n",
       "    </tr>\n",
       "    <tr>\n",
       "      <th>305652</th>\n",
       "      <td>A friend of mine  a mother of 4 refused to get her children vaccinated</td>\n",
       "      <td>Edit2   Mother of two    Edit3   Mother of one      Edit4   Mo   Wait</td>\n",
       "    </tr>\n",
       "    <tr>\n",
       "      <th>128729</th>\n",
       "      <td>What makes more noise than a Tractor</td>\n",
       "      <td>2 Tractors</td>\n",
       "    </tr>\n",
       "    <tr>\n",
       "      <th>975525</th>\n",
       "      <td>The US Treasury is not going to put a woman on the  10 bill</td>\n",
       "      <td>they're going to put a woman on the new  7 80 bill</td>\n",
       "    </tr>\n",
       "    <tr>\n",
       "      <th>150493</th>\n",
       "      <td>What do the Vatican and Area 51 have in common</td>\n",
       "      <td>They are both probing Uranus</td>\n",
       "    </tr>\n",
       "    <tr>\n",
       "      <th>483867</th>\n",
       "      <td>Why do you only ever take 2 mormons fishing</td>\n",
       "      <td>Because if you only take one  he'll drink all your beer</td>\n",
       "    </tr>\n",
       "  </tbody>\n",
       "</table>\n",
       "</div>"
      ],
      "text/plain": [
       "                                                                          title  \\\n",
       "76617                  An Ethiopian fell into an alligator pen at San Diego zoo   \n",
       "251784                                                                   Brains   \n",
       "178025                                            How are good year tires made    \n",
       "123129                                                         Remembering 9 11   \n",
       "960043                              The Greatest Trick the Devil ever played      \n",
       "305652  A friend of mine  a mother of 4 refused to get her children vaccinated    \n",
       "128729                                    What makes more noise than a Tractor    \n",
       "975525           The US Treasury is not going to put a woman on the  10 bill      \n",
       "150493                          What do the Vatican and Area 51 have in common    \n",
       "483867                            Why do you only ever take 2 mormons fishing     \n",
       "\n",
       "                                                                                                                                                           selftext  \n",
       "76617                                                                                                                       He ate 5 before they could get him out   \n",
       "251784           A 3 year old boy is looking at his testicles in the bathtub and asks his mom   are these my brains   To which his mother reply’s  not yet sweetie   \n",
       "178025                                                                                                           They take 365 used condoms and melt them together   \n",
       "123129  It is a little known fact that Al Qaida members still celebrate 9 11 every year  Why does the organization do this  Because it was such a towering success   \n",
       "960043  The greatest trick the Devil ever played was convincing Columbia House that he intended to purchase more CDs from them once he got his 8 CDs for a penny     \n",
       "305652                                                                                      Edit2   Mother of two    Edit3   Mother of one      Edit4   Mo   Wait    \n",
       "128729                                                                                                                                                   2 Tractors  \n",
       "975525                                                                                                          they're going to put a woman on the new  7 80 bill   \n",
       "150493                                                                                                                                They are both probing Uranus   \n",
       "483867                                                                                                     Because if you only take one  he'll drink all your beer   "
      ]
     },
     "execution_count": 21,
     "metadata": {},
     "output_type": "execute_result"
    }
   ],
   "source": [
    "is_numeric = df_cleaned['title'].str.contains(r\"\\d\") | df_cleaned['selftext'].str.contains(r\"\\d\")\n",
    "df_cleaned[is_numeric][['title', 'selftext']].sample(10)"
   ]
  },
  {
   "cell_type": "code",
   "execution_count": 22,
   "id": "62f733dd",
   "metadata": {},
   "outputs": [],
   "source": [
    "df_cleaned = df_cleaned[~is_numeric]"
   ]
  },
  {
   "cell_type": "code",
   "execution_count": 23,
   "id": "b75e8adb",
   "metadata": {},
   "outputs": [
    {
     "data": {
      "text/html": [
       "<div>\n",
       "<style scoped>\n",
       "    .dataframe tbody tr th:only-of-type {\n",
       "        vertical-align: middle;\n",
       "    }\n",
       "\n",
       "    .dataframe tbody tr th {\n",
       "        vertical-align: top;\n",
       "    }\n",
       "\n",
       "    .dataframe thead th {\n",
       "        text-align: right;\n",
       "    }\n",
       "</style>\n",
       "<table border=\"1\" class=\"dataframe\">\n",
       "  <thead>\n",
       "    <tr style=\"text-align: right;\">\n",
       "      <th></th>\n",
       "      <th>title</th>\n",
       "      <th>selftext</th>\n",
       "    </tr>\n",
       "  </thead>\n",
       "  <tbody>\n",
       "    <tr>\n",
       "      <th>827367</th>\n",
       "      <td>So I heard Monica Lewinsky isn't going to vote for Hillary</td>\n",
       "      <td>The last Clinton in office left a bad taste in her mouth  😂</td>\n",
       "    </tr>\n",
       "    <tr>\n",
       "      <th>537834</th>\n",
       "      <td>Wanna hear a really good joke about half grown bananas</td>\n",
       "      <td>Nevermind  now's not the ripe time   😉 I made this myself  instead of sleeping at night</td>\n",
       "    </tr>\n",
       "    <tr>\n",
       "      <th>380531</th>\n",
       "      <td>How do you get rid of a Brazilian</td>\n",
       "      <td>Wave any combination of red black and yellow in front of them  🇩🇪 🇧🇪</td>\n",
       "    </tr>\n",
       "    <tr>\n",
       "      <th>729878</th>\n",
       "      <td>I felt really bad for killing myself</td>\n",
       "      <td>Hey doc  so here's the thing  I felt really bad so I tried to kill myself with pain killers   Seriously  And what happened   After the first two  I felt much better 😆</td>\n",
       "    </tr>\n",
       "    <tr>\n",
       "      <th>50237</th>\n",
       "      <td>What does a nosy pepper do</td>\n",
       "      <td>Gets jalepeño business 😅</td>\n",
       "    </tr>\n",
       "    <tr>\n",
       "      <th>147480</th>\n",
       "      <td>poor calendar 😢</td>\n",
       "      <td>Why was the calendar depressed  His days were numbered</td>\n",
       "    </tr>\n",
       "    <tr>\n",
       "      <th>781670</th>\n",
       "      <td>What do you do when you see a spaceman</td>\n",
       "      <td>You park your car  man 🚘</td>\n",
       "    </tr>\n",
       "    <tr>\n",
       "      <th>179166</th>\n",
       "      <td>Three blondes walk into a bar</td>\n",
       "      <td>Two walked away fine  the third got a concussion  😂</td>\n",
       "    </tr>\n",
       "    <tr>\n",
       "      <th>389293</th>\n",
       "      <td>At the Highland Games I saw a Scotsman tossing a large pole</td>\n",
       "      <td>I said  That’s a fine piece of meat Angus  but be careful  there’s a camera in this toilet   —————  this is my third tweak at this joke  😂</td>\n",
       "    </tr>\n",
       "    <tr>\n",
       "      <th>448897</th>\n",
       "      <td>My wife still misses me because I play Fortnite too much</td>\n",
       "      <td>But her aim is improving 😏</td>\n",
       "    </tr>\n",
       "  </tbody>\n",
       "</table>\n",
       "</div>"
      ],
      "text/plain": [
       "                                                                title  \\\n",
       "827367  So I heard Monica Lewinsky isn't going to vote for Hillary      \n",
       "537834       Wanna hear a really good joke about half grown bananas     \n",
       "380531                             How do you get rid of a Brazilian    \n",
       "729878                          I felt really bad for killing myself    \n",
       "50237                                     What does a nosy pepper do    \n",
       "147480                                                poor calendar 😢   \n",
       "781670                        What do you do when you see a spaceman    \n",
       "179166                                  Three blondes walk into a bar   \n",
       "389293    At the Highland Games I saw a Scotsman tossing a large pole   \n",
       "448897    My wife still misses me because I play Fortnite too much      \n",
       "\n",
       "                                                                                                                                                                       selftext  \n",
       "827367                                                                                                              The last Clinton in office left a bad taste in her mouth  😂  \n",
       "537834                                                                                 Nevermind  now's not the ripe time   😉 I made this myself  instead of sleeping at night   \n",
       "380531                                                                                                     Wave any combination of red black and yellow in front of them  🇩🇪 🇧🇪  \n",
       "729878   Hey doc  so here's the thing  I felt really bad so I tried to kill myself with pain killers   Seriously  And what happened   After the first two  I felt much better 😆  \n",
       "50237                                                                                                                                                  Gets jalepeño business 😅  \n",
       "147480                                                                                                                  Why was the calendar depressed  His days were numbered   \n",
       "781670                                                                                                                                                 You park your car  man 🚘  \n",
       "179166                                                                                                                      Two walked away fine  the third got a concussion  😂  \n",
       "389293                               I said  That’s a fine piece of meat Angus  but be careful  there’s a camera in this toilet   —————  this is my third tweak at this joke  😂  \n",
       "448897                                                                                                                                               But her aim is improving 😏  "
      ]
     },
     "execution_count": 23,
     "metadata": {},
     "output_type": "execute_result"
    }
   ],
   "source": [
    "# emojis\n",
    "def has_emoji(string):\n",
    "    for c in string.split():\n",
    "        if c in emoji.UNICODE_EMOJI['en']:\n",
    "            return True\n",
    "    return False\n",
    "\n",
    "is_emoji = df_cleaned['title'].apply(lambda x: has_emoji(x)) | df_cleaned['selftext'].apply(lambda x: has_emoji(x))\n",
    "df_cleaned[is_emoji][['title', 'selftext']].sample(10)"
   ]
  },
  {
   "cell_type": "code",
   "execution_count": 24,
   "id": "d41f2c18",
   "metadata": {},
   "outputs": [],
   "source": [
    "df_cleaned = df_cleaned[~is_emoji]"
   ]
  },
  {
   "cell_type": "code",
   "execution_count": 25,
   "id": "66354794",
   "metadata": {},
   "outputs": [
    {
     "name": "stdout",
     "output_type": "stream",
     "text": [
      "301675 samples match\n"
     ]
    }
   ],
   "source": [
    "# remove accented characters\n",
    "df_cleaned['title'] = df_cleaned['title'].apply(lambda x: remove_accents(x))\n",
    "df_cleaned['selftext'] = df_cleaned['selftext'].apply(lambda x: remove_accents(x))\n",
    "\n",
    "# Filter entries that are short, but meet other necessary criteria again\n",
    "# remove unnecessary whitespace \n",
    "df_cleaned[['selftext', 'title']] = df_cleaned[['selftext', 'title']].applymap(lambda x:\" \".join(str(x).split()))\n",
    "\n",
    "# boolean masks to filter for length\n",
    "title_window = (df_cleaned['title_len'] > 3) & (df_cleaned['title_len'] < TITLE_MAX_LEN)\n",
    "selftext_window = (df_cleaned['selftext_len'] > 2) & (df_cleaned['selftext_len'] < SELFTEXT_MAX_LEN)\n",
    "\n",
    "# apply masks to filter\n",
    "df_cleaned = df_cleaned[selftext_window & title_window]\n",
    "print(f\"{len(df_cleaned[~neg_class])} samples match\")"
   ]
  },
  {
   "cell_type": "code",
   "execution_count": 26,
   "id": "f7db294c",
   "metadata": {
    "colab": {
     "base_uri": "https://localhost:8080/"
    },
    "id": "f7db294c",
    "outputId": "66d8d53a-3384-485c-9a1f-54318e339706",
    "scrolled": true
   },
   "outputs": [
    {
     "name": "stdout",
     "output_type": "stream",
     "text": [
      "maximum sampling size is 80980\n",
      " proceeding with this value...\n",
      "***** calculating *****\n",
      "WARNING, CURRENT PARAMETERS RESULT IN CLASS SIZE REDUCTION\n",
      "desired size 100000\n",
      "current size 40053\n"
     ]
    }
   ],
   "source": [
    "# returns boolean mask and updated_class sizes for binary classification.\n",
    "# boolean mask is for instances in the positive class that meet arguments\n",
    "\n",
    "pos_class_mask, updated_class_size = populate_pos_class(df_cleaned, MIN_UPVOTES, MAX_UPVOTES, CLASS_SIZE)"
   ]
  },
  {
   "cell_type": "markdown",
   "id": "03a21055",
   "metadata": {
    "id": "03a21055"
   },
   "source": [
    "### Make the positive and negative class labels and concatenate the dataframe"
   ]
  },
  {
   "cell_type": "code",
   "execution_count": 27,
   "id": "6b07ee9e",
   "metadata": {
    "colab": {
     "base_uri": "https://localhost:8080/",
     "height": 455
    },
    "id": "6b07ee9e",
    "outputId": "aed48b0e-1458-46cd-ba8e-ddc3db940787",
    "scrolled": false
   },
   "outputs": [
    {
     "name": "stdout",
     "output_type": "stream",
     "text": [
      "          count         mean          std   min   25%    50%    75%       max\n",
      "target                                                                       \n",
      "False   40053.0     0.000000     0.000000   0.0   0.0    0.0    0.0       0.0\n",
      "True    40053.0  1239.088058  4605.724664  51.0  80.0  150.0  407.0  136359.0\n",
      "Saving figure class distribution after cleaning\n"
     ]
    },
    {
     "data": {
      "image/png": "[encoded data removed]",
      "text/plain": [
       "<Figure size 460.8x403.2 with 1 Axes>"
      ]
     },
     "metadata": {},
     "output_type": "display_data"
    }
   ],
   "source": [
    "# create target label\n",
    "df_cleaned['target'] = pos_class_mask\n",
    "\n",
    "# add positive and negative classes together\n",
    "df_concat = pd.concat([df_cleaned[neg_class].sample(updated_class_size), df_cleaned[pos_class_mask]], axis=0)\n",
    "print(df_concat.groupby('target').describe()['score'])\n",
    "\n",
    "# plot target distribution to validate\n",
    "df_concat['target'].value_counts().plot(kind='bar', color=['xkcd:orange', 'xkcd:azure'])\n",
    "plt.grid(False)\n",
    "save_fig('class distribution after cleaning')"
   ]
  },
  {
   "cell_type": "markdown",
   "id": "Cb4JyDlYsWgz",
   "metadata": {
    "id": "Cb4JyDlYsWgz"
   },
   "source": [
    "### Split into train / test data"
   ]
  },
  {
   "cell_type": "code",
   "execution_count": 28,
   "id": "Rn__FvtKsN7-",
   "metadata": {
    "colab": {
     "base_uri": "https://localhost:8080/"
    },
    "id": "Rn__FvtKsN7-",
    "outputId": "4faeb1aa-89ac-4f2f-c860-64d7f67353ae",
    "scrolled": false
   },
   "outputs": [
    {
     "name": "stdout",
     "output_type": "stream",
     "text": [
      "(76100, 15) (4006, 15)\n"
     ]
    }
   ],
   "source": [
    "# get training size from parameters\n",
    "training_size = int(len(df_concat)*TRAIN_SIZE)\n",
    "\n",
    "# shuffle \n",
    "df_concat_shuffled = df_concat.sample(len(df_concat))\n",
    "\n",
    "# fill na values with a blank\n",
    "df_concat_shuffled['selftext'] = df_concat_shuffled['selftext'].fillna(value='')\n",
    "\n",
    "# generate train and test sets\n",
    "train = df_concat_shuffled[:training_size]\n",
    "test = df_concat_shuffled[training_size:]\n",
    "print(train.shape, test.shape)\n",
    "pd.to_pickle(train, \"./data/train.pkl\")\n",
    "pd.to_pickle(test, \"./data/test.pkl\")"
   ]
  },
  {
   "cell_type": "markdown",
   "id": "quLWMNEP5hdp",
   "metadata": {
    "id": "quLWMNEP5hdp"
   },
   "source": [
    "## Explore the Data"
   ]
  },
  {
   "cell_type": "code",
   "execution_count": 29,
   "id": "357b5d64",
   "metadata": {},
   "outputs": [],
   "source": [
    "# some useful boolean masks\n",
    "is_funny = train['target'] == True"
   ]
  },
  {
   "cell_type": "code",
   "execution_count": 30,
   "id": "81525c72",
   "metadata": {
    "scrolled": true
   },
   "outputs": [
    {
     "data": {
      "text/html": [
       "<div>\n",
       "<style scoped>\n",
       "    .dataframe tbody tr th:only-of-type {\n",
       "        vertical-align: middle;\n",
       "    }\n",
       "\n",
       "    .dataframe tbody tr th {\n",
       "        vertical-align: top;\n",
       "    }\n",
       "\n",
       "    .dataframe thead th {\n",
       "        text-align: right;\n",
       "    }\n",
       "</style>\n",
       "<table border=\"1\" class=\"dataframe\">\n",
       "  <thead>\n",
       "    <tr style=\"text-align: right;\">\n",
       "      <th></th>\n",
       "      <th>title</th>\n",
       "      <th>selftext</th>\n",
       "      <th>score</th>\n",
       "    </tr>\n",
       "  </thead>\n",
       "  <tbody>\n",
       "    <tr>\n",
       "      <th>328307</th>\n",
       "      <td>A Spaniard is walking through a grocery store</td>\n",
       "      <td>He spies a carton on the shelf labeled Soy Milk He smiles to himself and says softly yes you are</td>\n",
       "      <td>666</td>\n",
       "    </tr>\n",
       "    <tr>\n",
       "      <th>743184</th>\n",
       "      <td>Why are redneck murder cases the hardest to solve</td>\n",
       "      <td>Because all the DNA matches and there are no dental records</td>\n",
       "      <td>1849</td>\n",
       "    </tr>\n",
       "    <tr>\n",
       "      <th>153290</th>\n",
       "      <td>I decided to switch to a knife to preserve my ammo</td>\n",
       "      <td>The guys at Laser Tag started freaking out though</td>\n",
       "      <td>1118</td>\n",
       "    </tr>\n",
       "    <tr>\n",
       "      <th>611986</th>\n",
       "      <td>I like my men just how I like my women</td>\n",
       "      <td>That's it I'm bisexual</td>\n",
       "      <td>940</td>\n",
       "    </tr>\n",
       "    <tr>\n",
       "      <th>383122</th>\n",
       "      <td>My poor knowledge of Greek mythology has always been my</td>\n",
       "      <td>Achilles elbow</td>\n",
       "      <td>1215</td>\n",
       "    </tr>\n",
       "    <tr>\n",
       "      <th>888595</th>\n",
       "      <td>What do skinny jeans and cheap hotels have in common</td>\n",
       "      <td>No ball room</td>\n",
       "      <td>721</td>\n",
       "    </tr>\n",
       "    <tr>\n",
       "      <th>355861</th>\n",
       "      <td>My friend Dave drowned</td>\n",
       "      <td>At his funeral we got him a wreath in the shape of a lifebuoy It’s what he would’ve wanted</td>\n",
       "      <td>25584</td>\n",
       "    </tr>\n",
       "    <tr>\n",
       "      <th>562248</th>\n",
       "      <td>My girlfriend looked at me with her sexy eyes and said I want you to make me scream with your two fingers baby</td>\n",
       "      <td>so I poked her in the eyes</td>\n",
       "      <td>21020</td>\n",
       "    </tr>\n",
       "    <tr>\n",
       "      <th>471210</th>\n",
       "      <td>I am so high and I made up a joke and I want to tell it and make someone laugh but no one is home so Whats an epileptics favorite food</td>\n",
       "      <td>SEIZURE SALAD I peed</td>\n",
       "      <td>1550</td>\n",
       "    </tr>\n",
       "    <tr>\n",
       "      <th>401355</th>\n",
       "      <td>Shouldn't Iron man be a woman</td>\n",
       "      <td>After all he is a Fe Male</td>\n",
       "      <td>5480</td>\n",
       "    </tr>\n",
       "  </tbody>\n",
       "</table>\n",
       "</div>"
      ],
      "text/plain": [
       "                                                                                                                                         title  \\\n",
       "328307                                                                                           A Spaniard is walking through a grocery store   \n",
       "743184                                                                                       Why are redneck murder cases the hardest to solve   \n",
       "153290                                                                                      I decided to switch to a knife to preserve my ammo   \n",
       "611986                                                                                                  I like my men just how I like my women   \n",
       "383122                                                                                 My poor knowledge of Greek mythology has always been my   \n",
       "888595                                                                                    What do skinny jeans and cheap hotels have in common   \n",
       "355861                                                                                                                  My friend Dave drowned   \n",
       "562248                          My girlfriend looked at me with her sexy eyes and said I want you to make me scream with your two fingers baby   \n",
       "471210  I am so high and I made up a joke and I want to tell it and make someone laugh but no one is home so Whats an epileptics favorite food   \n",
       "401355                                                                                                           Shouldn't Iron man be a woman   \n",
       "\n",
       "                                                                                                selftext  \\\n",
       "328307  He spies a carton on the shelf labeled Soy Milk He smiles to himself and says softly yes you are   \n",
       "743184                                       Because all the DNA matches and there are no dental records   \n",
       "153290                                                 The guys at Laser Tag started freaking out though   \n",
       "611986                                                                            That's it I'm bisexual   \n",
       "383122                                                                                    Achilles elbow   \n",
       "888595                                                                                      No ball room   \n",
       "355861        At his funeral we got him a wreath in the shape of a lifebuoy It’s what he would’ve wanted   \n",
       "562248                                                                        so I poked her in the eyes   \n",
       "471210                                                                              SEIZURE SALAD I peed   \n",
       "401355                                                                         After all he is a Fe Male   \n",
       "\n",
       "        score  \n",
       "328307    666  \n",
       "743184   1849  \n",
       "153290   1118  \n",
       "611986    940  \n",
       "383122   1215  \n",
       "888595    721  \n",
       "355861  25584  \n",
       "562248  21020  \n",
       "471210   1550  \n",
       "401355   5480  "
      ]
     },
     "execution_count": 30,
     "metadata": {},
     "output_type": "execute_result"
    }
   ],
   "source": [
    "# examples of funny jokes\n",
    "train[train['score'] >= train['score'].mean()][['title', 'selftext', 'score']].sample(10)"
   ]
  },
  {
   "cell_type": "code",
   "execution_count": 31,
   "id": "4aacdb62",
   "metadata": {},
   "outputs": [
    {
     "data": {
      "text/html": [
       "<div>\n",
       "<style scoped>\n",
       "    .dataframe tbody tr th:only-of-type {\n",
       "        vertical-align: middle;\n",
       "    }\n",
       "\n",
       "    .dataframe tbody tr th {\n",
       "        vertical-align: top;\n",
       "    }\n",
       "\n",
       "    .dataframe thead th {\n",
       "        text-align: right;\n",
       "    }\n",
       "</style>\n",
       "<table border=\"1\" class=\"dataframe\">\n",
       "  <thead>\n",
       "    <tr style=\"text-align: right;\">\n",
       "      <th></th>\n",
       "      <th>title</th>\n",
       "      <th>selftext</th>\n",
       "    </tr>\n",
       "  </thead>\n",
       "  <tbody>\n",
       "    <tr>\n",
       "      <th>699962</th>\n",
       "      <td>Beyonce is having twins</td>\n",
       "      <td>I wonder if they will be Red ivy and Green ivy</td>\n",
       "    </tr>\n",
       "    <tr>\n",
       "      <th>514937</th>\n",
       "      <td>EA should make a special controller that let's you swipe your credit card whenever you need to reload</td>\n",
       "      <td>That way they could even make a little game out of it</td>\n",
       "    </tr>\n",
       "    <tr>\n",
       "      <th>733926</th>\n",
       "      <td>Why did donald trump win the election</td>\n",
       "      <td>people were in a hurry Russian to place their vote</td>\n",
       "    </tr>\n",
       "    <tr>\n",
       "      <th>845271</th>\n",
       "      <td>Do people ever come up and sing your own songs to you</td>\n",
       "      <td>Dave Grohl Literally all the time Me What if I say I'm not like the others</td>\n",
       "    </tr>\n",
       "    <tr>\n",
       "      <th>844709</th>\n",
       "      <td>why did the blonde make her boyfriend jizz in her water every morning</td>\n",
       "      <td>her doctor told her cumin in ger water would help her lose weight</td>\n",
       "    </tr>\n",
       "    <tr>\n",
       "      <th>56556</th>\n",
       "      <td>Is this sub dead or something</td>\n",
       "      <td>There’s been no posts this whole decade</td>\n",
       "    </tr>\n",
       "    <tr>\n",
       "      <th>291793</th>\n",
       "      <td>What are the two people needed to make a table</td>\n",
       "      <td>A columnist and a rower</td>\n",
       "    </tr>\n",
       "    <tr>\n",
       "      <th>749797</th>\n",
       "      <td>TIL that if your phone gets dropped in some water and you put it in a bowl with some rice</td>\n",
       "      <td>The rice will attract the asian to come and fix it for you</td>\n",
       "    </tr>\n",
       "    <tr>\n",
       "      <th>859455</th>\n",
       "      <td>What does a person feel after he lost all of his money in bad investments</td>\n",
       "      <td>The Bern</td>\n",
       "    </tr>\n",
       "    <tr>\n",
       "      <th>180025</th>\n",
       "      <td>What’s the deal with black people</td>\n",
       "      <td>I mean they’re not really black and they’re not really people</td>\n",
       "    </tr>\n",
       "  </tbody>\n",
       "</table>\n",
       "</div>"
      ],
      "text/plain": [
       "                                                                                                        title  \\\n",
       "699962                                                                                Beyonce is having twins   \n",
       "514937  EA should make a special controller that let's you swipe your credit card whenever you need to reload   \n",
       "733926                                                                  Why did donald trump win the election   \n",
       "845271                                                  Do people ever come up and sing your own songs to you   \n",
       "844709                                  why did the blonde make her boyfriend jizz in her water every morning   \n",
       "56556                                                                           Is this sub dead or something   \n",
       "291793                                                         What are the two people needed to make a table   \n",
       "749797              TIL that if your phone gets dropped in some water and you put it in a bowl with some rice   \n",
       "859455                              What does a person feel after he lost all of his money in bad investments   \n",
       "180025                                                                      What’s the deal with black people   \n",
       "\n",
       "                                                                          selftext  \n",
       "699962                              I wonder if they will be Red ivy and Green ivy  \n",
       "514937                       That way they could even make a little game out of it  \n",
       "733926                          people were in a hurry Russian to place their vote  \n",
       "845271  Dave Grohl Literally all the time Me What if I say I'm not like the others  \n",
       "844709           her doctor told her cumin in ger water would help her lose weight  \n",
       "56556                                      There’s been no posts this whole decade  \n",
       "291793                                                     A columnist and a rower  \n",
       "749797                  The rice will attract the asian to come and fix it for you  \n",
       "859455                                                                    The Bern  \n",
       "180025               I mean they’re not really black and they’re not really people  "
      ]
     },
     "execution_count": 31,
     "metadata": {},
     "output_type": "execute_result"
    }
   ],
   "source": [
    "# examples of not funny jokes\n",
    "train[train['score'] == 0][['title', 'selftext']].sample(10)"
   ]
  },
  {
   "cell_type": "code",
   "execution_count": 32,
   "id": "a3a4dc49",
   "metadata": {
    "colab": {
     "base_uri": "https://localhost:8080/",
     "height": 575
    },
    "id": "Dy6_M44RJ6NB",
    "outputId": "78efde2b-5c95-4e5e-b3b9-9744daea13d7",
    "scrolled": false
   },
   "outputs": [
    {
     "name": "stdout",
     "output_type": "stream",
     "text": [
      "Saving figure density plot of log title length\n"
     ]
    },
    {
     "data": {
      "image/png": "[encoded data removed]",
      "text/plain": [
       "<Figure size 460.8x403.2 with 1 Axes>"
      ]
     },
     "metadata": {},
     "output_type": "display_data"
    },
    {
     "name": "stdout",
     "output_type": "stream",
     "text": [
      "Saving figure density plot of log selftext length\n"
     ]
    },
    {
     "data": {
      "image/png": "[encoded data removed]",
      "text/plain": [
       "<Figure size 460.8x403.2 with 1 Axes>"
      ]
     },
     "metadata": {},
     "output_type": "display_data"
    }
   ],
   "source": [
    "# plots of length\n",
    "train['log_title_len'] = np.log(train['title_len'])\n",
    "train['log_selftext_len'] = np.log(train['selftext_len'])\n",
    "\n",
    "funny_df = train[train['target'] == True]\n",
    "not_funny_df = train[train['target'] == False]\n",
    "\n",
    "# plots lengths\n",
    "sns.kdeplot(x='log_title_len', data=train, hue='target')\n",
    "plt.title('density plot of log title length')\n",
    "save_fig('density plot of log title length')\n",
    "plt.show()\n",
    "train['log_selftext_len'] = np.log(train['selftext_len'])\n",
    "sns.kdeplot(x='log_selftext_len', data=train, hue='target')\n",
    "plt.title('density plot of log selftext length')\n",
    "save_fig('density plot of log selftext length')\n",
    "plt.show()\n"
   ]
  },
  {
   "cell_type": "code",
   "execution_count": 33,
   "id": "edfd1c90",
   "metadata": {
    "colab": {
     "base_uri": "https://localhost:8080/",
     "height": 545
    },
    "id": "KBeJAkR2KHgP",
    "outputId": "7fe98700-eece-430a-b26d-3456e99f20ff",
    "scrolled": false
   },
   "outputs": [
    {
     "data": {
      "image/png": "[encoded data removed]",
      "text/plain": [
       "<Figure size 460.8x403.2 with 1 Axes>"
      ]
     },
     "metadata": {},
     "output_type": "display_data"
    },
    {
     "data": {
      "image/png": "[encoded data removed]",
      "text/plain": [
       "<Figure size 460.8x403.2 with 1 Axes>"
      ]
     },
     "metadata": {},
     "output_type": "display_data"
    }
   ],
   "source": [
    "train.groupby(['title_len']).mean()['target'].hist(color='red')\n",
    "plt.title('variation of title length on scores')\n",
    "plt.show()\n",
    "train.groupby(['selftext_len']).mean()['target'].hist()\n",
    "plt.title('variation of selftext length on scores')\n",
    "plt.show()"
   ]
  },
  {
   "cell_type": "markdown",
   "id": "d3b686af",
   "metadata": {
    "id": "0eaacdd7"
   },
   "source": [
    "### Examine Time Series Data"
   ]
  },
  {
   "cell_type": "code",
   "execution_count": 34,
   "id": "26e33a0f",
   "metadata": {
    "id": "49472f14"
   },
   "outputs": [],
   "source": [
    "# making unix created_times into readable timestamps\n",
    "train['created_at'] = train['created_utc'].apply(lambda x: make_timestamp(x))\n",
    "#train[['created_at', 'title', 'selftext', 'target']].head()\n",
    "\n",
    "# create dataframes with with timestamp as index for examination\n",
    "df_funny = train[is_funny].set_index('created_at', drop=True).sort_index()\n",
    "df_not_funny = train[~is_funny].set_index('created_at', drop=True).sort_index()"
   ]
  },
  {
   "cell_type": "code",
   "execution_count": 35,
   "id": "1b1be391",
   "metadata": {
    "colab": {
     "base_uri": "https://localhost:8080/",
     "height": 350
    },
    "id": "1b5414d6",
    "outputId": "c10df1c5-89dc-416a-f892-784c179c8514",
    "scrolled": false
   },
   "outputs": [
    {
     "name": "stdout",
     "output_type": "stream",
     "text": [
      "Saving figure submissions over time\n"
     ]
    },
    {
     "data": {
      "image/png": "[encoded data removed]",
      "text/plain": [
       "<Figure size 1080x360 with 1 Axes>"
      ]
     },
     "metadata": {},
     "output_type": "display_data"
    }
   ],
   "source": [
    "# plot submissions over time\n",
    "plt.figure(figsize=(15, 5))\n",
    "\n",
    "sns.lineplot(x=df_funny.resample('W').count().index, y='type', data=df_funny.resample('W').count(), label='funny')\n",
    "sns.lineplot(x=df_not_funny.resample('W').count().index, y='type', data=df_not_funny.resample('W').count(), label='not funny')\n",
    "plt.title('Number of Submissions to r/jokes')\n",
    "plt.xlabel('date')\n",
    "plt.ylabel('number of submissions')\n",
    "plt.legend()\n",
    "save_fig('submissions over time')\n",
    "plt.show()"
   ]
  },
  {
   "cell_type": "code",
   "execution_count": 36,
   "id": "d9fa81dc",
   "metadata": {},
   "outputs": [
    {
     "name": "stdout",
     "output_type": "stream",
     "text": [
      "Saving figure average submission per hour\n"
     ]
    },
    {
     "data": {
      "image/png": "[encoded data removed]",
      "text/plain": [
       "<Figure size 936x432 with 1 Axes>"
      ]
     },
     "metadata": {},
     "output_type": "display_data"
    }
   ],
   "source": [
    "# average periods\n",
    "plt.figure(figsize=(13, 6))\n",
    "sns.lineplot(data = df_funny.groupby(df_funny.index.hour)['target'].count(), label='funny')\n",
    "sns.lineplot(data = df_not_funny.groupby(df_not_funny.index.hour)['target'].count(), label='not funny', )\n",
    "plt.title('average submissions per hour')\n",
    "plt.ylabel('submission counts')\n",
    "save_fig('average submission per hour')\n",
    "plt.show()"
   ]
  },
  {
   "cell_type": "code",
   "execution_count": 37,
   "id": "f115e23a",
   "metadata": {
    "colab": {
     "base_uri": "https://localhost:8080/",
     "height": 297
    },
    "id": "DcS-pSnWI7Pb",
    "outputId": "c25cafe3-1d53-4dff-c984-250339aa0587"
   },
   "outputs": [
    {
     "data": {
      "text/plain": [
       "<AxesSubplot:xlabel='created_at', ylabel='type'>"
      ]
     },
     "execution_count": 37,
     "metadata": {},
     "output_type": "execute_result"
    },
    {
     "data": {
      "image/png": "[encoded data removed]",
      "text/plain": [
       "<Figure size 460.8x403.2 with 1 Axes>"
      ]
     },
     "metadata": {},
     "output_type": "display_data"
    }
   ],
   "source": [
    "# taking another look at that odd event in 2019\n",
    "sns.lineplot(x=df_not_funny.loc['2019'].resample('W').count().index, y='type', data=df_not_funny.loc['2019'].resample('W').count(), label='not funny')"
   ]
  },
  {
   "cell_type": "code",
   "execution_count": 38,
   "id": "4fecc4c9",
   "metadata": {
    "colab": {
     "base_uri": "https://localhost:8080/"
    },
    "id": "4SKgp1UrCwLV",
    "outputId": "cef8f72c-0d17-42bc-89f7-25426bd33f9f"
   },
   "outputs": [
    {
     "name": "stdout",
     "output_type": "stream",
     "text": [
      "dates of anomaly: 2019-04-07 - 2019-09-01\n"
     ]
    }
   ],
   "source": [
    "not_funny_2019_counts = df_not_funny.loc['2019'].resample('W').count()\n",
    "start_date = not_funny_2019_counts['2019-04':'2019-05'][not_funny_2019_counts['id']['2019-04':'2019-05'] == not_funny_2019_counts['id']['2019-04':'2019-05'].min()].index[0]\n",
    "end_date = not_funny_2019_counts[start_date:\"2019-12-01\"][not_funny_2019_counts[start_date:\"2019-12-01\"]['id'] == not_funny_2019_counts[start_date:\"2019-12-01\"]['id'].min()].index[0]\n",
    "start_date_not_funny_event, end_date_not_funny_event = str(start_date.date()), str(end_date.date())\n",
    "print(f'dates of anomaly: {start_date_not_funny_event} - {end_date_not_funny_event}')"
   ]
  },
  {
   "cell_type": "code",
   "execution_count": null,
   "id": "ca605cfb",
   "metadata": {},
   "outputs": [],
   "source": []
  }
 ],
 "metadata": {
  "colab": {
   "collapsed_sections": [],
   "name": "jokes.ipynb",
   "provenance": []
  },
  "kernelspec": {
   "display_name": "Python 3",
   "language": "python",
   "name": "python3"
  },
  "language_info": {
   "codemirror_mode": {
    "name": "ipython",
    "version": 3
   },
   "file_extension": ".py",
   "mimetype": "text/x-python",
   "name": "python",
   "nbconvert_exporter": "python",
   "pygments_lexer": "ipython3",
   "version": "3.9.4"
  }
 },
 "nbformat": 4,
 "nbformat_minor": 5
}
