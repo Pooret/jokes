{
 "cells": [
  {
   "cell_type": "markdown",
   "id": "b75d076e",
   "metadata": {},
   "source": [
    "### Import packages and establish notebook settings"
   ]
  },
  {
   "cell_type": "code",
   "execution_count": 1,
   "id": "27c1ebb4",
   "metadata": {
    "id": "27c1ebb4",
    "scrolled": true
   },
   "outputs": [
    {
     "name": "stderr",
     "output_type": "stream",
     "text": [
      "[nltk_data] Downloading package stopwords to\n",
      "[nltk_data]     /Users/tylerpoore/nltk_data...\n",
      "[nltk_data]   Package stopwords is already up-to-date!\n",
      "[nltk_data] Downloading package wordnet to\n",
      "[nltk_data]     /Users/tylerpoore/nltk_data...\n",
      "[nltk_data]   Package wordnet is already up-to-date!\n",
      "[nltk_data] Downloading package omw-1.4 to\n",
      "[nltk_data]     /Users/tylerpoore/nltk_data...\n",
      "[nltk_data]   Package omw-1.4 is already up-to-date!\n"
     ]
    }
   ],
   "source": [
    "# imports\n",
    "import pandas as pd\n",
    "import numpy as np\n",
    "import matplotlib.pyplot as plt\n",
    "import seaborn as sns\n",
    "from tqdm import tqdm\n",
    "import regex as re\n",
    "import pickle\n",
    "import emoji\n",
    "\n",
    "import warnings\n",
    "warnings.filterwarnings('ignore')\n",
    "pd.set_option('display.html.use_mathjax', False) # normalize fonts for pandas display\n",
    "pd.options.display.max_colwidth = None\n",
    "\n",
    "# custom functions\n",
    "from utils import *\n",
    "from jupyterthemes import jtplot\n",
    "jtplot.style()"
   ]
  },
  {
   "cell_type": "markdown",
   "id": "69d4500f",
   "metadata": {},
   "source": [
    "### My Fathers Jokes"
   ]
  },
  {
   "cell_type": "code",
   "execution_count": 2,
   "id": "66286db4",
   "metadata": {},
   "outputs": [
    {
     "name": "stdout",
     "output_type": "stream",
     "text": [
      "--------\n",
      "Police car loses wheels to thief!\n",
      "Cops are working tirelessly to nab suspect\n",
      "--------\n",
      "My friend David had his id stolen\n",
      "now he is just Dav.\n",
      "--------\n",
      "I tried out a few jokes about unemployed people\n",
      "but none of them ever worked\n",
      "--------\n",
      "I had a patient that talked and talked and talked...\n",
      "...And, tt was clear that there needed to be an organization similar to Q-Anon for compulive talkers called Onandon-andon\n",
      "--------\n",
      "My ex-wife still misses me.\n",
      "But her aim is starting to improve.\n",
      "--------\n",
      "An invisible man married an invisible woman.\n",
      "The kids were nothing to look at either.\n",
      "--------\n",
      "Did you know that a raven has 17 rigid feathers called pinyans, while a crow only has 16?\n",
      "Apparently, the only difference between a raven and a crow is a matter of a pinyan.\n",
      "--------\n",
      "A painter was the only painter in town...\n",
      "...And he tended to take advantage of this by diluting his paint a bit with turpentine. One day he was asked to paint the church steeple. He was about half done, standing high on a ladder, when a cloud suddenly came in. It started to rain washing away his paint. Then a bolt of lightning knocked him to the courtyard below the church. A booming voice from above and said, \"repaint! and thin no more\".\n",
      "--------\n",
      "I tried to remarry my ex-wife\n",
      "but she figured out that I was only after my money.\n"
     ]
    }
   ],
   "source": [
    "# Take a look at my fathers jokes\n",
    "for joke in DADS_JOKES:\n",
    "    print('--------')\n",
    "    print(f'{joke[0]}\\n{joke[1]}')"
   ]
  },
  {
   "cell_type": "markdown",
   "id": "9e53f1e0",
   "metadata": {
    "id": "9e53f1e0"
   },
   "source": [
    "### Read-in and explore the dataset\n",
    "The dataset is downloaded and read into a pandas data frame. A quick examination of the data shows that the dataset contains one million instances with 12 features, most of which aren't relevent to"
   ]
  },
  {
   "cell_type": "code",
   "execution_count": 3,
   "id": "4eaa6dc4",
   "metadata": {
    "id": "4eaa6dc4"
   },
   "outputs": [],
   "source": [
    "# extract the data\n",
    "df = pd.read_csv('https://query.data.world/s/htrdsouy327xqa4w457qx6k6sjtj6r')"
   ]
  },
  {
   "cell_type": "code",
   "execution_count": 4,
   "id": "b0c78473",
   "metadata": {
    "colab": {
     "base_uri": "https://localhost:8080/",
     "height": 206
    },
    "id": "b0c78473",
    "outputId": "b9803f32-6a06-46ae-8b9b-729235c75338"
   },
   "outputs": [
    {
     "data": {
      "text/html": [
       "<div>\n",
       "<style scoped>\n",
       "    .dataframe tbody tr th:only-of-type {\n",
       "        vertical-align: middle;\n",
       "    }\n",
       "\n",
       "    .dataframe tbody tr th {\n",
       "        vertical-align: top;\n",
       "    }\n",
       "\n",
       "    .dataframe thead th {\n",
       "        text-align: right;\n",
       "    }\n",
       "</style>\n",
       "<table border=\"1\" class=\"dataframe tex2jax_ignore\">\n",
       "  <thead>\n",
       "    <tr style=\"text-align: right;\">\n",
       "      <th></th>\n",
       "      <th>type</th>\n",
       "      <th>id</th>\n",
       "      <th>subreddit.id</th>\n",
       "      <th>subreddit.name</th>\n",
       "      <th>subreddit.nsfw</th>\n",
       "      <th>created_utc</th>\n",
       "      <th>permalink</th>\n",
       "      <th>domain</th>\n",
       "      <th>url</th>\n",
       "      <th>selftext</th>\n",
       "      <th>title</th>\n",
       "      <th>score</th>\n",
       "    </tr>\n",
       "  </thead>\n",
       "  <tbody>\n",
       "    <tr>\n",
       "      <th>0</th>\n",
       "      <td>post</td>\n",
       "      <td>ftbp1i</td>\n",
       "      <td>2qh72</td>\n",
       "      <td>jokes</td>\n",
       "      <td>False</td>\n",
       "      <td>1585785543</td>\n",
       "      <td>https://old.reddit.com/r/Jokes/comments/ftbp1i/i_am_soooo_glad_im_not_circumcised/</td>\n",
       "      <td>self.jokes</td>\n",
       "      <td>NaN</td>\n",
       "      <td>My corona is covered with foreskin so it is not exposed to viruses.</td>\n",
       "      <td>I am soooo glad I'm not circumcised!</td>\n",
       "      <td>2</td>\n",
       "    </tr>\n",
       "    <tr>\n",
       "      <th>1</th>\n",
       "      <td>post</td>\n",
       "      <td>ftboup</td>\n",
       "      <td>2qh72</td>\n",
       "      <td>jokes</td>\n",
       "      <td>False</td>\n",
       "      <td>1585785522</td>\n",
       "      <td>https://old.reddit.com/r/Jokes/comments/ftboup/did_you_know_google_now_has_a_platform_for/</td>\n",
       "      <td>self.jokes</td>\n",
       "      <td>NaN</td>\n",
       "      <td>It's called Google Sheets.</td>\n",
       "      <td>Did you know Google now has a platform for recording your bowel movements?</td>\n",
       "      <td>9</td>\n",
       "    </tr>\n",
       "    <tr>\n",
       "      <th>2</th>\n",
       "      <td>post</td>\n",
       "      <td>ftbopj</td>\n",
       "      <td>2qh72</td>\n",
       "      <td>jokes</td>\n",
       "      <td>False</td>\n",
       "      <td>1585785508</td>\n",
       "      <td>https://old.reddit.com/r/Jokes/comments/ftbopj/what_is_the_difference_between_my_wife_and_my/</td>\n",
       "      <td>self.jokes</td>\n",
       "      <td>NaN</td>\n",
       "      <td>The vacuum doesn't snore after sex.\\n\\n&amp;amp;#x200B;\\n\\nApril fools, I don't have a wife.</td>\n",
       "      <td>What is the difference between my wife and my vacuum?</td>\n",
       "      <td>15</td>\n",
       "    </tr>\n",
       "    <tr>\n",
       "      <th>3</th>\n",
       "      <td>post</td>\n",
       "      <td>ftbnxh</td>\n",
       "      <td>2qh72</td>\n",
       "      <td>jokes</td>\n",
       "      <td>False</td>\n",
       "      <td>1585785428</td>\n",
       "      <td>https://old.reddit.com/r/Jokes/comments/ftbnxh/my_last_joke_for_now/</td>\n",
       "      <td>self.jokes</td>\n",
       "      <td>NaN</td>\n",
       "      <td>[removed]</td>\n",
       "      <td>My last joke for now.</td>\n",
       "      <td>9</td>\n",
       "    </tr>\n",
       "    <tr>\n",
       "      <th>4</th>\n",
       "      <td>post</td>\n",
       "      <td>ftbjpg</td>\n",
       "      <td>2qh72</td>\n",
       "      <td>jokes</td>\n",
       "      <td>False</td>\n",
       "      <td>1585785009</td>\n",
       "      <td>https://old.reddit.com/r/Jokes/comments/ftbjpg/the_nintendo_64_turns_18_this_week/</td>\n",
       "      <td>self.jokes</td>\n",
       "      <td>NaN</td>\n",
       "      <td>[removed]</td>\n",
       "      <td>The Nintendo 64 turns 18 this week...</td>\n",
       "      <td>134</td>\n",
       "    </tr>\n",
       "  </tbody>\n",
       "</table>\n",
       "</div>"
      ],
      "text/plain": [
       "   type      id subreddit.id subreddit.name  subreddit.nsfw  created_utc  \\\n",
       "0  post  ftbp1i        2qh72          jokes           False   1585785543   \n",
       "1  post  ftboup        2qh72          jokes           False   1585785522   \n",
       "2  post  ftbopj        2qh72          jokes           False   1585785508   \n",
       "3  post  ftbnxh        2qh72          jokes           False   1585785428   \n",
       "4  post  ftbjpg        2qh72          jokes           False   1585785009   \n",
       "\n",
       "                                                                                       permalink  \\\n",
       "0             https://old.reddit.com/r/Jokes/comments/ftbp1i/i_am_soooo_glad_im_not_circumcised/   \n",
       "1     https://old.reddit.com/r/Jokes/comments/ftboup/did_you_know_google_now_has_a_platform_for/   \n",
       "2  https://old.reddit.com/r/Jokes/comments/ftbopj/what_is_the_difference_between_my_wife_and_my/   \n",
       "3                           https://old.reddit.com/r/Jokes/comments/ftbnxh/my_last_joke_for_now/   \n",
       "4             https://old.reddit.com/r/Jokes/comments/ftbjpg/the_nintendo_64_turns_18_this_week/   \n",
       "\n",
       "       domain  url  \\\n",
       "0  self.jokes  NaN   \n",
       "1  self.jokes  NaN   \n",
       "2  self.jokes  NaN   \n",
       "3  self.jokes  NaN   \n",
       "4  self.jokes  NaN   \n",
       "\n",
       "                                                                                   selftext  \\\n",
       "0                       My corona is covered with foreskin so it is not exposed to viruses.   \n",
       "1                                                                It's called Google Sheets.   \n",
       "2  The vacuum doesn't snore after sex.\\n\\n&amp;#x200B;\\n\\nApril fools, I don't have a wife.   \n",
       "3                                                                                 [removed]   \n",
       "4                                                                                 [removed]   \n",
       "\n",
       "                                                                        title  \\\n",
       "0                                        I am soooo glad I'm not circumcised!   \n",
       "1  Did you know Google now has a platform for recording your bowel movements?   \n",
       "2                       What is the difference between my wife and my vacuum?   \n",
       "3                                                       My last joke for now.   \n",
       "4                                       The Nintendo 64 turns 18 this week...   \n",
       "\n",
       "   score  \n",
       "0      2  \n",
       "1      9  \n",
       "2     15  \n",
       "3      9  \n",
       "4    134  "
      ]
     },
     "execution_count": 4,
     "metadata": {},
     "output_type": "execute_result"
    }
   ],
   "source": [
    "# examine the data\n",
    "df.head()"
   ]
  },
  {
   "cell_type": "code",
   "execution_count": 5,
   "id": "54da804b",
   "metadata": {
    "colab": {
     "base_uri": "https://localhost:8080/"
    },
    "id": "54da804b",
    "outputId": "4e45621b-f872-4292-cf28-6c174245ca18",
    "scrolled": false
   },
   "outputs": [
    {
     "data": {
      "text/plain": [
       "(1000000, 12)"
      ]
     },
     "execution_count": 5,
     "metadata": {},
     "output_type": "execute_result"
    }
   ],
   "source": [
    "df.shape"
   ]
  },
  {
   "cell_type": "code",
   "execution_count": 6,
   "id": "v_7e3Il9H9fy",
   "metadata": {
    "colab": {
     "base_uri": "https://localhost:8080/",
     "height": 990
    },
    "id": "v_7e3Il9H9fy",
    "outputId": "3d7d9ee1-c3f3-46ed-a9a9-c410d7612061"
   },
   "outputs": [
    {
     "data": {
      "text/html": [
       "<div>\n",
       "<style scoped>\n",
       "    .dataframe tbody tr th:only-of-type {\n",
       "        vertical-align: middle;\n",
       "    }\n",
       "\n",
       "    .dataframe tbody tr th {\n",
       "        vertical-align: top;\n",
       "    }\n",
       "\n",
       "    .dataframe thead th {\n",
       "        text-align: right;\n",
       "    }\n",
       "</style>\n",
       "<table border=\"1\" class=\"dataframe tex2jax_ignore\">\n",
       "  <thead>\n",
       "    <tr style=\"text-align: right;\">\n",
       "      <th></th>\n",
       "      <th>title</th>\n",
       "      <th>selftext</th>\n",
       "      <th>score</th>\n",
       "    </tr>\n",
       "  </thead>\n",
       "  <tbody>\n",
       "    <tr>\n",
       "      <th>0</th>\n",
       "      <td>I am soooo glad I'm not circumcised!</td>\n",
       "      <td>My corona is covered with foreskin so it is not exposed to viruses.</td>\n",
       "      <td>2</td>\n",
       "    </tr>\n",
       "    <tr>\n",
       "      <th>1</th>\n",
       "      <td>Did you know Google now has a platform for recording your bowel movements?</td>\n",
       "      <td>It's called Google Sheets.</td>\n",
       "      <td>9</td>\n",
       "    </tr>\n",
       "    <tr>\n",
       "      <th>2</th>\n",
       "      <td>What is the difference between my wife and my vacuum?</td>\n",
       "      <td>The vacuum doesn't snore after sex.\\n\\n&amp;amp;#x200B;\\n\\nApril fools, I don't have a wife.</td>\n",
       "      <td>15</td>\n",
       "    </tr>\n",
       "    <tr>\n",
       "      <th>3</th>\n",
       "      <td>My last joke for now.</td>\n",
       "      <td>[removed]</td>\n",
       "      <td>9</td>\n",
       "    </tr>\n",
       "    <tr>\n",
       "      <th>4</th>\n",
       "      <td>The Nintendo 64 turns 18 this week...</td>\n",
       "      <td>[removed]</td>\n",
       "      <td>134</td>\n",
       "    </tr>\n",
       "    <tr>\n",
       "      <th>5</th>\n",
       "      <td>Sex with teacher.</td>\n",
       "      <td>[removed]</td>\n",
       "      <td>1</td>\n",
       "    </tr>\n",
       "    <tr>\n",
       "      <th>6</th>\n",
       "      <td>Another long one.</td>\n",
       "      <td>[removed]</td>\n",
       "      <td>8</td>\n",
       "    </tr>\n",
       "    <tr>\n",
       "      <th>7</th>\n",
       "      <td>What did the French man say to the attractive teletubby?</td>\n",
       "      <td>Oo..lala...</td>\n",
       "      <td>2</td>\n",
       "    </tr>\n",
       "    <tr>\n",
       "      <th>8</th>\n",
       "      <td>A Priest takes a walk down to the docks one day</td>\n",
       "      <td>[removed]</td>\n",
       "      <td>88</td>\n",
       "    </tr>\n",
       "    <tr>\n",
       "      <th>9</th>\n",
       "      <td>A long joke.</td>\n",
       "      <td>[removed]</td>\n",
       "      <td>4</td>\n",
       "    </tr>\n",
       "  </tbody>\n",
       "</table>\n",
       "</div>"
      ],
      "text/plain": [
       "                                                                        title  \\\n",
       "0                                        I am soooo glad I'm not circumcised!   \n",
       "1  Did you know Google now has a platform for recording your bowel movements?   \n",
       "2                       What is the difference between my wife and my vacuum?   \n",
       "3                                                       My last joke for now.   \n",
       "4                                       The Nintendo 64 turns 18 this week...   \n",
       "5                                                           Sex with teacher.   \n",
       "6                                                           Another long one.   \n",
       "7                    What did the French man say to the attractive teletubby?   \n",
       "8                             A Priest takes a walk down to the docks one day   \n",
       "9                                                                A long joke.   \n",
       "\n",
       "                                                                                   selftext  \\\n",
       "0                       My corona is covered with foreskin so it is not exposed to viruses.   \n",
       "1                                                                It's called Google Sheets.   \n",
       "2  The vacuum doesn't snore after sex.\\n\\n&amp;#x200B;\\n\\nApril fools, I don't have a wife.   \n",
       "3                                                                                 [removed]   \n",
       "4                                                                                 [removed]   \n",
       "5                                                                                 [removed]   \n",
       "6                                                                                 [removed]   \n",
       "7                                                                               Oo..lala...   \n",
       "8                                                                                 [removed]   \n",
       "9                                                                                 [removed]   \n",
       "\n",
       "   score  \n",
       "0      2  \n",
       "1      9  \n",
       "2     15  \n",
       "3      9  \n",
       "4    134  \n",
       "5      1  \n",
       "6      8  \n",
       "7      2  \n",
       "8     88  \n",
       "9      4  "
      ]
     },
     "execution_count": 6,
     "metadata": {},
     "output_type": "execute_result"
    }
   ],
   "source": [
    "df[['title', 'selftext', 'score']].head(10)"
   ]
  },
  {
   "cell_type": "code",
   "execution_count": 7,
   "id": "5e176074",
   "metadata": {
    "colab": {
     "base_uri": "https://localhost:8080/"
    },
    "id": "5e176074",
    "outputId": "ca06c1f9-0fcc-4286-94a8-06711904b80a",
    "scrolled": true
   },
   "outputs": [
    {
     "data": {
      "text/plain": [
       "count    1000000.000000\n",
       "mean         139.691119\n",
       "std         1674.046005\n",
       "min            0.000000\n",
       "25%            0.000000\n",
       "50%            1.000000\n",
       "75%            7.000000\n",
       "max       142733.000000\n",
       "Name: score, dtype: float64"
      ]
     },
     "execution_count": 7,
     "metadata": {},
     "output_type": "execute_result"
    }
   ],
   "source": [
    "df['score'].describe()"
   ]
  },
  {
   "cell_type": "code",
   "execution_count": 8,
   "id": "I_ycv4TfIBzb",
   "metadata": {
    "colab": {
     "base_uri": "https://localhost:8080/",
     "height": 352
    },
    "id": "I_ycv4TfIBzb",
    "outputId": "e7bc1624-64f9-429f-ad6d-b373ff11535d",
    "scrolled": false
   },
   "outputs": [
    {
     "name": "stdout",
     "output_type": "stream",
     "text": [
      "Saving figure scores distribution\n"
     ]
    },
    {
     "data": {
      "image/png": "[encoded data removed]",
      "text/plain": [
       "<Figure size 460.8x403.2 with 1 Axes>"
      ]
     },
     "metadata": {},
     "output_type": "display_data"
    }
   ],
   "source": [
    "plt.hist(df['score'], log=True)\n",
    "plt.title('histogram of log score')\n",
    "save_fig('scores distribution')"
   ]
  },
  {
   "cell_type": "code",
   "execution_count": 9,
   "id": "3b7e6a65",
   "metadata": {
    "id": "3b7e6a65"
   },
   "outputs": [],
   "source": [
    "# define some parameters \n",
    "CLASS_SIZE = 100000\n",
    "TRAIN_SIZE = 0.95\n",
    "MIN_UPVOTES = df['score'].min()\n",
    "MAX_UPVOTES = df['score'].max()\n",
    "TITLE_MAX_LEN = 100\n",
    "SELFTEXT_MAX_LEN = 500"
   ]
  },
  {
   "cell_type": "markdown",
   "id": "cb2daca4",
   "metadata": {},
   "source": [
    "## Data Cleaning\n",
    "\n",
    "Our raw data is truly unruly, being sourced from the [r/Jokes subreddit](https://www.reddit.com/r/Jokes/), and so will require a fair bit of wrangling to get into a useable form. Part of the challenge is that the relevent information we are looking to isolate (the joke and punchline) are within a sea of noisy data; raw internet data tends to be replete with odd characters, emojis, hmtl character references, links, mispellings, null values, and user edits that will add to the noisiness, making the data more unruly and harder to work with. I will thus be proceeding carefully by closely examing the data during cleaning and making judicious use of test cases to ensure that I am getting the results I expect."
   ]
  },
  {
   "cell_type": "code",
   "execution_count": 10,
   "id": "6634aba8",
   "metadata": {
    "id": "6634aba8"
   },
   "outputs": [],
   "source": [
    "# boolean masks\n",
    "# where selftext isnull (no punchline)\n",
    "is_null = df['selftext'].isnull()\n",
    "\n",
    "# where title or post were removed by reddit user/mod\n",
    "removed = (df['selftext'].str.lower().str.contains(r\"[^a-z\\s]removed[^a-z\\s]\", regex=True)) | (df['title'].str.lower().str.contains(r\"[^a-z\\s]removed[^a-z\\s]\", regex=True)) \n",
    "\n",
    "# where tile or post were deleted by the original poster\n",
    "deleted = (df['selftext'].str.lower().str.contains(r\"[^a-z\\s]deleted[^a-z\\s]\", regex=True)) | (df['title'].str.lower().str.contains(r\"[^a-z\\s]deleted[^a-z\\s]\", regex=True)) \n",
    "\n",
    "# reposts\n",
    "duplicated = df.duplicated(subset=['title', 'selftext'], keep='first')\n",
    "\n",
    "# where upvotes is 0 (reddit automatically provides user 1 upvote)\n",
    "neg_class = df['score'] == 0"
   ]
  },
  {
   "cell_type": "code",
   "execution_count": 11,
   "id": "ceea2142",
   "metadata": {
    "colab": {
     "base_uri": "https://localhost:8080/"
    },
    "id": "ceea2142",
    "outputId": "8d36c823-fd0f-42b3-e140-7f0427ed4a00",
    "scrolled": true
   },
   "outputs": [
    {
     "data": {
      "text/plain": [
       "(565332, 12)"
      ]
     },
     "execution_count": 11,
     "metadata": {},
     "output_type": "execute_result"
    }
   ],
   "source": [
    "# get entries that aren't removed or deleted\n",
    "df_cleaned = df[~removed][~deleted][~duplicated].copy()\n",
    "df_cleaned.shape"
   ]
  },
  {
   "cell_type": "code",
   "execution_count": 12,
   "id": "4766a065",
   "metadata": {
    "colab": {
     "base_uri": "https://localhost:8080/",
     "height": 363
    },
    "id": "as28CaP0Icat",
    "outputId": "73cb2052-445d-4d68-c47f-5cf1bd06ea93",
    "scrolled": true
   },
   "outputs": [
    {
     "data": {
      "text/html": [
       "<div>\n",
       "<style scoped>\n",
       "    .dataframe tbody tr th:only-of-type {\n",
       "        vertical-align: middle;\n",
       "    }\n",
       "\n",
       "    .dataframe tbody tr th {\n",
       "        vertical-align: top;\n",
       "    }\n",
       "\n",
       "    .dataframe thead th {\n",
       "        text-align: right;\n",
       "    }\n",
       "</style>\n",
       "<table border=\"1\" class=\"dataframe tex2jax_ignore\">\n",
       "  <thead>\n",
       "    <tr style=\"text-align: right;\">\n",
       "      <th></th>\n",
       "      <th>title</th>\n",
       "      <th>selftext</th>\n",
       "      <th>score</th>\n",
       "    </tr>\n",
       "  </thead>\n",
       "  <tbody>\n",
       "    <tr>\n",
       "      <th>308797</th>\n",
       "      <td>What happens when you cross a joke with a rhetorical question?</td>\n",
       "      <td>NaN</td>\n",
       "      <td>3938</td>\n",
       "    </tr>\n",
       "    <tr>\n",
       "      <th>625315</th>\n",
       "      <td>The funniest /r/jokes has ever been</td>\n",
       "      <td>NaN</td>\n",
       "      <td>67950</td>\n",
       "    </tr>\n",
       "    <tr>\n",
       "      <th>914649</th>\n",
       "      <td>Shout out to people who don't know the opposite of in</td>\n",
       "      <td>NaN</td>\n",
       "      <td>4580</td>\n",
       "    </tr>\n",
       "    <tr>\n",
       "      <th>915783</th>\n",
       "      <td>5 out of 6 scientists say Russian Roulette is safe.</td>\n",
       "      <td>NaN</td>\n",
       "      <td>10085</td>\n",
       "    </tr>\n",
       "    <tr>\n",
       "      <th>919422</th>\n",
       "      <td>Accordion to a recent survey, replacing words with the names of musical instruments in a sentence often goes undetected.</td>\n",
       "      <td>NaN</td>\n",
       "      <td>12580</td>\n",
       "    </tr>\n",
       "    <tr>\n",
       "      <th>927114</th>\n",
       "      <td>Never make fun of a fat girl with a lisp, she's probably thick and tired of it.</td>\n",
       "      <td>NaN</td>\n",
       "      <td>7848</td>\n",
       "    </tr>\n",
       "    <tr>\n",
       "      <th>931755</th>\n",
       "      <td>6:30 is the best time on a clock, hands down.</td>\n",
       "      <td>NaN</td>\n",
       "      <td>2173</td>\n",
       "    </tr>\n",
       "    <tr>\n",
       "      <th>933895</th>\n",
       "      <td>Bruce Jenner winning woman of the year just proves that men are better than women at everything, including being a woman</td>\n",
       "      <td>NaN</td>\n",
       "      <td>11999</td>\n",
       "    </tr>\n",
       "    <tr>\n",
       "      <th>935376</th>\n",
       "      <td>I often say to myself, \"I can't believe that cloning machine worked.\"</td>\n",
       "      <td>NaN</td>\n",
       "      <td>6524</td>\n",
       "    </tr>\n",
       "    <tr>\n",
       "      <th>937567</th>\n",
       "      <td>How Long is a Chinese name.</td>\n",
       "      <td>NaN</td>\n",
       "      <td>2404</td>\n",
       "    </tr>\n",
       "  </tbody>\n",
       "</table>\n",
       "</div>"
      ],
      "text/plain": [
       "                                                                                                                           title  \\\n",
       "308797                                                            What happens when you cross a joke with a rhetorical question?   \n",
       "625315                                                                                       The funniest /r/jokes has ever been   \n",
       "914649                                                                     Shout out to people who don't know the opposite of in   \n",
       "915783                                                                       5 out of 6 scientists say Russian Roulette is safe.   \n",
       "919422  Accordion to a recent survey, replacing words with the names of musical instruments in a sentence often goes undetected.   \n",
       "927114                                           Never make fun of a fat girl with a lisp, she's probably thick and tired of it.   \n",
       "931755                                                                             6:30 is the best time on a clock, hands down.   \n",
       "933895  Bruce Jenner winning woman of the year just proves that men are better than women at everything, including being a woman   \n",
       "935376                                                     I often say to myself, \"I can't believe that cloning machine worked.\"   \n",
       "937567                                                                                               How Long is a Chinese name.   \n",
       "\n",
       "       selftext  score  \n",
       "308797      NaN   3938  \n",
       "625315      NaN  67950  \n",
       "914649      NaN   4580  \n",
       "915783      NaN  10085  \n",
       "919422      NaN  12580  \n",
       "927114      NaN   7848  \n",
       "931755      NaN   2173  \n",
       "933895      NaN  11999  \n",
       "935376      NaN   6524  \n",
       "937567      NaN   2404  "
      ]
     },
     "execution_count": 12,
     "metadata": {},
     "output_type": "execute_result"
    }
   ],
   "source": [
    "# what are nans?\n",
    "df_cleaned[df_cleaned['score'] > 2000][is_null][['title', 'selftext', 'score']].head(10) "
   ]
  },
  {
   "cell_type": "code",
   "execution_count": 13,
   "id": "9e42a9c6",
   "metadata": {},
   "outputs": [],
   "source": [
    "df_cleaned = df_cleaned[~is_null]"
   ]
  },
  {
   "cell_type": "code",
   "execution_count": 14,
   "id": "fd817dfb",
   "metadata": {},
   "outputs": [
    {
     "data": {
      "text/html": [
       "<div>\n",
       "<style scoped>\n",
       "    .dataframe tbody tr th:only-of-type {\n",
       "        vertical-align: middle;\n",
       "    }\n",
       "\n",
       "    .dataframe tbody tr th {\n",
       "        vertical-align: top;\n",
       "    }\n",
       "\n",
       "    .dataframe thead th {\n",
       "        text-align: right;\n",
       "    }\n",
       "</style>\n",
       "<table border=\"1\" class=\"dataframe tex2jax_ignore\">\n",
       "  <thead>\n",
       "    <tr style=\"text-align: right;\">\n",
       "      <th></th>\n",
       "      <th>title</th>\n",
       "      <th>selftext</th>\n",
       "    </tr>\n",
       "  </thead>\n",
       "  <tbody>\n",
       "    <tr>\n",
       "      <th>803</th>\n",
       "      <td>I used to know an English professor who was pretty smart with books....</td>\n",
       "      <td>But she was dumb when it came to regular shit.\\n\\nShe didn't even know that rain was something you need to come in to from out of.\\n\\n&amp;amp;#x200B;\\n\\nEDIT: IOW she didn't like sentences that ended in five prepositions.</td>\n",
       "    </tr>\n",
       "    <tr>\n",
       "      <th>825</th>\n",
       "      <td>Two Parrots.</td>\n",
       "      <td>Two parrots sat on a perch. One parrot looked at the other and said \"Do you smell fish?\"\\n\\n\\n\\n\\n\\n\\nThe other parrot replied \"Oh my, a talking bird.\"\\n\\n\\n\\n\\n*edit: spelling*</td>\n",
       "    </tr>\n",
       "    <tr>\n",
       "      <th>916</th>\n",
       "      <td>Italians are always adding -a to words. (It's-a me, Mario!)</td>\n",
       "      <td>I find it to be a horrible corruption of the English language. \\n\\nI say pizz and past, like a _real_ American.\\n\\n\\n\\nEdit: wording</td>\n",
       "    </tr>\n",
       "    <tr>\n",
       "      <th>1096</th>\n",
       "      <td>A man with a COVID-19 walks into the bar</td>\n",
       "      <td>...and is told to leave. \\n\\n[edit]: I'm gonna go offline for 14 days for hating myself.</td>\n",
       "    </tr>\n",
       "    <tr>\n",
       "      <th>1124</th>\n",
       "      <td>People that celebrate April fools are...</td>\n",
       "      <td>April ~~dumb people~~ idiot heads.\\n\\nOwned.\\n\\nEdit: punch line</td>\n",
       "    </tr>\n",
       "  </tbody>\n",
       "</table>\n",
       "</div>"
      ],
      "text/plain": [
       "                                                                        title  \\\n",
       "803   I used to know an English professor who was pretty smart with books....   \n",
       "825                                                              Two Parrots.   \n",
       "916               Italians are always adding -a to words. (It's-a me, Mario!)   \n",
       "1096                                 A man with a COVID-19 walks into the bar   \n",
       "1124                                 People that celebrate April fools are...   \n",
       "\n",
       "                                                                                                                                                                                                                        selftext  \n",
       "803   But she was dumb when it came to regular shit.\\n\\nShe didn't even know that rain was something you need to come in to from out of.\\n\\n&amp;#x200B;\\n\\nEDIT: IOW she didn't like sentences that ended in five prepositions.  \n",
       "825                                            Two parrots sat on a perch. One parrot looked at the other and said \"Do you smell fish?\"\\n\\n\\n\\n\\n\\n\\nThe other parrot replied \"Oh my, a talking bird.\"\\n\\n\\n\\n\\n*edit: spelling*  \n",
       "916                                                                                         I find it to be a horrible corruption of the English language. \\n\\nI say pizz and past, like a _real_ American.\\n\\n\\n\\nEdit: wording  \n",
       "1096                                                                                                                                    ...and is told to leave. \\n\\n[edit]: I'm gonna go offline for 14 days for hating myself.  \n",
       "1124                                                                                                                                                            April ~~dumb people~~ idiot heads.\\n\\nOwned.\\n\\nEdit: punch line  "
      ]
     },
     "execution_count": 14,
     "metadata": {},
     "output_type": "execute_result"
    }
   ],
   "source": [
    "# find edits:\n",
    "PATTERN = \"(?i)[^a-z](edit)\\W.+\"\n",
    "\n",
    "# clean posts to change this ... \n",
    "edits_idx = df_cleaned[df_cleaned['selftext'].str.contains(PATTERN, regex=True)].index\n",
    "df_cleaned.loc[edits_idx][['title', 'selftext']].head()"
   ]
  },
  {
   "cell_type": "code",
   "execution_count": 15,
   "id": "88ef8c9c",
   "metadata": {
    "scrolled": true
   },
   "outputs": [
    {
     "data": {
      "text/html": [
       "<div>\n",
       "<style scoped>\n",
       "    .dataframe tbody tr th:only-of-type {\n",
       "        vertical-align: middle;\n",
       "    }\n",
       "\n",
       "    .dataframe tbody tr th {\n",
       "        vertical-align: top;\n",
       "    }\n",
       "\n",
       "    .dataframe thead th {\n",
       "        text-align: right;\n",
       "    }\n",
       "</style>\n",
       "<table border=\"1\" class=\"dataframe tex2jax_ignore\">\n",
       "  <thead>\n",
       "    <tr style=\"text-align: right;\">\n",
       "      <th></th>\n",
       "      <th>title</th>\n",
       "      <th>selftext</th>\n",
       "    </tr>\n",
       "  </thead>\n",
       "  <tbody>\n",
       "    <tr>\n",
       "      <th>803</th>\n",
       "      <td>I used to know an English professor who was pretty smart with books....</td>\n",
       "      <td>But she was dumb when it came to regular shit.  She didn't even know that rain was something you need to come in to from out of.  &amp;amp;#x200B;</td>\n",
       "    </tr>\n",
       "    <tr>\n",
       "      <th>825</th>\n",
       "      <td>Two Parrots.</td>\n",
       "      <td>Two parrots sat on a perch. One parrot looked at the other and said \"Do you smell fish?\"       The other parrot replied \"Oh my, a talking bird.\"</td>\n",
       "    </tr>\n",
       "    <tr>\n",
       "      <th>916</th>\n",
       "      <td>Italians are always adding -a to words. (It's-a me, Mario!)</td>\n",
       "      <td>I find it to be a horrible corruption of the English language.   I say pizz and past, like a _real_ American.</td>\n",
       "    </tr>\n",
       "    <tr>\n",
       "      <th>1096</th>\n",
       "      <td>A man with a COVID-19 walks into the bar</td>\n",
       "      <td>...and is told to leave.</td>\n",
       "    </tr>\n",
       "    <tr>\n",
       "      <th>1124</th>\n",
       "      <td>People that celebrate April fools are...</td>\n",
       "      <td>April ~~dumb people~~ idiot heads.  Owned.</td>\n",
       "    </tr>\n",
       "  </tbody>\n",
       "</table>\n",
       "</div>"
      ],
      "text/plain": [
       "                                                                        title  \\\n",
       "803   I used to know an English professor who was pretty smart with books....   \n",
       "825                                                              Two Parrots.   \n",
       "916               Italians are always adding -a to words. (It's-a me, Mario!)   \n",
       "1096                                 A man with a COVID-19 walks into the bar   \n",
       "1124                                 People that celebrate April fools are...   \n",
       "\n",
       "                                                                                                                                                    selftext  \n",
       "803         But she was dumb when it came to regular shit.  She didn't even know that rain was something you need to come in to from out of.  &amp;#x200B;    \n",
       "825   Two parrots sat on a perch. One parrot looked at the other and said \"Do you smell fish?\"       The other parrot replied \"Oh my, a talking bird.\"        \n",
       "916                                        I find it to be a horrible corruption of the English language.   I say pizz and past, like a _real_ American.      \n",
       "1096                                                                                                                            ...and is told to leave.      \n",
       "1124                                                                                                            April ~~dumb people~~ idiot heads.  Owned.    "
      ]
     },
     "execution_count": 15,
     "metadata": {},
     "output_type": "execute_result"
    }
   ],
   "source": [
    "# remove user edits added after user posted content, remove newline characters\n",
    "df_cleaned[['title', 'selftext']] = df_cleaned[['title', 'selftext']].applymap(lambda x:re.sub(PATTERN, \" \", x.replace(\"\\n\", \" \")))\n",
    "\n",
    "# into this ...\n",
    "df_cleaned[['title', 'selftext']].loc[edits_idx].head()"
   ]
  },
  {
   "cell_type": "code",
   "execution_count": 16,
   "id": "b6b5c2b0",
   "metadata": {},
   "outputs": [
    {
     "data": {
      "text/html": [
       "<div>\n",
       "<style scoped>\n",
       "    .dataframe tbody tr th:only-of-type {\n",
       "        vertical-align: middle;\n",
       "    }\n",
       "\n",
       "    .dataframe tbody tr th {\n",
       "        vertical-align: top;\n",
       "    }\n",
       "\n",
       "    .dataframe thead th {\n",
       "        text-align: right;\n",
       "    }\n",
       "</style>\n",
       "<table border=\"1\" class=\"dataframe tex2jax_ignore\">\n",
       "  <thead>\n",
       "    <tr style=\"text-align: right;\">\n",
       "      <th></th>\n",
       "      <th>title</th>\n",
       "      <th>selftext</th>\n",
       "    </tr>\n",
       "  </thead>\n",
       "  <tbody>\n",
       "    <tr>\n",
       "      <th>2</th>\n",
       "      <td>What is the difference between my wife and my vacuum?</td>\n",
       "      <td>The vacuum doesn't snore after sex.  &amp;amp;#x200B;  April fools, I don't have a wife.</td>\n",
       "    </tr>\n",
       "    <tr>\n",
       "      <th>216</th>\n",
       "      <td>Chief Walking Horse has a terrible case of constipation</td>\n",
       "      <td>So he travels to the local outpost, where he sits down to talk with the Army doctor.  &amp;amp;#x200B;  \"Many moons pass, and chief Walking Horse no go number two.\" He complains.  &amp;amp;#x200B;  The doctor reaches into his cabinet and fishes out a mild laxative.  &amp;amp;#x200B;  \"Here, Chief, take 1 teaspoon of this every 3 hours, and  come back and see me in two days.\"  &amp;amp;#x200B;  The chief took the little bottle, and left back to his village.  &amp;amp;#x200B;  Two days later, ask the Doctor requested, he's back.  &amp;amp;#x200B;  \"Chief Walking Horse, have you moved yet?\"  &amp;amp;#x200B;  The chief slowly shakes his head no.  &amp;amp;#x200B;  \"OK, Chief, I'm going to have you double that dosage.  I want you to take 2 teaspoons every 3 hours.\"  &amp;amp;#x200B;  The chief nods his head yes, and leaves to return to his village.  &amp;amp;#x200B;  This repeats itself a couple more times, and the Doctor is growing very concerned.  Finally, out of frustration, he grabs another bottle of laxative, and tells the chief to drink the whole thing.  &amp;amp;#x200B;  A few days later, while visiting a close by settlement, the Doctor sees the Chief.  &amp;amp;#x200B;  \"Chief Walking Horse!  It is good to see you.  Tell me, have you moved yet?\"  &amp;amp;#x200B;  The chief looks at him with a grimace and says. \"Chief Moved yesterday. Teepee full of shit!\"</td>\n",
       "    </tr>\n",
       "    <tr>\n",
       "      <th>289</th>\n",
       "      <td>Before VS After Marriage</td>\n",
       "      <td>Before Marriage:   Boy: Ah at last. I can hardly wait.   Girl: Do you want me to leave?   Boy: No don't even think about it.   Girl: Do you love me?   Boy: Of Course. Always have and always will.   Girl: Have you ever cheated on me?   Boy: Never. Why are you even asking?   Girl: Will you kiss me?   Boy: Every chance I get.   Girl: Will you hit me?   Boy: Hell no. Are you crazy?   Girl: Can I trust you?   Boy: Yes.   Girl: Darling!   After Marriage:  (Read from bottom to top)</td>\n",
       "    </tr>\n",
       "    <tr>\n",
       "      <th>410</th>\n",
       "      <td>Three American colonels are in the US about to retire and they are offered an economic compensation...</td>\n",
       "      <td>..which consists of multiplying 100,000 dollars by the distance in inches they have between two parts of their body that they choose.   Colonel McDowell chooses this distance to be from his toe to the edge of his longest hair on his head and the result is 72 inches, so that means he gets $7,200,000.  Colonel Smith chooses the reach of his arms, that is from the tip of his right index finger to the tip of his left index finger, which results in a distance of 75 inches (so he gets $7.5M).  Finally Colonel McConaughey chooses the distance from the tip of his penis to his balls  -\"*Colonel, choose two parts that are more separated, you'll win more money that way!*\" - says the soldier in charge of the measurement.  -\"*No, i'm sure these are the parts i want measured, please proceed!*\" - answers the colonel. The soldier then proceeds to take the measuring tape from the tip of colonel's dick and stretches the tape to reach the balls when suddenly he stops and asks \"*Wait...where are your balls*?!\"  -\"*I lost them in Vietnam*\"</td>\n",
       "    </tr>\n",
       "    <tr>\n",
       "      <th>428</th>\n",
       "      <td>Doctor: \"i'm sorry to say you've got lung cancer.\"</td>\n",
       "      <td>Patient: [tearing up] \"oh god, no!\"  Doctor: \"Sorry to say it because it's not true, lol April Fools!\"  Patient: [angry] \"What the hell?\"  Doctor: \"Yeah, pranked you, the cancer's in your pancreas.\"</td>\n",
       "    </tr>\n",
       "  </tbody>\n",
       "</table>\n",
       "</div>"
      ],
      "text/plain": [
       "                                                                                                      title  \\\n",
       "2                                                     What is the difference between my wife and my vacuum?   \n",
       "216                                                 Chief Walking Horse has a terrible case of constipation   \n",
       "289                                                                                Before VS After Marriage   \n",
       "410  Three American colonels are in the US about to retire and they are offered an economic compensation...   \n",
       "428                                                      Doctor: \"i'm sorry to say you've got lung cancer.\"   \n",
       "\n",
       "                                                                                                                                                                                                                                                                                                                                                                                                                                                                                                                                                                                                                                                                                                                                                                                                                                                                                                                                                                                                                                                                                                                                                                                                                                                                                                                                                                               selftext  \n",
       "2                                                                                                                                                                                                                                                                                                                                                                                                                                                                                                                                                                                                                                                                                                                                                                                                                                                                                                                                                                                                                                                                                                                                                                                                                                                                                                  The vacuum doesn't snore after sex.  &amp;#x200B;  April fools, I don't have a wife.  \n",
       "216  So he travels to the local outpost, where he sits down to talk with the Army doctor.  &amp;#x200B;  \"Many moons pass, and chief Walking Horse no go number two.\" He complains.  &amp;#x200B;  The doctor reaches into his cabinet and fishes out a mild laxative.  &amp;#x200B;  \"Here, Chief, take 1 teaspoon of this every 3 hours, and  come back and see me in two days.\"  &amp;#x200B;  The chief took the little bottle, and left back to his village.  &amp;#x200B;  Two days later, ask the Doctor requested, he's back.  &amp;#x200B;  \"Chief Walking Horse, have you moved yet?\"  &amp;#x200B;  The chief slowly shakes his head no.  &amp;#x200B;  \"OK, Chief, I'm going to have you double that dosage.  I want you to take 2 teaspoons every 3 hours.\"  &amp;#x200B;  The chief nods his head yes, and leaves to return to his village.  &amp;#x200B;  This repeats itself a couple more times, and the Doctor is growing very concerned.  Finally, out of frustration, he grabs another bottle of laxative, and tells the chief to drink the whole thing.  &amp;#x200B;  A few days later, while visiting a close by settlement, the Doctor sees the Chief.  &amp;#x200B;  \"Chief Walking Horse!  It is good to see you.  Tell me, have you moved yet?\"  &amp;#x200B;  The chief looks at him with a grimace and says. \"Chief Moved yesterday. Teepee full of shit!\"  \n",
       "289                                                                                                                                                                                                                                                                                                                                                                                                                                                                                                                                                                                                                                                                                                                                                                                                                                                                                     Before Marriage:   Boy: Ah at last. I can hardly wait.   Girl: Do you want me to leave?   Boy: No don't even think about it.   Girl: Do you love me?   Boy: Of Course. Always have and always will.   Girl: Have you ever cheated on me?   Boy: Never. Why are you even asking?   Girl: Will you kiss me?   Boy: Every chance I get.   Girl: Will you hit me?   Boy: Hell no. Are you crazy?   Girl: Can I trust you?   Boy: Yes.   Girl: Darling!   After Marriage:  (Read from bottom to top)  \n",
       "410                                                                                                                                                                                                                                                                                                          ..which consists of multiplying 100,000 dollars by the distance in inches they have between two parts of their body that they choose.   Colonel McDowell chooses this distance to be from his toe to the edge of his longest hair on his head and the result is 72 inches, so that means he gets $7,200,000.  Colonel Smith chooses the reach of his arms, that is from the tip of his right index finger to the tip of his left index finger, which results in a distance of 75 inches (so he gets $7.5M).  Finally Colonel McConaughey chooses the distance from the tip of his penis to his balls  -\"*Colonel, choose two parts that are more separated, you'll win more money that way!*\" - says the soldier in charge of the measurement.  -\"*No, i'm sure these are the parts i want measured, please proceed!*\" - answers the colonel. The soldier then proceeds to take the measuring tape from the tip of colonel's dick and stretches the tape to reach the balls when suddenly he stops and asks \"*Wait...where are your balls*?!\"  -\"*I lost them in Vietnam*\"  \n",
       "428                                                                                                                                                                                                                                                                                                                                                                                                                                                                                                                                                                                                                                                                                                                                                                                                                                                                                                                                                                                                                                                                                                                                                                              Patient: [tearing up] \"oh god, no!\"  Doctor: \"Sorry to say it because it's not true, lol April Fools!\"  Patient: [angry] \"What the hell?\"  Doctor: \"Yeah, pranked you, the cancer's in your pancreas.\"  "
      ]
     },
     "execution_count": 16,
     "metadata": {},
     "output_type": "execute_result"
    }
   ],
   "source": [
    "# removing html character references and user comments (put in by [...] or (...))\n",
    "PATTERN = r\"(&\\S+;)|(\\(.*?\\))|(\\[.*?\\])\"\n",
    "\n",
    "# get examples of instances containing pattern\n",
    "html_idx = df_cleaned[df_cleaned['selftext'].str.contains(PATTERN, regex=True)].index\n",
    "df_cleaned.loc[html_idx][['title', 'selftext']].head()"
   ]
  },
  {
   "cell_type": "code",
   "execution_count": 17,
   "id": "d24a14f5",
   "metadata": {
    "scrolled": false
   },
   "outputs": [
    {
     "data": {
      "text/html": [
       "<div>\n",
       "<style scoped>\n",
       "    .dataframe tbody tr th:only-of-type {\n",
       "        vertical-align: middle;\n",
       "    }\n",
       "\n",
       "    .dataframe tbody tr th {\n",
       "        vertical-align: top;\n",
       "    }\n",
       "\n",
       "    .dataframe thead th {\n",
       "        text-align: right;\n",
       "    }\n",
       "</style>\n",
       "<table border=\"1\" class=\"dataframe tex2jax_ignore\">\n",
       "  <thead>\n",
       "    <tr style=\"text-align: right;\">\n",
       "      <th></th>\n",
       "      <th>title</th>\n",
       "      <th>selftext</th>\n",
       "    </tr>\n",
       "  </thead>\n",
       "  <tbody>\n",
       "    <tr>\n",
       "      <th>2</th>\n",
       "      <td>What is the difference between my wife and my vacuum?</td>\n",
       "      <td>The vacuum doesn't snore after sex.     April fools, I don't have a wife.</td>\n",
       "    </tr>\n",
       "    <tr>\n",
       "      <th>216</th>\n",
       "      <td>Chief Walking Horse has a terrible case of constipation</td>\n",
       "      <td>So he travels to the local outpost, where he sits down to talk with the Army doctor.     \"Many moons pass, and chief Walking Horse no go number two.\" He complains.     The doctor reaches into his cabinet and fishes out a mild laxative.     \"Here, Chief, take 1 teaspoon of this every 3 hours, and  come back and see me in two days.\"     The chief took the little bottle, and left back to his village.     Two days later, ask the Doctor requested, he's back.     \"Chief Walking Horse, have you moved yet?\"     The chief slowly shakes his head no.     \"OK, Chief, I'm going to have you double that dosage.  I want you to take 2 teaspoons every 3 hours.\"     The chief nods his head yes, and leaves to return to his village.     This repeats itself a couple more times, and the Doctor is growing very concerned.  Finally, out of frustration, he grabs another bottle of laxative, and tells the chief to drink the whole thing.     A few days later, while visiting a close by settlement, the Doctor sees the Chief.     \"Chief Walking Horse!  It is good to see you.  Tell me, have you moved yet?\"     The chief looks at him with a grimace and says. \"Chief Moved yesterday. Teepee full of shit!\"</td>\n",
       "    </tr>\n",
       "    <tr>\n",
       "      <th>289</th>\n",
       "      <td>Before VS After Marriage</td>\n",
       "      <td>Before Marriage:   Boy: Ah at last. I can hardly wait.   Girl: Do you want me to leave?   Boy: No don't even think about it.   Girl: Do you love me?   Boy: Of Course. Always have and always will.   Girl: Have you ever cheated on me?   Boy: Never. Why are you even asking?   Girl: Will you kiss me?   Boy: Every chance I get.   Girl: Will you hit me?   Boy: Hell no. Are you crazy?   Girl: Can I trust you?   Boy: Yes.   Girl: Darling!   After Marriage:</td>\n",
       "    </tr>\n",
       "    <tr>\n",
       "      <th>410</th>\n",
       "      <td>Three American colonels are in the US about to retire and they are offered an economic compensation...</td>\n",
       "      <td>..which consists of multiplying 100,000 dollars by the distance in inches they have between two parts of their body that they choose.   Colonel McDowell chooses this distance to be from his toe to the edge of his longest hair on his head and the result is 72 inches, so that means he gets $7,200,000.  Colonel Smith chooses the reach of his arms, that is from the tip of his right index finger to the tip of his left index finger, which results in a distance of 75 inches  .  Finally Colonel McConaughey chooses the distance from the tip of his penis to his balls  -\"*Colonel, choose two parts that are more separated, you'll win more money that way!*\" - says the soldier in charge of the measurement.  -\"*No, i'm sure these are the parts i want measured, please proceed!*\" - answers the colonel. The soldier then proceeds to take the measuring tape from the tip of colonel's dick and stretches the tape to reach the balls when suddenly he stops and asks \"*Wait...where are your balls*?!\"  -\"*I lost them in Vietnam*\"</td>\n",
       "    </tr>\n",
       "    <tr>\n",
       "      <th>428</th>\n",
       "      <td>Doctor: \"i'm sorry to say you've got lung cancer.\"</td>\n",
       "      <td>Patient:   \"oh god, no!\"  Doctor: \"Sorry to say it because it's not true, lol April Fools!\"  Patient:   \"What the hell?\"  Doctor: \"Yeah, pranked you, the cancer's in your pancreas.\"</td>\n",
       "    </tr>\n",
       "  </tbody>\n",
       "</table>\n",
       "</div>"
      ],
      "text/plain": [
       "                                                                                                      title  \\\n",
       "2                                                     What is the difference between my wife and my vacuum?   \n",
       "216                                                 Chief Walking Horse has a terrible case of constipation   \n",
       "289                                                                                Before VS After Marriage   \n",
       "410  Three American colonels are in the US about to retire and they are offered an economic compensation...   \n",
       "428                                                      Doctor: \"i'm sorry to say you've got lung cancer.\"   \n",
       "\n",
       "                                                                                                                                                                                                                                                                                                                                                                                                                                                                                                                                                                                                                                                                                                                                                                                                                                                                                                                                                                                                                                                                                                                                                                                                                                selftext  \n",
       "2                                                                                                                                                                                                                                                                                                                                                                                                                                                                                                                                                                                                                                                                                                                                                                                                                                                                                                                                                                                                                                                                                                                                                              The vacuum doesn't snore after sex.     April fools, I don't have a wife.  \n",
       "216  So he travels to the local outpost, where he sits down to talk with the Army doctor.     \"Many moons pass, and chief Walking Horse no go number two.\" He complains.     The doctor reaches into his cabinet and fishes out a mild laxative.     \"Here, Chief, take 1 teaspoon of this every 3 hours, and  come back and see me in two days.\"     The chief took the little bottle, and left back to his village.     Two days later, ask the Doctor requested, he's back.     \"Chief Walking Horse, have you moved yet?\"     The chief slowly shakes his head no.     \"OK, Chief, I'm going to have you double that dosage.  I want you to take 2 teaspoons every 3 hours.\"     The chief nods his head yes, and leaves to return to his village.     This repeats itself a couple more times, and the Doctor is growing very concerned.  Finally, out of frustration, he grabs another bottle of laxative, and tells the chief to drink the whole thing.     A few days later, while visiting a close by settlement, the Doctor sees the Chief.     \"Chief Walking Horse!  It is good to see you.  Tell me, have you moved yet?\"     The chief looks at him with a grimace and says. \"Chief Moved yesterday. Teepee full of shit!\"  \n",
       "289                                                                                                                                                                                                                                                                                                                                                                                                                                                                                                                                                                                                                                                                                                                                                              Before Marriage:   Boy: Ah at last. I can hardly wait.   Girl: Do you want me to leave?   Boy: No don't even think about it.   Girl: Do you love me?   Boy: Of Course. Always have and always will.   Girl: Have you ever cheated on me?   Boy: Never. Why are you even asking?   Girl: Will you kiss me?   Boy: Every chance I get.   Girl: Will you hit me?   Boy: Hell no. Are you crazy?   Girl: Can I trust you?   Boy: Yes.   Girl: Darling!   After Marriage:     \n",
       "410                                                                                                                                                                            ..which consists of multiplying 100,000 dollars by the distance in inches they have between two parts of their body that they choose.   Colonel McDowell chooses this distance to be from his toe to the edge of his longest hair on his head and the result is 72 inches, so that means he gets $7,200,000.  Colonel Smith chooses the reach of his arms, that is from the tip of his right index finger to the tip of his left index finger, which results in a distance of 75 inches  .  Finally Colonel McConaughey chooses the distance from the tip of his penis to his balls  -\"*Colonel, choose two parts that are more separated, you'll win more money that way!*\" - says the soldier in charge of the measurement.  -\"*No, i'm sure these are the parts i want measured, please proceed!*\" - answers the colonel. The soldier then proceeds to take the measuring tape from the tip of colonel's dick and stretches the tape to reach the balls when suddenly he stops and asks \"*Wait...where are your balls*?!\"  -\"*I lost them in Vietnam*\"  \n",
       "428                                                                                                                                                                                                                                                                                                                                                                                                                                                                                                                                                                                                                                                                                                                                                                                                                                                                                                                                                                                                                                                Patient:   \"oh god, no!\"  Doctor: \"Sorry to say it because it's not true, lol April Fools!\"  Patient:   \"What the hell?\"  Doctor: \"Yeah, pranked you, the cancer's in your pancreas.\"  "
      ]
     },
     "execution_count": 17,
     "metadata": {},
     "output_type": "execute_result"
    }
   ],
   "source": [
    "# see changes\n",
    "\n",
    "df_cleaned[['title', 'selftext']] = df_cleaned[['title', 'selftext']].applymap(lambda x: re.sub(PATTERN, \" \", x))\n",
    "df_cleaned.loc[html_idx][['title', 'selftext']].head()"
   ]
  },
  {
   "cell_type": "code",
   "execution_count": 18,
   "id": "0d72b13d",
   "metadata": {
    "scrolled": false
   },
   "outputs": [
    {
     "data": {
      "text/html": [
       "<div>\n",
       "<style scoped>\n",
       "    .dataframe tbody tr th:only-of-type {\n",
       "        vertical-align: middle;\n",
       "    }\n",
       "\n",
       "    .dataframe tbody tr th {\n",
       "        vertical-align: top;\n",
       "    }\n",
       "\n",
       "    .dataframe thead th {\n",
       "        text-align: right;\n",
       "    }\n",
       "</style>\n",
       "<table border=\"1\" class=\"dataframe tex2jax_ignore\">\n",
       "  <thead>\n",
       "    <tr style=\"text-align: right;\">\n",
       "      <th></th>\n",
       "      <th>title</th>\n",
       "      <th>selftext</th>\n",
       "    </tr>\n",
       "  </thead>\n",
       "  <tbody>\n",
       "    <tr>\n",
       "      <th>1175</th>\n",
       "      <td>British people are like: “I’m Bri ish”</td>\n",
       "      <td>...and here’s the t☕️</td>\n",
       "    </tr>\n",
       "    <tr>\n",
       "      <th>1265</th>\n",
       "      <td>This social distancing is going too far.</td>\n",
       "      <td>I just went to make a cake and the first line on the packet said separate 2 eggs  🥚 🥚</td>\n",
       "    </tr>\n",
       "    <tr>\n",
       "      <th>2412</th>\n",
       "      <td>A woman walks into a doctor's office and takes off her shirt and bra, revealing an H-shaped rash. \"Can you fix this rash?\" asked the woman.</td>\n",
       "      <td>\"Where did you get this rash?\" asked the doctor. \"My boyfriend is such a proud Harvard graduate, he insists on wearing his Harvard shirt when we have sex.\"   The doctor gives the woman a prescription for her rash, and the woman leaves.   Then another woman walks into the office and takes off her shirt and bra, revealing an Y-shaped rash. \"Can you fix this rash?\" asked the woman.   \"Where did you get this rash?\" asked the doctor. \"My boyfriend is such a proud Yale graduate, he insists on wearing his Yale shirt when we have sex.\"   The doctor gives the woman a prescription for her rash, and the woman leaves.   Then another woman walks into the office and takes off her shirt and bra, revealing an W-shaped rash. \"Can you fix this rash?\" asked the woman.   \"Let me guess,\" said the doctor, \"your dating a Washington graduate?\" \"No, she's a Michigan graduate.\"﻿</td>\n",
       "    </tr>\n",
       "    <tr>\n",
       "      <th>4129</th>\n",
       "      <td>So I said to my girl, it’s not that I’m always horny</td>\n",
       "      <td>It’s just that you’re always beautiful!🇨🇦</td>\n",
       "    </tr>\n",
       "    <tr>\n",
       "      <th>5207</th>\n",
       "      <td>How many liberals does it take to change a lightbulb?</td>\n",
       "      <td>Infinity. bc their vote socialism took their equal away 😂😂😂 L😎L</td>\n",
       "    </tr>\n",
       "  </tbody>\n",
       "</table>\n",
       "</div>"
      ],
      "text/plain": [
       "                                                                                                                                            title  \\\n",
       "1175                                                                                                       British people are like: “I’m Bri ish”   \n",
       "1265                                                                                                     This social distancing is going too far.   \n",
       "2412  A woman walks into a doctor's office and takes off her shirt and bra, revealing an H-shaped rash. \"Can you fix this rash?\" asked the woman.   \n",
       "4129                                                                                         So I said to my girl, it’s not that I’m always horny   \n",
       "5207                                                                                        How many liberals does it take to change a lightbulb?   \n",
       "\n",
       "                                                                                                                                                                                                                                                                                                                                                                                                                                                                                                                                                                                                                                                                                                                                                                                                                                                                                               selftext  \n",
       "1175                                                                                                                                                                                                                                                                                                                                                                                                                                                                                                                                                                                                                                                                                                                                                                                                                                                                              ...and here’s the t☕️  \n",
       "1265                                                                                                                                                                                                                                                                                                                                                                                                                                                                                                                                                                                                                                                                                                                                                                                                              I just went to make a cake and the first line on the packet said separate 2 eggs  🥚 🥚  \n",
       "2412  \"Where did you get this rash?\" asked the doctor. \"My boyfriend is such a proud Harvard graduate, he insists on wearing his Harvard shirt when we have sex.\"   The doctor gives the woman a prescription for her rash, and the woman leaves.   Then another woman walks into the office and takes off her shirt and bra, revealing an Y-shaped rash. \"Can you fix this rash?\" asked the woman.   \"Where did you get this rash?\" asked the doctor. \"My boyfriend is such a proud Yale graduate, he insists on wearing his Yale shirt when we have sex.\"   The doctor gives the woman a prescription for her rash, and the woman leaves.   Then another woman walks into the office and takes off her shirt and bra, revealing an W-shaped rash. \"Can you fix this rash?\" asked the woman.   \"Let me guess,\" said the doctor, \"your dating a Washington graduate?\" \"No, she's a Michigan graduate.\"﻿  \n",
       "4129                                                                                                                                                                                                                                                                                                                                                                                                                                                                                                                                                                                                                                                                                                                                                                                                                                                          It’s just that you’re always beautiful!🇨🇦  \n",
       "5207                                                                                                                                                                                                                                                                                                                                                                                                                                                                                                                                                                                                                                                                                                                                                                                                                                    Infinity. bc their vote socialism took their equal away 😂😂😂 L😎L  "
      ]
     },
     "execution_count": 18,
     "metadata": {},
     "output_type": "execute_result"
    }
   ],
   "source": [
    "# emojis\n",
    "PATTERN = r\"[\\U00002122-\\U0010ffff]|[\\u00A9-\\u00AE]\"\n",
    "\n",
    "# generate instances of patterns for showing\n",
    "emoji_idx = df_cleaned[df_cleaned['selftext'].str.contains(PATTERN, regex=True)].index\n",
    "df_cleaned.loc[emoji_idx][['title', 'selftext']].head()"
   ]
  },
  {
   "cell_type": "markdown",
   "id": "16c6aede",
   "metadata": {},
   "source": [
    "*note that the selftext at id location 2412 does not show any emoji as identified by the pattern, but copying and pasting into a text editor shows a hidden emoji unicode character tailing the string:*\n",
    "\n",
    "![example of hidden char](./images/jokes/hidden_utf_char.png)"
   ]
  },
  {
   "cell_type": "code",
   "execution_count": 19,
   "id": "0ae58c0f",
   "metadata": {},
   "outputs": [
    {
     "data": {
      "text/html": [
       "<div>\n",
       "<style scoped>\n",
       "    .dataframe tbody tr th:only-of-type {\n",
       "        vertical-align: middle;\n",
       "    }\n",
       "\n",
       "    .dataframe tbody tr th {\n",
       "        vertical-align: top;\n",
       "    }\n",
       "\n",
       "    .dataframe thead th {\n",
       "        text-align: right;\n",
       "    }\n",
       "</style>\n",
       "<table border=\"1\" class=\"dataframe tex2jax_ignore\">\n",
       "  <thead>\n",
       "    <tr style=\"text-align: right;\">\n",
       "      <th></th>\n",
       "      <th>title</th>\n",
       "      <th>selftext</th>\n",
       "    </tr>\n",
       "  </thead>\n",
       "  <tbody>\n",
       "    <tr>\n",
       "      <th>1175</th>\n",
       "      <td>British people are like: “I’m Bri ish”</td>\n",
       "      <td>...and here’s the t</td>\n",
       "    </tr>\n",
       "    <tr>\n",
       "      <th>1265</th>\n",
       "      <td>This social distancing is going too far.</td>\n",
       "      <td>I just went to make a cake and the first line on the packet said separate 2 eggs</td>\n",
       "    </tr>\n",
       "    <tr>\n",
       "      <th>2412</th>\n",
       "      <td>A woman walks into a doctor's office and takes off her shirt and bra, revealing an H-shaped rash. \"Can you fix this rash?\" asked the woman.</td>\n",
       "      <td>\"Where did you get this rash?\" asked the doctor. \"My boyfriend is such a proud Harvard graduate, he insists on wearing his Harvard shirt when we have sex.\"   The doctor gives the woman a prescription for her rash, and the woman leaves.   Then another woman walks into the office and takes off her shirt and bra, revealing an Y-shaped rash. \"Can you fix this rash?\" asked the woman.   \"Where did you get this rash?\" asked the doctor. \"My boyfriend is such a proud Yale graduate, he insists on wearing his Yale shirt when we have sex.\"   The doctor gives the woman a prescription for her rash, and the woman leaves.   Then another woman walks into the office and takes off her shirt and bra, revealing an W-shaped rash. \"Can you fix this rash?\" asked the woman.   \"Let me guess,\" said the doctor, \"your dating a Washington graduate?\" \"No, she's a Michigan graduate.\"</td>\n",
       "    </tr>\n",
       "    <tr>\n",
       "      <th>4129</th>\n",
       "      <td>So I said to my girl, it’s not that I’m always horny</td>\n",
       "      <td>It’s just that you’re always beautiful!</td>\n",
       "    </tr>\n",
       "    <tr>\n",
       "      <th>5207</th>\n",
       "      <td>How many liberals does it take to change a lightbulb?</td>\n",
       "      <td>Infinity. bc their vote socialism took their equal away  LL</td>\n",
       "    </tr>\n",
       "  </tbody>\n",
       "</table>\n",
       "</div>"
      ],
      "text/plain": [
       "                                                                                                                                            title  \\\n",
       "1175                                                                                                       British people are like: “I’m Bri ish”   \n",
       "1265                                                                                                     This social distancing is going too far.   \n",
       "2412  A woman walks into a doctor's office and takes off her shirt and bra, revealing an H-shaped rash. \"Can you fix this rash?\" asked the woman.   \n",
       "4129                                                                                         So I said to my girl, it’s not that I’m always horny   \n",
       "5207                                                                                        How many liberals does it take to change a lightbulb?   \n",
       "\n",
       "                                                                                                                                                                                                                                                                                                                                                                                                                                                                                                                                                                                                                                                                                                                                                                                                                                                                                              selftext  \n",
       "1175                                                                                                                                                                                                                                                                                                                                                                                                                                                                                                                                                                                                                                                                                                                                                                                                                                                                               ...and here’s the t  \n",
       "1265                                                                                                                                                                                                                                                                                                                                                                                                                                                                                                                                                                                                                                                                                                                                                                                                               I just went to make a cake and the first line on the packet said separate 2 eggs     \n",
       "2412  \"Where did you get this rash?\" asked the doctor. \"My boyfriend is such a proud Harvard graduate, he insists on wearing his Harvard shirt when we have sex.\"   The doctor gives the woman a prescription for her rash, and the woman leaves.   Then another woman walks into the office and takes off her shirt and bra, revealing an Y-shaped rash. \"Can you fix this rash?\" asked the woman.   \"Where did you get this rash?\" asked the doctor. \"My boyfriend is such a proud Yale graduate, he insists on wearing his Yale shirt when we have sex.\"   The doctor gives the woman a prescription for her rash, and the woman leaves.   Then another woman walks into the office and takes off her shirt and bra, revealing an W-shaped rash. \"Can you fix this rash?\" asked the woman.   \"Let me guess,\" said the doctor, \"your dating a Washington graduate?\" \"No, she's a Michigan graduate.\"  \n",
       "4129                                                                                                                                                                                                                                                                                                                                                                                                                                                                                                                                                                                                                                                                                                                                                                                                                                                           It’s just that you’re always beautiful!  \n",
       "5207                                                                                                                                                                                                                                                                                                                                                                                                                                                                                                                                                                                                                                                                                                                                                                                                                                       Infinity. bc their vote socialism took their equal away  LL  "
      ]
     },
     "execution_count": 19,
     "metadata": {},
     "output_type": "execute_result"
    }
   ],
   "source": [
    "# examine changes\n",
    "df_cleaned[['title', 'selftext']] = df_cleaned[['title','selftext']].applymap(lambda x: re.sub(PATTERN, \"\", x))\n",
    "df_cleaned[['title', 'selftext']].loc[emoji_idx].head()"
   ]
  },
  {
   "cell_type": "code",
   "execution_count": 20,
   "id": "486ed1a0",
   "metadata": {
    "scrolled": false
   },
   "outputs": [
    {
     "name": "stdout",
     "output_type": "stream",
     "text": [
      "327016 samples match\n"
     ]
    }
   ],
   "source": [
    "# Filter entries that are short, but meet other necessary criteria\n",
    "# remove unnecessary whitespace \n",
    "df_cleaned[['selftext', 'title']] = df_cleaned[['selftext', 'title']].applymap(lambda x:\" \".join(str(x).split()))\n",
    "\n",
    "# get length\n",
    "df_cleaned['selftext_len'] = df_cleaned['selftext'].str.len()\n",
    "df_cleaned['title_len'] = df_cleaned['selftext'].str.len()\n",
    "\n",
    "# boolean masks to filter for length\n",
    "title_window = (df_cleaned['title_len'] > 1) & (df_cleaned['title_len'] < TITLE_MAX_LEN)\n",
    "selftext_window = (df_cleaned['selftext_len'] > 1) & (df_cleaned['selftext_len'] < SELFTEXT_MAX_LEN)\n",
    "\n",
    "# apply masks to filter\n",
    "df_cleaned = df_cleaned[selftext_window & title_window]\n",
    "print(f\"{len(df_cleaned[~neg_class])} samples match\")"
   ]
  },
  {
   "cell_type": "markdown",
   "id": "2d72f02a",
   "metadata": {},
   "source": [
    "### Filtering for my dad"
   ]
  },
  {
   "cell_type": "code",
   "execution_count": 21,
   "id": "b24f767a",
   "metadata": {
    "scrolled": false
   },
   "outputs": [
    {
     "data": {
      "text/html": [
       "<div>\n",
       "<style scoped>\n",
       "    .dataframe tbody tr th:only-of-type {\n",
       "        vertical-align: middle;\n",
       "    }\n",
       "\n",
       "    .dataframe tbody tr th {\n",
       "        vertical-align: top;\n",
       "    }\n",
       "\n",
       "    .dataframe thead th {\n",
       "        text-align: right;\n",
       "    }\n",
       "</style>\n",
       "<table border=\"1\" class=\"dataframe tex2jax_ignore\">\n",
       "  <thead>\n",
       "    <tr style=\"text-align: right;\">\n",
       "      <th></th>\n",
       "      <th>title</th>\n",
       "      <th>selftext</th>\n",
       "      <th>score</th>\n",
       "    </tr>\n",
       "  </thead>\n",
       "  <tbody>\n",
       "    <tr>\n",
       "      <th>890190</th>\n",
       "      <td>When Bernie Sanders was in highschool, why did he have more friends than normal, fail English class, and never study?</td>\n",
       "      <td>He was a bit more social than normal. He refused to use capitalism. He was always on Reddit.</td>\n",
       "      <td>0</td>\n",
       "    </tr>\n",
       "    <tr>\n",
       "      <th>964635</th>\n",
       "      <td>I just join reddit and suddenly discover that my name is on the front page!</td>\n",
       "      <td>Final Final</td>\n",
       "      <td>952</td>\n",
       "    </tr>\n",
       "    <tr>\n",
       "      <th>427668</th>\n",
       "      <td>Pros and cons of post-crucifixion</td>\n",
       "      <td>Cons: No longer able to eat Skittles Pros: Makes hide-and-seek super easy</td>\n",
       "      <td>2</td>\n",
       "    </tr>\n",
       "    <tr>\n",
       "      <th>983780</th>\n",
       "      <td>How man redditors does it take to change a lightbulb?</td>\n",
       "      <td>Ten. One to change it and nine to downvote for no reason.</td>\n",
       "      <td>0</td>\n",
       "    </tr>\n",
       "    <tr>\n",
       "      <th>977292</th>\n",
       "      <td>A feminist and a reddit admin walk into a bar...</td>\n",
       "      <td>Just kidding, they couldn't fit through the door.</td>\n",
       "      <td>7</td>\n",
       "    </tr>\n",
       "    <tr>\n",
       "      <th>39112</th>\n",
       "      <td>The other day, I saw a highly upvoted pic of a lamp post</td>\n",
       "      <td>The next day, near the top of the SAME subreddit, I saw a highly upvoted pic of a lamp repost.</td>\n",
       "      <td>5</td>\n",
       "    </tr>\n",
       "    <tr>\n",
       "      <th>439472</th>\n",
       "      <td>What does a coconut become on Reddit?</td>\n",
       "      <td>A jackfruit.</td>\n",
       "      <td>5</td>\n",
       "    </tr>\n",
       "    <tr>\n",
       "      <th>825072</th>\n",
       "      <td>I never understood the appeal of /r/titler...</td>\n",
       "      <td>But you know, different strokes for fascist folks</td>\n",
       "      <td>1</td>\n",
       "    </tr>\n",
       "    <tr>\n",
       "      <th>650840</th>\n",
       "      <td>How are posts on /r/jokes like Jesus?</td>\n",
       "      <td>You can kill one but it comes back in three days</td>\n",
       "      <td>289</td>\n",
       "    </tr>\n",
       "    <tr>\n",
       "      <th>544990</th>\n",
       "      <td>A single sperm has 37.5 MB of DNA information in it. That means an average ejaculation represents a data transfer of 1587.5 TB</td>\n",
       "      <td>That's a lot of information to swallow -wow thanks for the upvotes and gold</td>\n",
       "      <td>53949</td>\n",
       "    </tr>\n",
       "  </tbody>\n",
       "</table>\n",
       "</div>"
      ],
      "text/plain": [
       "                                                                                                                                 title  \\\n",
       "890190           When Bernie Sanders was in highschool, why did he have more friends than normal, fail English class, and never study?   \n",
       "964635                                                     I just join reddit and suddenly discover that my name is on the front page!   \n",
       "427668                                                                                               Pros and cons of post-crucifixion   \n",
       "983780                                                                           How man redditors does it take to change a lightbulb?   \n",
       "977292                                                                                A feminist and a reddit admin walk into a bar...   \n",
       "39112                                                                         The other day, I saw a highly upvoted pic of a lamp post   \n",
       "439472                                                                                           What does a coconut become on Reddit?   \n",
       "825072                                                                                   I never understood the appeal of /r/titler...   \n",
       "650840                                                                                           How are posts on /r/jokes like Jesus?   \n",
       "544990  A single sperm has 37.5 MB of DNA information in it. That means an average ejaculation represents a data transfer of 1587.5 TB   \n",
       "\n",
       "                                                                                              selftext  \\\n",
       "890190    He was a bit more social than normal. He refused to use capitalism. He was always on Reddit.   \n",
       "964635                                                                                     Final Final   \n",
       "427668                       Cons: No longer able to eat Skittles Pros: Makes hide-and-seek super easy   \n",
       "983780                                       Ten. One to change it and nine to downvote for no reason.   \n",
       "977292                                               Just kidding, they couldn't fit through the door.   \n",
       "39112   The next day, near the top of the SAME subreddit, I saw a highly upvoted pic of a lamp repost.   \n",
       "439472                                                                                    A jackfruit.   \n",
       "825072                                               But you know, different strokes for fascist folks   \n",
       "650840                                                You can kill one but it comes back in three days   \n",
       "544990                     That's a lot of information to swallow -wow thanks for the upvotes and gold   \n",
       "\n",
       "        score  \n",
       "890190      0  \n",
       "964635    952  \n",
       "427668      2  \n",
       "983780      0  \n",
       "977292      7  \n",
       "39112       5  \n",
       "439472      5  \n",
       "825072      1  \n",
       "650840    289  \n",
       "544990  53949  "
      ]
     },
     "execution_count": 21,
     "metadata": {},
     "output_type": "execute_result"
    }
   ],
   "source": [
    "# meta jokes\n",
    "# boolean mask that identifies strings with reddit posts\n",
    "PATTERN = r\"(\\s\\/?[ur]\\/\\D)|(\\sclick\\s)|(sub)?(reddit)|\\S(vote)s?|(\\sop\\s)|https?\\S+|([a-z]?(re)?post(?=(ed)|[^a-z]|$))|_\"\n",
    "is_meta = df_cleaned['title'].str.lower().str.contains(PATTERN, regex=True) | df_cleaned['selftext'].str.lower().str.contains(PATTERN, regex=True)\n",
    "df_cleaned[is_meta].sample(10)[['title', 'selftext', 'score']]"
   ]
  },
  {
   "cell_type": "code",
   "execution_count": 22,
   "id": "2b3f4b64",
   "metadata": {},
   "outputs": [],
   "source": [
    "df_cleaned = df_cleaned[~is_meta]"
   ]
  },
  {
   "cell_type": "code",
   "execution_count": 23,
   "id": "785e9867",
   "metadata": {},
   "outputs": [],
   "source": [
    "# offensive jokes\n",
    "# boolean mask that identifies strings with offensive content\n",
    "is_offensive = df_cleaned['title'].str.lower().str.contains(PATTERN_NSFW, regex=True) | df_cleaned['selftext'].str.lower().str.contains(PATTERN_NSFW, regex=True)\n",
    "\n",
    "# # uncomment below to check this NSFW\n",
    "# df_cleaned[is_offensive & is_short].sample(30)[['title', 'selftext', 'score']]"
   ]
  },
  {
   "cell_type": "code",
   "execution_count": 24,
   "id": "63168470",
   "metadata": {},
   "outputs": [],
   "source": [
    "df_cleaned = df_cleaned[~is_offensive]"
   ]
  },
  {
   "cell_type": "code",
   "execution_count": 25,
   "id": "e4bb6a82",
   "metadata": {
    "scrolled": false
   },
   "outputs": [
    {
     "name": "stdout",
     "output_type": "stream",
     "text": [
      "298525 samples match\n"
     ]
    }
   ],
   "source": [
    "# Filter entries that are short, but meet other necessary criteria again\n",
    "# remove unnecessary whitespace \n",
    "df_cleaned[['selftext', 'title']] = df_cleaned[['selftext', 'title']].applymap(lambda x:\" \".join(str(x).split()))\n",
    "\n",
    "# boolean masks to filter for length\n",
    "title_window = (df_cleaned['title_len'] > 2) & (df_cleaned['title_len'] < TITLE_MAX_LEN)\n",
    "selftext_window = (df_cleaned['selftext_len'] > 2) & (df_cleaned['selftext_len'] < SELFTEXT_MAX_LEN)\n",
    "\n",
    "# apply masks to filter\n",
    "df_cleaned = df_cleaned[selftext_window & title_window]\n",
    "print(f\"{len(df_cleaned[~neg_class])} samples match\")"
   ]
  },
  {
   "cell_type": "code",
   "execution_count": 26,
   "id": "f7db294c",
   "metadata": {
    "colab": {
     "base_uri": "https://localhost:8080/"
    },
    "id": "f7db294c",
    "outputId": "66d8d53a-3384-485c-9a1f-54318e339706",
    "scrolled": true
   },
   "outputs": [
    {
     "name": "stdout",
     "output_type": "stream",
     "text": [
      "maximum sampling size is 78936\n",
      " proceeding with this value...\n",
      "***** calculating *****\n",
      "78936\n",
      "WARNING, CURRENT PARAMETERS RESULT IN CLASS SIZE REDUCTION\n",
      "desired size 100000\n",
      "current size 76668\n"
     ]
    }
   ],
   "source": [
    "# returns boolean mask and updated_class sizes for binary classification.\n",
    "# boolean mask is for instances in the positive class that meet arguments\n",
    "\n",
    "pos_class_mask, updated_class_size = populate_pos_class(df_cleaned, MIN_UPVOTES, MAX_UPVOTES, CLASS_SIZE)"
   ]
  },
  {
   "cell_type": "markdown",
   "id": "03a21055",
   "metadata": {
    "id": "03a21055"
   },
   "source": [
    "### Make the positive and negative class labels and concatenate the dataframe"
   ]
  },
  {
   "cell_type": "code",
   "execution_count": 27,
   "id": "6b07ee9e",
   "metadata": {
    "colab": {
     "base_uri": "https://localhost:8080/",
     "height": 455
    },
    "id": "6b07ee9e",
    "outputId": "aed48b0e-1458-46cd-ba8e-ddc3db940787",
    "scrolled": false
   },
   "outputs": [
    {
     "name": "stdout",
     "output_type": "stream",
     "text": [
      "          count        mean          std   min   25%   50%    75%       max\n",
      "target                                                                     \n",
      "False   76668.0    0.000000     0.000000   0.0   0.0   0.0    0.0       0.0\n",
      "True    76668.0  690.893189  3503.872494  18.0  28.0  54.0  161.0  136359.0\n",
      "Saving figure class distribution after cleaning\n"
     ]
    },
    {
     "data": {
      "image/png": "[encoded data removed]",
      "text/plain": [
       "<Figure size 460.8x403.2 with 1 Axes>"
      ]
     },
     "metadata": {},
     "output_type": "display_data"
    }
   ],
   "source": [
    "# create target label\n",
    "df_cleaned['target'] = pos_class_mask\n",
    "\n",
    "# add positive and negative classes together\n",
    "df_concat = pd.concat([df_cleaned[neg_class].sample(updated_class_size), df_cleaned[pos_class_mask]], axis=0)\n",
    "print(df_concat.groupby('target').describe()['score'])\n",
    "\n",
    "# plot target distribution to validate\n",
    "df_concat['target'].value_counts().plot(kind='bar', color=['xkcd:orange', 'xkcd:azure'])\n",
    "plt.grid(False)\n",
    "save_fig('class distribution after cleaning')"
   ]
  },
  {
   "cell_type": "markdown",
   "id": "Cb4JyDlYsWgz",
   "metadata": {
    "id": "Cb4JyDlYsWgz"
   },
   "source": [
    "### Split into train / test data"
   ]
  },
  {
   "cell_type": "code",
   "execution_count": 28,
   "id": "Rn__FvtKsN7-",
   "metadata": {
    "colab": {
     "base_uri": "https://localhost:8080/"
    },
    "id": "Rn__FvtKsN7-",
    "outputId": "4faeb1aa-89ac-4f2f-c860-64d7f67353ae",
    "scrolled": false
   },
   "outputs": [
    {
     "name": "stdout",
     "output_type": "stream",
     "text": [
      "(145669, 15) (7667, 15)\n"
     ]
    }
   ],
   "source": [
    "# get training size from parameters\n",
    "training_size = int(len(df_concat)*TRAIN_SIZE)\n",
    "\n",
    "# shuffle \n",
    "df_concat_shuffled = df_concat.sample(len(df_concat))\n",
    "\n",
    "# fill na values with a blank\n",
    "df_concat_shuffled['selftext'] = df_concat_shuffled['selftext'].fillna(value='')\n",
    "\n",
    "# generate train and test sets\n",
    "train = df_concat_shuffled[:training_size]\n",
    "test = df_concat_shuffled[training_size:]\n",
    "print(train.shape, test.shape)"
   ]
  },
  {
   "cell_type": "markdown",
   "id": "quLWMNEP5hdp",
   "metadata": {
    "id": "quLWMNEP5hdp"
   },
   "source": [
    "## Explore the Curated DataFrame"
   ]
  },
  {
   "cell_type": "code",
   "execution_count": 29,
   "id": "357b5d64",
   "metadata": {},
   "outputs": [],
   "source": [
    "# some useful boolean masks\n",
    "is_funny = train['target'] == True"
   ]
  },
  {
   "cell_type": "code",
   "execution_count": 30,
   "id": "81525c72",
   "metadata": {
    "scrolled": true
   },
   "outputs": [
    {
     "data": {
      "text/html": [
       "<div>\n",
       "<style scoped>\n",
       "    .dataframe tbody tr th:only-of-type {\n",
       "        vertical-align: middle;\n",
       "    }\n",
       "\n",
       "    .dataframe tbody tr th {\n",
       "        vertical-align: top;\n",
       "    }\n",
       "\n",
       "    .dataframe thead th {\n",
       "        text-align: right;\n",
       "    }\n",
       "</style>\n",
       "<table border=\"1\" class=\"dataframe tex2jax_ignore\">\n",
       "  <thead>\n",
       "    <tr style=\"text-align: right;\">\n",
       "      <th></th>\n",
       "      <th>title</th>\n",
       "      <th>selftext</th>\n",
       "      <th>score</th>\n",
       "    </tr>\n",
       "  </thead>\n",
       "  <tbody>\n",
       "    <tr>\n",
       "      <th>922837</th>\n",
       "      <td>I saved 15% on car insurance by switching....</td>\n",
       "      <td>The gear to reverse and pulling away from the accident</td>\n",
       "      <td>482</td>\n",
       "    </tr>\n",
       "    <tr>\n",
       "      <th>792664</th>\n",
       "      <td>Who isn't allowed to watch PG movies?</td>\n",
       "      <td>Orphans.</td>\n",
       "      <td>8422</td>\n",
       "    </tr>\n",
       "    <tr>\n",
       "      <th>562540</th>\n",
       "      <td>My ex updated her status on Facebook to standing on the edge of a cliff.</td>\n",
       "      <td>So I poked her</td>\n",
       "      <td>510</td>\n",
       "    </tr>\n",
       "    <tr>\n",
       "      <th>930198</th>\n",
       "      <td>TIL that Rick Astley will let you borrow any movie from his Pixar collection, except one.</td>\n",
       "      <td>He's never gonna give you Up</td>\n",
       "      <td>1327</td>\n",
       "    </tr>\n",
       "    <tr>\n",
       "      <th>863300</th>\n",
       "      <td>What is a huge benefit of dating an Ethiopian girl?</td>\n",
       "      <td>You know they'll swallow</td>\n",
       "      <td>361</td>\n",
       "    </tr>\n",
       "    <tr>\n",
       "      <th>402934</th>\n",
       "      <td>I wnet to an Indian restaurant and ordered biryani...</td>\n",
       "      <td>The waiter said, sorry sir, I don’t know what a birlaurel is.</td>\n",
       "      <td>415</td>\n",
       "    </tr>\n",
       "    <tr>\n",
       "      <th>534717</th>\n",
       "      <td>Why was Pavlov's hair so soft?</td>\n",
       "      <td>Classical conditioning</td>\n",
       "      <td>955</td>\n",
       "    </tr>\n",
       "    <tr>\n",
       "      <th>17472</th>\n",
       "      <td>My boyfriend asked me if I wanted a threesome which of his friends I'd choose.</td>\n",
       "      <td>I shouldn't have named two.</td>\n",
       "      <td>4204</td>\n",
       "    </tr>\n",
       "    <tr>\n",
       "      <th>174588</th>\n",
       "      <td>As a security guard, my Boss said my job is to watch the office</td>\n",
       "      <td>I’m on season 6 so far, and not sure what this has to do with security.</td>\n",
       "      <td>15870</td>\n",
       "    </tr>\n",
       "    <tr>\n",
       "      <th>712806</th>\n",
       "      <td>What fish is made of only two sodium ions?</td>\n",
       "      <td>2 Na :D</td>\n",
       "      <td>619</td>\n",
       "    </tr>\n",
       "  </tbody>\n",
       "</table>\n",
       "</div>"
      ],
      "text/plain": [
       "                                                                                            title  \\\n",
       "922837                                              I saved 15% on car insurance by switching....   \n",
       "792664                                                      Who isn't allowed to watch PG movies?   \n",
       "562540                   My ex updated her status on Facebook to standing on the edge of a cliff.   \n",
       "930198  TIL that Rick Astley will let you borrow any movie from his Pixar collection, except one.   \n",
       "863300                                        What is a huge benefit of dating an Ethiopian girl?   \n",
       "402934                                      I wnet to an Indian restaurant and ordered biryani...   \n",
       "534717                                                             Why was Pavlov's hair so soft?   \n",
       "17472              My boyfriend asked me if I wanted a threesome which of his friends I'd choose.   \n",
       "174588                            As a security guard, my Boss said my job is to watch the office   \n",
       "712806                                                 What fish is made of only two sodium ions?   \n",
       "\n",
       "                                                                       selftext  \\\n",
       "922837                   The gear to reverse and pulling away from the accident   \n",
       "792664                                                                 Orphans.   \n",
       "562540                                                           So I poked her   \n",
       "930198                                             He's never gonna give you Up   \n",
       "863300                                                 You know they'll swallow   \n",
       "402934            The waiter said, sorry sir, I don’t know what a birlaurel is.   \n",
       "534717                                                   Classical conditioning   \n",
       "17472                                               I shouldn't have named two.   \n",
       "174588  I’m on season 6 so far, and not sure what this has to do with security.   \n",
       "712806                                                                  2 Na :D   \n",
       "\n",
       "        score  \n",
       "922837    482  \n",
       "792664   8422  \n",
       "562540    510  \n",
       "930198   1327  \n",
       "863300    361  \n",
       "402934    415  \n",
       "534717    955  \n",
       "17472    4204  \n",
       "174588  15870  \n",
       "712806    619  "
      ]
     },
     "execution_count": 30,
     "metadata": {},
     "output_type": "execute_result"
    }
   ],
   "source": [
    "# examples of funny jokes\n",
    "train[train['score'] >= train['score'].mean()][['title', 'selftext', 'score']].sample(10)"
   ]
  },
  {
   "cell_type": "code",
   "execution_count": 32,
   "id": "4aacdb62",
   "metadata": {},
   "outputs": [
    {
     "data": {
      "text/html": [
       "<div>\n",
       "<style scoped>\n",
       "    .dataframe tbody tr th:only-of-type {\n",
       "        vertical-align: middle;\n",
       "    }\n",
       "\n",
       "    .dataframe tbody tr th {\n",
       "        vertical-align: top;\n",
       "    }\n",
       "\n",
       "    .dataframe thead th {\n",
       "        text-align: right;\n",
       "    }\n",
       "</style>\n",
       "<table border=\"1\" class=\"dataframe tex2jax_ignore\">\n",
       "  <thead>\n",
       "    <tr style=\"text-align: right;\">\n",
       "      <th></th>\n",
       "      <th>title</th>\n",
       "      <th>selftext</th>\n",
       "    </tr>\n",
       "  </thead>\n",
       "  <tbody>\n",
       "    <tr>\n",
       "      <th>927026</th>\n",
       "      <td>I didn't like the way my beard looked at first</td>\n",
       "      <td>but it grew on me.</td>\n",
       "    </tr>\n",
       "    <tr>\n",
       "      <th>635885</th>\n",
       "      <td>\"The Diarrhea of Anne Frank\"</td>\n",
       "      <td>A good bathroom read</td>\n",
       "    </tr>\n",
       "    <tr>\n",
       "      <th>694602</th>\n",
       "      <td>Person 1 to person 2: whats up my brother from another mother</td>\n",
       "      <td>Person 2: aren't we siblings? Person 1: yeah sorry you're adopted</td>\n",
       "    </tr>\n",
       "    <tr>\n",
       "      <th>949151</th>\n",
       "      <td>If your name is Sullivan, you've got a good name, but if you go by your nickname</td>\n",
       "      <td>you've Sully'd your good name</td>\n",
       "    </tr>\n",
       "    <tr>\n",
       "      <th>435162</th>\n",
       "      <td>Why do men like women in leather trousers?</td>\n",
       "      <td>Because they smell like a new car.</td>\n",
       "    </tr>\n",
       "    <tr>\n",
       "      <th>762949</th>\n",
       "      <td>Trump just won the US Presidential Election</td>\n",
       "      <td>\"It's Rigged!\"</td>\n",
       "    </tr>\n",
       "    <tr>\n",
       "      <th>902534</th>\n",
       "      <td>I think Marco Rubio has spine issues.</td>\n",
       "      <td>Every time someone says Marco, someone says POLIO</td>\n",
       "    </tr>\n",
       "    <tr>\n",
       "      <th>186098</th>\n",
       "      <td>Understanding a meme is like dissecting a frog.</td>\n",
       "      <td>You'll understand it better, but it'll die in the process.</td>\n",
       "    </tr>\n",
       "    <tr>\n",
       "      <th>937282</th>\n",
       "      <td>Iphones walked out :p</td>\n",
       "      <td>Two Iphones walked out of a bar</td>\n",
       "    </tr>\n",
       "    <tr>\n",
       "      <th>532913</th>\n",
       "      <td>What do fishes use as a drug?</td>\n",
       "      <td>SEA-WEED</td>\n",
       "    </tr>\n",
       "  </tbody>\n",
       "</table>\n",
       "</div>"
      ],
      "text/plain": [
       "                                                                                   title  \\\n",
       "927026                                    I didn't like the way my beard looked at first   \n",
       "635885                                                      \"The Diarrhea of Anne Frank\"   \n",
       "694602                     Person 1 to person 2: whats up my brother from another mother   \n",
       "949151  If your name is Sullivan, you've got a good name, but if you go by your nickname   \n",
       "435162                                        Why do men like women in leather trousers?   \n",
       "762949                                       Trump just won the US Presidential Election   \n",
       "902534                                             I think Marco Rubio has spine issues.   \n",
       "186098                                   Understanding a meme is like dissecting a frog.   \n",
       "937282                                                             Iphones walked out :p   \n",
       "532913                                                     What do fishes use as a drug?   \n",
       "\n",
       "                                                                 selftext  \n",
       "927026                                                 but it grew on me.  \n",
       "635885                                               A good bathroom read  \n",
       "694602  Person 2: aren't we siblings? Person 1: yeah sorry you're adopted  \n",
       "949151                                      you've Sully'd your good name  \n",
       "435162                                 Because they smell like a new car.  \n",
       "762949                                                     \"It's Rigged!\"  \n",
       "902534                  Every time someone says Marco, someone says POLIO  \n",
       "186098         You'll understand it better, but it'll die in the process.  \n",
       "937282                                    Two Iphones walked out of a bar  \n",
       "532913                                                           SEA-WEED  "
      ]
     },
     "execution_count": 32,
     "metadata": {},
     "output_type": "execute_result"
    }
   ],
   "source": [
    "# examples of not funny jokes\n",
    "train[train['score'] == 0][['title', 'selftext']].sample(10)"
   ]
  },
  {
   "cell_type": "code",
   "execution_count": 33,
   "id": "a3a4dc49",
   "metadata": {
    "colab": {
     "base_uri": "https://localhost:8080/",
     "height": 575
    },
    "id": "Dy6_M44RJ6NB",
    "outputId": "78efde2b-5c95-4e5e-b3b9-9744daea13d7",
    "scrolled": false
   },
   "outputs": [
    {
     "name": "stdout",
     "output_type": "stream",
     "text": [
      "Saving figure density plot of log title length\n"
     ]
    },
    {
     "data": {
      "image/png": "[encoded data removed]",
      "text/plain": [
       "<Figure size 460.8x403.2 with 1 Axes>"
      ]
     },
     "metadata": {},
     "output_type": "display_data"
    },
    {
     "name": "stdout",
     "output_type": "stream",
     "text": [
      "Saving figure density plot of log selftext length\n"
     ]
    },
    {
     "data": {
      "image/png": "[encoded data removed]",
      "text/plain": [
       "<Figure size 460.8x403.2 with 1 Axes>"
      ]
     },
     "metadata": {},
     "output_type": "display_data"
    }
   ],
   "source": [
    "# plots of length\n",
    "train['log_title_len'] = np.log(train['title_len'])\n",
    "train['log_selftext_len'] = np.log(train['selftext_len'])\n",
    "\n",
    "funny_df = train[train['target'] == True]\n",
    "not_funny_df = train[train['target'] == False]\n",
    "\n",
    "# plots lengths\n",
    "sns.kdeplot(x='log_title_len', data=train, hue='target')\n",
    "plt.title('density plot of log title length')\n",
    "save_fig('density plot of log title length')\n",
    "plt.show()\n",
    "train['log_selftext_len'] = np.log(train['selftext_len'])\n",
    "sns.kdeplot(x='log_selftext_len', data=train, hue='target')\n",
    "plt.title('density plot of log selftext length')\n",
    "save_fig('density plot of log selftext length')\n",
    "plt.show()\n"
   ]
  },
  {
   "cell_type": "code",
   "execution_count": 34,
   "id": "edfd1c90",
   "metadata": {
    "colab": {
     "base_uri": "https://localhost:8080/",
     "height": 545
    },
    "id": "KBeJAkR2KHgP",
    "outputId": "7fe98700-eece-430a-b26d-3456e99f20ff",
    "scrolled": false
   },
   "outputs": [
    {
     "data": {
      "image/png": "[encoded data removed]",
      "text/plain": [
       "<Figure size 460.8x403.2 with 1 Axes>"
      ]
     },
     "metadata": {},
     "output_type": "display_data"
    },
    {
     "data": {
      "image/png": "[encoded data removed]",
      "text/plain": [
       "<Figure size 460.8x403.2 with 1 Axes>"
      ]
     },
     "metadata": {},
     "output_type": "display_data"
    }
   ],
   "source": [
    "train.groupby(['title_len']).mean()['target'].hist(color='red')\n",
    "plt.title('variation of title length on scores')\n",
    "plt.show()\n",
    "train.groupby(['selftext_len']).mean()['target'].hist()\n",
    "plt.title('variation of selftext length on scores')\n",
    "plt.show()"
   ]
  },
  {
   "cell_type": "markdown",
   "id": "d3b686af",
   "metadata": {
    "id": "0eaacdd7"
   },
   "source": [
    "### Examine Time Series Data"
   ]
  },
  {
   "cell_type": "code",
   "execution_count": 35,
   "id": "26e33a0f",
   "metadata": {
    "id": "49472f14"
   },
   "outputs": [],
   "source": [
    "# making unix created_times into readable timestamps\n",
    "train['created_at'] = train['created_utc'].apply(lambda x: make_timestamp(x))\n",
    "#train[['created_at', 'title', 'selftext', 'target']].head()\n",
    "\n",
    "# create dataframes with with timestamp as index for examination\n",
    "df_funny = train[is_funny].set_index('created_at', drop=True).sort_index()\n",
    "df_not_funny = train[~is_funny].set_index('created_at', drop=True).sort_index()"
   ]
  },
  {
   "cell_type": "code",
   "execution_count": 36,
   "id": "1b1be391",
   "metadata": {
    "colab": {
     "base_uri": "https://localhost:8080/",
     "height": 350
    },
    "id": "1b5414d6",
    "outputId": "c10df1c5-89dc-416a-f892-784c179c8514",
    "scrolled": false
   },
   "outputs": [
    {
     "name": "stdout",
     "output_type": "stream",
     "text": [
      "Saving figure submissions over time\n"
     ]
    },
    {
     "data": {
      "image/png": "[encoded data removed]",
      "text/plain": [
       "<Figure size 1080x360 with 1 Axes>"
      ]
     },
     "metadata": {},
     "output_type": "display_data"
    }
   ],
   "source": [
    "# plot submissions over time\n",
    "plt.figure(figsize=(15, 5))\n",
    "\n",
    "sns.lineplot(x=df_funny.resample('W').count().index, y='type', data=df_funny.resample('W').count(), label='funny')\n",
    "sns.lineplot(x=df_not_funny.resample('W').count().index, y='type', data=df_not_funny.resample('W').count(), label='not funny')\n",
    "plt.title('Number of Submissions to r/jokes')\n",
    "plt.xlabel('date')\n",
    "plt.ylabel('number of submissions')\n",
    "plt.legend()\n",
    "save_fig('submissions over time')\n",
    "plt.show()"
   ]
  },
  {
   "cell_type": "code",
   "execution_count": 37,
   "id": "d9fa81dc",
   "metadata": {},
   "outputs": [
    {
     "name": "stdout",
     "output_type": "stream",
     "text": [
      "Saving figure average submission per hour\n"
     ]
    },
    {
     "data": {
      "image/png": "[encoded data removed]",
      "text/plain": [
       "<Figure size 936x432 with 1 Axes>"
      ]
     },
     "metadata": {},
     "output_type": "display_data"
    }
   ],
   "source": [
    "# average periods\n",
    "plt.figure(figsize=(13, 6))\n",
    "sns.lineplot(data = df_funny.groupby(df_funny.index.hour)['target'].count(), label='funny')\n",
    "sns.lineplot(data = df_not_funny.groupby(df_not_funny.index.hour)['target'].count(), label='not funny', )\n",
    "plt.title('average submissions per hour')\n",
    "plt.ylabel('submission counts')\n",
    "save_fig('average submission per hour')\n",
    "plt.show()"
   ]
  },
  {
   "cell_type": "code",
   "execution_count": 38,
   "id": "f115e23a",
   "metadata": {
    "colab": {
     "base_uri": "https://localhost:8080/",
     "height": 297
    },
    "id": "DcS-pSnWI7Pb",
    "outputId": "c25cafe3-1d53-4dff-c984-250339aa0587"
   },
   "outputs": [
    {
     "data": {
      "text/plain": [
       "<AxesSubplot:xlabel='created_at', ylabel='type'>"
      ]
     },
     "execution_count": 38,
     "metadata": {},
     "output_type": "execute_result"
    },
    {
     "data": {
      "image/png": "[encoded data removed]",
      "text/plain": [
       "<Figure size 460.8x403.2 with 1 Axes>"
      ]
     },
     "metadata": {},
     "output_type": "display_data"
    }
   ],
   "source": [
    "# taking another look at that odd event in 2019\n",
    "sns.lineplot(x=df_not_funny.loc['2019'].resample('W').count().index, y='type', data=df_not_funny.loc['2019'].resample('W').count(), label='not funny')"
   ]
  },
  {
   "cell_type": "code",
   "execution_count": 39,
   "id": "4fecc4c9",
   "metadata": {
    "colab": {
     "base_uri": "https://localhost:8080/"
    },
    "id": "4SKgp1UrCwLV",
    "outputId": "cef8f72c-0d17-42bc-89f7-25426bd33f9f"
   },
   "outputs": [
    {
     "name": "stdout",
     "output_type": "stream",
     "text": [
      "dates of anomaly: 2019-04-07 - 2019-09-01\n"
     ]
    }
   ],
   "source": [
    "not_funny_2019_counts = df_not_funny.loc['2019'].resample('W').count()\n",
    "start_date = not_funny_2019_counts['2019-04':'2019-05'][not_funny_2019_counts['id']['2019-04':'2019-05'] == not_funny_2019_counts['id']['2019-04':'2019-05'].min()].index[0]\n",
    "end_date = not_funny_2019_counts[start_date:\"2019-12-01\"][not_funny_2019_counts[start_date:\"2019-12-01\"]['id'] == not_funny_2019_counts[start_date:\"2019-12-01\"]['id'].min()].index[0]\n",
    "start_date_not_funny_event, end_date_not_funny_event = str(start_date.date()), str(end_date.date())\n",
    "print(f'dates of anomaly: {start_date_not_funny_event} - {end_date_not_funny_event}')"
   ]
  },
  {
   "cell_type": "code",
   "execution_count": 40,
   "id": "9f5213c6",
   "metadata": {},
   "outputs": [],
   "source": [
    "# save to pickle\n",
    "pd.to_pickle(train, \"./data/train.pkl\")\n",
    "pd.to_pickle(test, \"./data/test.pkl\")"
   ]
  },
  {
   "cell_type": "code",
   "execution_count": null,
   "id": "7fcda42a",
   "metadata": {},
   "outputs": [],
   "source": []
  },
  {
   "cell_type": "code",
   "execution_count": null,
   "id": "d70d2ac7",
   "metadata": {},
   "outputs": [],
   "source": []
  }
 ],
 "metadata": {
  "colab": {
   "collapsed_sections": [],
   "name": "jokes.ipynb",
   "provenance": []
  },
  "kernelspec": {
   "display_name": "Python 3",
   "language": "python",
   "name": "python3"
  },
  "language_info": {
   "codemirror_mode": {
    "name": "ipython",
    "version": 3
   },
   "file_extension": ".py",
   "mimetype": "text/x-python",
   "name": "python",
   "nbconvert_exporter": "python",
   "pygments_lexer": "ipython3",
   "version": "3.9.4"
  }
 },
 "nbformat": 4,
 "nbformat_minor": 5
}
