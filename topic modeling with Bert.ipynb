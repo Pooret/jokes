{
 "cells": [
  {
   "cell_type": "markdown",
   "id": "81b60e88",
   "metadata": {},
   "source": [
    "### topic modeling\n",
    "https://github.com/MaartenGr/BERTopic/pull/840"
   ]
  },
  {
   "cell_type": "markdown",
   "id": "3953c28b",
   "metadata": {},
   "source": [
    "## Objective:\n",
    "In the process of developing a different data science project, I came across an anomoly that I want to further investigate. To this end, the objective of this notebook is to pinpoint the anomaly, identify topics, and point out key differences in the text vs the anomalous text using BERT topic modeling as well as vector differences (using differnet embeddings as vectors for various n-gram and sentence groups)."
   ]
  },
  {
   "cell_type": "code",
   "execution_count": 20,
   "id": "27c1ebb4",
   "metadata": {
    "id": "27c1ebb4",
    "scrolled": true
   },
   "outputs": [],
   "source": [
    "# imports\n",
    "# check imports later\n",
    "import pandas as pd\n",
    "import numpy as np\n",
    "import matplotlib.pyplot as plt\n",
    "import seaborn as sns\n",
    "from tqdm import tqdm\n",
    "import regex as re\n",
    "import pickle\n",
    "import emoji\n",
    "import unidecode\n",
    "from html import unescape\n",
    "from bs4 import BeautifulSoup\n",
    "import warnings\n",
    "import html\n",
    "warnings.filterwarnings('ignore')\n",
    "\n",
    "# pd.set_option('display.html.use_mathjax', False) # normalize fonts for pandas display\n",
    "pd.options.display.max_colwidth = None\n",
    "\n",
    "# custom functions \n",
    "# Fix this later\n",
    "from utils import *"
   ]
  },
  {
   "cell_type": "code",
   "execution_count": 37,
   "id": "4eaa6dc4",
   "metadata": {
    "id": "4eaa6dc4"
   },
   "outputs": [
    {
     "data": {
      "text/html": [
       "<div>\n",
       "<style scoped>\n",
       "    .dataframe tbody tr th:only-of-type {\n",
       "        vertical-align: middle;\n",
       "    }\n",
       "\n",
       "    .dataframe tbody tr th {\n",
       "        vertical-align: top;\n",
       "    }\n",
       "\n",
       "    .dataframe thead th {\n",
       "        text-align: right;\n",
       "    }\n",
       "</style>\n",
       "<table border=\"1\" class=\"dataframe\">\n",
       "  <thead>\n",
       "    <tr style=\"text-align: right;\">\n",
       "      <th></th>\n",
       "      <th>type</th>\n",
       "      <th>id</th>\n",
       "      <th>subreddit.id</th>\n",
       "      <th>subreddit.name</th>\n",
       "      <th>subreddit.nsfw</th>\n",
       "      <th>created_utc</th>\n",
       "      <th>permalink</th>\n",
       "      <th>domain</th>\n",
       "      <th>url</th>\n",
       "      <th>selftext</th>\n",
       "      <th>title</th>\n",
       "      <th>score</th>\n",
       "    </tr>\n",
       "  </thead>\n",
       "  <tbody>\n",
       "    <tr>\n",
       "      <th>0</th>\n",
       "      <td>post</td>\n",
       "      <td>ftbp1i</td>\n",
       "      <td>2qh72</td>\n",
       "      <td>jokes</td>\n",
       "      <td>False</td>\n",
       "      <td>1585785543</td>\n",
       "      <td>https://old.reddit.com/r/Jokes/comments/ftbp1i/i_am_soooo_glad_im_not_circumcised/</td>\n",
       "      <td>self.jokes</td>\n",
       "      <td>NaN</td>\n",
       "      <td>My corona is covered with foreskin so it is not exposed to viruses.</td>\n",
       "      <td>I am soooo glad I'm not circumcised!</td>\n",
       "      <td>2</td>\n",
       "    </tr>\n",
       "    <tr>\n",
       "      <th>1</th>\n",
       "      <td>post</td>\n",
       "      <td>ftboup</td>\n",
       "      <td>2qh72</td>\n",
       "      <td>jokes</td>\n",
       "      <td>False</td>\n",
       "      <td>1585785522</td>\n",
       "      <td>https://old.reddit.com/r/Jokes/comments/ftboup/did_you_know_google_now_has_a_platform_for/</td>\n",
       "      <td>self.jokes</td>\n",
       "      <td>NaN</td>\n",
       "      <td>It's called Google Sheets.</td>\n",
       "      <td>Did you know Google now has a platform for recording your bowel movements?</td>\n",
       "      <td>9</td>\n",
       "    </tr>\n",
       "    <tr>\n",
       "      <th>2</th>\n",
       "      <td>post</td>\n",
       "      <td>ftbopj</td>\n",
       "      <td>2qh72</td>\n",
       "      <td>jokes</td>\n",
       "      <td>False</td>\n",
       "      <td>1585785508</td>\n",
       "      <td>https://old.reddit.com/r/Jokes/comments/ftbopj/what_is_the_difference_between_my_wife_and_my/</td>\n",
       "      <td>self.jokes</td>\n",
       "      <td>NaN</td>\n",
       "      <td>The vacuum doesn't snore after sex.\\n\\n&amp;amp;#x200B;\\n\\nApril fools, I don't have a wife.</td>\n",
       "      <td>What is the difference between my wife and my vacuum?</td>\n",
       "      <td>15</td>\n",
       "    </tr>\n",
       "    <tr>\n",
       "      <th>3</th>\n",
       "      <td>post</td>\n",
       "      <td>ftbnxh</td>\n",
       "      <td>2qh72</td>\n",
       "      <td>jokes</td>\n",
       "      <td>False</td>\n",
       "      <td>1585785428</td>\n",
       "      <td>https://old.reddit.com/r/Jokes/comments/ftbnxh/my_last_joke_for_now/</td>\n",
       "      <td>self.jokes</td>\n",
       "      <td>NaN</td>\n",
       "      <td>[removed]</td>\n",
       "      <td>My last joke for now.</td>\n",
       "      <td>9</td>\n",
       "    </tr>\n",
       "    <tr>\n",
       "      <th>4</th>\n",
       "      <td>post</td>\n",
       "      <td>ftbjpg</td>\n",
       "      <td>2qh72</td>\n",
       "      <td>jokes</td>\n",
       "      <td>False</td>\n",
       "      <td>1585785009</td>\n",
       "      <td>https://old.reddit.com/r/Jokes/comments/ftbjpg/the_nintendo_64_turns_18_this_week/</td>\n",
       "      <td>self.jokes</td>\n",
       "      <td>NaN</td>\n",
       "      <td>[removed]</td>\n",
       "      <td>The Nintendo 64 turns 18 this week...</td>\n",
       "      <td>134</td>\n",
       "    </tr>\n",
       "  </tbody>\n",
       "</table>\n",
       "</div>"
      ],
      "text/plain": [
       "   type      id subreddit.id subreddit.name  subreddit.nsfw  created_utc  \\\n",
       "0  post  ftbp1i        2qh72          jokes           False   1585785543   \n",
       "1  post  ftboup        2qh72          jokes           False   1585785522   \n",
       "2  post  ftbopj        2qh72          jokes           False   1585785508   \n",
       "3  post  ftbnxh        2qh72          jokes           False   1585785428   \n",
       "4  post  ftbjpg        2qh72          jokes           False   1585785009   \n",
       "\n",
       "                                                                                       permalink  \\\n",
       "0             https://old.reddit.com/r/Jokes/comments/ftbp1i/i_am_soooo_glad_im_not_circumcised/   \n",
       "1     https://old.reddit.com/r/Jokes/comments/ftboup/did_you_know_google_now_has_a_platform_for/   \n",
       "2  https://old.reddit.com/r/Jokes/comments/ftbopj/what_is_the_difference_between_my_wife_and_my/   \n",
       "3                           https://old.reddit.com/r/Jokes/comments/ftbnxh/my_last_joke_for_now/   \n",
       "4             https://old.reddit.com/r/Jokes/comments/ftbjpg/the_nintendo_64_turns_18_this_week/   \n",
       "\n",
       "       domain  url  \\\n",
       "0  self.jokes  NaN   \n",
       "1  self.jokes  NaN   \n",
       "2  self.jokes  NaN   \n",
       "3  self.jokes  NaN   \n",
       "4  self.jokes  NaN   \n",
       "\n",
       "                                                                                   selftext  \\\n",
       "0                       My corona is covered with foreskin so it is not exposed to viruses.   \n",
       "1                                                                It's called Google Sheets.   \n",
       "2  The vacuum doesn't snore after sex.\\n\\n&amp;#x200B;\\n\\nApril fools, I don't have a wife.   \n",
       "3                                                                                 [removed]   \n",
       "4                                                                                 [removed]   \n",
       "\n",
       "                                                                        title  \\\n",
       "0                                        I am soooo glad I'm not circumcised!   \n",
       "1  Did you know Google now has a platform for recording your bowel movements?   \n",
       "2                       What is the difference between my wife and my vacuum?   \n",
       "3                                                       My last joke for now.   \n",
       "4                                       The Nintendo 64 turns 18 this week...   \n",
       "\n",
       "   score  \n",
       "0      2  \n",
       "1      9  \n",
       "2     15  \n",
       "3      9  \n",
       "4    134  "
      ]
     },
     "execution_count": 37,
     "metadata": {},
     "output_type": "execute_result"
    }
   ],
   "source": [
    "# extract and examine the first ten rows of the data\n",
    "df = pd.read_csv('https://query.data.world/s/htrdsouy327xqa4w457qx6k6sjtj6r')\n",
    "df.head()"
   ]
  },
  {
   "cell_type": "code",
   "execution_count": 38,
   "id": "54da804b",
   "metadata": {
    "colab": {
     "base_uri": "https://localhost:8080/"
    },
    "id": "54da804b",
    "outputId": "4e45621b-f872-4292-cf28-6c174245ca18",
    "scrolled": false
   },
   "outputs": [
    {
     "data": {
      "text/plain": [
       "(1000000, 12)"
      ]
     },
     "execution_count": 38,
     "metadata": {},
     "output_type": "execute_result"
    }
   ],
   "source": [
    "# dataframe dimensions\n",
    "df.shape"
   ]
  },
  {
   "cell_type": "code",
   "execution_count": 39,
   "id": "v_7e3Il9H9fy",
   "metadata": {
    "colab": {
     "base_uri": "https://localhost:8080/",
     "height": 990
    },
    "id": "v_7e3Il9H9fy",
    "outputId": "3d7d9ee1-c3f3-46ed-a9a9-c410d7612061",
    "scrolled": true
   },
   "outputs": [
    {
     "data": {
      "text/html": [
       "<div>\n",
       "<style scoped>\n",
       "    .dataframe tbody tr th:only-of-type {\n",
       "        vertical-align: middle;\n",
       "    }\n",
       "\n",
       "    .dataframe tbody tr th {\n",
       "        vertical-align: top;\n",
       "    }\n",
       "\n",
       "    .dataframe thead th {\n",
       "        text-align: right;\n",
       "    }\n",
       "</style>\n",
       "<table border=\"1\" class=\"dataframe\">\n",
       "  <thead>\n",
       "    <tr style=\"text-align: right;\">\n",
       "      <th></th>\n",
       "      <th>title</th>\n",
       "      <th>selftext</th>\n",
       "      <th>score</th>\n",
       "    </tr>\n",
       "  </thead>\n",
       "  <tbody>\n",
       "    <tr>\n",
       "      <th>0</th>\n",
       "      <td>I am soooo glad I'm not circumcised!</td>\n",
       "      <td>My corona is covered with foreskin so it is not exposed to viruses.</td>\n",
       "      <td>2</td>\n",
       "    </tr>\n",
       "    <tr>\n",
       "      <th>1</th>\n",
       "      <td>Did you know Google now has a platform for recording your bowel movements?</td>\n",
       "      <td>It's called Google Sheets.</td>\n",
       "      <td>9</td>\n",
       "    </tr>\n",
       "    <tr>\n",
       "      <th>2</th>\n",
       "      <td>What is the difference between my wife and my vacuum?</td>\n",
       "      <td>The vacuum doesn't snore after sex.\\n\\n&amp;amp;#x200B;\\n\\nApril fools, I don't have a wife.</td>\n",
       "      <td>15</td>\n",
       "    </tr>\n",
       "    <tr>\n",
       "      <th>3</th>\n",
       "      <td>My last joke for now.</td>\n",
       "      <td>[removed]</td>\n",
       "      <td>9</td>\n",
       "    </tr>\n",
       "    <tr>\n",
       "      <th>4</th>\n",
       "      <td>The Nintendo 64 turns 18 this week...</td>\n",
       "      <td>[removed]</td>\n",
       "      <td>134</td>\n",
       "    </tr>\n",
       "    <tr>\n",
       "      <th>5</th>\n",
       "      <td>Sex with teacher.</td>\n",
       "      <td>[removed]</td>\n",
       "      <td>1</td>\n",
       "    </tr>\n",
       "    <tr>\n",
       "      <th>6</th>\n",
       "      <td>Another long one.</td>\n",
       "      <td>[removed]</td>\n",
       "      <td>8</td>\n",
       "    </tr>\n",
       "    <tr>\n",
       "      <th>7</th>\n",
       "      <td>What did the French man say to the attractive teletubby?</td>\n",
       "      <td>Oo..lala...</td>\n",
       "      <td>2</td>\n",
       "    </tr>\n",
       "    <tr>\n",
       "      <th>8</th>\n",
       "      <td>A Priest takes a walk down to the docks one day</td>\n",
       "      <td>[removed]</td>\n",
       "      <td>88</td>\n",
       "    </tr>\n",
       "    <tr>\n",
       "      <th>9</th>\n",
       "      <td>A long joke.</td>\n",
       "      <td>[removed]</td>\n",
       "      <td>4</td>\n",
       "    </tr>\n",
       "  </tbody>\n",
       "</table>\n",
       "</div>"
      ],
      "text/plain": [
       "                                                                        title  \\\n",
       "0                                        I am soooo glad I'm not circumcised!   \n",
       "1  Did you know Google now has a platform for recording your bowel movements?   \n",
       "2                       What is the difference between my wife and my vacuum?   \n",
       "3                                                       My last joke for now.   \n",
       "4                                       The Nintendo 64 turns 18 this week...   \n",
       "5                                                           Sex with teacher.   \n",
       "6                                                           Another long one.   \n",
       "7                    What did the French man say to the attractive teletubby?   \n",
       "8                             A Priest takes a walk down to the docks one day   \n",
       "9                                                                A long joke.   \n",
       "\n",
       "                                                                                   selftext  \\\n",
       "0                       My corona is covered with foreskin so it is not exposed to viruses.   \n",
       "1                                                                It's called Google Sheets.   \n",
       "2  The vacuum doesn't snore after sex.\\n\\n&amp;#x200B;\\n\\nApril fools, I don't have a wife.   \n",
       "3                                                                                 [removed]   \n",
       "4                                                                                 [removed]   \n",
       "5                                                                                 [removed]   \n",
       "6                                                                                 [removed]   \n",
       "7                                                                               Oo..lala...   \n",
       "8                                                                                 [removed]   \n",
       "9                                                                                 [removed]   \n",
       "\n",
       "   score  \n",
       "0      2  \n",
       "1      9  \n",
       "2     15  \n",
       "3      9  \n",
       "4    134  \n",
       "5      1  \n",
       "6      8  \n",
       "7      2  \n",
       "8     88  \n",
       "9      4  "
      ]
     },
     "execution_count": 39,
     "metadata": {},
     "output_type": "execute_result"
    }
   ],
   "source": [
    "# look at the text information and the reddit score\n",
    "df[['title', 'selftext', 'score']].head(10)"
   ]
  },
  {
   "cell_type": "code",
   "execution_count": 40,
   "id": "5e176074",
   "metadata": {
    "colab": {
     "base_uri": "https://localhost:8080/"
    },
    "id": "5e176074",
    "outputId": "ca06c1f9-0fcc-4286-94a8-06711904b80a",
    "scrolled": true
   },
   "outputs": [
    {
     "data": {
      "text/plain": [
       "count    1000000.000000\n",
       "mean         139.691119\n",
       "std         1674.046005\n",
       "min            0.000000\n",
       "25%            0.000000\n",
       "50%            1.000000\n",
       "75%            7.000000\n",
       "max       142733.000000\n",
       "Name: score, dtype: float64"
      ]
     },
     "execution_count": 40,
     "metadata": {},
     "output_type": "execute_result"
    }
   ],
   "source": [
    "# description of score feature\n",
    "df['score'].describe()"
   ]
  },
  {
   "cell_type": "code",
   "execution_count": 41,
   "id": "I_ycv4TfIBzb",
   "metadata": {
    "colab": {
     "base_uri": "https://localhost:8080/",
     "height": 352
    },
    "id": "I_ycv4TfIBzb",
    "outputId": "e7bc1624-64f9-429f-ad6d-b373ff11535d",
    "scrolled": false
   },
   "outputs": [
    {
     "name": "stdout",
     "output_type": "stream",
     "text": [
      "Saving figure scores distribution\n"
     ]
    },
    {
     "data": {
      "image/png": "[encoded data removed]",
      "text/plain": [
       "<Figure size 432x288 with 1 Axes>"
      ]
     },
     "metadata": {},
     "output_type": "display_data"
    }
   ],
   "source": [
    "# score feature distribution\n",
    "plt.hist(df['score'], log=True)\n",
    "plt.title('histogram of log score')\n",
    "save_fig('scores distribution')"
   ]
  },
  {
   "cell_type": "code",
   "execution_count": 42,
   "id": "3b7e6a65",
   "metadata": {
    "id": "3b7e6a65"
   },
   "outputs": [],
   "source": [
    "# define some parameters to refine the conditions for extracting data from the dataset\n",
    "CLASS_SIZE = 100000\n",
    "TRAIN_SIZE = 0.99\n",
    "MIN_UPVOTES = 10\n",
    "MAX_UPVOTES = df['score'].max()\n",
    "TITLE_MAX_LEN = 150\n",
    "SELFTEXT_MAX_LEN = 500"
   ]
  },
  {
   "cell_type": "code",
   "execution_count": 43,
   "id": "6634aba8",
   "metadata": {
    "id": "6634aba8"
   },
   "outputs": [],
   "source": [
    "# some helpful boolean masks\n",
    "is_null = df['selftext'].isnull() # where selftext isnull (no punchline)\n",
    "\n",
    "# where title or post were removed by reddit user/mod\n",
    "removed = (df['selftext'].str.contains(r\"(?i)[^a-z\\s]removed[^a-z\\s]\", regex=True)) | (df['title'].str.contains(r\"(?i)[^a-z\\s]removed[^a-z\\s]\", regex=True)) \n",
    "\n",
    "# where tile or post were deleted by the original poster\n",
    "deleted = (df['selftext'].str.contains(r\"(?i)[^a-z\\s]deleted[^a-z\\s]\", regex=True)) | (df['title'].str.contains(r\"(?i)[^a-z\\s]deleted[^a-z\\s]\", regex=True)) \n",
    "\n",
    "# reposts or duplicates\n",
    "duplicated = df.duplicated(subset=['title', 'selftext'], keep='first')\n",
    "\n",
    "# where upvotes is 0 (reddit automatically provides user 1 upvote)\n",
    "neg_class = df['score'] == 0"
   ]
  },
  {
   "cell_type": "markdown",
   "id": "efa50198",
   "metadata": {},
   "source": [
    "### Cleaning"
   ]
  },
  {
   "cell_type": "code",
   "execution_count": 101,
   "id": "ceea2142",
   "metadata": {
    "colab": {
     "base_uri": "https://localhost:8080/"
    },
    "id": "ceea2142",
    "outputId": "8d36c823-fd0f-42b3-e140-7f0427ed4a00",
    "scrolled": false
   },
   "outputs": [
    {
     "data": {
      "text/plain": [
       "(565332, 12)"
      ]
     },
     "execution_count": 101,
     "metadata": {},
     "output_type": "execute_result"
    }
   ],
   "source": [
    "# get entries that aren't removed or deleted\n",
    "df_cleaned = df[~removed][~deleted][~duplicated].copy()\n",
    "df_cleaned.shape"
   ]
  },
  {
   "cell_type": "code",
   "execution_count": 102,
   "id": "a311fd0b",
   "metadata": {
    "colab": {
     "base_uri": "https://localhost:8080/",
     "height": 363
    },
    "id": "as28CaP0Icat",
    "outputId": "73cb2052-445d-4d68-c47f-5cf1bd06ea93",
    "scrolled": true
   },
   "outputs": [
    {
     "name": "stdout",
     "output_type": "stream",
     "text": [
      "what are NaNs?\n"
     ]
    },
    {
     "data": {
      "text/html": [
       "<div>\n",
       "<style scoped>\n",
       "    .dataframe tbody tr th:only-of-type {\n",
       "        vertical-align: middle;\n",
       "    }\n",
       "\n",
       "    .dataframe tbody tr th {\n",
       "        vertical-align: top;\n",
       "    }\n",
       "\n",
       "    .dataframe thead th {\n",
       "        text-align: right;\n",
       "    }\n",
       "</style>\n",
       "<table border=\"1\" class=\"dataframe\">\n",
       "  <thead>\n",
       "    <tr style=\"text-align: right;\">\n",
       "      <th></th>\n",
       "      <th>title</th>\n",
       "      <th>selftext</th>\n",
       "      <th>score</th>\n",
       "    </tr>\n",
       "  </thead>\n",
       "  <tbody>\n",
       "    <tr>\n",
       "      <th>308797</th>\n",
       "      <td>What happens when you cross a joke with a rhetorical question?</td>\n",
       "      <td>NaN</td>\n",
       "      <td>3938</td>\n",
       "    </tr>\n",
       "    <tr>\n",
       "      <th>625315</th>\n",
       "      <td>The funniest /r/jokes has ever been</td>\n",
       "      <td>NaN</td>\n",
       "      <td>67950</td>\n",
       "    </tr>\n",
       "    <tr>\n",
       "      <th>914649</th>\n",
       "      <td>Shout out to people who don't know the opposite of in</td>\n",
       "      <td>NaN</td>\n",
       "      <td>4580</td>\n",
       "    </tr>\n",
       "    <tr>\n",
       "      <th>915783</th>\n",
       "      <td>5 out of 6 scientists say Russian Roulette is safe.</td>\n",
       "      <td>NaN</td>\n",
       "      <td>10085</td>\n",
       "    </tr>\n",
       "    <tr>\n",
       "      <th>919422</th>\n",
       "      <td>Accordion to a recent survey, replacing words with the names of musical instruments in a sentence often goes undetected.</td>\n",
       "      <td>NaN</td>\n",
       "      <td>12580</td>\n",
       "    </tr>\n",
       "    <tr>\n",
       "      <th>927114</th>\n",
       "      <td>Never make fun of a fat girl with a lisp, she's probably thick and tired of it.</td>\n",
       "      <td>NaN</td>\n",
       "      <td>7848</td>\n",
       "    </tr>\n",
       "    <tr>\n",
       "      <th>931755</th>\n",
       "      <td>6:30 is the best time on a clock, hands down.</td>\n",
       "      <td>NaN</td>\n",
       "      <td>2173</td>\n",
       "    </tr>\n",
       "    <tr>\n",
       "      <th>933895</th>\n",
       "      <td>Bruce Jenner winning woman of the year just proves that men are better than women at everything, including being a woman</td>\n",
       "      <td>NaN</td>\n",
       "      <td>11999</td>\n",
       "    </tr>\n",
       "    <tr>\n",
       "      <th>935376</th>\n",
       "      <td>I often say to myself, \"I can't believe that cloning machine worked.\"</td>\n",
       "      <td>NaN</td>\n",
       "      <td>6524</td>\n",
       "    </tr>\n",
       "    <tr>\n",
       "      <th>937567</th>\n",
       "      <td>How Long is a Chinese name.</td>\n",
       "      <td>NaN</td>\n",
       "      <td>2404</td>\n",
       "    </tr>\n",
       "  </tbody>\n",
       "</table>\n",
       "</div>"
      ],
      "text/plain": [
       "                                                                                                                           title  \\\n",
       "308797                                                            What happens when you cross a joke with a rhetorical question?   \n",
       "625315                                                                                       The funniest /r/jokes has ever been   \n",
       "914649                                                                     Shout out to people who don't know the opposite of in   \n",
       "915783                                                                       5 out of 6 scientists say Russian Roulette is safe.   \n",
       "919422  Accordion to a recent survey, replacing words with the names of musical instruments in a sentence often goes undetected.   \n",
       "927114                                           Never make fun of a fat girl with a lisp, she's probably thick and tired of it.   \n",
       "931755                                                                             6:30 is the best time on a clock, hands down.   \n",
       "933895  Bruce Jenner winning woman of the year just proves that men are better than women at everything, including being a woman   \n",
       "935376                                                     I often say to myself, \"I can't believe that cloning machine worked.\"   \n",
       "937567                                                                                               How Long is a Chinese name.   \n",
       "\n",
       "       selftext  score  \n",
       "308797      NaN   3938  \n",
       "625315      NaN  67950  \n",
       "914649      NaN   4580  \n",
       "915783      NaN  10085  \n",
       "919422      NaN  12580  \n",
       "927114      NaN   7848  \n",
       "931755      NaN   2173  \n",
       "933895      NaN  11999  \n",
       "935376      NaN   6524  \n",
       "937567      NaN   2404  "
      ]
     },
     "metadata": {},
     "output_type": "display_data"
    }
   ],
   "source": [
    "print(\"what are NaNs?\")\n",
    "display(df_cleaned[df_cleaned['score'] > 2000][is_null][['title', 'selftext', 'score']].head(10))\n",
    "df_cleaned = df_cleaned[~is_null]"
   ]
  },
  {
   "cell_type": "code",
   "execution_count": 103,
   "id": "0185877a",
   "metadata": {
    "scrolled": false
   },
   "outputs": [
    {
     "name": "stdout",
     "output_type": "stream",
     "text": [
      "the output of printing escape characters:  \u0001\u0002\u0003\u0004\u0005\u0006\u0007\b\t\n",
      "\u000b",
      "\f",
      "\r",
      "\u000e\u000f\u0010\u0011\u0012\u0013\u0014\u0015\u0016\u0017\u0018\u0019\u001a\u001b\u001c",
      "\u001d",
      "\u001e",
      "\u001f\n",
      "\u0001\u0002\u0003\u0004\u0005\u0006\u0007\b\t\n",
      "\u000b",
      "\f",
      "\r",
      "\u000e\u000f\u0010\u0011\u0012\u0013\u0014\u0015\u0016\u0017\u0018\u0019\u001a\u001b\u001c",
      "\u001d",
      "\u001e",
      "\u001f\n",
      "the output of displaying escape characters: \n"
     ]
    },
    {
     "data": {
      "text/plain": [
       "'\\x01\\x02\\x03\\x04\\x05\\x06\\x07\\x08\\t\\n\\x0b\\x0c\\r\\x0e\\x0f\\x10\\x11\\x12\\x13\\x14\\x15\\x16\\x17\\x18\\x19\\x1a\\x1b\\x1c\\x1d\\x1e\\x1f'"
      ]
     },
     "metadata": {},
     "output_type": "display_data"
    }
   ],
   "source": [
    "# removing escape character references  \n",
    "escapes = ''.join([chr(char) for char in range(1,32)]) # converting integer to characters\n",
    "\n",
    "print(\"the output of printing escape characters: \", escapes)\n",
    "print(escapes)\n",
    "print(\"the output of displaying escape characters: \")\n",
    "display(escapes)"
   ]
  },
  {
   "cell_type": "code",
   "execution_count": 104,
   "id": "ff2be207",
   "metadata": {
    "scrolled": false
   },
   "outputs": [
    {
     "name": "stdout",
     "output_type": "stream",
     "text": [
      "samples instances containing pattern :\n"
     ]
    },
    {
     "data": {
      "text/html": [
       "<div>\n",
       "<style scoped>\n",
       "    .dataframe tbody tr th:only-of-type {\n",
       "        vertical-align: middle;\n",
       "    }\n",
       "\n",
       "    .dataframe tbody tr th {\n",
       "        vertical-align: top;\n",
       "    }\n",
       "\n",
       "    .dataframe thead th {\n",
       "        text-align: right;\n",
       "    }\n",
       "</style>\n",
       "<table border=\"1\" class=\"dataframe\">\n",
       "  <thead>\n",
       "    <tr style=\"text-align: right;\">\n",
       "      <th></th>\n",
       "      <th>title</th>\n",
       "      <th>selftext</th>\n",
       "    </tr>\n",
       "  </thead>\n",
       "  <tbody>\n",
       "    <tr>\n",
       "      <th>2</th>\n",
       "      <td>What is the difference between my wife and my vacuum?</td>\n",
       "      <td>The vacuum doesn't snore after sex.\\n\\n&amp;amp;#x200B;\\n\\nApril fools, I don't have a wife.</td>\n",
       "    </tr>\n",
       "    <tr>\n",
       "      <th>21</th>\n",
       "      <td>Husband: I cheated on you once</td>\n",
       "      <td>Wife: well if we are coming clean I cheated on you too\\n\\nHusband: haha April First!\\n\\nWife: it was May 17\\n\\nE: grammar</td>\n",
       "    </tr>\n",
       "    <tr>\n",
       "      <th>27</th>\n",
       "      <td>Tee Pee a House on, April Fool's, 2020</td>\n",
       "      <td>Wouldn’t today, April Fool’s Day, 2020, be the best time to TeePee someone’s house?\\n\\nThe neighborhood will clean it up in four minutes.</td>\n",
       "    </tr>\n",
       "    <tr>\n",
       "      <th>30</th>\n",
       "      <td>Two guys are caught by cannibals</td>\n",
       "      <td>They are sitting in the big pot as the cannibals are stoking the fire, adding water, potatoes, and other veggies. One of the men starts laughing. \\n\\n“His friend says what is the matter with you we are about to be turned into stew and your laughing. “\\n\\n“I just shit in the gravy!”\\n\\nThen the cannibals grant them three wishes and it turns into a different joke.</td>\n",
       "    </tr>\n",
       "    <tr>\n",
       "      <th>40</th>\n",
       "      <td>A very rich man was infatuated with General Custer...</td>\n",
       "      <td>So he hired the world’s most famous painter to paint him a piece for the rich man’s 50th birthday. The piece was to represent General Custer’s last thoughts. The painter said of course I will do this, but no one can see the painting until the reveal at your party. The rich man agreed knowing the prestige of the painter.\\n\\nThe day of the party comes, and the rich man gathered every one of his friends for the reveal. The painter asks if every one was ready, and the rich man happily screams, “Of course! I’ve been waiting for months!” \\n\\nThe curtain over the painting drops, and the entire painting is covered in Native Americans having sex. There is even multiple orgies  happening! \\n\\nThe rich man runs to painter furious screaming, “I told you to paint General Custer’s last thoughts!” The painter, deadpan, responds, “I did exactly as you requested!” The rich man says, “What was your thinking in Custer’s last thoughts then?” The painter simply reply’s, \\n\\n“Look at all those fucking Indians!”</td>\n",
       "    </tr>\n",
       "  </tbody>\n",
       "</table>\n",
       "</div>"
      ],
      "text/plain": [
       "                                                    title  \\\n",
       "2   What is the difference between my wife and my vacuum?   \n",
       "21                         Husband: I cheated on you once   \n",
       "27                 Tee Pee a House on, April Fool's, 2020   \n",
       "30                       Two guys are caught by cannibals   \n",
       "40  A very rich man was infatuated with General Custer...   \n",
       "\n",
       "                                                                                                                                                                                                                                                                                                                                                                                                                                                                                                                                                                                                                                                                                                                                                                                                                                                                                                                                                                                                                                        selftext  \n",
       "2                                                                                                                                                                                                                                                                                                                                                                                                                                                                                                                                                                                                                                                                                                                                                                                                                                                                                                                                                       The vacuum doesn't snore after sex.\\n\\n&amp;#x200B;\\n\\nApril fools, I don't have a wife.  \n",
       "21                                                                                                                                                                                                                                                                                                                                                                                                                                                                                                                                                                                                                                                                                                                                                                                                                                                                                                                     Wife: well if we are coming clean I cheated on you too\\n\\nHusband: haha April First!\\n\\nWife: it was May 17\\n\\nE: grammar  \n",
       "27                                                                                                                                                                                                                                                                                                                                                                                                                                                                                                                                                                                                                                                                                                                                                                                                                                                                                                     Wouldn’t today, April Fool’s Day, 2020, be the best time to TeePee someone’s house?\\n\\nThe neighborhood will clean it up in four minutes.  \n",
       "30                                                                                                                                                                                                                                                                                                                                                                                                                                                                                                                                                                                                                                                                  They are sitting in the big pot as the cannibals are stoking the fire, adding water, potatoes, and other veggies. One of the men starts laughing. \\n\\n“His friend says what is the matter with you we are about to be turned into stew and your laughing. “\\n\\n“I just shit in the gravy!”\\n\\nThen the cannibals grant them three wishes and it turns into a different joke.  \n",
       "40  So he hired the world’s most famous painter to paint him a piece for the rich man’s 50th birthday. The piece was to represent General Custer’s last thoughts. The painter said of course I will do this, but no one can see the painting until the reveal at your party. The rich man agreed knowing the prestige of the painter.\\n\\nThe day of the party comes, and the rich man gathered every one of his friends for the reveal. The painter asks if every one was ready, and the rich man happily screams, “Of course! I’ve been waiting for months!” \\n\\nThe curtain over the painting drops, and the entire painting is covered in Native Americans having sex. There is even multiple orgies  happening! \\n\\nThe rich man runs to painter furious screaming, “I told you to paint General Custer’s last thoughts!” The painter, deadpan, responds, “I did exactly as you requested!” The rich man says, “What was your thinking in Custer’s last thoughts then?” The painter simply reply’s, \\n\\n“Look at all those fucking Indians!”  "
      ]
     },
     "metadata": {},
     "output_type": "display_data"
    },
    {
     "data": {
      "text/html": [
       "<div>\n",
       "<style scoped>\n",
       "    .dataframe tbody tr th:only-of-type {\n",
       "        vertical-align: middle;\n",
       "    }\n",
       "\n",
       "    .dataframe tbody tr th {\n",
       "        vertical-align: top;\n",
       "    }\n",
       "\n",
       "    .dataframe thead th {\n",
       "        text-align: right;\n",
       "    }\n",
       "</style>\n",
       "<table border=\"1\" class=\"dataframe\">\n",
       "  <thead>\n",
       "    <tr style=\"text-align: right;\">\n",
       "      <th></th>\n",
       "      <th>title</th>\n",
       "      <th>selftext</th>\n",
       "    </tr>\n",
       "  </thead>\n",
       "  <tbody>\n",
       "    <tr>\n",
       "      <th>2</th>\n",
       "      <td>What is the difference between my wife and my vacuum?</td>\n",
       "      <td>The vacuum doesn't snore after sex. &amp;amp;#x200B; April fools, I don't have a wife.</td>\n",
       "    </tr>\n",
       "    <tr>\n",
       "      <th>21</th>\n",
       "      <td>Husband: I cheated on you once</td>\n",
       "      <td>Wife: well if we are coming clean I cheated on you too Husband: haha April First! Wife: it was May 17 E: grammar</td>\n",
       "    </tr>\n",
       "    <tr>\n",
       "      <th>27</th>\n",
       "      <td>Tee Pee a House on, April Fool's, 2020</td>\n",
       "      <td>Wouldn’t today, April Fool’s Day, 2020, be the best time to TeePee someone’s house? The neighborhood will clean it up in four minutes.</td>\n",
       "    </tr>\n",
       "    <tr>\n",
       "      <th>30</th>\n",
       "      <td>Two guys are caught by cannibals</td>\n",
       "      <td>They are sitting in the big pot as the cannibals are stoking the fire, adding water, potatoes, and other veggies. One of the men starts laughing. “His friend says what is the matter with you we are about to be turned into stew and your laughing. “ “I just shit in the gravy!” Then the cannibals grant them three wishes and it turns into a different joke.</td>\n",
       "    </tr>\n",
       "    <tr>\n",
       "      <th>40</th>\n",
       "      <td>A very rich man was infatuated with General Custer...</td>\n",
       "      <td>So he hired the world’s most famous painter to paint him a piece for the rich man’s 50th birthday. The piece was to represent General Custer’s last thoughts. The painter said of course I will do this, but no one can see the painting until the reveal at your party. The rich man agreed knowing the prestige of the painter. The day of the party comes, and the rich man gathered every one of his friends for the reveal. The painter asks if every one was ready, and the rich man happily screams, “Of course! I’ve been waiting for months!” The curtain over the painting drops, and the entire painting is covered in Native Americans having sex. There is even multiple orgies happening! The rich man runs to painter furious screaming, “I told you to paint General Custer’s last thoughts!” The painter, deadpan, responds, “I did exactly as you requested!” The rich man says, “What was your thinking in Custer’s last thoughts then?” The painter simply reply’s, “Look at all those fucking Indians!”</td>\n",
       "    </tr>\n",
       "  </tbody>\n",
       "</table>\n",
       "</div>"
      ],
      "text/plain": [
       "                                                    title  \\\n",
       "2   What is the difference between my wife and my vacuum?   \n",
       "21                         Husband: I cheated on you once   \n",
       "27                 Tee Pee a House on, April Fool's, 2020   \n",
       "30                       Two guys are caught by cannibals   \n",
       "40  A very rich man was infatuated with General Custer...   \n",
       "\n",
       "                                                                                                                                                                                                                                                                                                                                                                                                                                                                                                                                                                                                                                                                                                                                                                                                                                                                                                                                                                                                                        selftext  \n",
       "2                                                                                                                                                                                                                                                                                                                                                                                                                                                                                                                                                                                                                                                                                                                                                                                                                                                                                                                                             The vacuum doesn't snore after sex. &amp;#x200B; April fools, I don't have a wife.  \n",
       "21                                                                                                                                                                                                                                                                                                                                                                                                                                                                                                                                                                                                                                                                                                                                                                                                                                                                                                              Wife: well if we are coming clean I cheated on you too Husband: haha April First! Wife: it was May 17 E: grammar  \n",
       "27                                                                                                                                                                                                                                                                                                                                                                                                                                                                                                                                                                                                                                                                                                                                                                                                                                                                                        Wouldn’t today, April Fool’s Day, 2020, be the best time to TeePee someone’s house? The neighborhood will clean it up in four minutes.  \n",
       "30                                                                                                                                                                                                                                                                                                                                                                                                                                                                                                                                                                                                                                                            They are sitting in the big pot as the cannibals are stoking the fire, adding water, potatoes, and other veggies. One of the men starts laughing. “His friend says what is the matter with you we are about to be turned into stew and your laughing. “ “I just shit in the gravy!” Then the cannibals grant them three wishes and it turns into a different joke.  \n",
       "40  So he hired the world’s most famous painter to paint him a piece for the rich man’s 50th birthday. The piece was to represent General Custer’s last thoughts. The painter said of course I will do this, but no one can see the painting until the reveal at your party. The rich man agreed knowing the prestige of the painter. The day of the party comes, and the rich man gathered every one of his friends for the reveal. The painter asks if every one was ready, and the rich man happily screams, “Of course! I’ve been waiting for months!” The curtain over the painting drops, and the entire painting is covered in Native Americans having sex. There is even multiple orgies happening! The rich man runs to painter furious screaming, “I told you to paint General Custer’s last thoughts!” The painter, deadpan, responds, “I did exactly as you requested!” The rich man says, “What was your thinking in Custer’s last thoughts then?” The painter simply reply’s, “Look at all those fucking Indians!”  "
      ]
     },
     "metadata": {},
     "output_type": "display_data"
    }
   ],
   "source": [
    "# remove the escape characters\n",
    "\n",
    "# get examples of instances containing pattern\n",
    "print(\"samples instances containing pattern :\")\n",
    "escapes_idx = df_cleaned[df_cleaned['selftext'].str.contains(\"|\".join(escapes))].index\n",
    "display(df_cleaned.loc[escapes_idx][['title', 'selftext']].head())\n",
    "\n",
    "df_cleaned[['selftext', 'title']] = df_cleaned[['selftext', 'title']].applymap(lambda x:\" \".join(str(str(x).translate(escapes)).split()))\n",
    "display(df_cleaned[['title', 'selftext']].loc[escapes_idx].head())"
   ]
  },
  {
   "cell_type": "code",
   "execution_count": 105,
   "id": "98bd5af8",
   "metadata": {
    "scrolled": false
   },
   "outputs": [
    {
     "name": "stdout",
     "output_type": "stream",
     "text": [
      "samples instances containing pattern :\n"
     ]
    },
    {
     "data": {
      "text/html": [
       "<div>\n",
       "<style scoped>\n",
       "    .dataframe tbody tr th:only-of-type {\n",
       "        vertical-align: middle;\n",
       "    }\n",
       "\n",
       "    .dataframe tbody tr th {\n",
       "        vertical-align: top;\n",
       "    }\n",
       "\n",
       "    .dataframe thead th {\n",
       "        text-align: right;\n",
       "    }\n",
       "</style>\n",
       "<table border=\"1\" class=\"dataframe\">\n",
       "  <thead>\n",
       "    <tr style=\"text-align: right;\">\n",
       "      <th></th>\n",
       "      <th>title</th>\n",
       "      <th>selftext</th>\n",
       "    </tr>\n",
       "  </thead>\n",
       "  <tbody>\n",
       "    <tr>\n",
       "      <th>2</th>\n",
       "      <td>What is the difference between my wife and my vacuum?</td>\n",
       "      <td>The vacuum doesn't snore after sex. &amp;amp;#x200B; April fools, I don't have a wife.</td>\n",
       "    </tr>\n",
       "    <tr>\n",
       "      <th>216</th>\n",
       "      <td>Chief Walking Horse has a terrible case of constipation</td>\n",
       "      <td>So he travels to the local outpost, where he sits down to talk with the Army doctor. &amp;amp;#x200B; \"Many moons pass, and chief Walking Horse no go number two.\" He complains. &amp;amp;#x200B; The doctor reaches into his cabinet and fishes out a mild laxative. &amp;amp;#x200B; \"Here, Chief, take 1 teaspoon of this every 3 hours, and come back and see me in two days.\" &amp;amp;#x200B; The chief took the little bottle, and left back to his village. &amp;amp;#x200B; Two days later, ask the Doctor requested, he's back. &amp;amp;#x200B; \"Chief Walking Horse, have you moved yet?\" &amp;amp;#x200B; The chief slowly shakes his head no. &amp;amp;#x200B; \"OK, Chief, I'm going to have you double that dosage. I want you to take 2 teaspoons every 3 hours.\" &amp;amp;#x200B; The chief nods his head yes, and leaves to return to his village. &amp;amp;#x200B; This repeats itself a couple more times, and the Doctor is growing very concerned. Finally, out of frustration, he grabs another bottle of laxative, and tells the chief to drink the whole thing. &amp;amp;#x200B; A few days later, while visiting a close by settlement, the Doctor sees the Chief. &amp;amp;#x200B; \"Chief Walking Horse! It is good to see you. Tell me, have you moved yet?\" &amp;amp;#x200B; The chief looks at him with a grimace and says. \"Chief Moved yesterday. Teepee full of shit!\"</td>\n",
       "    </tr>\n",
       "    <tr>\n",
       "      <th>464</th>\n",
       "      <td>How do you waste people's time?</td>\n",
       "      <td>&amp;gt;!not like this !&amp;lt;/ &amp;gt;! not like this not like this !&amp;lt;/&amp;gt;! / not like this!&amp;lt; &amp;amp;#x200B; &amp;gt;!not like this tooo!&amp;lt; .&amp;gt;!not like this also !&amp;lt;&amp;gt;!look somewhere else!&amp;lt; &amp;amp;#x200B; &amp;gt;!Not like this either !&amp;lt; . &amp;gt;! not like this !&amp;lt;.&amp;gt;! not like this!&amp;lt;</td>\n",
       "    </tr>\n",
       "    <tr>\n",
       "      <th>532</th>\n",
       "      <td>I touched my girlfriends ass and she farted.</td>\n",
       "      <td>&amp;amp;#x200B; &amp;amp;#x200B; It was a booty trap.</td>\n",
       "    </tr>\n",
       "    <tr>\n",
       "      <th>700</th>\n",
       "      <td>Lost (Limerick and Joke)</td>\n",
       "      <td>There once was a man who was always lost. He would buy a map at any cost. One day on a trip, he heard his map rip, so into a trashcan, he tossed. &amp;amp;#x200B; He wandered and wandered with no aim. He started to think it was a game. But with no end in sight and quickly losing light, he started back the way he came. &amp;amp;#x200B; He cried and threw his hands in the air; he screamed and shouted with despair. \"Could anyone help?\" Then he started with a yelp. There was another man, but trust him, he dare? &amp;amp;#x200B; \"I gotchu,\" the man said with a grin. \"Come on, I'll help you, hop in.\" He got in his car, they drove pretty far: for the traveler, it seemed a big win. &amp;amp;#x200B; The driver took the man to a club: he assumed there'd be a phone at a pub. So, in the men went, and a message to his wife, the traveler sent. Then at a deli next door, they ordered a sub. &amp;amp;#x200B; Suddenly thirsty, the traveler got, so back to the club for drinks, he sought. He was bad at navigating, the driver was hating, but he pressed on, getting lost quite a lot. &amp;amp;#x200B; At last, he found the club just fine, but he didn't want a beer or wine. He pushed through the crowd, and yelled out quite loud, \"Hey man, where's the punchline?\"</td>\n",
       "    </tr>\n",
       "  </tbody>\n",
       "</table>\n",
       "</div>"
      ],
      "text/plain": [
       "                                                       title  \\\n",
       "2      What is the difference between my wife and my vacuum?   \n",
       "216  Chief Walking Horse has a terrible case of constipation   \n",
       "464                          How do you waste people's time?   \n",
       "532             I touched my girlfriends ass and she farted.   \n",
       "700                                 Lost (Limerick and Joke)   \n",
       "\n",
       "                                                                                                                                                                                                                                                                                                                                                                                                                                                                                                                                                                                                                                                                                                                                                                                                                                                                                                                                                                                                                                                                                                                                                                                                                                                                                                                                                selftext  \n",
       "2                                                                                                                                                                                                                                                                                                                                                                                                                                                                                                                                                                                                                                                                                                                                                                                                                                                                                                                                                                                                                                                                                                                                                                                                                                                                     The vacuum doesn't snore after sex. &amp;#x200B; April fools, I don't have a wife.  \n",
       "216  So he travels to the local outpost, where he sits down to talk with the Army doctor. &amp;#x200B; \"Many moons pass, and chief Walking Horse no go number two.\" He complains. &amp;#x200B; The doctor reaches into his cabinet and fishes out a mild laxative. &amp;#x200B; \"Here, Chief, take 1 teaspoon of this every 3 hours, and come back and see me in two days.\" &amp;#x200B; The chief took the little bottle, and left back to his village. &amp;#x200B; Two days later, ask the Doctor requested, he's back. &amp;#x200B; \"Chief Walking Horse, have you moved yet?\" &amp;#x200B; The chief slowly shakes his head no. &amp;#x200B; \"OK, Chief, I'm going to have you double that dosage. I want you to take 2 teaspoons every 3 hours.\" &amp;#x200B; The chief nods his head yes, and leaves to return to his village. &amp;#x200B; This repeats itself a couple more times, and the Doctor is growing very concerned. Finally, out of frustration, he grabs another bottle of laxative, and tells the chief to drink the whole thing. &amp;#x200B; A few days later, while visiting a close by settlement, the Doctor sees the Chief. &amp;#x200B; \"Chief Walking Horse! It is good to see you. Tell me, have you moved yet?\" &amp;#x200B; The chief looks at him with a grimace and says. \"Chief Moved yesterday. Teepee full of shit!\"  \n",
       "464                                                                                                                                                                                                                                                                                                                                                                                                                                                                                                                                                                                                                                                                                                                                                                                                                                                                                                                                                                                                                                                 &gt;!not like this !&lt;/ &gt;! not like this not like this !&lt;/&gt;! / not like this!&lt; &amp;#x200B; &gt;!not like this tooo!&lt; .&gt;!not like this also !&lt;&gt;!look somewhere else!&lt; &amp;#x200B; &gt;!Not like this either !&lt; . &gt;! not like this !&lt;.&gt;! not like this!&lt;  \n",
       "532                                                                                                                                                                                                                                                                                                                                                                                                                                                                                                                                                                                                                                                                                                                                                                                                                                                                                                                                                                                                                                                                                                                                                                                                                                                                                                       &amp;#x200B; &amp;#x200B; It was a booty trap.  \n",
       "700                                                                    There once was a man who was always lost. He would buy a map at any cost. One day on a trip, he heard his map rip, so into a trashcan, he tossed. &amp;#x200B; He wandered and wandered with no aim. He started to think it was a game. But with no end in sight and quickly losing light, he started back the way he came. &amp;#x200B; He cried and threw his hands in the air; he screamed and shouted with despair. \"Could anyone help?\" Then he started with a yelp. There was another man, but trust him, he dare? &amp;#x200B; \"I gotchu,\" the man said with a grin. \"Come on, I'll help you, hop in.\" He got in his car, they drove pretty far: for the traveler, it seemed a big win. &amp;#x200B; The driver took the man to a club: he assumed there'd be a phone at a pub. So, in the men went, and a message to his wife, the traveler sent. Then at a deli next door, they ordered a sub. &amp;#x200B; Suddenly thirsty, the traveler got, so back to the club for drinks, he sought. He was bad at navigating, the driver was hating, but he pressed on, getting lost quite a lot. &amp;#x200B; At last, he found the club just fine, but he didn't want a beer or wine. He pushed through the crowd, and yelled out quite loud, \"Hey man, where's the punchline?\"  "
      ]
     },
     "metadata": {},
     "output_type": "display_data"
    },
    {
     "name": "stdout",
     "output_type": "stream",
     "text": [
      "transformed instances :\n"
     ]
    },
    {
     "data": {
      "text/html": [
       "<div>\n",
       "<style scoped>\n",
       "    .dataframe tbody tr th:only-of-type {\n",
       "        vertical-align: middle;\n",
       "    }\n",
       "\n",
       "    .dataframe tbody tr th {\n",
       "        vertical-align: top;\n",
       "    }\n",
       "\n",
       "    .dataframe thead th {\n",
       "        text-align: right;\n",
       "    }\n",
       "</style>\n",
       "<table border=\"1\" class=\"dataframe\">\n",
       "  <thead>\n",
       "    <tr style=\"text-align: right;\">\n",
       "      <th></th>\n",
       "      <th>title</th>\n",
       "      <th>selftext</th>\n",
       "    </tr>\n",
       "  </thead>\n",
       "  <tbody>\n",
       "    <tr>\n",
       "      <th>2</th>\n",
       "      <td>What is the difference between my wife and my vacuum?</td>\n",
       "      <td>The vacuum doesn't snore after sex.   April fools, I don't have a wife.</td>\n",
       "    </tr>\n",
       "    <tr>\n",
       "      <th>216</th>\n",
       "      <td>Chief Walking Horse has a terrible case of constipation</td>\n",
       "      <td>So he travels to the local outpost, where he sits down to talk with the Army doctor.   \"Many moons pass, and chief Walking Horse no go number two.\" He complains.   The doctor reaches into his cabinet and fishes out a mild laxative.   \"Here, Chief, take 1 teaspoon of this every 3 hours, and come back and see me in two days.\"   The chief took the little bottle, and left back to his village.   Two days later, ask the Doctor requested, he's back.   \"Chief Walking Horse, have you moved yet?\"   The chief slowly shakes his head no.   \"OK, Chief, I'm going to have you double that dosage. I want you to take 2 teaspoons every 3 hours.\"   The chief nods his head yes, and leaves to return to his village.   This repeats itself a couple more times, and the Doctor is growing very concerned. Finally, out of frustration, he grabs another bottle of laxative, and tells the chief to drink the whole thing.   A few days later, while visiting a close by settlement, the Doctor sees the Chief.   \"Chief Walking Horse! It is good to see you. Tell me, have you moved yet?\"   The chief looks at him with a grimace and says. \"Chief Moved yesterday. Teepee full of shit!\"</td>\n",
       "    </tr>\n",
       "    <tr>\n",
       "      <th>464</th>\n",
       "      <td>How do you waste people's time?</td>\n",
       "      <td>not like this     not like this not like this   / not like this     not like this tooo   not like this also  look somewhere else     Not like this either   .   not like this   not like this</td>\n",
       "    </tr>\n",
       "    <tr>\n",
       "      <th>532</th>\n",
       "      <td>I touched my girlfriends ass and she farted.</td>\n",
       "      <td>It was a booty trap.</td>\n",
       "    </tr>\n",
       "    <tr>\n",
       "      <th>700</th>\n",
       "      <td>Lost (Limerick and Joke)</td>\n",
       "      <td>There once was a man who was always lost. He would buy a map at any cost. One day on a trip, he heard his map rip, so into a trashcan, he tossed.   He wandered and wandered with no aim. He started to think it was a game. But with no end in sight and quickly losing light, he started back the way he came.   He cried and threw his hands in the air; he screamed and shouted with despair. \"Could anyone help?\" Then he started with a yelp. There was another man, but trust him, he dare?   \"I gotchu,\" the man said with a grin. \"Come on, I'll help you, hop in.\" He got in his car, they drove pretty far: for the traveler, it seemed a big win.   The driver took the man to a club: he assumed there'd be a phone at a pub. So, in the men went, and a message to his wife, the traveler sent. Then at a deli next door, they ordered a sub.   Suddenly thirsty, the traveler got, so back to the club for drinks, he sought. He was bad at navigating, the driver was hating, but he pressed on, getting lost quite a lot.   At last, he found the club just fine, but he didn't want a beer or wine. He pushed through the crowd, and yelled out quite loud, \"Hey man, where's the punchline?\"</td>\n",
       "    </tr>\n",
       "  </tbody>\n",
       "</table>\n",
       "</div>"
      ],
      "text/plain": [
       "                                                       title  \\\n",
       "2      What is the difference between my wife and my vacuum?   \n",
       "216  Chief Walking Horse has a terrible case of constipation   \n",
       "464                          How do you waste people's time?   \n",
       "532             I touched my girlfriends ass and she farted.   \n",
       "700                                 Lost (Limerick and Joke)   \n",
       "\n",
       "                                                                                                                                                                                                                                                                                                                                                                                                                                                                                                                                                                                                                                                                                                                                                                                                                                                                                                                                                                                                                                                                                                                                                                                                            selftext  \n",
       "2                                                                                                                                                                                                                                                                                                                                                                                                                                                                                                                                                                                                                                                                                                                                                                                                                                                                                                                                                                                                                                                                                                                                            The vacuum doesn't snore after sex.   April fools, I don't have a wife.  \n",
       "216             So he travels to the local outpost, where he sits down to talk with the Army doctor.   \"Many moons pass, and chief Walking Horse no go number two.\" He complains.   The doctor reaches into his cabinet and fishes out a mild laxative.   \"Here, Chief, take 1 teaspoon of this every 3 hours, and come back and see me in two days.\"   The chief took the little bottle, and left back to his village.   Two days later, ask the Doctor requested, he's back.   \"Chief Walking Horse, have you moved yet?\"   The chief slowly shakes his head no.   \"OK, Chief, I'm going to have you double that dosage. I want you to take 2 teaspoons every 3 hours.\"   The chief nods his head yes, and leaves to return to his village.   This repeats itself a couple more times, and the Doctor is growing very concerned. Finally, out of frustration, he grabs another bottle of laxative, and tells the chief to drink the whole thing.   A few days later, while visiting a close by settlement, the Doctor sees the Chief.   \"Chief Walking Horse! It is good to see you. Tell me, have you moved yet?\"   The chief looks at him with a grimace and says. \"Chief Moved yesterday. Teepee full of shit!\"  \n",
       "464                                                                                                                                                                                                                                                                                                                                                                                                                                                                                                                                                                                                                                                                                                                                                                                                                                                                                                                                                                                                                   not like this     not like this not like this   / not like this     not like this tooo   not like this also  look somewhere else     Not like this either   .   not like this   not like this   \n",
       "532                                                                                                                                                                                                                                                                                                                                                                                                                                                                                                                                                                                                                                                                                                                                                                                                                                                                                                                                                                                                                                                                                                                                                                                             It was a booty trap.  \n",
       "700  There once was a man who was always lost. He would buy a map at any cost. One day on a trip, he heard his map rip, so into a trashcan, he tossed.   He wandered and wandered with no aim. He started to think it was a game. But with no end in sight and quickly losing light, he started back the way he came.   He cried and threw his hands in the air; he screamed and shouted with despair. \"Could anyone help?\" Then he started with a yelp. There was another man, but trust him, he dare?   \"I gotchu,\" the man said with a grin. \"Come on, I'll help you, hop in.\" He got in his car, they drove pretty far: for the traveler, it seemed a big win.   The driver took the man to a club: he assumed there'd be a phone at a pub. So, in the men went, and a message to his wife, the traveler sent. Then at a deli next door, they ordered a sub.   Suddenly thirsty, the traveler got, so back to the club for drinks, he sought. He was bad at navigating, the driver was hating, but he pressed on, getting lost quite a lot.   At last, he found the club just fine, but he didn't want a beer or wine. He pushed through the crowd, and yelled out quite loud, \"Hey man, where's the punchline?\"  "
      ]
     },
     "metadata": {},
     "output_type": "display_data"
    }
   ],
   "source": [
    "# removing html character references  \n",
    "PATTERN = r\"[^a-z\\s]?(&\\S+;)[^a-z\\s]?\"\n",
    "\n",
    "# get examples of instances containing pattern\n",
    "print(\"samples instances containing pattern :\")\n",
    "html_idx = df_cleaned[df_cleaned['selftext'].str.contains(PATTERN, regex=True)].index\n",
    "display(df_cleaned.loc[html_idx][['title', 'selftext']].head())\n",
    "\n",
    "# see changes\n",
    "print(\"transformed instances :\")\n",
    "df_cleaned[['title', 'selftext']] = df_cleaned[['title', 'selftext']].applymap(lambda x: re.sub(PATTERN, \" \", str(x)))\n",
    "display(df_cleaned.loc[html_idx][['title', 'selftext']].head())"
   ]
  },
  {
   "cell_type": "code",
   "execution_count": 106,
   "id": "45a018ee",
   "metadata": {
    "scrolled": false
   },
   "outputs": [
    {
     "name": "stdout",
     "output_type": "stream",
     "text": [
      "samples instances containing pattern :\n"
     ]
    },
    {
     "data": {
      "text/html": [
       "<div>\n",
       "<style scoped>\n",
       "    .dataframe tbody tr th:only-of-type {\n",
       "        vertical-align: middle;\n",
       "    }\n",
       "\n",
       "    .dataframe tbody tr th {\n",
       "        vertical-align: top;\n",
       "    }\n",
       "\n",
       "    .dataframe thead th {\n",
       "        text-align: right;\n",
       "    }\n",
       "</style>\n",
       "<table border=\"1\" class=\"dataframe\">\n",
       "  <thead>\n",
       "    <tr style=\"text-align: right;\">\n",
       "      <th></th>\n",
       "      <th>title</th>\n",
       "      <th>selftext</th>\n",
       "    </tr>\n",
       "  </thead>\n",
       "  <tbody>\n",
       "    <tr>\n",
       "      <th>803</th>\n",
       "      <td>I used to know an English professor who was pretty smart with books....</td>\n",
       "      <td>But she was dumb when it came to regular shit. She didn't even know that rain was something you need to come in to from out of.   EDIT: IOW she didn't like sentences that ended in five prepositions.</td>\n",
       "    </tr>\n",
       "    <tr>\n",
       "      <th>825</th>\n",
       "      <td>Two Parrots.</td>\n",
       "      <td>Two parrots sat on a perch. One parrot looked at the other and said \"Do you smell fish?\" The other parrot replied \"Oh my, a talking bird.\" *edit: spelling*</td>\n",
       "    </tr>\n",
       "    <tr>\n",
       "      <th>916</th>\n",
       "      <td>Italians are always adding -a to words. (It's-a me, Mario!)</td>\n",
       "      <td>I find it to be a horrible corruption of the English language. I say pizz and past, like a _real_ American. Edit: wording</td>\n",
       "    </tr>\n",
       "    <tr>\n",
       "      <th>1096</th>\n",
       "      <td>A man with a COVID-19 walks into the bar</td>\n",
       "      <td>...and is told to leave. [edit]: I'm gonna go offline for 14 days for hating myself.</td>\n",
       "    </tr>\n",
       "    <tr>\n",
       "      <th>1124</th>\n",
       "      <td>People that celebrate April fools are...</td>\n",
       "      <td>April ~~dumb people~~ idiot heads. Owned. Edit: punch line</td>\n",
       "    </tr>\n",
       "  </tbody>\n",
       "</table>\n",
       "</div>"
      ],
      "text/plain": [
       "                                                                        title  \\\n",
       "803   I used to know an English professor who was pretty smart with books....   \n",
       "825                                                              Two Parrots.   \n",
       "916               Italians are always adding -a to words. (It's-a me, Mario!)   \n",
       "1096                                 A man with a COVID-19 walks into the bar   \n",
       "1124                                 People that celebrate April fools are...   \n",
       "\n",
       "                                                                                                                                                                                                    selftext  \n",
       "803   But she was dumb when it came to regular shit. She didn't even know that rain was something you need to come in to from out of.   EDIT: IOW she didn't like sentences that ended in five prepositions.  \n",
       "825                                              Two parrots sat on a perch. One parrot looked at the other and said \"Do you smell fish?\" The other parrot replied \"Oh my, a talking bird.\" *edit: spelling*  \n",
       "916                                                                                I find it to be a horrible corruption of the English language. I say pizz and past, like a _real_ American. Edit: wording  \n",
       "1096                                                                                                                    ...and is told to leave. [edit]: I'm gonna go offline for 14 days for hating myself.  \n",
       "1124                                                                                                                                              April ~~dumb people~~ idiot heads. Owned. Edit: punch line  "
      ]
     },
     "metadata": {},
     "output_type": "display_data"
    },
    {
     "name": "stdout",
     "output_type": "stream",
     "text": [
      "transformed instances :\n"
     ]
    },
    {
     "data": {
      "text/html": [
       "<div>\n",
       "<style scoped>\n",
       "    .dataframe tbody tr th:only-of-type {\n",
       "        vertical-align: middle;\n",
       "    }\n",
       "\n",
       "    .dataframe tbody tr th {\n",
       "        vertical-align: top;\n",
       "    }\n",
       "\n",
       "    .dataframe thead th {\n",
       "        text-align: right;\n",
       "    }\n",
       "</style>\n",
       "<table border=\"1\" class=\"dataframe\">\n",
       "  <thead>\n",
       "    <tr style=\"text-align: right;\">\n",
       "      <th></th>\n",
       "      <th>title</th>\n",
       "      <th>selftext</th>\n",
       "    </tr>\n",
       "  </thead>\n",
       "  <tbody>\n",
       "    <tr>\n",
       "      <th>803</th>\n",
       "      <td>I used to know an English professor who was pretty smart with books....</td>\n",
       "      <td>But she was dumb when it came to regular shit. She didn't even know that rain was something you need to come in to from out of.</td>\n",
       "    </tr>\n",
       "    <tr>\n",
       "      <th>825</th>\n",
       "      <td>Two Parrots.</td>\n",
       "      <td>Two parrots sat on a perch. One parrot looked at the other and said \"Do you smell fish?\" The other parrot replied \"Oh my, a talking bird.\"</td>\n",
       "    </tr>\n",
       "    <tr>\n",
       "      <th>916</th>\n",
       "      <td>Italians are always adding -a to words. (It's-a me, Mario!)</td>\n",
       "      <td>I find it to be a horrible corruption of the English language. I say pizz and past, like a _real_ American.</td>\n",
       "    </tr>\n",
       "    <tr>\n",
       "      <th>1096</th>\n",
       "      <td>A man with a COVID-19 walks into the bar</td>\n",
       "      <td>...and is told to leave.</td>\n",
       "    </tr>\n",
       "    <tr>\n",
       "      <th>1124</th>\n",
       "      <td>People that celebrate April fools are...</td>\n",
       "      <td>April ~~dumb people~~ idiot heads. Owned.</td>\n",
       "    </tr>\n",
       "  </tbody>\n",
       "</table>\n",
       "</div>"
      ],
      "text/plain": [
       "                                                                        title  \\\n",
       "803   I used to know an English professor who was pretty smart with books....   \n",
       "825                                                              Two Parrots.   \n",
       "916               Italians are always adding -a to words. (It's-a me, Mario!)   \n",
       "1096                                 A man with a COVID-19 walks into the bar   \n",
       "1124                                 People that celebrate April fools are...   \n",
       "\n",
       "                                                                                                                                          selftext  \n",
       "803             But she was dumb when it came to regular shit. She didn't even know that rain was something you need to come in to from out of.     \n",
       "825   Two parrots sat on a perch. One parrot looked at the other and said \"Do you smell fish?\" The other parrot replied \"Oh my, a talking bird.\"    \n",
       "916                                   I find it to be a horrible corruption of the English language. I say pizz and past, like a _real_ American.   \n",
       "1096                                                                                                                    ...and is told to leave.    \n",
       "1124                                                                                                    April ~~dumb people~~ idiot heads. Owned.   "
      ]
     },
     "metadata": {},
     "output_type": "display_data"
    }
   ],
   "source": [
    "# find and remove user edits:\n",
    "PATTERN = \"(?i)[^a-z](edit)\\W.+\"\n",
    "\n",
    "# clean posts to change this ... \n",
    "print(\"samples instances containing pattern :\")\n",
    "edits_idx = df_cleaned[df_cleaned['selftext'].str.contains(PATTERN, regex=True)].index\n",
    "display(df_cleaned.loc[edits_idx][['title', 'selftext']].head())\n",
    "\n",
    "# remove user edits added after user posted content\n",
    "df_cleaned[['title', 'selftext']] = df_cleaned[['title', 'selftext']].applymap(lambda x:re.sub(PATTERN, \" \", x))\n",
    "\n",
    "# into this ...\n",
    "print(\"transformed instances :\")\n",
    "display(df_cleaned[['title', 'selftext']].loc[edits_idx].head())"
   ]
  },
  {
   "cell_type": "code",
   "execution_count": 107,
   "id": "c15085d2",
   "metadata": {
    "scrolled": false
   },
   "outputs": [
    {
     "name": "stdout",
     "output_type": "stream",
     "text": [
      "samples instances containing pattern :\n"
     ]
    },
    {
     "data": {
      "text/html": [
       "<div>\n",
       "<style scoped>\n",
       "    .dataframe tbody tr th:only-of-type {\n",
       "        vertical-align: middle;\n",
       "    }\n",
       "\n",
       "    .dataframe tbody tr th {\n",
       "        vertical-align: top;\n",
       "    }\n",
       "\n",
       "    .dataframe thead th {\n",
       "        text-align: right;\n",
       "    }\n",
       "</style>\n",
       "<table border=\"1\" class=\"dataframe\">\n",
       "  <thead>\n",
       "    <tr style=\"text-align: right;\">\n",
       "      <th></th>\n",
       "      <th>title</th>\n",
       "      <th>selftext</th>\n",
       "    </tr>\n",
       "  </thead>\n",
       "  <tbody>\n",
       "    <tr>\n",
       "      <th>289</th>\n",
       "      <td>Before VS After Marriage</td>\n",
       "      <td>Before Marriage: Boy: Ah at last. I can hardly wait. Girl: Do you want me to leave? Boy: No don't even think about it. Girl: Do you love me? Boy: Of Course. Always have and always will. Girl: Have you ever cheated on me? Boy: Never. Why are you even asking? Girl: Will you kiss me? Boy: Every chance I get. Girl: Will you hit me? Boy: Hell no. Are you crazy? Girl: Can I trust you? Boy: Yes. Girl: Darling! After Marriage: (Read from bottom to top)</td>\n",
       "    </tr>\n",
       "    <tr>\n",
       "      <th>410</th>\n",
       "      <td>Three American colonels are in the US about to retire and they are offered an economic compensation...</td>\n",
       "      <td>..which consists of multiplying 100,000 dollars by the distance in inches they have between two parts of their body that they choose. Colonel McDowell chooses this distance to be from his toe to the edge of his longest hair on his head and the result is 72 inches, so that means he gets $7,200,000. Colonel Smith chooses the reach of his arms, that is from the tip of his right index finger to the tip of his left index finger, which results in a distance of 75 inches (so he gets $7.5M). Finally Colonel McConaughey chooses the distance from the tip of his penis to his balls -\"*Colonel, choose two parts that are more separated, you'll win more money that way!*\" - says the soldier in charge of the measurement. -\"*No, i'm sure these are the parts i want measured, please proceed!*\" - answers the colonel. The soldier then proceeds to take the measuring tape from the tip of colonel's dick and stretches the tape to reach the balls when suddenly he stops and asks \"*Wait...where are your balls*?!\" -\"*I lost them in Vietnam*\"</td>\n",
       "    </tr>\n",
       "    <tr>\n",
       "      <th>428</th>\n",
       "      <td>Doctor: \"i'm sorry to say you've got lung cancer.\"</td>\n",
       "      <td>Patient: [tearing up] \"oh god, no!\" Doctor: \"Sorry to say it because it's not true, lol April Fools!\" Patient: [angry] \"What the hell?\" Doctor: \"Yeah, pranked you, the cancer's in your pancreas.\"</td>\n",
       "    </tr>\n",
       "    <tr>\n",
       "      <th>553</th>\n",
       "      <td>A man's wife goes missing...</td>\n",
       "      <td>Husband: My wife is missing. She went out yesterday and has not come home... Sergeant at Police Station: What is her height? Husband: Gee, I'm not sure. A little over five-feet tall. Sergeant: Weight? Husband: Don't know. Not slim, not really fat. Sergeant: Colour of eyes? Husband: Sort of brown I think. Never really noticed. Sergeant: Colour of hair? Husband: Changes a couple times a year. Maybe dark brown now. I can’t remember. Sergeant: What was she wearing? Husband: Could have been pants, or maybe a skirt or shorts. I don't know exactly. Sergeant: What kind of car did she go in? Husband: She went in my Audi Sergeant: What kind of Audi was it? Husband: (sobbing) Audi A6 Avant Black Edition, Ambient Lighting pack - A6, Front and outer rear heated seats, Valcona leather - Lunar silver + super sport seats, 3 spoke heated sports leather multifunction steering wheel with paddle shift, LED Matrix headlights with high beam assist, Pearlescent paint, Audi drive select, Audi parking system plus with front and rear sensors, Audible and visual fasten seat belt warning - front and rear, Cruise control, Driver's information system, MMI SD card Navigation, Mobile telephone preparation, PAS, Service interval indicator, 3 point seatbelts on all seats, ABS-EBD, ASR traction control, Curtain airbags, Driver and passenger airbags, Driver-front passenger side airbags, Electromechanical parking brake, Electronic stability control, Front passenger airbag deactivation, Hill hold assist, Tyre pressure monitoring system, Warning triangle and first aid kit, Anti theft alarm, Anti-theft wheel bolts, Immobiliser, Keyless Start, Remote central locking, Audi music interface, Auxiliary input socket, DAB digital radio module, MMI Radio plus with CD player and bluetooth interface, SD card slot, USB connection, 12V power in rear centre console, 4 way electric lumbar support, 4 zone climate control, Aluminium door sill trims, Black cloth headlining, Double cargo floor, Electric front seats + driver memory, Front centre armrest, Front head restraints, Front-rear floor mats, Height adjustable front seats, Isofix front passenger and rear seat preparation, Jack and tool kit, Load lashing points, Luggage compartment cover, Luggage rails, Perforated leather gearknob, Rear headrests, Split folding rear seat, Auto dimming rear view mirror, Automatic headlights + automatic windscreen wipers, Body coloured bumpers, Body coloured door mirrors and handles, Body coloured roof spoiler, Door sill trims with S line logo, Electric front-rear windows, Headlight washers, High gloss black door mirrors, High gloss black finish B pillar, High gloss black triangular aperture at rear door, LED daytime running lights, LED rear lights, Light sensor, Platinum grey front lip spoiler, Privacy glass (to rear of B post), Rain sensor, Rear wiper, Alcantara door trim, Piano black finish inlay, Space saver spare wheel, Black Styling pack - A6 Avant, Non smoking pack - A6, Diesel particulate filter (At this point, the sobbing has turned into a full cry.) Sergeant: Don't worry buddy. We'll find your Audi</td>\n",
       "    </tr>\n",
       "    <tr>\n",
       "      <th>633</th>\n",
       "      <td>I’ve been off my OCD pills for more than a year now!</td>\n",
       "      <td>(Or 374 days, 7 hours and 3 minutes to be exact)</td>\n",
       "    </tr>\n",
       "  </tbody>\n",
       "</table>\n",
       "</div>"
      ],
      "text/plain": [
       "                                                                                                      title  \\\n",
       "289                                                                                Before VS After Marriage   \n",
       "410  Three American colonels are in the US about to retire and they are offered an economic compensation...   \n",
       "428                                                      Doctor: \"i'm sorry to say you've got lung cancer.\"   \n",
       "553                                                                            A man's wife goes missing...   \n",
       "633                                                    I’ve been off my OCD pills for more than a year now!   \n",
       "\n",
       "                                                                                                                                                                                                                                                                                                                                                                                                                                                                                                                                                                                                                                                                                                                                                                                                                                                                                                                                                                                                                                                                                                                                                                                                                                                                                                                                                                                                                                                                                                                                                                                                                                                                                                                                                                                                                                                                                                                                                                                                                                                                                                                                                                                                                                                                                                                                                                                                                                                                                                                                                                                                                                                                                                                                                                                                                                                                                                                                                                                                                                                                                                                                                                                                                  selftext  \n",
       "289                                                                                                                                                                                                                                                                                                                                                                                                                                                                                                                                                                                                                                                                                                                                                                                                                                                                                                                                                                                                                                                                                                                                                                                                                                                                                                                                                                                                                                                                                                                                                                                                                                                                                                                                                                                                                                                                                                                                                                                                                                                                                                                                                                                                                                                                                                                                                                                                                                                                                                                                                                                                                                                                                                                                                       Before Marriage: Boy: Ah at last. I can hardly wait. Girl: Do you want me to leave? Boy: No don't even think about it. Girl: Do you love me? Boy: Of Course. Always have and always will. Girl: Have you ever cheated on me? Boy: Never. Why are you even asking? Girl: Will you kiss me? Boy: Every chance I get. Girl: Will you hit me? Boy: Hell no. Are you crazy? Girl: Can I trust you? Boy: Yes. Girl: Darling! After Marriage: (Read from bottom to top)  \n",
       "410                                                                                                                                                                                                                                                                                                                                                                                                                                                                                                                                                                                                                                                                                                                                                                                                                                                                                                                                                                                                                                                                                                                                                                                                                                                                                                                                                                                                                                                                                                                                                                                                                                                                                                                                                                                                                                                                                                                                                                                                                                                                                                                                                    ..which consists of multiplying 100,000 dollars by the distance in inches they have between two parts of their body that they choose. Colonel McDowell chooses this distance to be from his toe to the edge of his longest hair on his head and the result is 72 inches, so that means he gets $7,200,000. Colonel Smith chooses the reach of his arms, that is from the tip of his right index finger to the tip of his left index finger, which results in a distance of 75 inches (so he gets $7.5M). Finally Colonel McConaughey chooses the distance from the tip of his penis to his balls -\"*Colonel, choose two parts that are more separated, you'll win more money that way!*\" - says the soldier in charge of the measurement. -\"*No, i'm sure these are the parts i want measured, please proceed!*\" - answers the colonel. The soldier then proceeds to take the measuring tape from the tip of colonel's dick and stretches the tape to reach the balls when suddenly he stops and asks \"*Wait...where are your balls*?!\" -\"*I lost them in Vietnam*\"  \n",
       "428                                                                                                                                                                                                                                                                                                                                                                                                                                                                                                                                                                                                                                                                                                                                                                                                                                                                                                                                                                                                                                                                                                                                                                                                                                                                                                                                                                                                                                                                                                                                                                                                                                                                                                                                                                                                                                                                                                                                                                                                                                                                                                                                                                                                                                                                                                                                                                                                                                                                                                                                                                                                                                                                                                                                                                                                                                                                                                                                                                                                                    Patient: [tearing up] \"oh god, no!\" Doctor: \"Sorry to say it because it's not true, lol April Fools!\" Patient: [angry] \"What the hell?\" Doctor: \"Yeah, pranked you, the cancer's in your pancreas.\"  \n",
       "553  Husband: My wife is missing. She went out yesterday and has not come home... Sergeant at Police Station: What is her height? Husband: Gee, I'm not sure. A little over five-feet tall. Sergeant: Weight? Husband: Don't know. Not slim, not really fat. Sergeant: Colour of eyes? Husband: Sort of brown I think. Never really noticed. Sergeant: Colour of hair? Husband: Changes a couple times a year. Maybe dark brown now. I can’t remember. Sergeant: What was she wearing? Husband: Could have been pants, or maybe a skirt or shorts. I don't know exactly. Sergeant: What kind of car did she go in? Husband: She went in my Audi Sergeant: What kind of Audi was it? Husband: (sobbing) Audi A6 Avant Black Edition, Ambient Lighting pack - A6, Front and outer rear heated seats, Valcona leather - Lunar silver + super sport seats, 3 spoke heated sports leather multifunction steering wheel with paddle shift, LED Matrix headlights with high beam assist, Pearlescent paint, Audi drive select, Audi parking system plus with front and rear sensors, Audible and visual fasten seat belt warning - front and rear, Cruise control, Driver's information system, MMI SD card Navigation, Mobile telephone preparation, PAS, Service interval indicator, 3 point seatbelts on all seats, ABS-EBD, ASR traction control, Curtain airbags, Driver and passenger airbags, Driver-front passenger side airbags, Electromechanical parking brake, Electronic stability control, Front passenger airbag deactivation, Hill hold assist, Tyre pressure monitoring system, Warning triangle and first aid kit, Anti theft alarm, Anti-theft wheel bolts, Immobiliser, Keyless Start, Remote central locking, Audi music interface, Auxiliary input socket, DAB digital radio module, MMI Radio plus with CD player and bluetooth interface, SD card slot, USB connection, 12V power in rear centre console, 4 way electric lumbar support, 4 zone climate control, Aluminium door sill trims, Black cloth headlining, Double cargo floor, Electric front seats + driver memory, Front centre armrest, Front head restraints, Front-rear floor mats, Height adjustable front seats, Isofix front passenger and rear seat preparation, Jack and tool kit, Load lashing points, Luggage compartment cover, Luggage rails, Perforated leather gearknob, Rear headrests, Split folding rear seat, Auto dimming rear view mirror, Automatic headlights + automatic windscreen wipers, Body coloured bumpers, Body coloured door mirrors and handles, Body coloured roof spoiler, Door sill trims with S line logo, Electric front-rear windows, Headlight washers, High gloss black door mirrors, High gloss black finish B pillar, High gloss black triangular aperture at rear door, LED daytime running lights, LED rear lights, Light sensor, Platinum grey front lip spoiler, Privacy glass (to rear of B post), Rain sensor, Rear wiper, Alcantara door trim, Piano black finish inlay, Space saver spare wheel, Black Styling pack - A6 Avant, Non smoking pack - A6, Diesel particulate filter (At this point, the sobbing has turned into a full cry.) Sergeant: Don't worry buddy. We'll find your Audi  \n",
       "633                                                                                                                                                                                                                                                                                                                                                                                                                                                                                                                                                                                                                                                                                                                                                                                                                                                                                                                                                                                                                                                                                                                                                                                                                                                                                                                                                                                                                                                                                                                                                                                                                                                                                                                                                                                                                                                                                                                                                                                                                                                                                                                                                                                                                                                                                                                                                                                                                                                                                                                                                                                                                                                                                                                                                                                                                                                                                                                                                                                                                                                                                                                                                                       (Or 374 days, 7 hours and 3 minutes to be exact)  "
      ]
     },
     "metadata": {},
     "output_type": "display_data"
    },
    {
     "name": "stdout",
     "output_type": "stream",
     "text": [
      "transformed instances :\n"
     ]
    },
    {
     "data": {
      "text/html": [
       "<div>\n",
       "<style scoped>\n",
       "    .dataframe tbody tr th:only-of-type {\n",
       "        vertical-align: middle;\n",
       "    }\n",
       "\n",
       "    .dataframe tbody tr th {\n",
       "        vertical-align: top;\n",
       "    }\n",
       "\n",
       "    .dataframe thead th {\n",
       "        text-align: right;\n",
       "    }\n",
       "</style>\n",
       "<table border=\"1\" class=\"dataframe\">\n",
       "  <thead>\n",
       "    <tr style=\"text-align: right;\">\n",
       "      <th></th>\n",
       "      <th>title</th>\n",
       "      <th>selftext</th>\n",
       "    </tr>\n",
       "  </thead>\n",
       "  <tbody>\n",
       "    <tr>\n",
       "      <th>289</th>\n",
       "      <td>Before VS After Marriage</td>\n",
       "      <td>Before Marriage: Boy: Ah at last. I can hardly wait. Girl: Do you want me to leave? Boy: No don't even think about it. Girl: Do you love me? Boy: Of Course. Always have and always will. Girl: Have you ever cheated on me? Boy: Never. Why are you even asking? Girl: Will you kiss me? Boy: Every chance I get. Girl: Will you hit me? Boy: Hell no. Are you crazy? Girl: Can I trust you? Boy: Yes. Girl: Darling! After Marriage:</td>\n",
       "    </tr>\n",
       "    <tr>\n",
       "      <th>410</th>\n",
       "      <td>Three American colonels are in the US about to retire and they are offered an economic compensation...</td>\n",
       "      <td>..which consists of multiplying 100,000 dollars by the distance in inches they have between two parts of their body that they choose. Colonel McDowell chooses this distance to be from his toe to the edge of his longest hair on his head and the result is 72 inches, so that means he gets $7,200,000. Colonel Smith chooses the reach of his arms, that is from the tip of his right index finger to the tip of his left index finger, which results in a distance of 75 inches . Finally Colonel McConaughey chooses the distance from the tip of his penis to his balls -\"*Colonel, choose two parts that are more separated, you'll win more money that way!*\" - says the soldier in charge of the measurement. -\"*No, i'm sure these are the parts i want measured, please proceed!*\" - answers the colonel. The soldier then proceeds to take the measuring tape from the tip of colonel's dick and stretches the tape to reach the balls when suddenly he stops and asks \"*Wait...where are your balls*?!\" -\"*I lost them in Vietnam*\"</td>\n",
       "    </tr>\n",
       "    <tr>\n",
       "      <th>428</th>\n",
       "      <td>Doctor: \"i'm sorry to say you've got lung cancer.\"</td>\n",
       "      <td>Patient:  \"oh god, no!\" Doctor: \"Sorry to say it because it's not true, lol April Fools!\" Patient:  \"What the hell?\" Doctor: \"Yeah, pranked you, the cancer's in your pancreas.\"</td>\n",
       "    </tr>\n",
       "    <tr>\n",
       "      <th>553</th>\n",
       "      <td>A man's wife goes missing...</td>\n",
       "      <td>Husband: My wife is missing. She went out yesterday and has not come home... Sergeant at Police Station: What is her height? Husband: Gee, I'm not sure. A little over five-feet tall. Sergeant: Weight? Husband: Don't know. Not slim, not really fat. Sergeant: Colour of eyes? Husband: Sort of brown I think. Never really noticed. Sergeant: Colour of hair? Husband: Changes a couple times a year. Maybe dark brown now. I can’t remember. Sergeant: What was she wearing? Husband: Could have been pants, or maybe a skirt or shorts. I don't know exactly. Sergeant: What kind of car did she go in? Husband: She went in my Audi Sergeant: What kind of Audi was it? Husband:  Audi A6 Avant Black Edition, Ambient Lighting pack - A6, Front and outer rear heated seats, Valcona leather - Lunar silver + super sport seats, 3 spoke heated sports leather multifunction steering wheel with paddle shift, LED Matrix headlights with high beam assist, Pearlescent paint, Audi drive select, Audi parking system plus with front and rear sensors, Audible and visual fasten seat belt warning - front and rear, Cruise control, Driver's information system, MMI SD card Navigation, Mobile telephone preparation, PAS, Service interval indicator, 3 point seatbelts on all seats, ABS-EBD, ASR traction control, Curtain airbags, Driver and passenger airbags, Driver-front passenger side airbags, Electromechanical parking brake, Electronic stability control, Front passenger airbag deactivation, Hill hold assist, Tyre pressure monitoring system, Warning triangle and first aid kit, Anti theft alarm, Anti-theft wheel bolts, Immobiliser, Keyless Start, Remote central locking, Audi music interface, Auxiliary input socket, DAB digital radio module, MMI Radio plus with CD player and bluetooth interface, SD card slot, USB connection, 12V power in rear centre console, 4 way electric lumbar support, 4 zone climate control, Aluminium door sill trims, Black cloth headlining, Double cargo floor, Electric front seats + driver memory, Front centre armrest, Front head restraints, Front-rear floor mats, Height adjustable front seats, Isofix front passenger and rear seat preparation, Jack and tool kit, Load lashing points, Luggage compartment cover, Luggage rails, Perforated leather gearknob, Rear headrests, Split folding rear seat, Auto dimming rear view mirror, Automatic headlights + automatic windscreen wipers, Body coloured bumpers, Body coloured door mirrors and handles, Body coloured roof spoiler, Door sill trims with S line logo, Electric front-rear windows, Headlight washers, High gloss black door mirrors, High gloss black finish B pillar, High gloss black triangular aperture at rear door, LED daytime running lights, LED rear lights, Light sensor, Platinum grey front lip spoiler, Privacy glass , Rain sensor, Rear wiper, Alcantara door trim, Piano black finish inlay, Space saver spare wheel, Black Styling pack - A6 Avant, Non smoking pack - A6, Diesel particulate filter  Sergeant: Don't worry buddy. We'll find your Audi</td>\n",
       "    </tr>\n",
       "    <tr>\n",
       "      <th>633</th>\n",
       "      <td>I’ve been off my OCD pills for more than a year now!</td>\n",
       "      <td></td>\n",
       "    </tr>\n",
       "  </tbody>\n",
       "</table>\n",
       "</div>"
      ],
      "text/plain": [
       "                                                                                                      title  \\\n",
       "289                                                                                Before VS After Marriage   \n",
       "410  Three American colonels are in the US about to retire and they are offered an economic compensation...   \n",
       "428                                                      Doctor: \"i'm sorry to say you've got lung cancer.\"   \n",
       "553                                                                            A man's wife goes missing...   \n",
       "633                                                    I’ve been off my OCD pills for more than a year now!   \n",
       "\n",
       "                                                                                                                                                                                                                                                                                                                                                                                                                                                                                                                                                                                                                                                                                                                                                                                                                                                                                                                                                                                                                                                                                                                                                                                                                                                                                                                                                                                                                                                                                                                                                                                                                                                                                                                                                                                                                                                                                                                                                                                                                                                                                                                                                                                                                                                                                                                                                                                                                                                                                                                                                                                                                                                                                                                                                                                                                                                                                                                                                                                                                                                                                                                              selftext  \n",
       "289                                                                                                                                                                                                                                                                                                                                                                                                                                                                                                                                                                                                                                                                                                                                                                                                                                                                                                                                                                                                                                                                                                                                                                                                                                                                                                                                                                                                                                                                                                                                                                                                                                                                                                                                                                                                                                                                                                                                                                                                                                                                                                                                                                                                                                                                                                                                                                                                                                                                                                                                                                                                                                                                                            Before Marriage: Boy: Ah at last. I can hardly wait. Girl: Do you want me to leave? Boy: No don't even think about it. Girl: Do you love me? Boy: Of Course. Always have and always will. Girl: Have you ever cheated on me? Boy: Never. Why are you even asking? Girl: Will you kiss me? Boy: Every chance I get. Girl: Will you hit me? Boy: Hell no. Are you crazy? Girl: Can I trust you? Boy: Yes. Girl: Darling! After Marriage:   \n",
       "410                                                                                                                                                                                                                                                                                                                                                                                                                                                                                                                                                                                                                                                                                                                                                                                                                                                                                                                                                                                                                                                                                                                                                                                                                                                                                                                                                                                                                                                                                                                                                                                                                                                                                                                                                                                                                                                                                                                                                                                                                                                                                  ..which consists of multiplying 100,000 dollars by the distance in inches they have between two parts of their body that they choose. Colonel McDowell chooses this distance to be from his toe to the edge of his longest hair on his head and the result is 72 inches, so that means he gets $7,200,000. Colonel Smith chooses the reach of his arms, that is from the tip of his right index finger to the tip of his left index finger, which results in a distance of 75 inches . Finally Colonel McConaughey chooses the distance from the tip of his penis to his balls -\"*Colonel, choose two parts that are more separated, you'll win more money that way!*\" - says the soldier in charge of the measurement. -\"*No, i'm sure these are the parts i want measured, please proceed!*\" - answers the colonel. The soldier then proceeds to take the measuring tape from the tip of colonel's dick and stretches the tape to reach the balls when suddenly he stops and asks \"*Wait...where are your balls*?!\" -\"*I lost them in Vietnam*\"  \n",
       "428                                                                                                                                                                                                                                                                                                                                                                                                                                                                                                                                                                                                                                                                                                                                                                                                                                                                                                                                                                                                                                                                                                                                                                                                                                                                                                                                                                                                                                                                                                                                                                                                                                                                                                                                                                                                                                                                                                                                                                                                                                                                                                                                                                                                                                                                                                                                                                                                                                                                                                                                                                                                                                                                                                                                                                                                                                                                                                                                                   Patient:  \"oh god, no!\" Doctor: \"Sorry to say it because it's not true, lol April Fools!\" Patient:  \"What the hell?\" Doctor: \"Yeah, pranked you, the cancer's in your pancreas.\"  \n",
       "553  Husband: My wife is missing. She went out yesterday and has not come home... Sergeant at Police Station: What is her height? Husband: Gee, I'm not sure. A little over five-feet tall. Sergeant: Weight? Husband: Don't know. Not slim, not really fat. Sergeant: Colour of eyes? Husband: Sort of brown I think. Never really noticed. Sergeant: Colour of hair? Husband: Changes a couple times a year. Maybe dark brown now. I can’t remember. Sergeant: What was she wearing? Husband: Could have been pants, or maybe a skirt or shorts. I don't know exactly. Sergeant: What kind of car did she go in? Husband: She went in my Audi Sergeant: What kind of Audi was it? Husband:  Audi A6 Avant Black Edition, Ambient Lighting pack - A6, Front and outer rear heated seats, Valcona leather - Lunar silver + super sport seats, 3 spoke heated sports leather multifunction steering wheel with paddle shift, LED Matrix headlights with high beam assist, Pearlescent paint, Audi drive select, Audi parking system plus with front and rear sensors, Audible and visual fasten seat belt warning - front and rear, Cruise control, Driver's information system, MMI SD card Navigation, Mobile telephone preparation, PAS, Service interval indicator, 3 point seatbelts on all seats, ABS-EBD, ASR traction control, Curtain airbags, Driver and passenger airbags, Driver-front passenger side airbags, Electromechanical parking brake, Electronic stability control, Front passenger airbag deactivation, Hill hold assist, Tyre pressure monitoring system, Warning triangle and first aid kit, Anti theft alarm, Anti-theft wheel bolts, Immobiliser, Keyless Start, Remote central locking, Audi music interface, Auxiliary input socket, DAB digital radio module, MMI Radio plus with CD player and bluetooth interface, SD card slot, USB connection, 12V power in rear centre console, 4 way electric lumbar support, 4 zone climate control, Aluminium door sill trims, Black cloth headlining, Double cargo floor, Electric front seats + driver memory, Front centre armrest, Front head restraints, Front-rear floor mats, Height adjustable front seats, Isofix front passenger and rear seat preparation, Jack and tool kit, Load lashing points, Luggage compartment cover, Luggage rails, Perforated leather gearknob, Rear headrests, Split folding rear seat, Auto dimming rear view mirror, Automatic headlights + automatic windscreen wipers, Body coloured bumpers, Body coloured door mirrors and handles, Body coloured roof spoiler, Door sill trims with S line logo, Electric front-rear windows, Headlight washers, High gloss black door mirrors, High gloss black finish B pillar, High gloss black triangular aperture at rear door, LED daytime running lights, LED rear lights, Light sensor, Platinum grey front lip spoiler, Privacy glass , Rain sensor, Rear wiper, Alcantara door trim, Piano black finish inlay, Space saver spare wheel, Black Styling pack - A6 Avant, Non smoking pack - A6, Diesel particulate filter  Sergeant: Don't worry buddy. We'll find your Audi  \n",
       "633                                                                                                                                                                                                                                                                                                                                                                                                                                                                                                                                                                                                                                                                                                                                                                                                                                                                                                                                                                                                                                                                                                                                                                                                                                                                                                                                                                                                                                                                                                                                                                                                                                                                                                                                                                                                                                                                                                                                                                                                                                                                                                                                                                                                                                                                                                                                                                                                                                                                                                                                                                                                                                                                                                                                                                                                                                                                                                                                                                                                                                                                                                                                     "
      ]
     },
     "metadata": {},
     "output_type": "display_data"
    }
   ],
   "source": [
    "# remove contents in user added brackets\n",
    "PATTERN = r\"(\\(.*?\\))|(\\[.*?\\])|(\\{.*?\\})\"\n",
    "\n",
    "print(\"samples instances containing pattern :\")\n",
    "brackets_idx = df_cleaned[df_cleaned['selftext'].str.contains(PATTERN, regex=True)].index\n",
    "display(df_cleaned.loc[brackets_idx][['title', 'selftext']].head())\n",
    "\n",
    "print(\"transformed instances :\")\n",
    "df_cleaned[['title', 'selftext']] = df_cleaned[['title', 'selftext']].applymap(lambda x: re.sub(PATTERN, \"\", x))\n",
    "display(df_cleaned.loc[brackets_idx][['title', 'selftext']].head())"
   ]
  },
  {
   "cell_type": "code",
   "execution_count": 108,
   "id": "276192b9",
   "metadata": {},
   "outputs": [
    {
     "name": "stdout",
     "output_type": "stream",
     "text": [
      "samples instances containing pattern :\n"
     ]
    },
    {
     "data": {
      "text/html": [
       "<div>\n",
       "<style scoped>\n",
       "    .dataframe tbody tr th:only-of-type {\n",
       "        vertical-align: middle;\n",
       "    }\n",
       "\n",
       "    .dataframe tbody tr th {\n",
       "        vertical-align: top;\n",
       "    }\n",
       "\n",
       "    .dataframe thead th {\n",
       "        text-align: right;\n",
       "    }\n",
       "</style>\n",
       "<table border=\"1\" class=\"dataframe\">\n",
       "  <thead>\n",
       "    <tr style=\"text-align: right;\">\n",
       "      <th></th>\n",
       "      <th>title</th>\n",
       "      <th>selftext</th>\n",
       "    </tr>\n",
       "  </thead>\n",
       "  <tbody>\n",
       "    <tr>\n",
       "      <th>5207</th>\n",
       "      <td>How many liberals does it take to change a lightbulb?</td>\n",
       "      <td>Infinity. bc their vote socialism took their equal away 😂😂😂 L😎L</td>\n",
       "    </tr>\n",
       "    <tr>\n",
       "      <th>12477</th>\n",
       "      <td>How the world has changed in 2020!</td>\n",
       "      <td>Feb 14: Will you be my Valentine ? . . . March 14: Will you be my Quarantine ? 🙂</td>\n",
       "    </tr>\n",
       "    <tr>\n",
       "      <th>14968</th>\n",
       "      <td>I need a nurse named Kate!</td>\n",
       "      <td>So I can take my mediKATion..... Ok im leaving im leaving. 😆</td>\n",
       "    </tr>\n",
       "    <tr>\n",
       "      <th>33425</th>\n",
       "      <td>Warning: Some viewers may find the following joke stupid and offensive. Discretion is advised</td>\n",
       "      <td>When I lived in Hawaii I caught a very bad case of yellow fever. I never did get the cure. The best I could do is pay for some over-the-counter medication. 😃😃😃</td>\n",
       "    </tr>\n",
       "    <tr>\n",
       "      <th>38499</th>\n",
       "      <td>I was uncertain if the superbowl halftime was good or not.</td>\n",
       "      <td>Too many hips and butts. Ifs and buts 😋</td>\n",
       "    </tr>\n",
       "  </tbody>\n",
       "</table>\n",
       "</div>"
      ],
      "text/plain": [
       "                                                                                               title  \\\n",
       "5207                                           How many liberals does it take to change a lightbulb?   \n",
       "12477                                                             How the world has changed in 2020!   \n",
       "14968                                                                     I need a nurse named Kate!   \n",
       "33425  Warning: Some viewers may find the following joke stupid and offensive. Discretion is advised   \n",
       "38499                                     I was uncertain if the superbowl halftime was good or not.   \n",
       "\n",
       "                                                                                                                                                               selftext  \n",
       "5207                                                                                                    Infinity. bc their vote socialism took their equal away 😂😂😂 L😎L  \n",
       "12477                                                                                  Feb 14: Will you be my Valentine ? . . . March 14: Will you be my Quarantine ? 🙂  \n",
       "14968                                                                                                      So I can take my mediKATion..... Ok im leaving im leaving. 😆  \n",
       "33425  When I lived in Hawaii I caught a very bad case of yellow fever. I never did get the cure. The best I could do is pay for some over-the-counter medication. 😃😃😃   \n",
       "38499                                                                                                                           Too many hips and butts. Ifs and buts 😋  "
      ]
     },
     "metadata": {},
     "output_type": "display_data"
    },
    {
     "name": "stdout",
     "output_type": "stream",
     "text": [
      "transformed instances :\n"
     ]
    },
    {
     "data": {
      "text/html": [
       "<div>\n",
       "<style scoped>\n",
       "    .dataframe tbody tr th:only-of-type {\n",
       "        vertical-align: middle;\n",
       "    }\n",
       "\n",
       "    .dataframe tbody tr th {\n",
       "        vertical-align: top;\n",
       "    }\n",
       "\n",
       "    .dataframe thead th {\n",
       "        text-align: right;\n",
       "    }\n",
       "</style>\n",
       "<table border=\"1\" class=\"dataframe\">\n",
       "  <thead>\n",
       "    <tr style=\"text-align: right;\">\n",
       "      <th></th>\n",
       "      <th>title</th>\n",
       "      <th>selftext</th>\n",
       "    </tr>\n",
       "  </thead>\n",
       "  <tbody>\n",
       "    <tr>\n",
       "      <th>5207</th>\n",
       "      <td>How many liberals does it take to change a lightbulb?</td>\n",
       "      <td>Infinity. bc their vote socialism took their equal away  LL</td>\n",
       "    </tr>\n",
       "    <tr>\n",
       "      <th>12477</th>\n",
       "      <td>How the world has changed in 2020!</td>\n",
       "      <td>Feb 14: Will you be my Valentine ? . . . March 14: Will you be my Quarantine ?</td>\n",
       "    </tr>\n",
       "    <tr>\n",
       "      <th>14968</th>\n",
       "      <td>I need a nurse named Kate!</td>\n",
       "      <td>So I can take my mediKATion..... Ok im leaving im leaving.</td>\n",
       "    </tr>\n",
       "    <tr>\n",
       "      <th>33425</th>\n",
       "      <td>Warning: Some viewers may find the following joke stupid and offensive. Discretion is advised</td>\n",
       "      <td>When I lived in Hawaii I caught a very bad case of yellow fever. I never did get the cure. The best I could do is pay for some over-the-counter medication.</td>\n",
       "    </tr>\n",
       "    <tr>\n",
       "      <th>38499</th>\n",
       "      <td>I was uncertain if the superbowl halftime was good or not.</td>\n",
       "      <td>Too many hips and butts. Ifs and buts</td>\n",
       "    </tr>\n",
       "  </tbody>\n",
       "</table>\n",
       "</div>"
      ],
      "text/plain": [
       "                                                                                               title  \\\n",
       "5207                                           How many liberals does it take to change a lightbulb?   \n",
       "12477                                                             How the world has changed in 2020!   \n",
       "14968                                                                     I need a nurse named Kate!   \n",
       "33425  Warning: Some viewers may find the following joke stupid and offensive. Discretion is advised   \n",
       "38499                                     I was uncertain if the superbowl halftime was good or not.   \n",
       "\n",
       "                                                                                                                                                            selftext  \n",
       "5207                                                                                                     Infinity. bc their vote socialism took their equal away  LL  \n",
       "12477                                                                                Feb 14: Will you be my Valentine ? . . . March 14: Will you be my Quarantine ?   \n",
       "14968                                                                                                    So I can take my mediKATion..... Ok im leaving im leaving.   \n",
       "33425  When I lived in Hawaii I caught a very bad case of yellow fever. I never did get the cure. The best I could do is pay for some over-the-counter medication.    \n",
       "38499                                                                                                                         Too many hips and butts. Ifs and buts   "
      ]
     },
     "metadata": {},
     "output_type": "display_data"
    }
   ],
   "source": [
    "### removing non-ascii chars \n",
    "\n",
    "# user emojis\n",
    "PATTERN = r\"[\\U0001F600-\\U0001F64F]\"\n",
    "\n",
    "print(\"samples instances containing pattern :\")\n",
    "brackets_idx = df_cleaned[df_cleaned['selftext'].str.contains(PATTERN, regex=True)].index\n",
    "display(df_cleaned.loc[brackets_idx][['title', 'selftext']].head())\n",
    "\n",
    "print(\"transformed instances :\")\n",
    "df_cleaned[['title', 'selftext']] = df_cleaned[['title', 'selftext']].applymap(lambda x: x.encode('ascii','ignore').decode('UTF-8'))\n",
    "display(df_cleaned.loc[brackets_idx][['title', 'selftext']].head())"
   ]
  },
  {
   "cell_type": "markdown",
   "id": "6fcff3cf",
   "metadata": {},
   "source": [
    "### Extract data"
   ]
  },
  {
   "cell_type": "code",
   "execution_count": 110,
   "id": "69299c9a",
   "metadata": {
    "scrolled": false
   },
   "outputs": [
    {
     "name": "stdout",
     "output_type": "stream",
     "text": [
      "392645 samples available per class\n"
     ]
    }
   ],
   "source": [
    "# Filter entries that are short, but meet other necessary criteria\n",
    "# remove unnecessary whitespace \n",
    "df_cleaned[['selftext', 'title']] = df_cleaned[['selftext', 'title']].applymap(lambda x:\" \".join(str(x).split()))\n",
    "\n",
    "# get length\n",
    "df_cleaned['selftext_len'] = df_cleaned['selftext'].str.len()\n",
    "df_cleaned['title_len'] = df_cleaned['title'].str.len()\n",
    "\n",
    "# boolean masks to filter for length\n",
    "title_window = (df_cleaned['title_len'] > 0) & (df_cleaned['title_len'] < TITLE_MAX_LEN)\n",
    "selftext_window = (df_cleaned['selftext_len'] > 0) & (df_cleaned['selftext_len'] < SELFTEXT_MAX_LEN)\n",
    "\n",
    "# apply masks to filter\n",
    "df_cleaned = df_cleaned[selftext_window & title_window]\n",
    "print(f\"{len(df_cleaned[~neg_class])} samples available per class\")"
   ]
  },
  {
   "cell_type": "code",
   "execution_count": 111,
   "id": "f7db294c",
   "metadata": {
    "colab": {
     "base_uri": "https://localhost:8080/"
    },
    "id": "f7db294c",
    "outputId": "66d8d53a-3384-485c-9a1f-54318e339706",
    "scrolled": true
   },
   "outputs": [
    {
     "name": "stdout",
     "output_type": "stream",
     "text": [
      "***** calculating *****\n",
      "100000\n",
      "WARNING, CURRENT PARAMETERS RESULT IN CLASS SIZE REDUCTION\n",
      "desired size 100000\n",
      "current size 98748\n"
     ]
    }
   ],
   "source": [
    "# returns boolean mask and updated_class sizes for binary classification.\n",
    "# boolean mask is for instances in the positive class that meet arguments\n",
    "\n",
    "pos_class_mask, updated_class_size = populate_pos_class(df_cleaned, MIN_UPVOTES, MAX_UPVOTES, CLASS_SIZE)"
   ]
  },
  {
   "cell_type": "markdown",
   "id": "03a21055",
   "metadata": {
    "id": "03a21055"
   },
   "source": [
    "### Make the positive and negative class labels for the train abd test data"
   ]
  },
  {
   "cell_type": "code",
   "execution_count": 112,
   "id": "6b07ee9e",
   "metadata": {
    "colab": {
     "base_uri": "https://localhost:8080/",
     "height": 455
    },
    "id": "6b07ee9e",
    "outputId": "aed48b0e-1458-46cd-ba8e-ddc3db940787",
    "scrolled": false
   },
   "outputs": [
    {
     "data": {
      "text/html": [
       "<div>\n",
       "<style scoped>\n",
       "    .dataframe tbody tr th:only-of-type {\n",
       "        vertical-align: middle;\n",
       "    }\n",
       "\n",
       "    .dataframe tbody tr th {\n",
       "        vertical-align: top;\n",
       "    }\n",
       "\n",
       "    .dataframe thead th {\n",
       "        text-align: right;\n",
       "    }\n",
       "</style>\n",
       "<table border=\"1\" class=\"dataframe\">\n",
       "  <thead>\n",
       "    <tr style=\"text-align: right;\">\n",
       "      <th></th>\n",
       "      <th>count</th>\n",
       "      <th>mean</th>\n",
       "      <th>std</th>\n",
       "      <th>min</th>\n",
       "      <th>25%</th>\n",
       "      <th>50%</th>\n",
       "      <th>75%</th>\n",
       "      <th>max</th>\n",
       "    </tr>\n",
       "    <tr>\n",
       "      <th>target</th>\n",
       "      <th></th>\n",
       "      <th></th>\n",
       "      <th></th>\n",
       "      <th></th>\n",
       "      <th></th>\n",
       "      <th></th>\n",
       "      <th></th>\n",
       "      <th></th>\n",
       "    </tr>\n",
       "  </thead>\n",
       "  <tbody>\n",
       "    <tr>\n",
       "      <th>False</th>\n",
       "      <td>98748.0</td>\n",
       "      <td>0.000000</td>\n",
       "      <td>0.00000</td>\n",
       "      <td>0.0</td>\n",
       "      <td>0.0</td>\n",
       "      <td>0.0</td>\n",
       "      <td>0.0</td>\n",
       "      <td>0.0</td>\n",
       "    </tr>\n",
       "    <tr>\n",
       "      <th>True</th>\n",
       "      <td>98748.0</td>\n",
       "      <td>804.606331</td>\n",
       "      <td>3846.34549</td>\n",
       "      <td>20.0</td>\n",
       "      <td>32.0</td>\n",
       "      <td>63.0</td>\n",
       "      <td>196.0</td>\n",
       "      <td>142733.0</td>\n",
       "    </tr>\n",
       "  </tbody>\n",
       "</table>\n",
       "</div>"
      ],
      "text/plain": [
       "          count        mean         std   min   25%   50%    75%       max\n",
       "target                                                                    \n",
       "False   98748.0    0.000000     0.00000   0.0   0.0   0.0    0.0       0.0\n",
       "True    98748.0  804.606331  3846.34549  20.0  32.0  63.0  196.0  142733.0"
      ]
     },
     "metadata": {},
     "output_type": "display_data"
    },
    {
     "name": "stdout",
     "output_type": "stream",
     "text": [
      "Saving figure class distribution after cleaning\n"
     ]
    },
    {
     "data": {
      "image/png": "[encoded data removed]",
      "text/plain": [
       "<Figure size 432x288 with 1 Axes>"
      ]
     },
     "metadata": {},
     "output_type": "display_data"
    }
   ],
   "source": [
    "# create target label\n",
    "df_cleaned['target'] = pos_class_mask\n",
    "\n",
    "# add positive and negative classes together\n",
    "df_concat = pd.concat([df_cleaned[neg_class].sample(updated_class_size), df_cleaned[pos_class_mask]], axis=0)\n",
    "display(df_concat.groupby('target').describe()['score'])\n",
    "\n",
    "# plot target distribution to validate\n",
    "df_concat['target'].value_counts().plot(kind='bar', color=['xkcd:orange', 'xkcd:azure'])\n",
    "plt.grid(False)\n",
    "save_fig('class distribution after cleaning')"
   ]
  },
  {
   "cell_type": "code",
   "execution_count": 113,
   "id": "Rn__FvtKsN7-",
   "metadata": {
    "colab": {
     "base_uri": "https://localhost:8080/"
    },
    "id": "Rn__FvtKsN7-",
    "outputId": "4faeb1aa-89ac-4f2f-c860-64d7f67353ae",
    "scrolled": false
   },
   "outputs": [
    {
     "name": "stdout",
     "output_type": "stream",
     "text": [
      "(195521, 15) (1975, 15)\n"
     ]
    }
   ],
   "source": [
    "# get training size from parameters\n",
    "training_size = int(len(df_concat)*TRAIN_SIZE)\n",
    "\n",
    "# shuffle \n",
    "df_concat_shuffled = df_concat.sample(len(df_concat))\n",
    "\n",
    "# fill na values with a blank\n",
    "df_concat_shuffled['selftext'] = df_concat_shuffled['selftext'].fillna(value='')\n",
    "\n",
    "# generate train and test sets\n",
    "train = df_concat_shuffled[:training_size]\n",
    "test = df_concat_shuffled[training_size:]\n",
    "print(train.shape, test.shape)"
   ]
  },
  {
   "cell_type": "code",
   "execution_count": 114,
   "id": "183c43ae",
   "metadata": {
    "scrolled": false
   },
   "outputs": [
    {
     "data": {
      "text/html": [
       "<div>\n",
       "<style scoped>\n",
       "    .dataframe tbody tr th:only-of-type {\n",
       "        vertical-align: middle;\n",
       "    }\n",
       "\n",
       "    .dataframe tbody tr th {\n",
       "        vertical-align: top;\n",
       "    }\n",
       "\n",
       "    .dataframe thead th {\n",
       "        text-align: right;\n",
       "    }\n",
       "</style>\n",
       "<table border=\"1\" class=\"dataframe\">\n",
       "  <thead>\n",
       "    <tr style=\"text-align: right;\">\n",
       "      <th></th>\n",
       "      <th>title</th>\n",
       "      <th>selftext</th>\n",
       "      <th>score</th>\n",
       "    </tr>\n",
       "  </thead>\n",
       "  <tbody>\n",
       "    <tr>\n",
       "      <th>710462</th>\n",
       "      <td>A millionaire enters the town of Klon.</td>\n",
       "      <td>Upon arriving he notices a particularly popular homosexual bar specifically for women. Seeing a potentially valuable investment, he enters and speaks to the owner. \"How much to own this place?\" He asks. The owner responds: \"not for sale, I've got customers waiting.\" The millionaire, not wanting to miss an investment, grabs the owners arm as he turns to go and says \"wait, I'll do anything to own this place!\" The owner turns back to him slowly and says... \"What would you do for a Klon Dyke-bar?\"</td>\n",
       "      <td>1619</td>\n",
       "    </tr>\n",
       "    <tr>\n",
       "      <th>802129</th>\n",
       "      <td>So the iPhone 7 gets arrested...</td>\n",
       "      <td>He puts on his earpods and smugly declares \"sorry, you can't charge me while I'm using my headphones\".</td>\n",
       "      <td>5135</td>\n",
       "    </tr>\n",
       "    <tr>\n",
       "      <th>5158</th>\n",
       "      <td>I got one of them anti bullying bracelets today</td>\n",
       "      <td>Nicked it off some fat ginger prick at the park</td>\n",
       "      <td>968</td>\n",
       "    </tr>\n",
       "    <tr>\n",
       "      <th>123648</th>\n",
       "      <td>Got arrested at the airport last week.</td>\n",
       "      <td>Apparently, security doesn't appreciate it when you call \"shotgun\" before boarding a plane.</td>\n",
       "      <td>468</td>\n",
       "    </tr>\n",
       "    <tr>\n",
       "      <th>809648</th>\n",
       "      <td>Why did the redneck cross the road?</td>\n",
       "      <td>His dick was stuck in the chicken.</td>\n",
       "      <td>1314</td>\n",
       "    </tr>\n",
       "    <tr>\n",
       "      <th>608272</th>\n",
       "      <td>Boy goes to confession and tells the priest he has been with a girl of loose morals.</td>\n",
       "      <td>\"That's a grievous sin,\" the priest says. \"Tell me: Was it Mary O'Hara?\" \"No, Father.\" \"Was it Kate Dannaher?\" \"No, Father.\" \"Was it Kathleen McGonigle?\" \"No, Father. I don't want to say who it was.\" Later, as the boy leaves the church, he sees a friend, who asks him, \"How'd it go?\" He answers, \"Well, I got ten Hail Marys, five Our Fathers... and three great leads.\"</td>\n",
       "      <td>25700</td>\n",
       "    </tr>\n",
       "    <tr>\n",
       "      <th>16620</th>\n",
       "      <td>How do you measure the heaviness of a red hot chili pepper?</td>\n",
       "      <td>Give it a weigh, give it a weigh, give it a weigh now.</td>\n",
       "      <td>6626</td>\n",
       "    </tr>\n",
       "    <tr>\n",
       "      <th>629570</th>\n",
       "      <td>Two blondes are locked out of their car...</td>\n",
       "      <td>The first blonde is trying to unlock the car using a coat hanger. The second says to the first \"hurry up! It looks like it's going to rain and the top's down!\"</td>\n",
       "      <td>684</td>\n",
       "    </tr>\n",
       "    <tr>\n",
       "      <th>276637</th>\n",
       "      <td>I asked this lady if I could touch her hair</td>\n",
       "      <td>She said yes, so I ran my finger across her lip and that's how the fight started.</td>\n",
       "      <td>951</td>\n",
       "    </tr>\n",
       "    <tr>\n",
       "      <th>769660</th>\n",
       "      <td>Husband : Why are there broken condoms on our couch???</td>\n",
       "      <td>Wife : would you please call our children by their real names?</td>\n",
       "      <td>2628</td>\n",
       "    </tr>\n",
       "  </tbody>\n",
       "</table>\n",
       "</div>"
      ],
      "text/plain": [
       "                                                                                       title  \\\n",
       "710462                                                A millionaire enters the town of Klon.   \n",
       "802129                                                      So the iPhone 7 gets arrested...   \n",
       "5158                                         I got one of them anti bullying bracelets today   \n",
       "123648                                                Got arrested at the airport last week.   \n",
       "809648                                                   Why did the redneck cross the road?   \n",
       "608272  Boy goes to confession and tells the priest he has been with a girl of loose morals.   \n",
       "16620                            How do you measure the heaviness of a red hot chili pepper?   \n",
       "629570                                            Two blondes are locked out of their car...   \n",
       "276637                                           I asked this lady if I could touch her hair   \n",
       "769660                                Husband : Why are there broken condoms on our couch???   \n",
       "\n",
       "                                                                                                                                                                                                                                                                                                                                                                                                                                                                                                                  selftext  \\\n",
       "710462  Upon arriving he notices a particularly popular homosexual bar specifically for women. Seeing a potentially valuable investment, he enters and speaks to the owner. \"How much to own this place?\" He asks. The owner responds: \"not for sale, I've got customers waiting.\" The millionaire, not wanting to miss an investment, grabs the owners arm as he turns to go and says \"wait, I'll do anything to own this place!\" The owner turns back to him slowly and says... \"What would you do for a Klon Dyke-bar?\"   \n",
       "802129                                                                                                                                                                                                                                                                                                                                                                                                              He puts on his earpods and smugly declares \"sorry, you can't charge me while I'm using my headphones\".   \n",
       "5158                                                                                                                                                                                                                                                                                                                                                                                                                                                                       Nicked it off some fat ginger prick at the park   \n",
       "123648                                                                                                                                                                                                                                                                                                                                                                                                                         Apparently, security doesn't appreciate it when you call \"shotgun\" before boarding a plane.   \n",
       "809648                                                                                                                                                                                                                                                                                                                                                                                                                                                                                  His dick was stuck in the chicken.   \n",
       "608272                                                                                                                                    \"That's a grievous sin,\" the priest says. \"Tell me: Was it Mary O'Hara?\" \"No, Father.\" \"Was it Kate Dannaher?\" \"No, Father.\" \"Was it Kathleen McGonigle?\" \"No, Father. I don't want to say who it was.\" Later, as the boy leaves the church, he sees a friend, who asks him, \"How'd it go?\" He answers, \"Well, I got ten Hail Marys, five Our Fathers... and three great leads.\"   \n",
       "16620                                                                                                                                                                                                                                                                                                                                                                                                                                                               Give it a weigh, give it a weigh, give it a weigh now.   \n",
       "629570                                                                                                                                                                                                                                                                                                                                                     The first blonde is trying to unlock the car using a coat hanger. The second says to the first \"hurry up! It looks like it's going to rain and the top's down!\"   \n",
       "276637                                                                                                                                                                                                                                                                                                                                                                                                                                   She said yes, so I ran my finger across her lip and that's how the fight started.   \n",
       "769660                                                                                                                                                                                                                                                                                                                                                                                                                                                      Wife : would you please call our children by their real names?   \n",
       "\n",
       "        score  \n",
       "710462   1619  \n",
       "802129   5135  \n",
       "5158      968  \n",
       "123648    468  \n",
       "809648   1314  \n",
       "608272  25700  \n",
       "16620    6626  \n",
       "629570    684  \n",
       "276637    951  \n",
       "769660   2628  "
      ]
     },
     "execution_count": 114,
     "metadata": {},
     "output_type": "execute_result"
    }
   ],
   "source": [
    "# some useful boolean masks\n",
    "is_funny = train['target'] == True\n",
    "# examples of funny jokes\n",
    "train[train['score'] >= train['score'].mean()][['title', 'selftext', 'score']].sample(10)"
   ]
  },
  {
   "cell_type": "code",
   "execution_count": 115,
   "id": "8949cc71",
   "metadata": {},
   "outputs": [
    {
     "data": {
      "text/html": [
       "<div>\n",
       "<style scoped>\n",
       "    .dataframe tbody tr th:only-of-type {\n",
       "        vertical-align: middle;\n",
       "    }\n",
       "\n",
       "    .dataframe tbody tr th {\n",
       "        vertical-align: top;\n",
       "    }\n",
       "\n",
       "    .dataframe thead th {\n",
       "        text-align: right;\n",
       "    }\n",
       "</style>\n",
       "<table border=\"1\" class=\"dataframe\">\n",
       "  <thead>\n",
       "    <tr style=\"text-align: right;\">\n",
       "      <th></th>\n",
       "      <th>title</th>\n",
       "      <th>selftext</th>\n",
       "      <th>score</th>\n",
       "    </tr>\n",
       "  </thead>\n",
       "  <tbody>\n",
       "    <tr>\n",
       "      <th>523879</th>\n",
       "      <td>I went to a monster truck rally for Halloween</td>\n",
       "      <td>Everything was fine until the Monster Mash started playing and the possessed trucks crushed the audience.</td>\n",
       "      <td>0</td>\n",
       "    </tr>\n",
       "    <tr>\n",
       "      <th>785092</th>\n",
       "      <td>What's something you can drive, but also throw?</td>\n",
       "      <td>A Fit!!!!!!!!!!</td>\n",
       "      <td>0</td>\n",
       "    </tr>\n",
       "    <tr>\n",
       "      <th>564898</th>\n",
       "      <td>Did the Vikings believe in reincarnation?</td>\n",
       "      <td>That's a re-Thorical question.</td>\n",
       "      <td>0</td>\n",
       "    </tr>\n",
       "    <tr>\n",
       "      <th>938009</th>\n",
       "      <td>Ok so we get a deaf cat</td>\n",
       "      <td>hear me out.</td>\n",
       "      <td>0</td>\n",
       "    </tr>\n",
       "    <tr>\n",
       "      <th>815321</th>\n",
       "      <td>I never got a single blow job when I was at school.</td>\n",
       "      <td>Other kids got sent to the head master all the time.</td>\n",
       "      <td>0</td>\n",
       "    </tr>\n",
       "    <tr>\n",
       "      <th>551524</th>\n",
       "      <td>A man falls asleep sunbathing</td>\n",
       "      <td>Completely burnt he goes to the doctor. The doctor prescribes viagra. The man looks at the prescription and says: \"Viagra, will that help for sunburn?\" and the doctor replies: \"No, but when you go to bed tonight, it will help keep the sheets from touching your skin!\"</td>\n",
       "      <td>0</td>\n",
       "    </tr>\n",
       "    <tr>\n",
       "      <th>852987</th>\n",
       "      <td>What do you call a female peacock? NSFW</td>\n",
       "      <td>A peacunt. I'll see myself out.</td>\n",
       "      <td>0</td>\n",
       "    </tr>\n",
       "    <tr>\n",
       "      <th>761148</th>\n",
       "      <td>Kanye West and Chipotle are working together...</td>\n",
       "      <td>... to create the worlds first combination mexican/soul food restaurant. It will be called Nacho Mama.</td>\n",
       "      <td>0</td>\n",
       "    </tr>\n",
       "    <tr>\n",
       "      <th>171281</th>\n",
       "      <td>Did you hear about Stephen King getting into the \"killer shark\" genre?</td>\n",
       "      <td>Rabies SHARK; doo doo da doo doo! Have fun with that tune stuck in your head all day. ;) Also go easy on me, please. My first OC joke post.</td>\n",
       "      <td>0</td>\n",
       "    </tr>\n",
       "    <tr>\n",
       "      <th>625601</th>\n",
       "      <td>If you put a chai between your knees...</td>\n",
       "      <td>And a little bit spills onto your knees, what do you have? Chai knees.</td>\n",
       "      <td>0</td>\n",
       "    </tr>\n",
       "  </tbody>\n",
       "</table>\n",
       "</div>"
      ],
      "text/plain": [
       "                                                                         title  \\\n",
       "523879                           I went to a monster truck rally for Halloween   \n",
       "785092                         What's something you can drive, but also throw?   \n",
       "564898                               Did the Vikings believe in reincarnation?   \n",
       "938009                                                 Ok so we get a deaf cat   \n",
       "815321                     I never got a single blow job when I was at school.   \n",
       "551524                                           A man falls asleep sunbathing   \n",
       "852987                                 What do you call a female peacock? NSFW   \n",
       "761148                         Kanye West and Chipotle are working together...   \n",
       "171281  Did you hear about Stephen King getting into the \"killer shark\" genre?   \n",
       "625601                                 If you put a chai between your knees...   \n",
       "\n",
       "                                                                                                                                                                                                                                                                           selftext  \\\n",
       "523879                                                                                                                                                                    Everything was fine until the Monster Mash started playing and the possessed trucks crushed the audience.   \n",
       "785092                                                                                                                                                                                                                                                              A Fit!!!!!!!!!!   \n",
       "564898                                                                                                                                                                                                                                               That's a re-Thorical question.   \n",
       "938009                                                                                                                                                                                                                                                                 hear me out.   \n",
       "815321                                                                                                                                                                                                                         Other kids got sent to the head master all the time.   \n",
       "551524  Completely burnt he goes to the doctor. The doctor prescribes viagra. The man looks at the prescription and says: \"Viagra, will that help for sunburn?\" and the doctor replies: \"No, but when you go to bed tonight, it will help keep the sheets from touching your skin!\"   \n",
       "852987                                                                                                                                                                                                                                              A peacunt. I'll see myself out.   \n",
       "761148                                                                                                                                                                       ... to create the worlds first combination mexican/soul food restaurant. It will be called Nacho Mama.   \n",
       "171281                                                                                                                                  Rabies SHARK; doo doo da doo doo! Have fun with that tune stuck in your head all day. ;) Also go easy on me, please. My first OC joke post.   \n",
       "625601                                                                                                                                                                                                       And a little bit spills onto your knees, what do you have? Chai knees.   \n",
       "\n",
       "        score  \n",
       "523879      0  \n",
       "785092      0  \n",
       "564898      0  \n",
       "938009      0  \n",
       "815321      0  \n",
       "551524      0  \n",
       "852987      0  \n",
       "761148      0  \n",
       "171281      0  \n",
       "625601      0  "
      ]
     },
     "execution_count": 115,
     "metadata": {},
     "output_type": "execute_result"
    }
   ],
   "source": [
    "# examples of not funny jokes\n",
    "train[~is_funny][['title', 'selftext', 'score']].sample(10)"
   ]
  },
  {
   "cell_type": "code",
   "execution_count": 116,
   "id": "aafc5b37",
   "metadata": {},
   "outputs": [
    {
     "name": "stdout",
     "output_type": "stream",
     "text": [
      "Saving figure density plot of log title length\n"
     ]
    },
    {
     "data": {
      "image/png": "[encoded data removed]",
      "text/plain": [
       "<Figure size 432x288 with 1 Axes>"
      ]
     },
     "metadata": {},
     "output_type": "display_data"
    },
    {
     "name": "stdout",
     "output_type": "stream",
     "text": [
      "Saving figure density plot of log selftext length\n"
     ]
    },
    {
     "data": {
      "image/png": "[encoded data removed]",
      "text/plain": [
       "<Figure size 432x288 with 1 Axes>"
      ]
     },
     "metadata": {},
     "output_type": "display_data"
    }
   ],
   "source": [
    "# plots of length\n",
    "train['log_title_len'] = np.log(train['title_len'])\n",
    "train['log_selftext_len'] = np.log(train['selftext_len'])\n",
    "\n",
    "funny_df = train[train['target'] == True]\n",
    "not_funny_df = train[train['target'] == False]\n",
    "\n",
    "# plots lengths\n",
    "sns.kdeplot(x='log_title_len', data=train, hue='target')\n",
    "plt.title('density plot of log title length')\n",
    "save_fig('density plot of log title length')\n",
    "plt.show()\n",
    "train['log_selftext_len'] = np.log(train['selftext_len'])\n",
    "sns.kdeplot(x='log_selftext_len', data=train, hue='target')\n",
    "plt.title('density plot of log selftext length')\n",
    "save_fig('density plot of log selftext length')\n",
    "plt.show()"
   ]
  },
  {
   "cell_type": "code",
   "execution_count": 117,
   "id": "84fdfc47",
   "metadata": {},
   "outputs": [
    {
     "data": {
      "image/png": "[encoded data removed]",
      "text/plain": [
       "<Figure size 432x288 with 1 Axes>"
      ]
     },
     "metadata": {},
     "output_type": "display_data"
    },
    {
     "data": {
      "image/png": "[encoded data removed]",
      "text/plain": [
       "<Figure size 432x288 with 1 Axes>"
      ]
     },
     "metadata": {},
     "output_type": "display_data"
    }
   ],
   "source": [
    "# histograms of string lengths w.r.t. whether or not a joke is classified as funny or not funny\n",
    "train.groupby(['title_len']).mean()['target'].hist()\n",
    "plt.title('variation of title length with respect to average target value')\n",
    "plt.show()\n",
    "train.groupby(['selftext_len']).mean()['target'].hist()\n",
    "plt.title('variation of selftext length on scores with respect to average target value')\n",
    "plt.show()"
   ]
  },
  {
   "cell_type": "code",
   "execution_count": 131,
   "id": "fe581e88",
   "metadata": {},
   "outputs": [],
   "source": [
    "# making unix created_times into readable timestamps to examine timeseries data\n",
    "train['created_at'] = train['created_utc'].apply(lambda x: make_timestamp(x))\n",
    "#train[['created_at', 'title', 'selftext', 'target']].head()\n",
    "\n",
    "# create dataframes with with timestamp as index for examination\n",
    "df_funny = train[is_funny].reset_index(drop=False).set_index('created_at').sort_index()\n",
    "df_not_funny = train[~is_funny].reset_index(drop=False).set_index('created_at').sort_index()"
   ]
  },
  {
   "cell_type": "code",
   "execution_count": 132,
   "id": "1fabe5fd",
   "metadata": {
    "scrolled": false
   },
   "outputs": [
    {
     "name": "stdout",
     "output_type": "stream",
     "text": [
      "Saving figure submissions over time\n"
     ]
    },
    {
     "data": {
      "image/png": "[encoded data removed]",
      "text/plain": [
       "<Figure size 1080x360 with 1 Axes>"
      ]
     },
     "metadata": {},
     "output_type": "display_data"
    },
    {
     "data": {
      "image/png": "[encoded data removed]",
      "text/plain": [
       "<Figure size 432x288 with 1 Axes>"
      ]
     },
     "metadata": {},
     "output_type": "display_data"
    },
    {
     "name": "stdout",
     "output_type": "stream",
     "text": [
      "anomaly starts at 2019-04-07 00:00:00 and ends at 2019-09-01 00:00:00\n"
     ]
    }
   ],
   "source": [
    "# plot submissions over time\n",
    "plt.figure(figsize=(15, 5))\n",
    "\n",
    "sns.lineplot(x=df_funny.resample('W').count().index, y='type', data=df_funny.resample('W').count(), label='funny')\n",
    "sns.lineplot(x=df_not_funny.resample('W').count().index, y='type', data=df_not_funny.resample('W').count(), label='not funny')\n",
    "plt.title('Number of Submissions to r/jokes')\n",
    "plt.xlabel('date')\n",
    "plt.ylabel('number of submissions')\n",
    "plt.legend()\n",
    "save_fig('submissions over time')\n",
    "plt.show()\n",
    "\n",
    "# taking another look at that odd event in 2019\n",
    "sns.lineplot(x=df_not_funny.loc['2019'].resample('W').count().index, y='type', data=df_not_funny.loc['2019'].resample('W').count(), label='not funny')\n",
    "plt.show()\n",
    "\n",
    "# find the start and end-points for the anomaly\n",
    "not_funny_2019_counts = df_not_funny.loc['2019'].resample('W').count()\n",
    "start_date = not_funny_2019_counts['2019-04':'2019-05'][not_funny_2019_counts['id']['2019-04':'2019-05'] == not_funny_2019_counts['id']['2019-04':'2019-05'].min()].index[0]\n",
    "end_date = not_funny_2019_counts[start_date:\"2019-12-01\"][not_funny_2019_counts[start_date:\"2019-12-01\"]['id'] == not_funny_2019_counts[start_date:\"2019-12-01\"]['id'].min()].index[0]\n",
    "start_date_not_funny_event, end_date_not_funny_event = str(start_date), str(end_date)\n",
    "print(f\"anomaly starts at {start_date_not_funny_event} and ends at {end_date_not_funny_event}\")"
   ]
  },
  {
   "cell_type": "code",
   "execution_count": 133,
   "id": "6dd063a7",
   "metadata": {},
   "outputs": [
    {
     "name": "stdout",
     "output_type": "stream",
     "text": [
      "Saving figure average submission per hour\n"
     ]
    },
    {
     "data": {
      "image/png": "[encoded data removed]",
      "text/plain": [
       "<Figure size 936x432 with 1 Axes>"
      ]
     },
     "metadata": {},
     "output_type": "display_data"
    }
   ],
   "source": [
    "# average periods\n",
    "plt.figure(figsize=(13, 6))\n",
    "sns.lineplot(data = df_funny.groupby(df_funny.index.hour)['target'].count(), label='funny')\n",
    "sns.lineplot(data = df_not_funny.groupby(df_not_funny.index.hour)['target'].count(), label='not funny', )\n",
    "plt.title('average submissions per hour')\n",
    "plt.ylabel('submission counts')\n",
    "save_fig('average submission per hour')\n",
    "plt.show()"
   ]
  },
  {
   "cell_type": "code",
   "execution_count": 170,
   "id": "63aee43c",
   "metadata": {},
   "outputs": [],
   "source": [
    "# dataframe containing samples from the anomaly\n",
    "not_funny_anom_df = df_not_funny.loc[start_date_not_funny_event:end_date_not_funny_event]\n",
    "\n",
    "# get indexing for slicing\n",
    "anomaly_idx = not_funny_anom_df.set_index('index').index\n",
    "norm_idx = list(set(df_not_funny.set_index('index').index) - set(anomaly_idx))\n",
    "\n",
    "# dataframe containing samples not in the anomaly\n",
    "not_funny_norm_df = df_not_funny.set_index('index').loc[norm_idx]"
   ]
  },
  {
   "cell_type": "code",
   "execution_count": null,
   "id": "280445ca",
   "metadata": {},
   "outputs": [],
   "source": []
  }
 ],
 "metadata": {
  "colab": {
   "collapsed_sections": [],
   "name": "jokes.ipynb",
   "provenance": []
  },
  "kernelspec": {
   "display_name": "Python 3",
   "language": "python",
   "name": "python3"
  },
  "language_info": {
   "codemirror_mode": {
    "name": "ipython",
    "version": 3
   },
   "file_extension": ".py",
   "mimetype": "text/x-python",
   "name": "python",
   "nbconvert_exporter": "python",
   "pygments_lexer": "ipython3",
   "version": "3.9.4"
  }
 },
 "nbformat": 4,
 "nbformat_minor": 5
}
